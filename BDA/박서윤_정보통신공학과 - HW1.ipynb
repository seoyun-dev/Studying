{
 "cells": [
  {
   "cell_type": "code",
   "execution_count": 2,
   "id": "a72eb31f",
   "metadata": {},
   "outputs": [],
   "source": [
    "import numpy as np"
   ]
  },
  {
   "cell_type": "code",
   "execution_count": 3,
   "id": "a6707e17",
   "metadata": {},
   "outputs": [],
   "source": [
    "url = 'https://archive.ics.uci.edu/ml/machine-learning-databases/iris/iris.data'\n",
    "iris = np.genfromtxt(url, delimiter=',', dtype='str')"
   ]
  },
  {
   "cell_type": "markdown",
   "id": "cb9d65f5",
   "metadata": {},
   "source": [
    "## 1. iris의 차원, 모양, 크기를 프린트하세요"
   ]
  },
  {
   "cell_type": "markdown",
   "id": "3dff6606",
   "metadata": {},
   "source": [
    "## 2. iris의 2번째 axis에서 5번째 값들을 없애고 iris를 프린트하세요."
   ]
  },
  {
   "cell_type": "markdown",
   "id": "73020ca6",
   "metadata": {},
   "source": [
    "## 3. iris의 데이터 타입을 float64로 바꾸고, iris의 데이터타입을 프린트하세요"
   ]
  },
  {
   "cell_type": "markdown",
   "id": "ad2917bd",
   "metadata": {},
   "source": [
    "## 4. iris에서 1보다 작은 원소들은 0으로 바꾸고, iris를 프린트하세요."
   ]
  },
  {
   "cell_type": "markdown",
   "id": "5079cb1a",
   "metadata": {},
   "source": [
    "## 5. iris와 같은 크기이면서 100번 seed를 이용하여 각각의 값이 standard normal 분포를 따르는 iris2 배열을 만드세요 (shape 속성을 활용하세요), iris2를 프린트하세요."
   ]
  },
  {
   "cell_type": "markdown",
   "id": "4fbc2595",
   "metadata": {},
   "source": [
    "## 6. iris2의 소수부를 버림하고 프린트하세요."
   ]
  },
  {
   "cell_type": "markdown",
   "id": "a954c4dc",
   "metadata": {},
   "source": [
    "## 7. 배열의 각 위치에서 iris2의 절댓값이 1보다 크면, iris의 값을 아니면 0의 값을 갖는 배열 iris3를 만들고 프린트하세요."
   ]
  },
  {
   "cell_type": "code",
   "execution_count": 4,
   "id": "52d11d3d",
   "metadata": {},
   "outputs": [],
   "source": [
    "import pandas as pd\n",
    "from pandas import Series, DataFrame\n",
    "url = 'https://archive.ics.uci.edu/ml/machine-learning-databases/iris/iris.data'\n",
    "iris = np.genfromtxt(url, delimiter=',', dtype='str')"
   ]
  },
  {
   "cell_type": "markdown",
   "id": "cc5a1de4",
   "metadata": {},
   "source": [
    "## 8. column을 순서대로 a,b,c,d,e 로 갖는 데이터프레임의 형태로 iris를 만들고 프린트하세요. "
   ]
  },
  {
   "cell_type": "markdown",
   "id": "9a86bbbd",
   "metadata": {},
   "source": [
    "## 9.   iris의 column a,b,c,d에 대해서 데이터 타입을 float64로 바꾸고 프린트하세요."
   ]
  },
  {
   "cell_type": "markdown",
   "id": "c50eed06",
   "metadata": {},
   "source": [
    "## 10. iris의 column과 index 순서를 거꾸로 갖는 iris2를 만드세요. (e->a, 149->0) iris2를 프린트하세요."
   ]
  },
  {
   "cell_type": "markdown",
   "id": "572f0969",
   "metadata": {},
   "source": [
    "## 11. iris2의 column a와 column  b의 correlation을 프린트하세요."
   ]
  },
  {
   "cell_type": "code",
   "execution_count": null,
   "id": "39d4a545",
   "metadata": {},
   "outputs": [],
   "source": []
  }
 ],
 "metadata": {
  "kernelspec": {
   "display_name": "Python 3 (ipykernel)",
   "language": "python",
   "name": "python3"
  },
  "language_info": {
   "codemirror_mode": {
    "name": "ipython",
    "version": 3
   },
   "file_extension": ".py",
   "mimetype": "text/x-python",
   "name": "python",
   "nbconvert_exporter": "python",
   "pygments_lexer": "ipython3",
   "version": "3.10.9"
  }
 },
 "nbformat": 4,
 "nbformat_minor": 5
}
