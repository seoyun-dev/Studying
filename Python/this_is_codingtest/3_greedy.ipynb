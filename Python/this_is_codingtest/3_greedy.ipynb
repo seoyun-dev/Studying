{
 "cells": [
  {
   "cell_type": "markdown",
   "id": "61ade6de",
   "metadata": {},
   "source": [
    "## 2부 - 그리디"
   ]
  },
  {
   "cell_type": "markdown",
   "id": "f826113b",
   "metadata": {},
   "source": [
    "### 1. 당장 좋은 것만 선택하는 그리디"
   ]
  },
  {
   "cell_type": "markdown",
   "id": "c30c58ac",
   "metadata": {},
   "source": [
    "**그리디 알고리즘**\n",
    "- 현재 상황에서 지금 당장 좋은 것만 고르는 방법\n",
    "- 각 단계에서 최적이라고 생각되는 것을 선택해 나가는 방식으로 진행하여 최종적인 해답에 도달하는 알고리즘 \n",
    "- 기준에 따라 좋은 것을 선택하는 알고리즘이므로 '가장 큰 순서대로', '가장 작은 순서대로'와 같은 기준을 알게 모르게 제시함 \n",
    "    즉, 정렬 알고리즘과 자주 짝을 이루어 출제  \n",
    "\n",
    "\n",
    "단순히 **현재 상황에서 가장 좋아 보이는 것만을 선택해도 문제를 풀 수 있는지** 파악해야 그리디인지 아닌지 여부 파악 가능!!"
   ]
  },
  {
   "cell_type": "markdown",
   "id": "23fc1ccb",
   "metadata": {},
   "source": [
    "ex.거스름돈 문제 : 가장 큰 화폐단위부터 돈을 거슬러주기\n",
    "- 가지고 있는 동전 중에서 큰 단위가 항상 작은 단위의 배수인 경우 > 그리디 알고리즘 (큰 것부터 분배 / 몫과 나머지 구하여 진행) ex.500, 100, 50, 10\n",
    "- 가지고 있는 동전 중에서 큰 단위가 항상 작은 단위의 배수는 아닌 경우 > 다이나믹 프로그래밍 ex. 500, 400, 100\n",
    "    - 800원 거스름돈\n",
    "        - 그리디 알고리즘 적용 : 500+100+100+100 -> 4개\n",
    "        - 최적의 해 : 400+400 -> 2개"
   ]
  },
  {
   "cell_type": "markdown",
   "id": "95df58d3",
   "metadata": {},
   "source": [
    "### 2. 큰 수의 법칙"
   ]
  },
  {
   "cell_type": "code",
   "execution_count": null,
   "id": "04945871",
   "metadata": {},
   "outputs": [
    {
     "name": "stdout",
     "output_type": "stream",
     "text": [
      "46\n"
     ]
    }
   ],
   "source": [
    "##### 주어진 수들을 M번 더하여 가장 큰 수를 만드는 법칙. 단, 특정한 인덱스를 k번 초과하여 더할 수 없음.\n",
    "\n",
    "# vscode에선 sys.stdin 안됨\n",
    "# import sys\n",
    "# n, m, k = map(int, sys.stdin.readline().split())\n",
    "# num_list = list(map(int, sys.stdin.readline().split()))\n",
    "\n",
    "# N: 배열의 크기, M: 숫자가 더해지는 횟수, K: 특정한 인덱스에 해당하는 수가 연속해서 더해질 수 있는 횟수\n",
    "n, m, k = map(int, input().split())\n",
    "num_list = list(map(int, input().split()))\n",
    "sorted_num_list = sorted(num_list, reverse=True)\n",
    "\n",
    "sum = 0\n",
    "max = sorted_num_list[0]  \n",
    "if num_list.count(max) >= 2: \n",
    "  sum = max * m\n",
    "else:\n",
    "  sum += (sorted_num_list[1] * (m//(k+1)))\n",
    "  sum += (max * (m - m//(k+1)))\n",
    "\n",
    "print(sum)"
   ]
  },
  {
   "cell_type": "markdown",
   "id": "4580e8c4",
   "metadata": {},
   "source": [
    "### 3. 숫자 카드 게임"
   ]
  },
  {
   "cell_type": "code",
   "execution_count": null,
   "id": "e011e097",
   "metadata": {},
   "outputs": [],
   "source": [
    "import sys\n",
    "N, M = map(int, sys.stdin.readline().split())\n",
    "\n",
    "result = 0\n",
    "for _ in range(N): \n",
    "    min_v = min((list(map(int, sys.stdin.readline().split()))))\n",
    "    result = max(min_v, result)\n",
    "print(result)"
   ]
  },
  {
   "cell_type": "markdown",
   "id": "9ce25544",
   "metadata": {},
   "source": [
    "### 4. 1이 될 때까지"
   ]
  },
  {
   "cell_type": "code",
   "execution_count": null,
   "id": "dc87ecba",
   "metadata": {},
   "outputs": [],
   "source": [
    "import sys\n",
    "N, M = map(int, sys.stdin.readline().split())\n",
    "\n",
    "# 풀이 1\n",
    "count = 0\n",
    "while N % M != 0:\n",
    "    N -= 1\n",
    "    count += 1\n",
    "while N != 1:\n",
    "    N /= M\n",
    "    count += 1\n",
    "print(count)\n",
    "\n",
    "# 풀이 2\n",
    "count = 0\n",
    "target = N//M * M\n",
    "count = N-target\n",
    "N = target\n",
    "\n",
    "while N != 1:\n",
    "    N /= M\n",
    "    count += 1\n",
    "\n",
    "print(count)"
   ]
  },
  {
   "cell_type": "markdown",
   "id": "04ed83b9",
   "metadata": {},
   "source": [
    "## 3부"
   ]
  },
  {
   "cell_type": "code",
   "execution_count": 9,
   "id": "0bec0a5d",
   "metadata": {},
   "outputs": [
    {
     "name": "stdout",
     "output_type": "stream",
     "text": [
      "0\n"
     ]
    }
   ],
   "source": [
    "import sys\n",
    "# N = int(sys.stdin.readline().rstrip())\n",
    "# people = sorted(list(map(int, sys.stdin.readline().split())),reversed=True)\n",
    "N = int(input())\n",
    "people = sorted(list(map(int, input().split())))\n",
    "\n",
    "count = 0\n",
    "total_count = 0\n",
    "result = 0\n",
    "\n",
    "for i in people:\n",
    "    count += 1\n",
    "    total_count += 1\n",
    "    if total_count > len(people): break\n",
    "    if count >= i:\n",
    "        result += 1\n",
    "        count = 0\n",
    "\n",
    "print(result)"
   ]
  },
  {
   "cell_type": "code",
   "execution_count": null,
   "id": "43b48d9b",
   "metadata": {},
   "outputs": [],
   "source": []
  }
 ],
 "metadata": {
  "kernelspec": {
   "display_name": "auth",
   "language": "python",
   "name": "python3"
  },
  "language_info": {
   "codemirror_mode": {
    "name": "ipython",
    "version": 3
   },
   "file_extension": ".py",
   "mimetype": "text/x-python",
   "name": "python",
   "nbconvert_exporter": "python",
   "pygments_lexer": "ipython3",
   "version": "3.8.13"
  }
 },
 "nbformat": 4,
 "nbformat_minor": 5
}
