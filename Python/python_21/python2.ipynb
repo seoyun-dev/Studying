{
  "nbformat": 4,
  "nbformat_minor": 0,
  "metadata": {
    "colab": {
      "provenance": [],
      "toc_visible": true
    },
    "kernelspec": {
      "name": "python3",
      "display_name": "Python 3"
    },
    "language_info": {
      "name": "python"
    }
  },
  "cells": [
    {
      "cell_type": "markdown",
      "metadata": {
        "id": "KNQieyjYH0cX"
      },
      "source": [
        "## 4-4. 문자열, 리스트, 딕셔너리와 관련된 기본 함수"
      ]
    },
    {
      "cell_type": "markdown",
      "metadata": {
        "id": "alhgTQKtH5FF"
      },
      "source": [
        "### 리스트에 적용할 수 있는 기본 함수: min(), max(), sum()\n",
        "min(): 리스트 내부에서 최솟값  \n",
        "max(): 리스트 내부에서 최대값  \n",
        "sum(): 리스트 내부 모두 더한 값  \n",
        "cf. min()과 max()는 리스트 사용하지 않아도 됨. (ex. min(12, 5, 2) => 2)"
      ]
    },
    {
      "cell_type": "code",
      "metadata": {
        "id": "7N5b8TD5H724"
      },
      "source": [
        "numbers = [52, 27,99]\n",
        "min(numbers)"
      ],
      "execution_count": null,
      "outputs": []
    },
    {
      "cell_type": "markdown",
      "metadata": {
        "id": "0i9-mI1iH8YG"
      },
      "source": [
        "###reversed()함수로 리스트 뒤집기\n",
        "reversed()함수의 결과가 제너레이터이기에 함수의 결과는 한 번만 활용한다!"
      ]
    },
    {
      "cell_type": "code",
      "metadata": {
        "colab": {
          "base_uri": "https://localhost:8080/"
        },
        "id": "j4o6eMW6H-hf",
        "outputId": "f9d3b6ce-37b0-4c39-c63b-413974337f35"
      },
      "source": [
        "list_a = [1, 2, 3, 4, 5]\n",
        "list_reversed = reversed(list_a)\n",
        "\n",
        "print(\"reversed([1, 2, 3, 4, 5]) : \", list_reversed)               # 이터레이터\n",
        "print(\"list(reversed([1, 2, 3, 4, 5])) : \", list(list_reversed))   # 리스트 형태로\n",
        "print()\n",
        "\n",
        "print(\"for i in reversed([1, 2, 3, 4, 5]) : \")\n",
        "for i in list_reversed:\n",
        "  print(\"첫 번째 반복문: {}\", i)\n",
        "\n",
        "for i in list_reversed:                 #reversed()반복문은 한 번만 활용하므로 출력 X\n",
        "  print(\"두 번째 반복문: {}\", i)\n",
        "\n",
        "for i in reversed(list_a):              # 필요한 시점에 reversed()사용 시 출력\n",
        "  print(\"세 번째 반복문: {}\", i)"
      ],
      "execution_count": null,
      "outputs": [
        {
          "output_type": "stream",
          "text": [
            "reversed([1, 2, 3, 4, 5]) :  <list_reverseiterator object at 0x7f5bc187ef90>\n",
            "list(reversed([1, 2, 3, 4, 5])) :  [5, 4, 3, 2, 1]\n",
            "\n",
            "for i in reversed([1, 2, 3, 4, 5]) : \n",
            "세 번째 반복문: {} 5\n",
            "세 번째 반복문: {} 4\n",
            "세 번째 반복문: {} 3\n",
            "세 번째 반복문: {} 2\n",
            "세 번째 반복문: {} 1\n"
          ],
          "name": "stdout"
        }
      ]
    },
    {
      "cell_type": "code",
      "metadata": {
        "colab": {
          "base_uri": "https://localhost:8080/"
        },
        "id": "PKEzWBr8IDYr",
        "outputId": "b8190b12-8d6d-4db2-921e-344128f71e1a"
      },
      "source": [
        "# 리스트 뒤집는 방법: 확장 슬라이싱[::-1] - 비파괴적\n",
        "numbers = [1, 2, 3, 4, 5]\n",
        "numbers[::-1]"
      ],
      "execution_count": null,
      "outputs": [
        {
          "output_type": "execute_result",
          "data": {
            "text/plain": [
              "[5, 4, 3, 2, 1]"
            ]
          },
          "metadata": {
            "tags": []
          },
          "execution_count": 2
        }
      ]
    },
    {
      "cell_type": "code",
      "metadata": {
        "colab": {
          "base_uri": "https://localhost:8080/",
          "height": 34
        },
        "id": "pIvYGXJ0ID5R",
        "outputId": "268c675a-1d78-4d36-d754-686610b0664f"
      },
      "source": [
        "\"안녕하세요\"[::-1]\n"
      ],
      "execution_count": null,
      "outputs": [
        {
          "output_type": "execute_result",
          "data": {
            "application/vnd.google.colaboratory.intrinsic+json": {
              "type": "string"
            },
            "text/plain": [
              "'요세하녕안'"
            ]
          },
          "metadata": {
            "tags": []
          },
          "execution_count": 3
        }
      ]
    },
    {
      "cell_type": "markdown",
      "metadata": {
        "id": "UXzcW9J7IDG5"
      },
      "source": [
        "### enumerate() 함수와 반복문 조합하기: 리스트 요소 반복시 현재 인덱스가 몇 번째인지 자동 확인  \n",
        "리스트 사용시!!!!  \n",
        "for i, value enumerate(list_a):  \n",
        "  print(\"~\")\n",
        "꼴로 사용"
      ]
    },
    {
      "cell_type": "code",
      "metadata": {
        "colab": {
          "base_uri": "https://localhost:8080/"
        },
        "id": "G7mB_Ou-I4Ls",
        "outputId": "b0066ab8-211a-41ce-ec1c-1ac7d1e6f8f4"
      },
      "source": [
        "example_list = [\"요소A\", \"요소B\", \"요소C\"]\n",
        "\n",
        "print(\"# 단순 출력\")\n",
        "print(example_list)\n",
        "print()\n",
        "\n",
        "print(\"# enumerate() 함수 적용 출력\")\n",
        "print(enumerate(example_list))\n",
        "print()\n",
        "\n",
        "print(\"# list() 함수fh 강제 변환 출력\")\n",
        "print(list(enumerate(example_list)))\n",
        "print()\n",
        "\n",
        "print(\"# 반복문과 조합하기\")\n",
        "for i, value in enumerate(example_list):\n",
        "  print(\"{}번째 요소는 {}입니다.\".format(i, value))"
      ],
      "execution_count": null,
      "outputs": [
        {
          "output_type": "stream",
          "text": [
            "# 단순 출력\n",
            "['요소A', '요소B', '요소C']\n",
            "\n",
            "# enumerate() 함수 적용 출력\n",
            "<enumerate object at 0x7f5bb952aeb0>\n",
            "\n",
            "# list() 함수fh 강제 변환 출력\n",
            "[(0, '요소A'), (1, '요소B'), (2, '요소C')]\n",
            "\n",
            "# 반복문과 조합하기\n",
            "0번째 요소는 요소A입니다.\n",
            "1번째 요소는 요소B입니다.\n",
            "2번째 요소는 요소C입니다.\n"
          ],
          "name": "stdout"
        }
      ]
    },
    {
      "cell_type": "markdown",
      "metadata": {
        "id": "n8ZqCAvYJ0Kb"
      },
      "source": [
        "**딕셔너리의 items() 함수와 반복문 조합하기**  \n",
        "for key, element in dictionary.items():  \n",
        "    print(\"~\")  꼴로 작성\n",
        "\n"
      ]
    },
    {
      "cell_type": "code",
      "metadata": {
        "colab": {
          "base_uri": "https://localhost:8080/"
        },
        "id": "Xml9K8qNJjKb",
        "outputId": "e3ce9379-b120-4eee-c163-a20e7c668484"
      },
      "source": [
        "example_dictionary = {\n",
        "    \"키A\": \"값A\",\n",
        "    \"키B\": \"값B\",\n",
        "    \"키C\": \"값C\",\n",
        "}\n",
        "print(\"# 딕셔너리의 items() 함수\")\n",
        "print(\"items(): \", example_dictionary.items())\n",
        "print()\n",
        "\n",
        "print(\"# 딕셔너리의 items() 함수와 반복문 조합하기\")\n",
        "for key, element in example_dictionary.items():\n",
        "  print(\"dictionary[{}] = {}\".format(key, element))"
      ],
      "execution_count": null,
      "outputs": [
        {
          "output_type": "stream",
          "text": [
            "# 딕셔너리의 items() 함수\n",
            "items():  dict_items([('키A', '값A'), ('키B', '값B'), ('키C', '값C')])\n",
            "\n",
            "# 딕셔너리의 items() 함수와 반복문 조합하기\n",
            "dictionary[키A] = 값A\n",
            "dictionary[키B] = 값B\n",
            "dictionary[키C] = 값C\n"
          ],
          "name": "stdout"
        }
      ]
    },
    {
      "cell_type": "markdown",
      "metadata": {
        "id": "f7fCnM4MLoiU"
      },
      "source": [
        "**리스트 내포**: 반복문을 사용하여 리스트 재조합  \n",
        "리스트 이름 = [ 표현식 for 반복자 in 반복할 수 있는 것 ]"
      ]
    },
    {
      "cell_type": "code",
      "metadata": {
        "colab": {
          "base_uri": "https://localhost:8080/"
        },
        "id": "d6H4qx7qLSgV",
        "outputId": "66fb2bf4-a65d-40a0-b47c-ccac46769420"
      },
      "source": [
        "array = [i*i for i in range(0, 20, 2)]\n",
        "print(array)"
      ],
      "execution_count": null,
      "outputs": [
        {
          "output_type": "stream",
          "text": [
            "[0, 4, 16, 36, 64, 100, 144, 196, 256, 324]\n"
          ],
          "name": "stdout"
        }
      ]
    },
    {
      "cell_type": "markdown",
      "metadata": {
        "id": "SL9a-KuiMf29"
      },
      "source": [
        "**조건을 활용한 리스트 내포**  \n",
        "리스트 이름 = [ 표현식 for 반복자 in 반복할 수 있는 것 if 조건문]"
      ]
    },
    {
      "cell_type": "code",
      "metadata": {
        "id": "LSpeBMx7MHdc"
      },
      "source": [
        "array = [\"사과\", \"자두\", \"초콜릿\", \"바나나\"]"
      ],
      "execution_count": null,
      "outputs": []
    },
    {
      "cell_type": "code",
      "metadata": {
        "colab": {
          "base_uri": "https://localhost:8080/"
        },
        "id": "jv8PlsXfMxRY",
        "outputId": "7ec86fe0-fa94-433d-f33f-54c8b34dd22b"
      },
      "source": [
        "output = [fruit+\"1\" for fruit in array if fruit != \"초콜릿\"]\n",
        "print(output)"
      ],
      "execution_count": null,
      "outputs": [
        {
          "output_type": "stream",
          "text": [
            "['사과1', '자두1', '바나나1']\n"
          ],
          "name": "stdout"
        }
      ]
    },
    {
      "cell_type": "markdown",
      "metadata": {
        "id": "Id6rR9dBPSjH"
      },
      "source": [
        "**구문 내부에 여러 줄 문자열 사용시 예상치 못 한 들여쓰기 막는 방법**\n",
        "1. 괄호로 문자열 연결\n",
        "2. 문자열의 join() 함수: 리스트의 요소를 문자열로 연결  \n",
        "문자열.join(문자열로 구성된 리스트)"
      ]
    },
    {
      "cell_type": "code",
      "metadata": {
        "colab": {
          "base_uri": "https://localhost:8080/"
        },
        "id": "8qI-4hFuNE2K",
        "outputId": "4cd51289-786d-4116-ae0b-0d8c9583f8f4"
      },
      "source": [
        "# 예상치 못 한 들여쓰기\n",
        "number = 2\n",
        "\n",
        "if number % 2 == 0:\n",
        "  print(\"\"\"\\\n",
        "      입력한 문자열은 {}입니다.\n",
        "      {}는 짝수입니다.\"\"\".format(number, number))"
      ],
      "execution_count": null,
      "outputs": [
        {
          "output_type": "stream",
          "text": [
            "      입력한 문자열은 2입니다.\n",
            "      2는 짝수입니다.\n"
          ],
          "name": "stdout"
        }
      ]
    },
    {
      "cell_type": "code",
      "metadata": {
        "colab": {
          "base_uri": "https://localhost:8080/"
        },
        "id": "7f2hBpKjQc5v",
        "outputId": "a6c64cf4-5252-48ef-a74d-218b0dbd3c0f"
      },
      "source": [
        "# 괄호로 문자열 연결하기 예시\n",
        "test = (\n",
        "    \"이렇게 입력해도\"\n",
        "    \"하나의 문자열이 되어\"\n",
        "    \"생성된다\"\n",
        ")\n",
        "print(test)"
      ],
      "execution_count": null,
      "outputs": [
        {
          "output_type": "stream",
          "text": [
            "이렇게 입력해도하나의 문자열이 되어생성된다\n"
          ],
          "name": "stdout"
        }
      ]
    },
    {
      "cell_type": "code",
      "metadata": {
        "colab": {
          "base_uri": "https://localhost:8080/"
        },
        "id": "aNuYVtQKPx2G",
        "outputId": "69b53e4d-09ea-4e98-9e51-1d63c80395cd"
      },
      "source": [
        "# 괄호로 문자열 연결하여 해결\n",
        "number = 2\n",
        "\n",
        "if number % 2 == 0:\n",
        "  print((\n",
        "      \"입력한 문자열은 {}입니다.\\n\"  # \\n이 \"\"안으로 들어가야함!!!\n",
        "      \"{}는 짝수입니다.\"\n",
        "  ).format(number, number))"
      ],
      "execution_count": null,
      "outputs": [
        {
          "output_type": "stream",
          "text": [
            "입력한 문자열은 2입니다.\n",
            "2는 짝수입니다.\n"
          ],
          "name": "stdout"
        }
      ]
    },
    {
      "cell_type": "code",
      "metadata": {
        "colab": {
          "base_uri": "https://localhost:8080/"
        },
        "id": "vRc0wIyMQSKo",
        "outputId": "df9c2a1a-b330-478f-8345-66dbbf81a2f5"
      },
      "source": [
        "# 문자열 join()함수 예시\n",
        "print(\"::\".join([\"1\",\"2\",\"3\",\"4\",\"5\"]))"
      ],
      "execution_count": null,
      "outputs": [
        {
          "output_type": "stream",
          "text": [
            "1::2::3::4::5\n"
          ],
          "name": "stdout"
        }
      ]
    },
    {
      "cell_type": "code",
      "metadata": {
        "colab": {
          "base_uri": "https://localhost:8080/"
        },
        "id": "kia_GlXORFF8",
        "outputId": "6f344a2f-9374-4fe0-ad2b-6a4d81c0af27"
      },
      "source": [
        "# 문자열 join() 함수 사용하여 해결\n",
        "number = 2\n",
        "\n",
        "if number % 2 == 0:\n",
        "  print(\"\\n\".join([\"입력한 문자열은 {}입니다.\", \"{}는 짝수입니다.\"]).format(number, number))"
      ],
      "execution_count": null,
      "outputs": [
        {
          "output_type": "stream",
          "text": [
            "입력한 문자열은 2입니다.\n",
            "2는 짝수입니다.\n"
          ],
          "name": "stdout"
        }
      ]
    },
    {
      "cell_type": "markdown",
      "metadata": {
        "id": "_6dFc4HTRrlJ"
      },
      "source": [
        "**이터레이터**  \n",
        "*for 반복자 in 반복할 수 있는 것*  \n",
        "이터러블= 반복할 수 있는 것 = 내부에 있는 요소를 차례차례 꺼낼 수 있는 객체 ex.리스트, 딕셔너리, 문자열 튜플 등  \n",
        "이터레이터= 이터러블 중 next() 함수를 적용해 하나하나 꺼낼 수 있는 요소"
      ]
    },
    {
      "cell_type": "code",
      "metadata": {
        "colab": {
          "base_uri": "https://localhost:8080/"
        },
        "id": "-DKlT7QPRn2H",
        "outputId": "60f7cdf6-aa63-42cc-e160-833bdddffc7c"
      },
      "source": [
        "numbers = [1, 2, 3, 4, 5, 6]\n",
        "r_num = reversed(numbers)\n",
        "\n",
        "print(\"reversed_numbers : \", r_num) #reversed()함수의 리턴값은 이터레이터\n",
        "print(next(r_num))  # next() 함수로 이터레이터 내부의 요소를 하나하나 꺼냄\n",
        "print(next(r_num))\n",
        "print(next(r_num))\n",
        "print(next(r_num))\n",
        "print(next(r_num))\n",
        "print(next(r_num))"
      ],
      "execution_count": null,
      "outputs": [
        {
          "output_type": "stream",
          "text": [
            "reversed_numbers :  <list_reverseiterator object at 0x7f5bb94f9b10>\n",
            "6\n",
            "5\n",
            "4\n",
            "3\n",
            "2\n",
            "1\n"
          ],
          "name": "stdout"
        }
      ]
    },
    {
      "cell_type": "markdown",
      "metadata": {
        "id": "Gkp-AkhDTGBP"
      },
      "source": [
        "# Chapter 5. 함수"
      ]
    },
    {
      "cell_type": "markdown",
      "metadata": {
        "id": "AqrcWo7CTJj7"
      },
      "source": [
        "# 5-1. 함수 만들기"
      ]
    },
    {
      "cell_type": "markdown",
      "metadata": {
        "id": "3_QOGy1RTN3g"
      },
      "source": [
        "**함수의 기본**  \n",
        "def 함수 이름(매개변수, 매개변수, ...):  \n",
        "       문장\n",
        "  \n",
        "매개변수를 덜 넣거나 더 넣으면 **TypeError**발생"
      ]
    },
    {
      "cell_type": "code",
      "metadata": {
        "colab": {
          "base_uri": "https://localhost:8080/"
        },
        "id": "n6PVHkG4TtS0",
        "outputId": "d0e0cff5-614d-4fa4-8998-85f84538b1b8"
      },
      "source": [
        "def print_n_times(value, n):\n",
        "  for i in range(n):\n",
        "    print(value)\n",
        "\n",
        "print_n_times(\"안녕\", 3)"
      ],
      "execution_count": null,
      "outputs": [
        {
          "output_type": "stream",
          "text": [
            "안녕\n",
            "안녕\n",
            "안녕\n"
          ],
          "name": "stdout"
        }
      ]
    },
    {
      "cell_type": "code",
      "metadata": {
        "colab": {
          "base_uri": "https://localhost:8080/",
          "height": 170
        },
        "id": "9OzhjCNgT2TD",
        "outputId": "1ab55f4a-8850-4da8-e0c2-9bfaddcba3d3"
      },
      "source": [
        "print_n_times(\"안녕\")"
      ],
      "execution_count": null,
      "outputs": [
        {
          "output_type": "error",
          "ename": "TypeError",
          "evalue": "ignored",
          "traceback": [
            "\u001b[0;31m---------------------------------------------------------------------------\u001b[0m",
            "\u001b[0;31mTypeError\u001b[0m                                 Traceback (most recent call last)",
            "\u001b[0;32m<ipython-input-34-274a1bff6141>\u001b[0m in \u001b[0;36m<module>\u001b[0;34m()\u001b[0m\n\u001b[0;32m----> 1\u001b[0;31m \u001b[0mprint_n_times\u001b[0m\u001b[0;34m(\u001b[0m\u001b[0;34m\"안녕\"\u001b[0m\u001b[0;34m)\u001b[0m\u001b[0;34m\u001b[0m\u001b[0;34m\u001b[0m\u001b[0m\n\u001b[0m",
            "\u001b[0;31mTypeError\u001b[0m: print_n_times() missing 1 required positional argument: 'n'"
          ]
        }
      ]
    },
    {
      "cell_type": "markdown",
      "metadata": {
        "id": "i4wjB90JUG-I"
      },
      "source": [
        "**가변 매개변수**: 원하는 만큼 매개변수를 받을 수 있음.  \n",
        "def 함수 이름(매개변수, 매개변수, *가변 매개변수):\n",
        "\n",
        "\n",
        "*   가변 매개변수 뒤에는 일반 매개변수 올 수 X.\n",
        "*   가변 매개변수는 하나만 사용 가능\n",
        "\n",
        "**기본 매개변수**: '매개변수 = 값' 형태로 기본값이 들어가있음.\n",
        "* 기본 매개변수 뒤에는 일반 매개변수가 올 수 X.\n",
        "\n",
        "**키워드 매개변수**: 매개변수 이름을 지정해서 입력하여 가변과 기본 매개변수를 함께 사용할 수 있게 해줌.  \n",
        "  \n",
        "일반>가변>기본(but 키워드) 순으로 작성.\n",
        "\n"
      ]
    },
    {
      "cell_type": "code",
      "metadata": {
        "colab": {
          "base_uri": "https://localhost:8080/"
        },
        "id": "M8QmzjSmUA1l",
        "outputId": "013eaaa3-38d8-4db4-cfdc-afd17abcc38b"
      },
      "source": [
        "def print_n_times (*values, n=2):\n",
        "  for i in range(n):\n",
        "    for value in values:\n",
        "      print(value)\n",
        "    print()\n",
        "\n",
        "print_n_times(\"안녕\", \"난 박서윤이야\", n=3)"
      ],
      "execution_count": null,
      "outputs": [
        {
          "output_type": "stream",
          "text": [
            "안녕\n",
            "난 박서윤이야\n",
            "\n",
            "안녕\n",
            "난 박서윤이야\n",
            "\n",
            "안녕\n",
            "난 박서윤이야\n",
            "\n"
          ],
          "name": "stdout"
        }
      ]
    },
    {
      "cell_type": "code",
      "metadata": {
        "colab": {
          "base_uri": "https://localhost:8080/"
        },
        "id": "gggGXbNNWCOR",
        "outputId": "335f2118-ac39-408e-ad9a-9e79ba5ba160"
      },
      "source": [
        "# 필요한 값만 입력하기\n",
        "def test(a, b=10, c=100):\n",
        "  print(a + b + c)\n",
        "\n",
        "test(10, 20, 30)\n",
        "test(c =10, a=30, b=100)\n",
        "test(20, c=200)"
      ],
      "execution_count": null,
      "outputs": [
        {
          "output_type": "stream",
          "text": [
            "60\n",
            "140\n",
            "230\n"
          ],
          "name": "stdout"
        }
      ]
    },
    {
      "cell_type": "markdown",
      "metadata": {
        "id": "oKJzi5AKXDJ4"
      },
      "source": [
        "**리턴**  \n",
        "자료 없이 리턴 = 함수 끝 -> return으로 끝  "
      ]
    },
    {
      "cell_type": "code",
      "source": [
        "def return_test():\n",
        "  print(\"A 위치입니다.\")\n",
        "  return\n",
        "  print(\"B 위치입니다.\")"
      ],
      "metadata": {
        "id": "cYO_EzLRuRC4"
      },
      "execution_count": null,
      "outputs": []
    },
    {
      "cell_type": "code",
      "source": [
        "return_test()"
      ],
      "metadata": {
        "colab": {
          "base_uri": "https://localhost:8080/"
        },
        "id": "z4-gLxLxvFGy",
        "outputId": "ef747492-1c67-4c82-a1fd-6ea0122ca73a"
      },
      "execution_count": null,
      "outputs": [
        {
          "output_type": "stream",
          "name": "stdout",
          "text": [
            "A 위치입니다.\n"
          ]
        }
      ]
    },
    {
      "cell_type": "markdown",
      "source": [
        "자료와 함께 리턴"
      ],
      "metadata": {
        "id": "urKdM90EuICj"
      }
    },
    {
      "cell_type": "code",
      "metadata": {
        "colab": {
          "base_uri": "https://localhost:8080/"
        },
        "id": "BujqhoC_XBOt",
        "outputId": "cbe4e48d-60a3-41d3-88fa-5a4cab25fc44"
      },
      "source": [
        "def return_test():\n",
        "  return 100\n",
        "\n",
        "value = return_test()\n",
        "print(value)"
      ],
      "execution_count": null,
      "outputs": [
        {
          "output_type": "stream",
          "text": [
            "100\n"
          ],
          "name": "stdout"
        }
      ]
    },
    {
      "cell_type": "markdown",
      "source": [
        "아무것도 리턴 X -> None 출력"
      ],
      "metadata": {
        "id": "byz72FNvuLx-"
      }
    },
    {
      "cell_type": "code",
      "metadata": {
        "colab": {
          "base_uri": "https://localhost:8080/"
        },
        "id": "to2ROGZEaAYr",
        "outputId": "ab35a6f9-2111-4d7d-ce5e-3a9c12eaadb3"
      },
      "source": [
        "def return_test():\n",
        "  return\n",
        "\n",
        "value = return_test()\n",
        "print(value)"
      ],
      "execution_count": null,
      "outputs": [
        {
          "output_type": "stream",
          "text": [
            "None\n"
          ],
          "name": "stdout"
        }
      ]
    }
  ]
}