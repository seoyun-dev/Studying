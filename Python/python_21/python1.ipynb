{
  "nbformat": 4,
  "nbformat_minor": 0,
  "metadata": {
    "colab": {
      "provenance": [],
      "toc_visible": true
    },
    "kernelspec": {
      "name": "python3",
      "display_name": "Python 3"
    },
    "language_info": {
      "name": "python"
    }
  },
  "cells": [
    {
      "cell_type": "markdown",
      "metadata": {
        "id": "ldLzF7poJFei"
      },
      "source": [
        "# Chapter 1. 파이썬 시작하기"
      ]
    },
    {
      "cell_type": "markdown",
      "source": [
        "## 1-3. 이 책에서 자주 나오는 파이썬 용어들"
      ],
      "metadata": {
        "id": "SIqU9WU1Yba-"
      }
    },
    {
      "cell_type": "markdown",
      "metadata": {
        "id": "j17RuKBNJDP8"
      },
      "source": [
        "**키워드**: 특별한 의미가 부여된 단어(ex.False, None, and, if, or, else, while)  \n",
        "**식별자**: (주로 변수 또는 함수)이름을 붙일 때 사용하는 단어  \n",
        "\n",
        "> 키워드 사용x/ 특수문자는 _만 허용/ 숫자시작x/ 공백 포함x  \n",
        "\n",
        "\n",
        "1.   단어 첫 글자를 소문자로 시작 + 단어 사이에 _기호 -> 스네이크 케이스 (ex. item_list) -> 뒤에 괄호 O(함수)/ X(변수)\n",
        "2.   단어 첫 글자를 대문자 -> 캐멀 케이스 (ex. ItemList) (-> 클래스)\n",
        "**주석**: # 뒷부분 주석 처리  \n",
        "**출력: print()** 여러개 출력원하면 ,로 연결  \n",
        "줄바꿈은 print().  \n",
        "  \n",
        "**함수는 키워드가 아닌 식별자! 식별자 중 스네이크 케이스임!**\n",
        "\n"
      ]
    },
    {
      "cell_type": "code",
      "metadata": {
        "colab": {
          "base_uri": "https://localhost:8080/"
        },
        "id": "1v7P2DbcMMZZ",
        "outputId": "cf09b714-51c7-46e5-aba7-46e6cd94306d"
      },
      "source": [
        "print(23, 52, \"안녕하세요\")\n",
        "print()"
      ],
      "execution_count": null,
      "outputs": [
        {
          "output_type": "stream",
          "text": [
            "23 52 안녕하세요\n",
            "\n"
          ],
          "name": "stdout"
        }
      ]
    },
    {
      "cell_type": "markdown",
      "metadata": {
        "id": "xW_ypc_S8DXB"
      },
      "source": [
        "**sep와 end**  \n",
        "sep=\" \"; 출력문들 사이에 해당하는 내용 넣기(기본: 공백)  \n",
        "end=\" \"; 문자를 출력하고 마지막에 무엇을 쓰고 끝낼지 정하기(기본: '\\n')"
      ]
    },
    {
      "cell_type": "code",
      "metadata": {
        "colab": {
          "base_uri": "https://localhost:8080/"
        },
        "id": "9zrcK7UV8laJ",
        "outputId": "4c7aed7a-8c68-4580-c059-7b2ea5928e99"
      },
      "source": [
        "# sep\n",
        "print(\"010\", \"5393\", \"1882\", \"내 번호\", sep=\"-\")"
      ],
      "execution_count": null,
      "outputs": [
        {
          "output_type": "stream",
          "text": [
            "010-5393-1882-내 번호\n"
          ],
          "name": "stdout"
        }
      ]
    },
    {
      "cell_type": "code",
      "metadata": {
        "colab": {
          "base_uri": "https://localhost:8080/"
        },
        "id": "5oRgWNfE851N",
        "outputId": "1259b1cf-7508-496d-a6b9-daa953fdbaea"
      },
      "source": [
        "# end\n",
        "print(\"내가 할 수 있는 것은\", 1, \"개 하는 것\", end = \"!!!\")"
      ],
      "execution_count": null,
      "outputs": [
        {
          "output_type": "stream",
          "text": [
            "내가 할 수 있는 것은 1 개 하는 것!!!"
          ],
          "name": "stdout"
        }
      ]
    },
    {
      "cell_type": "markdown",
      "metadata": {
        "id": "MVCuWcCwMUgh"
      },
      "source": [
        "# Chapter 2. 자료형"
      ]
    },
    {
      "cell_type": "markdown",
      "metadata": {
        "id": "bcRIe-QTMe9y"
      },
      "source": [
        "# 2-1. 자료형과 문자열"
      ]
    },
    {
      "cell_type": "markdown",
      "metadata": {
        "id": "wdhFuDyBMa-W"
      },
      "source": [
        "**자료형**  \n",
        "문자열(string), 숫자, 불  \n",
        "자료형 확인할 때 type()함수 사용  "
      ]
    },
    {
      "cell_type": "code",
      "metadata": {
        "colab": {
          "base_uri": "https://localhost:8080/"
        },
        "id": "9giGjfbyPWDl",
        "outputId": "819fb9f0-babd-480b-d57f-c5d08a6e9d5e"
      },
      "source": [
        "print(type(\"안녕하세요\"))"
      ],
      "execution_count": null,
      "outputs": [
        {
          "output_type": "stream",
          "text": [
            "<class 'str'>\n"
          ],
          "name": "stdout"
        }
      ]
    },
    {
      "cell_type": "markdown",
      "metadata": {
        "id": "ST9AV57mPk50"
      },
      "source": [
        "**문자열 만들기**  \n",
        "큰 따옴표, 작은 따옴표 모두 가능!! -> 이를 이용하여 문자열 내부 따옴표 출력 설정  \n",
        "출력할 따옴표와 문자열 만들기 위한 따옴표가 같으면 **SyntaxError(구문오류)**발생  \n",
        "이스케이프 문자(\\) -> \\\"(\"출력), \\'('출력), \\n(줄바꿈), \\t(탭), \\\\(\\출력)  \n",
        "여러 줄 문자열 만들기\n",
        "\n",
        "1.   \\n 활용\n",
        "2.   큰 따옴표 또는 작은 따옴표 세 번 반복하기.  \n",
        "\"\"\"후 한 줄 띄고 시작 한줄 띄고 \"\"\"으로 끝날 시 의도치 않은 줄바꿈 생성.  \n",
        "원하지않는다면 \\을 붙여야함(예제1)\n",
        "\n"
      ]
    },
    {
      "cell_type": "code",
      "metadata": {
        "colab": {
          "base_uri": "https://localhost:8080/"
        },
        "id": "BPrK6Rv3Qg-2",
        "outputId": "ce671bbf-f31b-42c1-cf22-e834786c3cc6"
      },
      "source": [
        "print(\"\"\"\\\n",
        "동행물과\n",
        "백두산이\n",
        "마르고\n",
        "닳도록\\\n",
        "\"\"\") #위 아래 의도치 않은 공백을 없애기 위해 \\붙이기\n",
        "print(\"\"\"동해물과\n",
        "백두산이\n",
        "마르고\n",
        "닳도록\n",
        "\"\"\")\n",
        "print(\"'안녕하세요'라고 말함\") #큰 따옴표로 묶어 작은 따옴표 출력\n",
        "print(\"\\\\\\\\\") # \\\\일 때 \\출력"
      ],
      "execution_count": null,
      "outputs": [
        {
          "output_type": "stream",
          "text": [
            "동행물과\n",
            "백두산이\n",
            "마르고\n",
            "닳도록\n",
            "동해물과\n",
            "백두산이\n",
            "마르고\n",
            "닳도록\n",
            "\n",
            "'안녕하세요'라고 말함\n",
            "\\\\\n"
          ],
          "name": "stdout"
        }
      ]
    },
    {
      "cell_type": "markdown",
      "metadata": {
        "id": "0ELqRNXnRTjf"
      },
      "source": [
        "**문자열 연산자**  \n",
        "+(연결), *(반복), [](인덱싱.숫자 0부터 세는 것 주의!!. 거꾸로 출력하는 방법 알아두기!), [:](슬라이싱. 마지막 숫자를 포함하지 않음!!!)"
      ]
    },
    {
      "cell_type": "code",
      "metadata": {
        "colab": {
          "base_uri": "https://localhost:8080/"
        },
        "id": "uxkj1qvyRS67",
        "outputId": "81f7bc4d-6326-4ea4-977a-86f1574d0e19"
      },
      "source": [
        "print(\"안녕\"+\"하세요\") #연결\n",
        "print(\"2\"+\"30\") #연결\n",
        "print(\"헬로\"*3) #반복\n",
        "print(\"안녕하세요\"[0]) #인덱싱 0부터 시작!\n",
        "print(\"안녕하세요\"[4])\n",
        "print(\"안녕하세요\"[-1]) #인덱싱 거꾸로는 -1부터 시작!\n",
        "print(\"안녕하세요\"[-5])\n",
        "print(\"안녕하세요\"[1:4])#슬라이싱 마지막 숫자 포함 x!\n",
        "print(\"안녕하세요\"[2:])\n",
        "print(\"안녕하세요\"[:10])"
      ],
      "execution_count": null,
      "outputs": [
        {
          "output_type": "stream",
          "text": [
            "안녕하세요\n",
            "230\n",
            "헬로헬로헬로\n",
            "안\n",
            "요\n",
            "요\n",
            "안\n",
            "녕하세\n",
            "하세요\n",
            "안녕하세요\n"
          ],
          "name": "stdout"
        }
      ]
    },
    {
      "cell_type": "markdown",
      "metadata": {
        "id": "iYFFriHsSer8"
      },
      "source": [
        "**IndexError**: 리스트/문자열의 수를 넘는 요소/글자 발생  \n",
        "ex. print(\"안녕하세요\"[10])  \n",
        "**문자열의 길이 구하기**: len()함수 사용"
      ]
    },
    {
      "cell_type": "code",
      "metadata": {
        "colab": {
          "base_uri": "https://localhost:8080/"
        },
        "id": "91cgGs8HSaSy",
        "outputId": "64073883-333b-4111-a731-4445a168d1a4"
      },
      "source": [
        "print(len(\"안녕하세요\"))"
      ],
      "execution_count": null,
      "outputs": [
        {
          "output_type": "stream",
          "text": [
            "5\n"
          ],
          "name": "stdout"
        }
      ]
    },
    {
      "cell_type": "markdown",
      "metadata": {
        "id": "L6FefzkHThmz"
      },
      "source": [
        "# 2-2. 숫자"
      ]
    },
    {
      "cell_type": "markdown",
      "metadata": {
        "id": "8kuzONNnTrEd"
      },
      "source": [
        "**숫자의 종류**\n",
        "1. 정수형(integer) ex. 0, 2, 5, 333\n",
        "2. 실수형(float) ex. 0.0, 34.33, 0.522e2(지수)  "
      ]
    },
    {
      "cell_type": "code",
      "metadata": {
        "colab": {
          "base_uri": "https://localhost:8080/"
        },
        "id": "Ki0Y4t29UlFu",
        "outputId": "b967f47d-ef4c-41f4-98a2-0be825d84721"
      },
      "source": [
        "print(type(0))\n",
        "print(type(0.0))\n",
        "print(23.333e-2)"
      ],
      "execution_count": null,
      "outputs": [
        {
          "output_type": "stream",
          "text": [
            "<class 'int'>\n",
            "<class 'float'>\n",
            "0.23333\n"
          ],
          "name": "stdout"
        }
      ]
    },
    {
      "cell_type": "markdown",
      "metadata": {
        "id": "0DsBH7RBVaEU"
      },
      "source": [
        "**숫자 연산자**  \n",
        "+, -, '***'(**곱셈), /, //(몫만 구함. 정수 나누기 연산자), %(나머지 연산자), ****(**제곱 연산자)  \n",
        "**TypeError**: 서로 다른 자료를 연산 (문자열 + 숫자)"
      ]
    },
    {
      "cell_type": "code",
      "metadata": {
        "colab": {
          "base_uri": "https://localhost:8080/"
        },
        "id": "T1EqQaXnVXdq",
        "outputId": "18ac1ac2-f011-47bb-f6b3-ce15185d6b2f"
      },
      "source": [
        "print(3/2)\n",
        "print(3//2)\n",
        "print(3%2)\n",
        "print(2**3)"
      ],
      "execution_count": null,
      "outputs": [
        {
          "output_type": "stream",
          "text": [
            "1.5\n",
            "1\n",
            "1\n",
            "8\n"
          ],
          "name": "stdout"
        }
      ]
    },
    {
      "cell_type": "code",
      "metadata": {
        "colab": {
          "base_uri": "https://localhost:8080/",
          "height": 205
        },
        "id": "nGu2qp26WMyG",
        "outputId": "16d35e68-22d8-45f8-efd5-2393d348a656"
      },
      "source": [
        "string = \"문자열\"\n",
        "number = 23\n",
        "string + number"
      ],
      "execution_count": null,
      "outputs": [
        {
          "output_type": "error",
          "ename": "TypeError",
          "evalue": "ignored",
          "traceback": [
            "\u001b[0;31m---------------------------------------------------------------------------\u001b[0m",
            "\u001b[0;31mTypeError\u001b[0m                                 Traceback (most recent call last)",
            "\u001b[0;32m<ipython-input-24-dbd3824f50f1>\u001b[0m in \u001b[0;36m<module>\u001b[0;34m()\u001b[0m\n\u001b[1;32m      1\u001b[0m \u001b[0mstring\u001b[0m \u001b[0;34m=\u001b[0m \u001b[0;34m\"문자열\"\u001b[0m\u001b[0;34m\u001b[0m\u001b[0;34m\u001b[0m\u001b[0m\n\u001b[1;32m      2\u001b[0m \u001b[0mnumber\u001b[0m \u001b[0;34m=\u001b[0m \u001b[0;36m23\u001b[0m\u001b[0;34m\u001b[0m\u001b[0;34m\u001b[0m\u001b[0m\n\u001b[0;32m----> 3\u001b[0;31m \u001b[0mstring\u001b[0m \u001b[0;34m+\u001b[0m \u001b[0mnumber\u001b[0m\u001b[0;34m\u001b[0m\u001b[0;34m\u001b[0m\u001b[0m\n\u001b[0m",
            "\u001b[0;31mTypeError\u001b[0m: can only concatenate str (not \"int\") to str"
          ]
        }
      ]
    },
    {
      "cell_type": "markdown",
      "metadata": {
        "id": "k3etEdEFWdw-"
      },
      "source": [
        "# 2-3. 변수와 입력"
      ]
    },
    {
      "cell_type": "markdown",
      "metadata": {
        "id": "GTHhSEN-WcH4"
      },
      "source": [
        "**변수 선언**: '변수 = 값'하면 된다. 자바, C와 달리 자료형 선언 필요x.  \n",
        "**복합 대입 연산자**   \n",
        "숫자: +=, -=, **=*, /=, %=, **=  \n",
        "문자열: +=(문자열 연결 후 대입), *=(문자열반복 후 대입)\n"
      ]
    },
    {
      "cell_type": "code",
      "metadata": {
        "colab": {
          "base_uri": "https://localhost:8080/"
        },
        "id": "ROMFPd1kWXT5",
        "outputId": "731523f1-7eb6-4f95-81b2-e32cae760a21"
      },
      "source": [
        "number = 3\n",
        "number += 1\n",
        "print(number)\n",
        "number **= 3\n",
        "print(number)\n",
        "number %= 5\n",
        "print(number)"
      ],
      "execution_count": null,
      "outputs": [
        {
          "output_type": "stream",
          "text": [
            "4\n",
            "64\n",
            "4\n"
          ],
          "name": "stdout"
        }
      ]
    },
    {
      "cell_type": "code",
      "metadata": {
        "colab": {
          "base_uri": "https://localhost:8080/"
        },
        "id": "WhtQEPQXXk2r",
        "outputId": "e4353258-aff4-487b-80b9-5de09017af94"
      },
      "source": [
        "string = \"안녕\"\n",
        "string += \"!\"\n",
        "string *= 3\n",
        "print(string)"
      ],
      "execution_count": null,
      "outputs": [
        {
          "output_type": "stream",
          "text": [
            "안녕!안녕!안녕!\n"
          ],
          "name": "stdout"
        }
      ]
    },
    {
      "cell_type": "markdown",
      "metadata": {
        "id": "8fuy_ynnX_AO"
      },
      "source": [
        "**사용자 입력: input()**  \n",
        "input함수에 숫자, 문자열, 불 중 어떤 것을 입력해도 출력은 **문자열 자료형**이다!"
      ]
    },
    {
      "cell_type": "code",
      "metadata": {
        "colab": {
          "base_uri": "https://localhost:8080/"
        },
        "id": "giuQvgC9Y8ya",
        "outputId": "2d9a47b2-50fd-4fc0-8f78-f3e888d32941"
      },
      "source": [
        "string = input(\"입력> \")\n",
        "print(type(string))"
      ],
      "execution_count": null,
      "outputs": [
        {
          "output_type": "stream",
          "text": [
            "입력> True\n",
            "<class 'str'>\n"
          ],
          "name": "stdout"
        }
      ]
    },
    {
      "cell_type": "code",
      "metadata": {
        "colab": {
          "base_uri": "https://localhost:8080/"
        },
        "id": "MgPNqc1tZCfv",
        "outputId": "2849cbe1-4149-41ef-f057-5c60a6376dfe"
      },
      "source": [
        "string = input(\"입력> \")\n",
        "#print(\"입력 + 100 =\", string + 100) #input을 integer로 해도 input의 결과는 string이기 때문에 숫자와 문자열 덧셈 불가능! TypeError발생"
      ],
      "execution_count": null,
      "outputs": [
        {
          "output_type": "stream",
          "text": [
            "입력> 2\n"
          ],
          "name": "stdout"
        }
      ]
    },
    {
      "cell_type": "markdown",
      "metadata": {
        "id": "watTLmUXZlyF"
      },
      "source": [
        "**캐스트: 문자열을 숫자로 바꾸기**  \n",
        "int()(소수점 버림), float()  \n",
        "**ValueError**: 자료형을 변환할 때 변환할 수 없는 것을 변환하려고 할 시에 발생.\n",
        "\n",
        "\n",
        "1.   숫자가 아닌 것을 숫자로 변환. ex)int(\"안녕\")\n",
        "2.   소수점이 있는 숫자 형식의 문자열을 int()로 변환 ex)int(\"42.222\")\n",
        "\n"
      ]
    },
    {
      "cell_type": "markdown",
      "metadata": {
        "id": "SmdRn5ufaJvj"
      },
      "source": [
        "**숫자를 문자열로 바꾸기**: str()함수 사용"
      ]
    },
    {
      "cell_type": "markdown",
      "metadata": {
        "id": "5niQKgxmaPt8"
      },
      "source": [
        "# 2-4. 숫자와 문자열의 다양한 기능  \n",
        "(문자열 뒤에 .찍으면 나오는 문자열이 가지고 있는 자체적인 기능)"
      ]
    },
    {
      "cell_type": "markdown",
      "metadata": {
        "id": "jsPd3D7baUnZ"
      },
      "source": [
        "**문자열의 format()함수**\" format()함수는 문자열로 출력한다! 숫자를 문자열로 변환 가능"
      ]
    },
    {
      "cell_type": "code",
      "metadata": {
        "colab": {
          "base_uri": "https://localhost:8080/"
        },
        "id": "p-JEIy7QZ_-3",
        "outputId": "63e71fad-4151-4feb-95f3-da36ecdefc9e"
      },
      "source": [
        "string = \"{}\".format(10)\n",
        "print(type(string))"
      ],
      "execution_count": null,
      "outputs": [
        {
          "output_type": "stream",
          "text": [
            "<class 'str'>\n"
          ],
          "name": "stdout"
        }
      ]
    },
    {
      "cell_type": "markdown",
      "metadata": {
        "id": "sh8FXPRicPP9"
      },
      "source": [
        "**IndexError**: {}기호의 개수 > format()함수의 매개변수 개수 일 때 발생!  \n",
        "{}보다 format()함수의 매개변수 개수가 많을 땐 발생하지 않는다."
      ]
    },
    {
      "cell_type": "code",
      "metadata": {
        "colab": {
          "base_uri": "https://localhost:8080/",
          "height": 34
        },
        "id": "S-dnEEq2cAR3",
        "outputId": "b61238dc-a56b-4e88-9a14-aaa9173e6337"
      },
      "source": [
        "\"{} {}\".format(1, 2, 3, 4, 5) #{}개수 < format()매개변수 개수 -> 정상 실행"
      ],
      "execution_count": null,
      "outputs": [
        {
          "output_type": "execute_result",
          "data": {
            "application/vnd.google.colaboratory.intrinsic+json": {
              "type": "string"
            },
            "text/plain": [
              "'1 2'"
            ]
          },
          "metadata": {
            "tags": []
          },
          "execution_count": 43
        }
      ]
    },
    {
      "cell_type": "code",
      "metadata": {
        "colab": {
          "base_uri": "https://localhost:8080/",
          "height": 170
        },
        "id": "NLr5Fh-vcJmk",
        "outputId": "bff26a79-cfa5-413c-a7db-da3b0172f29a"
      },
      "source": [
        "\"{}{}{}{}{}{}{}\".format(1, 2)  #{}개수 > format()매개변수 개수 -> IndexError"
      ],
      "execution_count": null,
      "outputs": [
        {
          "output_type": "error",
          "ename": "IndexError",
          "evalue": "ignored",
          "traceback": [
            "\u001b[0;31m---------------------------------------------------------------------------\u001b[0m",
            "\u001b[0;31mIndexError\u001b[0m                                Traceback (most recent call last)",
            "\u001b[0;32m<ipython-input-44-db27af9c9c43>\u001b[0m in \u001b[0;36m<module>\u001b[0;34m()\u001b[0m\n\u001b[0;32m----> 1\u001b[0;31m \u001b[0;34m\"{}{}{}{}{}{}{}\"\u001b[0m\u001b[0;34m.\u001b[0m\u001b[0mformat\u001b[0m\u001b[0;34m(\u001b[0m\u001b[0;36m1\u001b[0m\u001b[0;34m,\u001b[0m \u001b[0;36m2\u001b[0m\u001b[0;34m)\u001b[0m  \u001b[0;31m#{}개수 > format()매개변수 개수 -> IndexError\u001b[0m\u001b[0;34m\u001b[0m\u001b[0;34m\u001b[0m\u001b[0m\n\u001b[0m",
            "\u001b[0;31mIndexError\u001b[0m: tuple index out of range"
          ]
        }
      ]
    },
    {
      "cell_type": "markdown",
      "metadata": {
        "id": "6b8JAnrfdhgX"
      },
      "source": [
        "**format()함수의 다양한 기능**  "
      ]
    },
    {
      "cell_type": "code",
      "metadata": {
        "colab": {
          "base_uri": "https://localhost:8080/"
        },
        "id": "w0bYqn1cdfpg",
        "outputId": "abdefec6-8e56-4d4a-886f-c2b55f613ab5"
      },
      "source": [
        "#정수 출력의 다양한 형태\n",
        "a = \"{:d}\".format(52) # {:d}는 int자료형의 정수를 출력하겠다는 뜻!!\n",
        "b = \"{:5d}\".format(52) # 5칸에 오른쪽 출력\n",
        "c = \"{:10d}\".format(52)\n",
        "d = \"{:05d}\".format(52) # 5칸 왼쪽부터 0채우기\n",
        "e = \"{:05d}\".format(-52) # 5칸 -로 시작하여 0채우고 숫자\n",
        "\n",
        "print(a)\n",
        "print(b)\n",
        "print(c)\n",
        "print(d)\n",
        "print(e)"
      ],
      "execution_count": null,
      "outputs": [
        {
          "output_type": "stream",
          "text": [
            "52\n",
            "   52\n",
            "        52\n",
            "00052\n",
            "-0052\n"
          ],
          "name": "stdout"
        }
      ]
    },
    {
      "cell_type": "code",
      "metadata": {
        "colab": {
          "base_uri": "https://localhost:8080/"
        },
        "id": "ZucYFZbpd0Tb",
        "outputId": "025e8d93-2cd9-486b-def2-4c9367bd1884"
      },
      "source": [
        "#기호 붙여 출력하기\n",
        "a = \"{:+d}\".format(52) # +붙이면 양수인 경우 + 출력\n",
        "b = \"{:+d}\".format(-52) # 음수\n",
        "c = \"{: d}\".format(52) # 공백시 양수인 경우 기호부분 공백\n",
        "d = \"{: d}\".format(-52) # 음수\n",
        "print(a)\n",
        "print(b)\n",
        "print(c)\n",
        "print(d)"
      ],
      "execution_count": null,
      "outputs": [
        {
          "output_type": "stream",
          "text": [
            "+52\n",
            "-52\n",
            " 52\n",
            "-52\n"
          ],
          "name": "stdout"
        }
      ]
    },
    {
      "cell_type": "code",
      "metadata": {
        "colab": {
          "base_uri": "https://localhost:8080/"
        },
        "id": "A6EprWbJehcE",
        "outputId": "398992dc-9ea3-47bf-b02d-6b6ecea52018"
      },
      "source": [
        "#조합해보기\n",
        "a = \"{:+5d}\".format(52) # 기호를 뒤로 밀기\n",
        "b = \"{:+5d}\".format(-52) # 음수\n",
        "c = \"{:=+5d}\".format(52) # 기호를 앞으로 밀기\n",
        "d = \"{:=+5d}\".format(-52) # 음수\n",
        "e = \"{:+05d}\".format(52) # 기호는 앞으로 밀고 0으로 채우기\n",
        "f = \"{:+05d}\".format(-52) # 음수\n",
        "print(a)\n",
        "print(b)\n",
        "print(c)\n",
        "print(d)\n",
        "print(e)\n",
        "print(f)"
      ],
      "execution_count": null,
      "outputs": [
        {
          "output_type": "stream",
          "text": [
            "  +52\n",
            "  -52\n",
            "+  52\n",
            "-  52\n",
            "+0052\n",
            "-0052\n"
          ],
          "name": "stdout"
        }
      ]
    },
    {
      "cell_type": "code",
      "metadata": {
        "colab": {
          "base_uri": "https://localhost:8080/"
        },
        "id": "_VPYMmpLfMX_",
        "outputId": "085856be-d295-420d-f54e-732b33535b94"
      },
      "source": [
        "#부동 소수점 출력의 다양한 형태\n",
        "a = \"{:f}\".format(52.273)\n",
        "b = \"{:15f}\".format(52.273)\n",
        "c = \"{:+15f}\".format(52.273)\n",
        "d = \"{:+015f}\".format(52.273)\n",
        "print(a)\n",
        "print(b)\n",
        "print(c)\n",
        "print(d)"
      ],
      "execution_count": null,
      "outputs": [
        {
          "output_type": "stream",
          "text": [
            "52.273000\n",
            "      52.273000\n",
            "     +52.273000\n",
            "+0000052.273000\n"
          ],
          "name": "stdout"
        }
      ]
    },
    {
      "cell_type": "code",
      "metadata": {
        "colab": {
          "base_uri": "https://localhost:8080/"
        },
        "id": "kyDeG96cftNr",
        "outputId": "1dde8eea-79f0-48da-8ee5-04424f583aef"
      },
      "source": [
        "#소수점 아래 자릿수 지정하기\n",
        "a = \"{:15.3f}\".format(52.273)\n",
        "b = \"{:015.2f}\".format(52.273)\n",
        "print(a)\n",
        "print(b)"
      ],
      "execution_count": null,
      "outputs": [
        {
          "output_type": "stream",
          "text": [
            "         52.273\n",
            "000000000052.27\n"
          ],
          "name": "stdout"
        }
      ]
    },
    {
      "cell_type": "code",
      "metadata": {
        "colab": {
          "base_uri": "https://localhost:8080/"
        },
        "id": "9XwTs5MSgCjp",
        "outputId": "bdd6bd85-e14f-4db0-a1e8-40d6e0f8fca5"
      },
      "source": [
        "#의미없는 소수점 0 제거하기\n",
        "a = 52.0\n",
        "output = \"{:g}\".format(a)\n",
        "print(a)\n",
        "print(output)"
      ],
      "execution_count": null,
      "outputs": [
        {
          "output_type": "stream",
          "text": [
            "52.0\n",
            "52\n"
          ],
          "name": "stdout"
        }
      ]
    },
    {
      "cell_type": "markdown",
      "metadata": {
        "id": "jfYW5ASTgVvL"
      },
      "source": [
        "**대소문자 바꾸기: upper()와 lower()** -> 비파괴적 함수이다.  \n",
        "**문자열 양옆의 공백 제거하기: strip(), lstrip()(왼쪽 공백 제거), rstrip()(오른쪽 공백 제거)**  \n",
        "**문자열의 구성 파악하기: isOO()**: 출력은 True나 False로 나옴  \n",
        "isalnum(): 알파벳 또는 숫자로만 구성  \n",
        "isalpha(): 알파벳으로 구성  \n",
        "isdentifier(): 식별자로 사용가능한 문자열인가  \n",
        "isdecimal(): 정수로 구성  \n",
        "isdigit(): 숫자로 인식될 수 있는 것인가  \n",
        "isspace(): 공백인가   \n",
        "islower(): 소문자인가  \n",
        "isupper(): 대문자인가  \n",
        "**문자열 찾기: find()와 rfind()**(문자열은 0번부터 시작!!)  \n",
        "find(): 왼쪽부터 찾아서 처음 등장하는 위치찾기\n",
        "rfind():오른쪽부터 찾기.   \n",
        "**문자열과 in 연산자**: 문자열 내부에 어떤 문자열이 있는지 확인. 출력은 True or False  \n",
        "**문자열 자르기: split()**: 문자열을 괄호 안의 특정한 문자 기준으로 자름. 실행결과는 리스트!!"
      ]
    },
    {
      "cell_type": "code",
      "metadata": {
        "colab": {
          "base_uri": "https://localhost:8080/",
          "height": 34
        },
        "id": "kohlTstLgS4m",
        "outputId": "03e32080-bec0-41a8-d1eb-00e837d54daf"
      },
      "source": [
        "#upprt()와 lower()\n",
        "a = \"Hello Python\"\n",
        "a.upper()"
      ],
      "execution_count": null,
      "outputs": [
        {
          "output_type": "execute_result",
          "data": {
            "application/vnd.google.colaboratory.intrinsic+json": {
              "type": "string"
            },
            "text/plain": [
              "'HELLO PYTHON'"
            ]
          },
          "metadata": {
            "tags": []
          },
          "execution_count": 64
        }
      ]
    },
    {
      "cell_type": "code",
      "metadata": {
        "colab": {
          "base_uri": "https://localhost:8080/"
        },
        "id": "jJbD_5YziJYz",
        "outputId": "6fa4b822-b75c-405f-b925-3632a4e55e6f"
      },
      "source": [
        "#양옆 공백 제거 strip()\n",
        "a = \"\"\"\n",
        "     안녕하세요\n",
        "  박서윤입니다.\n",
        "  \"\"\"\n",
        "print(a)"
      ],
      "execution_count": null,
      "outputs": [
        {
          "output_type": "stream",
          "text": [
            "\n",
            "     안녕하세요\n",
            "  박서윤입니다.\n",
            "  \n"
          ],
          "name": "stdout"
        }
      ]
    },
    {
      "cell_type": "code",
      "metadata": {
        "colab": {
          "base_uri": "https://localhost:8080/"
        },
        "id": "2t54akOBiM1i",
        "outputId": "7ef40f9e-90ee-4d2e-cff6-a91017a0dc94"
      },
      "source": [
        "print(a.strip())"
      ],
      "execution_count": null,
      "outputs": [
        {
          "output_type": "stream",
          "text": [
            "안녕하세요\n",
            "  박서윤입니다.\n"
          ],
          "name": "stdout"
        }
      ]
    },
    {
      "cell_type": "code",
      "metadata": {
        "colab": {
          "base_uri": "https://localhost:8080/"
        },
        "id": "tcrgU3Sxijzy",
        "outputId": "38bd37b2-45c8-400e-b538-65866edeee06"
      },
      "source": [
        "print(a.rstrip())"
      ],
      "execution_count": null,
      "outputs": [
        {
          "output_type": "stream",
          "text": [
            "\n",
            "     안녕하세요\n",
            "  박서윤입니다.\n"
          ],
          "name": "stdout"
        }
      ]
    },
    {
      "cell_type": "code",
      "metadata": {
        "colab": {
          "base_uri": "https://localhost:8080/"
        },
        "id": "4B3PzXCyinG4",
        "outputId": "b7ba0a75-7557-4c9a-f936-eee6a5aab299"
      },
      "source": [
        "#문자열 구성: isOO()\n",
        "print(\"Tra12\".isalnum())\n",
        "print(\"Tra12\".isdigit())\n",
        "print(\"342\".isdigit())"
      ],
      "execution_count": null,
      "outputs": [
        {
          "output_type": "stream",
          "text": [
            "True\n",
            "False\n",
            "True\n"
          ],
          "name": "stdout"
        }
      ]
    },
    {
      "cell_type": "code",
      "metadata": {
        "colab": {
          "base_uri": "https://localhost:8080/"
        },
        "id": "MBu3MUY-iuwE",
        "outputId": "396aefd3-4ab8-4196-859d-c872532beaaf"
      },
      "source": [
        "#문자열 찾기: find()와 rfind()\n",
        "a = \"안녕안녕하세요\".find(\"안녕\")\n",
        "print(a)\n",
        "b = \"안녕안녕하세요\".rfind(\"안녕\")\n",
        "print(b)"
      ],
      "execution_count": null,
      "outputs": [
        {
          "output_type": "stream",
          "text": [
            "0\n",
            "2\n"
          ],
          "name": "stdout"
        }
      ]
    },
    {
      "cell_type": "code",
      "metadata": {
        "colab": {
          "base_uri": "https://localhost:8080/"
        },
        "id": "IlQufz9WjEAS",
        "outputId": "c66f0e5a-e3e7-4a39-c579-aa08befbced0"
      },
      "source": [
        "#in연산자\n",
        "print(\"안녕\"in\"안녕하세요\")\n",
        "print(\"잘자\"in\"안녕하세\")"
      ],
      "execution_count": null,
      "outputs": [
        {
          "output_type": "stream",
          "text": [
            "True\n",
            "False\n"
          ],
          "name": "stdout"
        }
      ]
    },
    {
      "cell_type": "code",
      "metadata": {
        "colab": {
          "base_uri": "https://localhost:8080/"
        },
        "id": "ZOlOgMbSjhRg",
        "outputId": "3494b7b5-1585-4e2a-ca79-665e1b3cbde9"
      },
      "source": [
        "#문자열 자르기 split()\n",
        "a = \"10 20 30 40 50\".split() //공백 기준 자르기\n",
        "print(a)"
      ],
      "execution_count": null,
      "outputs": [
        {
          "output_type": "stream",
          "text": [
            "['10', '20', '30', '40', '50']\n"
          ],
          "name": "stdout"
        }
      ]
    },
    {
      "cell_type": "markdown",
      "metadata": {
        "id": "egVdgV_DkF1g"
      },
      "source": [
        "# Chapter 3. 조건문"
      ]
    },
    {
      "cell_type": "markdown",
      "metadata": {
        "id": "bp0Q8_1LkUBJ"
      },
      "source": [
        "# 3-1. 불 자료형과 if 조건문"
      ]
    },
    {
      "cell_type": "markdown",
      "metadata": {
        "id": "ywcXvG7KkY5f"
      },
      "source": [
        "**불 만들기: 비교 연산자**  \n",
        "==(같다), !=(다르다), <, >, <=, >=  \n",
        "한글은 가나다순으로 앞에 있는 것이 작은 값!\n"
      ]
    },
    {
      "cell_type": "code",
      "metadata": {
        "colab": {
          "base_uri": "https://localhost:8080/"
        },
        "id": "HY9vfIvuOIqn",
        "outputId": "19eea2f0-d436-4a3b-9f03-ce8507cd3702"
      },
      "source": [
        "print(10 == 100)\n",
        "print(10 <= 10)\n",
        "print(\"가방\" == \"가방\")\n",
        "print(\"가방\" > \"하마\")"
      ],
      "execution_count": null,
      "outputs": [
        {
          "output_type": "stream",
          "text": [
            "False\n",
            "True\n",
            "True\n",
            "False\n"
          ],
          "name": "stdout"
        }
      ]
    },
    {
      "cell_type": "code",
      "metadata": {
        "colab": {
          "base_uri": "https://localhost:8080/"
        },
        "id": "hWPeEZfcOQR4",
        "outputId": "78462ae7-cc2d-498e-c82a-c2bc7160149d"
      },
      "source": [
        "x = 25\n",
        "print(10 < x < 30)"
      ],
      "execution_count": null,
      "outputs": [
        {
          "output_type": "stream",
          "text": [
            "True\n"
          ],
          "name": "stdout"
        }
      ]
    },
    {
      "cell_type": "markdown",
      "metadata": {
        "id": "lEEjpGj7OW0D"
      },
      "source": [
        "**불 연산하기: 논리 연산자**  \n",
        "not, and, or"
      ]
    },
    {
      "cell_type": "code",
      "metadata": {
        "colab": {
          "base_uri": "https://localhost:8080/"
        },
        "id": "T7QgRsqJOVdb",
        "outputId": "1cf89559-a9d2-4880-ca44-5b603bff0136"
      },
      "source": [
        "print(not True)\n",
        "print(not False)"
      ],
      "execution_count": null,
      "outputs": [
        {
          "output_type": "stream",
          "text": [
            "False\n",
            "True\n"
          ],
          "name": "stdout"
        }
      ]
    },
    {
      "cell_type": "code",
      "metadata": {
        "colab": {
          "base_uri": "https://localhost:8080/"
        },
        "id": "wh0ATzMqOicM",
        "outputId": "87dfca5f-b1d3-40c2-f66b-6f4fa168a3e7"
      },
      "source": [
        "x = 10\n",
        "under_20 = x < 20\n",
        "print(under_20)\n",
        "print(not under_20)"
      ],
      "execution_count": null,
      "outputs": [
        {
          "output_type": "stream",
          "text": [
            "True\n",
            "False\n"
          ],
          "name": "stdout"
        }
      ]
    },
    {
      "cell_type": "code",
      "metadata": {
        "colab": {
          "base_uri": "https://localhost:8080/"
        },
        "id": "6NM8cVeMOrYh",
        "outputId": "befdf3fa-b74c-4963-8037-abee5521d51b"
      },
      "source": [
        "print(True and False)\n",
        "print(True or False)"
      ],
      "execution_count": null,
      "outputs": [
        {
          "output_type": "stream",
          "text": [
            "False\n",
            "True\n"
          ],
          "name": "stdout"
        }
      ]
    },
    {
      "cell_type": "markdown",
      "metadata": {
        "id": "iTn0r7jNO893"
      },
      "source": [
        "**if 조건문**  \n",
        "if 불 값이 나오는 표현식:  \n",
        "> 불 값이 참일 때 실행할 문장\n",
        "\n"
      ]
    },
    {
      "cell_type": "code",
      "metadata": {
        "colab": {
          "base_uri": "https://localhost:8080/"
        },
        "id": "FsVBwqweOywU",
        "outputId": "51ef4e3e-d9c5-4674-961c-0b122790bdaa"
      },
      "source": [
        "if True:\n",
        "  print(\"진짜야\")\n",
        "  print(\"찐찐찐으루\")"
      ],
      "execution_count": null,
      "outputs": [
        {
          "output_type": "stream",
          "text": [
            "진짜야\n",
            "찐찐찐으루\n"
          ],
          "name": "stdout"
        }
      ]
    },
    {
      "cell_type": "code",
      "metadata": {
        "id": "MW9Vb57ZPgvw"
      },
      "source": [
        "if False:           # False = 0 이므로 실행 x\n",
        "  print(\"과연?\")"
      ],
      "execution_count": null,
      "outputs": []
    },
    {
      "cell_type": "code",
      "metadata": {
        "colab": {
          "base_uri": "https://localhost:8080/"
        },
        "id": "meFfnISdRBEX",
        "outputId": "b31f278f-3a40-4a0e-ae15-e4769a5b6bcd"
      },
      "source": [
        "number = input(\"정수 입력> \")\n",
        "last_character = number[-1]\n",
        "\n",
        "if last_character in \"13579\":\n",
        "  print(\"홀수\")\n",
        "if last_character in \"24680\":\n",
        "  print(\"짝수\")"
      ],
      "execution_count": null,
      "outputs": [
        {
          "output_type": "stream",
          "text": [
            "정수 입력> 20\n",
            "짝수\n"
          ],
          "name": "stdout"
        }
      ]
    },
    {
      "cell_type": "markdown",
      "metadata": {
        "id": "D8dG0iNdPqiQ"
      },
      "source": [
        "**날짜/ 시간 활용하기**  \n",
        "날짜/시간 관련 기능 가져오기 ->  import datetime  \n",
        "현재 날짜/시간 구하기 -> now = datetime.datetime.now()  \n",
        "개별 출력 -> now.year, now.month, now.day, now.hour, now.minute, now.second"
      ]
    },
    {
      "cell_type": "code",
      "metadata": {
        "colab": {
          "base_uri": "https://localhost:8080/"
        },
        "id": "bi21IXuHPjl9",
        "outputId": "c46dad2c-f433-4321-e67e-c1c7f56befc4"
      },
      "source": [
        "import datetime\n",
        "now = datetime.datetime.now()\n",
        "\n",
        "if now.hour< 12:\n",
        "  print(\"현재 시각은 {}시 오전입니다.\".format(now.hour))\n",
        "else:\n",
        "  print(\"현재 시각은 {}시 오후입니다.\".format(now.hour))"
      ],
      "execution_count": null,
      "outputs": [
        {
          "output_type": "stream",
          "text": [
            "현재 시각은 15시 오후입니다.\n"
          ],
          "name": "stdout"
        }
      ]
    },
    {
      "cell_type": "markdown",
      "metadata": {
        "id": "zGomWX_ARzTK"
      },
      "source": [
        "# 3-2. if~else와 elif 구문"
      ]
    },
    {
      "cell_type": "markdown",
      "metadata": {
        "id": "tKGvyPkNR-Np"
      },
      "source": [
        "if~else문: 조건 하나의 참, 거짓에 따라 조건문이 오로지 두 가지로만 구분될 때 사용.  \n",
        "elif문: 세 개 이상의 조건을 연결해서 사용해야 할 때  "
      ]
    },
    {
      "cell_type": "code",
      "metadata": {
        "colab": {
          "base_uri": "https://localhost:8080/"
        },
        "id": "qAhJGfVUQgYf",
        "outputId": "99314826-b777-40f2-a6ef-135b1f6f808d"
      },
      "source": [
        "#elif문\n",
        "import datetime\n",
        "now = datetime.datetime.now()\n",
        "\n",
        "if 3 <= now.month <= 5 :    #if 조건A:\n",
        "  print(\"봄\")\n",
        "elif 6 <= now.month <= 8 :  #elif 조건B:\n",
        "  print(\"여름\")\n",
        "elif 9 <= now.month <= 11 : #elif 조건C:\n",
        "  print(\"가을\")\n",
        "else:                       #if now.month = 12 or 1 <= now.month <= 2:\n",
        "  print(\"겨울\")"
      ],
      "execution_count": null,
      "outputs": [
        {
          "output_type": "stream",
          "text": [
            "봄\n"
          ],
          "name": "stdout"
        }
      ]
    },
    {
      "cell_type": "markdown",
      "metadata": {
        "id": "fmnFVFY3X2tN"
      },
      "source": [
        "**False로 변환되는 값**: None, 0, 0.0, 빈 컨테이너(공백X).. 그 외는 모두 True"
      ]
    },
    {
      "cell_type": "code",
      "metadata": {
        "colab": {
          "base_uri": "https://localhost:8080/"
        },
        "id": "CmsU4SBOS8uU",
        "outputId": "b272faff-14b8-4adf-8f93-fc943965a6a1"
      },
      "source": [
        "if \"\":\n",
        "  print(\"빈 문자열은 True\")\n",
        "else:\n",
        "  print(\"빈 문자열은 False\")"
      ],
      "execution_count": null,
      "outputs": [
        {
          "output_type": "stream",
          "text": [
            "빈 문자열은 False\n"
          ],
          "name": "stdout"
        }
      ]
    },
    {
      "cell_type": "markdown",
      "metadata": {
        "id": "4otHgFXCYZ-W"
      },
      "source": [
        "**pass 키워드**  \n",
        "아직 구현하지 않아 if조건문에 실행문을 작성하지 않을 경우 **IndetationError**발생 -> pass 키워드 활용시 해결  \n",
        "  \n",
        "코드개발 잊어버리지말라고 오류 강제 발생 -> **raise NotImplementedError**"
      ]
    },
    {
      "cell_type": "code",
      "metadata": {
        "colab": {
          "base_uri": "https://localhost:8080/"
        },
        "id": "V7no7LV6YFfm",
        "outputId": "4d4e8817-0716-479d-de70-7f2aa5c0e9bb"
      },
      "source": [
        "number = int(input(\"정수 입력> \"))\n",
        "if number > 0:\n",
        "  pass\n",
        "else:\n",
        "  pass"
      ],
      "execution_count": null,
      "outputs": [
        {
          "output_type": "stream",
          "text": [
            "정수 입력> 3\n"
          ],
          "name": "stdout"
        }
      ]
    },
    {
      "cell_type": "code",
      "metadata": {
        "colab": {
          "base_uri": "https://localhost:8080/",
          "height": 258
        },
        "id": "_9XtFFyAY7Y5",
        "outputId": "3f90bc42-1df4-41eb-9d0c-55b8450e97dd"
      },
      "source": [
        "number = int(input(\"정수 입력> \"))\n",
        "if number > 0:\n",
        "  raise NotImplementedError\n",
        "else:\n",
        "  raise NotImplementedError"
      ],
      "execution_count": null,
      "outputs": [
        {
          "output_type": "stream",
          "text": [
            "정수 입력> 3\n"
          ],
          "name": "stdout"
        },
        {
          "output_type": "error",
          "ename": "NotImplementedError",
          "evalue": "ignored",
          "traceback": [
            "\u001b[0;31m---------------------------------------------------------------------------\u001b[0m",
            "\u001b[0;31mNotImplementedError\u001b[0m                       Traceback (most recent call last)",
            "\u001b[0;32m<ipython-input-17-2bdaf3acc14e>\u001b[0m in \u001b[0;36m<module>\u001b[0;34m()\u001b[0m\n\u001b[1;32m      1\u001b[0m \u001b[0mnumber\u001b[0m \u001b[0;34m=\u001b[0m \u001b[0mint\u001b[0m\u001b[0;34m(\u001b[0m\u001b[0minput\u001b[0m\u001b[0;34m(\u001b[0m\u001b[0;34m\"정수 입력> \"\u001b[0m\u001b[0;34m)\u001b[0m\u001b[0;34m)\u001b[0m\u001b[0;34m\u001b[0m\u001b[0;34m\u001b[0m\u001b[0m\n\u001b[1;32m      2\u001b[0m \u001b[0;32mif\u001b[0m \u001b[0mnumber\u001b[0m \u001b[0;34m>\u001b[0m \u001b[0;36m0\u001b[0m\u001b[0;34m:\u001b[0m\u001b[0;34m\u001b[0m\u001b[0;34m\u001b[0m\u001b[0m\n\u001b[0;32m----> 3\u001b[0;31m   \u001b[0;32mraise\u001b[0m \u001b[0mNotImplementedError\u001b[0m\u001b[0;34m\u001b[0m\u001b[0;34m\u001b[0m\u001b[0m\n\u001b[0m\u001b[1;32m      4\u001b[0m \u001b[0;32melse\u001b[0m\u001b[0;34m:\u001b[0m\u001b[0;34m\u001b[0m\u001b[0;34m\u001b[0m\u001b[0m\n\u001b[1;32m      5\u001b[0m   \u001b[0;32mraise\u001b[0m \u001b[0mNotImplementederror\u001b[0m\u001b[0;34m\u001b[0m\u001b[0;34m\u001b[0m\u001b[0m\n",
            "\u001b[0;31mNotImplementedError\u001b[0m: "
          ]
        }
      ]
    },
    {
      "cell_type": "markdown",
      "metadata": {
        "id": "4Q0W6e4GZXhq"
      },
      "source": [
        "# Chapter 4. 반복문"
      ]
    },
    {
      "cell_type": "markdown",
      "metadata": {
        "id": "BfVNzVIKZcbD"
      },
      "source": [
        "# 4-1. 리스트와 반복문"
      ]
    },
    {
      "cell_type": "markdown",
      "metadata": {
        "id": "MGAc4dZNZgZE"
      },
      "source": [
        "**리스트**: 여러가지 자료를 저장할 수 있는 자료 ex) array = [273, 32, \"문자열\",True]  \n",
        "**리스트 선언하고 요소(element)에 접근하기**  \n",
        "인덱스는 0부터 시작!"
      ]
    },
    {
      "cell_type": "code",
      "metadata": {
        "colab": {
          "base_uri": "https://localhost:8080/"
        },
        "id": "9kyHzRzKZGiO",
        "outputId": "ea5fd034-eba5-43c8-e9ce-53f86481c045"
      },
      "source": [
        "list_a = [273, 32, \"문자열\", True, False]\n",
        "list_a[-2] #음수로 뒤에서부터 접근 가능"
      ],
      "execution_count": null,
      "outputs": [
        {
          "output_type": "execute_result",
          "data": {
            "text/plain": [
              "True"
            ]
          },
          "metadata": {
            "tags": []
          },
          "execution_count": 31
        }
      ]
    },
    {
      "cell_type": "code",
      "metadata": {
        "colab": {
          "base_uri": "https://localhost:8080/"
        },
        "id": "hPmI6vm2b9d2",
        "outputId": "24b43ca5-3b3c-48ec-87b3-bc83b62a8e22"
      },
      "source": [
        "list_a[1:3] #1번째 글자부터 2번째 글자까지 선택!! 3번째 글자 선택XXXX!!!"
      ],
      "execution_count": null,
      "outputs": [
        {
          "output_type": "execute_result",
          "data": {
            "text/plain": [
              "[32, '문자열']"
            ]
          },
          "metadata": {
            "tags": []
          },
          "execution_count": 32
        }
      ]
    },
    {
      "cell_type": "code",
      "metadata": {
        "colab": {
          "base_uri": "https://localhost:8080/"
        },
        "id": "7l8yKM6Saf_I",
        "outputId": "fef8dac9-5ec7-4c02-c2e7-44338051fe8d"
      },
      "source": [
        "# 특정 요소 변경\n",
        "list_a[0] = \"변경\"\n",
        "list_a"
      ],
      "execution_count": null,
      "outputs": [
        {
          "output_type": "execute_result",
          "data": {
            "text/plain": [
              "['변경', 32, '문자열', True, False]"
            ]
          },
          "metadata": {
            "tags": []
          },
          "execution_count": 33
        }
      ]
    },
    {
      "cell_type": "code",
      "metadata": {
        "colab": {
          "base_uri": "https://localhost:8080/",
          "height": 34
        },
        "id": "3Yf1lEjkakzh",
        "outputId": "a1719e26-38a1-41a0-b00b-c6623d25da8c"
      },
      "source": [
        "#접근 연산자 이중으로 가능\n",
        "list_a[2][1]"
      ],
      "execution_count": null,
      "outputs": [
        {
          "output_type": "execute_result",
          "data": {
            "application/vnd.google.colaboratory.intrinsic+json": {
              "type": "string"
            },
            "text/plain": [
              "'자'"
            ]
          },
          "metadata": {
            "tags": []
          },
          "execution_count": 22
        }
      ]
    },
    {
      "cell_type": "code",
      "metadata": {
        "colab": {
          "base_uri": "https://localhost:8080/"
        },
        "id": "8cjWSu7day_P",
        "outputId": "40fcc7d3-a2cb-4259-f52e-d3fbf2328321"
      },
      "source": [
        "# 리스트 안에 리스트\n",
        "list_a = [[1, 2, 3],[4, 5, 6], [7, 8, 9]]\n",
        "list_a[1]"
      ],
      "execution_count": null,
      "outputs": [
        {
          "output_type": "execute_result",
          "data": {
            "text/plain": [
              "[4, 5, 6]"
            ]
          },
          "metadata": {
            "tags": []
          },
          "execution_count": 34
        }
      ]
    },
    {
      "cell_type": "code",
      "metadata": {
        "colab": {
          "base_uri": "https://localhost:8080/"
        },
        "id": "8KyeX4WIa8m6",
        "outputId": "9e8e963c-0ecf-422f-81f1-250bf3ac48b9"
      },
      "source": [
        "list_a[2][0]"
      ],
      "execution_count": null,
      "outputs": [
        {
          "output_type": "execute_result",
          "data": {
            "text/plain": [
              "7"
            ]
          },
          "metadata": {
            "tags": []
          },
          "execution_count": 35
        }
      ]
    },
    {
      "cell_type": "markdown",
      "metadata": {
        "id": "YvwL0fZtbBLY"
      },
      "source": [
        "**리스트에서의 IndexError**: 리스트의 길이를 넘는 인덱스로 요소에 접근하려고 할 때 발생."
      ]
    },
    {
      "cell_type": "code",
      "metadata": {
        "colab": {
          "base_uri": "https://localhost:8080/",
          "height": 187
        },
        "id": "OtA9lIXTa_zq",
        "outputId": "1e9c48dd-e61d-4d3c-9501-fc0bcf6d9eae"
      },
      "source": [
        "list_a = [273, 32, 103] #인덱스 0, 1, 2\n",
        "list_a[3] #길이를 넘는 요소에 접근"
      ],
      "execution_count": null,
      "outputs": [
        {
          "output_type": "error",
          "ename": "IndexError",
          "evalue": "ignored",
          "traceback": [
            "\u001b[0;31m---------------------------------------------------------------------------\u001b[0m",
            "\u001b[0;31mIndexError\u001b[0m                                Traceback (most recent call last)",
            "\u001b[0;32m<ipython-input-26-b951b2ab365d>\u001b[0m in \u001b[0;36m<module>\u001b[0;34m()\u001b[0m\n\u001b[1;32m      1\u001b[0m \u001b[0mlist_a\u001b[0m \u001b[0;34m=\u001b[0m \u001b[0;34m[\u001b[0m\u001b[0;36m273\u001b[0m\u001b[0;34m,\u001b[0m \u001b[0;36m32\u001b[0m\u001b[0;34m,\u001b[0m \u001b[0;36m103\u001b[0m\u001b[0;34m]\u001b[0m \u001b[0;31m#인덱스 0, 1, 2\u001b[0m\u001b[0;34m\u001b[0m\u001b[0;34m\u001b[0m\u001b[0m\n\u001b[0;32m----> 2\u001b[0;31m \u001b[0mlist_a\u001b[0m\u001b[0;34m[\u001b[0m\u001b[0;36m3\u001b[0m\u001b[0;34m]\u001b[0m \u001b[0;31m#길이를 넘는 요소에 접근\u001b[0m\u001b[0;34m\u001b[0m\u001b[0;34m\u001b[0m\u001b[0m\n\u001b[0m",
            "\u001b[0;31mIndexError\u001b[0m: list index out of range"
          ]
        }
      ]
    },
    {
      "cell_type": "markdown",
      "metadata": {
        "id": "XJ0eJ60HbQmX"
      },
      "source": [
        "**리스트 연산자: 연결(+), 반복(*), len() - 비파괴적**"
      ]
    },
    {
      "cell_type": "code",
      "metadata": {
        "colab": {
          "base_uri": "https://localhost:8080/"
        },
        "id": "EwHuaF8jbPMH",
        "outputId": "cc6b243b-b32a-442d-c4d5-afa2a5dab28f"
      },
      "source": [
        "list_a = [1, 2, 3]\n",
        "list_b = [4, 5, 6]\n",
        "\n",
        "print(\"list_a + list_b = \", list_a + list_b)\n",
        "print(\"list_a * 3 = \", list_a * 3)\n",
        "print(\"len(list_a) = \", len(list_a))  #len()은 문자열의 글자 수를 세어주므로 숫자를 넣을 땐 len(str())해줘야함."
      ],
      "execution_count": null,
      "outputs": [
        {
          "output_type": "stream",
          "text": [
            "list_a + list_b =  [1, 2, 3, 4, 5, 6]\n",
            "list_a * 3 =  [1, 2, 3, 1, 2, 3, 1, 2, 3]\n",
            "len(list_a) =  3\n"
          ],
          "name": "stdout"
        }
      ]
    },
    {
      "cell_type": "markdown",
      "metadata": {
        "id": "QXBWuUNbctOd"
      },
      "source": [
        "**리스트에 요소 추가하기: append, insert, extend - 파괴적**  \n",
        "리스트명.append(요소): 리스트 뒤에 요소 추가  \n",
        "리스트명.insert(위치, 요소): 리스트 중간에 요소 추가\n",
        "리스트명.extend([]): 리스트 뒤에 한 번에 여러 요소 추가"
      ]
    },
    {
      "cell_type": "code",
      "metadata": {
        "colab": {
          "base_uri": "https://localhost:8080/"
        },
        "id": "csBIPNbqcjqs",
        "outputId": "9e60555d-e7e5-45c9-c6e5-5e666e249960"
      },
      "source": [
        "list_a = [1, 2, 3]\n",
        "list_a.append(6)\n",
        "list_a.insert(3, 5)\n",
        "list_a"
      ],
      "execution_count": null,
      "outputs": [
        {
          "output_type": "execute_result",
          "data": {
            "text/plain": [
              "[1, 2, 3, 5, 6]"
            ]
          },
          "metadata": {
            "tags": []
          },
          "execution_count": 40
        }
      ]
    },
    {
      "cell_type": "code",
      "metadata": {
        "colab": {
          "base_uri": "https://localhost:8080/"
        },
        "id": "HRu7LLA7dEk5",
        "outputId": "84f00099-b8eb-4fc9-da8d-bd27e52f72e4"
      },
      "source": [
        "list_a = [1, 2, 3]\n",
        "list_a.extend([4, 5, 6])\n",
        "list_a"
      ],
      "execution_count": null,
      "outputs": [
        {
          "output_type": "execute_result",
          "data": {
            "text/plain": [
              "[1, 2, 3, 4, 5, 6]"
            ]
          },
          "metadata": {
            "tags": []
          },
          "execution_count": 41
        }
      ]
    },
    {
      "cell_type": "markdown",
      "metadata": {
        "id": "R7NhtCZedqI7"
      },
      "source": [
        "**리스트에 요소 제거하기**  \n",
        "1. 인덱스로 제거하기: del, pop (del키워드는 범위 지정가능/ 마지막 요소포함xx!)  \n",
        "del 리스트명[인덱스]  \n",
        "리스트명.pop(인덱스)  \n",
        "2. 값으로 제거하기: remove  \n",
        "3. 모두 제거하기: clear"
      ]
    },
    {
      "cell_type": "code",
      "metadata": {
        "colab": {
          "base_uri": "https://localhost:8080/"
        },
        "id": "3I-Dzc9GdoZk",
        "outputId": "a03fa79a-4d2f-4344-8121-84aae713b4da"
      },
      "source": [
        "list_a = [0, 1, 2, 3, 4, 5]\n",
        "del list_a[2]\n",
        "list_a.pop(2)\n",
        "list_a"
      ],
      "execution_count": null,
      "outputs": [
        {
          "output_type": "execute_result",
          "data": {
            "text/plain": [
              "[0, 1, 4, 5]"
            ]
          },
          "metadata": {
            "tags": []
          },
          "execution_count": 44
        }
      ]
    },
    {
      "cell_type": "code",
      "metadata": {
        "colab": {
          "base_uri": "https://localhost:8080/"
        },
        "id": "7WuZQ2sOea_W",
        "outputId": "7012cbb5-2eeb-40e2-e5a3-77c6dd655148"
      },
      "source": [
        "list_b = [0, 1, 2, 3, 4]\n",
        "del list_b[2:4] #마지막 4번째 요소 포함 X\n",
        "list_b"
      ],
      "execution_count": null,
      "outputs": [
        {
          "output_type": "execute_result",
          "data": {
            "text/plain": [
              "[0, 1, 4]"
            ]
          },
          "metadata": {
            "tags": []
          },
          "execution_count": 46
        }
      ]
    },
    {
      "cell_type": "code",
      "metadata": {
        "colab": {
          "base_uri": "https://localhost:8080/"
        },
        "id": "xkAvrghEeyaR",
        "outputId": "3ce02832-cfa2-47af-e5a3-4e2af1e680d6"
      },
      "source": [
        "list_b = [0, 1, 2, 3, 4]\n",
        "del list_b[2:]\n",
        "list_b"
      ],
      "execution_count": null,
      "outputs": [
        {
          "output_type": "execute_result",
          "data": {
            "text/plain": [
              "[0, 1]"
            ]
          },
          "metadata": {
            "tags": []
          },
          "execution_count": 47
        }
      ]
    },
    {
      "cell_type": "code",
      "metadata": {
        "colab": {
          "base_uri": "https://localhost:8080/"
        },
        "id": "1hbKfSpBe5j0",
        "outputId": "9fcc3735-bb86-4fe5-d2e3-c9774d589ea7"
      },
      "source": [
        "list_b = [0, 1, 2, 3, 4]\n",
        "del list_b[:2] #마지막 2번째 요소 포함 X\n",
        "list_b"
      ],
      "execution_count": null,
      "outputs": [
        {
          "output_type": "execute_result",
          "data": {
            "text/plain": [
              "[2, 3, 4]"
            ]
          },
          "metadata": {
            "tags": []
          },
          "execution_count": 48
        }
      ]
    },
    {
      "cell_type": "code",
      "metadata": {
        "colab": {
          "base_uri": "https://localhost:8080/"
        },
        "id": "coNWOPH9e8JP",
        "outputId": "c79e3159-72e7-4307-f23d-64a08040ea32"
      },
      "source": [
        "#remove()함수 : 리스트 내부에 여러 개 있어도 가장 먼저 발견되는 하나만 제거!\n",
        "list_c = [1, 2, 1, 2]\n",
        "list_c.remove(2)\n",
        "list_c"
      ],
      "execution_count": null,
      "outputs": [
        {
          "output_type": "execute_result",
          "data": {
            "text/plain": [
              "[1, 1, 2]"
            ]
          },
          "metadata": {
            "tags": []
          },
          "execution_count": 49
        }
      ]
    },
    {
      "cell_type": "code",
      "metadata": {
        "colab": {
          "base_uri": "https://localhost:8080/"
        },
        "id": "4zt9mzXmfJD2",
        "outputId": "631c77b1-7cdd-43c1-b8fc-2c9f06d0a614"
      },
      "source": [
        "list_c.clear()\n",
        "list_c"
      ],
      "execution_count": null,
      "outputs": [
        {
          "output_type": "execute_result",
          "data": {
            "text/plain": [
              "[]"
            ]
          },
          "metadata": {
            "tags": []
          },
          "execution_count": 50
        }
      ]
    },
    {
      "cell_type": "markdown",
      "metadata": {
        "id": "7mOW53yCfOhd"
      },
      "source": [
        "**리스트 내부에 있는지 확인하기: in/ not in 연산자**: 값 (not)in 리스트"
      ]
    },
    {
      "cell_type": "code",
      "metadata": {
        "colab": {
          "base_uri": "https://localhost:8080/"
        },
        "id": "Jd0DfwgTfM3d",
        "outputId": "9ef4b06f-0566-4801-aad4-fe409b0cb7f5"
      },
      "source": [
        "list_a = [273, 32, 103, 5, 52]\n",
        "273 in list_a"
      ],
      "execution_count": null,
      "outputs": [
        {
          "output_type": "execute_result",
          "data": {
            "text/plain": [
              "True"
            ]
          },
          "metadata": {
            "tags": []
          },
          "execution_count": 52
        }
      ]
    },
    {
      "cell_type": "code",
      "metadata": {
        "colab": {
          "base_uri": "https://localhost:8080/"
        },
        "id": "1BZmQ46Shn3u",
        "outputId": "46848565-123f-43c9-e8e1-e3766d8bec1f"
      },
      "source": [
        "32 not in list_a"
      ],
      "execution_count": null,
      "outputs": [
        {
          "output_type": "execute_result",
          "data": {
            "text/plain": [
              "False"
            ]
          },
          "metadata": {
            "tags": []
          },
          "execution_count": 53
        }
      ]
    },
    {
      "cell_type": "markdown",
      "metadata": {
        "id": "F6fF4fAYhvvA"
      },
      "source": [
        "**for 반복문: 리스트와 함께 사용하기**  \n",
        "for 반복자 in 반복할 수 있는 것: ( : 빼먹지 말기!)"
      ]
    },
    {
      "cell_type": "code",
      "metadata": {
        "colab": {
          "base_uri": "https://localhost:8080/"
        },
        "id": "MqKYd-DDhqej",
        "outputId": "1c7f9866-2111-4976-c200-073867afe053"
      },
      "source": [
        "array = [273, 32, 103, 57, 52]\n",
        "for element in array:\n",
        "  print(element)"
      ],
      "execution_count": null,
      "outputs": [
        {
          "output_type": "stream",
          "text": [
            "273\n",
            "32\n",
            "103\n",
            "57\n",
            "52\n"
          ],
          "name": "stdout"
        }
      ]
    },
    {
      "cell_type": "code",
      "metadata": {
        "colab": {
          "base_uri": "https://localhost:8080/"
        },
        "id": "dyMtc4nfis2c",
        "outputId": "69048f0a-11c0-4bb6-98ab-baca7324749b"
      },
      "source": [
        "list_of_list = [\n",
        "                [1, 2, 3],\n",
        "                [4, 5, 6, 7],\n",
        "                [8, 9]\n",
        "]\n",
        "\n",
        "for element in list_of_list:\n",
        "  for item in element:\n",
        "    print(item)"
      ],
      "execution_count": null,
      "outputs": [
        {
          "output_type": "stream",
          "text": [
            "1\n",
            "2\n",
            "3\n",
            "4\n",
            "5\n",
            "6\n",
            "7\n",
            "8\n",
            "9\n"
          ],
          "name": "stdout"
        }
      ]
    },
    {
      "cell_type": "markdown",
      "metadata": {
        "id": "uexVTMIPiQ6R"
      },
      "source": [
        "# 4-2. 딕셔너리와 반복문"
      ]
    },
    {
      "cell_type": "markdown",
      "metadata": {
        "id": "Dc01TK55iUCQ"
      },
      "source": [
        "**딕셔너리**: 키를 기반으로 값을 저장하는 것 (VS. 리스트: 인덱스를 기반으로 값을 저장하는 것)  \n",
        "**딕셔너리 선언하기**:중괄호{}로 선언하며, '키: 값'형태를 쉼표(,)로 연결  \n",
        "**딕셔너리 요소에 접근하기**: 요소 접근시 대괄호[] 사용!!\n",
        "**NameError**: 딕셔너리 만들 때 따옴표 없이 키 정의."
      ]
    },
    {
      "cell_type": "code",
      "metadata": {
        "colab": {
          "base_uri": "https://localhost:8080/"
        },
        "id": "rH1BRqq2iDzN",
        "outputId": "74962755-c333-4dad-ad14-a4ed73edcb46"
      },
      "source": [
        "# 딕셔너리 선언하기\n",
        "dict_a = {\n",
        "    \"name\": \"건조망고\",\n",
        "    \"type\": \"당절임\",\n",
        "    \"ingredient\": [\"망고\", \"설탕\", \"색소\"],\n",
        "    \"origin\": \"필리핀\"\n",
        "}\n",
        "# 딕셔너리 요소에 접근\n",
        "print(\"name: \", dict_a[\"name\"])\n",
        "print(\"두 번째 ingredient: \", dict_a[\"ingredient\"][1])"
      ],
      "execution_count": null,
      "outputs": [
        {
          "output_type": "stream",
          "text": [
            "name:  건조망고\n",
            "두 번째 ingredient:  설탕\n"
          ],
          "name": "stdout"
        }
      ]
    },
    {
      "cell_type": "code",
      "metadata": {
        "colab": {
          "base_uri": "https://localhost:8080/"
        },
        "id": "3IC4etwEkXBN",
        "outputId": "cc0d4edb-08d3-466a-9171-7c3877f0fbb2"
      },
      "source": [
        "# 값을 변경\n",
        "dict_a[\"name\"] = \"건조귤\"\n",
        "dict_a"
      ],
      "execution_count": null,
      "outputs": [
        {
          "output_type": "execute_result",
          "data": {
            "text/plain": [
              "{'ingredient': ['망고', '설탕', '색소'],\n",
              " 'name': '건조귤',\n",
              " 'origin': '필리핀',\n",
              " 'type': '당절임'}"
            ]
          },
          "metadata": {
            "tags": []
          },
          "execution_count": 63
        }
      ]
    },
    {
      "cell_type": "code",
      "metadata": {
        "colab": {
          "base_uri": "https://localhost:8080/",
          "height": 241
        },
        "id": "yQ1ZlnvNlZgB",
        "outputId": "00d443ea-4374-4405-99de-4b3f4fb44e00"
      },
      "source": [
        "# Name Error\n",
        "dict_key = {\n",
        "    name: \"건조망고\",\n",
        "    \"type\": \"당절임\"\n",
        "}"
      ],
      "execution_count": null,
      "outputs": [
        {
          "output_type": "error",
          "ename": "NameError",
          "evalue": "ignored",
          "traceback": [
            "\u001b[0;31m---------------------------------------------------------------------------\u001b[0m",
            "\u001b[0;31mNameError\u001b[0m                                 Traceback (most recent call last)",
            "\u001b[0;32m<ipython-input-64-eb7d73bf1257>\u001b[0m in \u001b[0;36m<module>\u001b[0;34m()\u001b[0m\n\u001b[1;32m      1\u001b[0m \u001b[0;31m# Name Error\u001b[0m\u001b[0;34m\u001b[0m\u001b[0;34m\u001b[0m\u001b[0;34m\u001b[0m\u001b[0m\n\u001b[1;32m      2\u001b[0m dict_key = {\n\u001b[0;32m----> 3\u001b[0;31m     \u001b[0mname\u001b[0m\u001b[0;34m:\u001b[0m \u001b[0;34m\"건조망고\"\u001b[0m\u001b[0;34m,\u001b[0m\u001b[0;34m\u001b[0m\u001b[0;34m\u001b[0m\u001b[0m\n\u001b[0m\u001b[1;32m      4\u001b[0m     \u001b[0;34m\"type\"\u001b[0m\u001b[0;34m:\u001b[0m \u001b[0;34m\"당절임\"\u001b[0m\u001b[0;34m\u001b[0m\u001b[0;34m\u001b[0m\u001b[0m\n\u001b[1;32m      5\u001b[0m }\n",
            "\u001b[0;31mNameError\u001b[0m: name 'name' is not defined"
          ]
        }
      ]
    },
    {
      "cell_type": "markdown",
      "metadata": {
        "id": "qVX7wb2RlmuB"
      },
      "source": [
        "**딕셔너리에 값 추가하기/ 제거하기**  \n",
        "추가 -> 딕셔너리[새로운 키] = 새로운 값  \n",
        "제거 -> del 딕셔너리[삭제할 키]"
      ]
    },
    {
      "cell_type": "code",
      "metadata": {
        "colab": {
          "base_uri": "https://localhost:8080/"
        },
        "id": "NnHf8dtBlkuI",
        "outputId": "baa26938-4bff-4798-d3d1-45d4de16a38c"
      },
      "source": [
        "dict_a = {\n",
        "    \"name\": \"건조망고\",\n",
        "    \"type\": \"당절임\",\n",
        "    \"ingredient\": [\"망고\", \"설탕\", \"색소\"],\n",
        "    \"origin\": \"필리핀\"\n",
        "}\n",
        "dict_a[\"price\"]= 4000\n",
        "dict_a"
      ],
      "execution_count": null,
      "outputs": [
        {
          "output_type": "execute_result",
          "data": {
            "text/plain": [
              "{'ingredient': ['망고', '설탕', '색소'],\n",
              " 'name': '건조망고',\n",
              " 'origin': '필리핀',\n",
              " 'price': 4000,\n",
              " 'type': '당절임'}"
            ]
          },
          "metadata": {
            "tags": []
          },
          "execution_count": 66
        }
      ]
    },
    {
      "cell_type": "code",
      "metadata": {
        "colab": {
          "base_uri": "https://localhost:8080/"
        },
        "id": "uov4gU8en56s",
        "outputId": "604fd8b8-ae2c-4bdf-ba4b-5170d16edbf1"
      },
      "source": [
        "del dict_a[\"origin\"]\n",
        "dict_a"
      ],
      "execution_count": null,
      "outputs": [
        {
          "output_type": "execute_result",
          "data": {
            "text/plain": [
              "{'ingredient': ['망고', '설탕', '색소'],\n",
              " 'name': '건조망고',\n",
              " 'price': 4000,\n",
              " 'type': '당절임'}"
            ]
          },
          "metadata": {
            "tags": []
          },
          "execution_count": 67
        }
      ]
    },
    {
      "cell_type": "markdown",
      "metadata": {
        "id": "J1hRS6qqoQG4"
      },
      "source": [
        "**KeyError**: 딕셔너리의 존재하지 않는 키에 접근시 발생  (VS. 리스트는 IndexError)"
      ]
    },
    {
      "cell_type": "code",
      "metadata": {
        "colab": {
          "base_uri": "https://localhost:8080/",
          "height": 187
        },
        "id": "e19zA3LBoGkE",
        "outputId": "e79c8d51-4071-4fee-8b5d-489b2a1eb08d"
      },
      "source": [
        "dictionart = {}\n",
        "dictionart[\"key\"]"
      ],
      "execution_count": null,
      "outputs": [
        {
          "output_type": "error",
          "ename": "KeyError",
          "evalue": "ignored",
          "traceback": [
            "\u001b[0;31m---------------------------------------------------------------------------\u001b[0m",
            "\u001b[0;31mKeyError\u001b[0m                                  Traceback (most recent call last)",
            "\u001b[0;32m<ipython-input-68-e1d127395b93>\u001b[0m in \u001b[0;36m<module>\u001b[0;34m()\u001b[0m\n\u001b[1;32m      1\u001b[0m \u001b[0mdictionart\u001b[0m \u001b[0;34m=\u001b[0m \u001b[0;34m{\u001b[0m\u001b[0;34m}\u001b[0m\u001b[0;34m\u001b[0m\u001b[0;34m\u001b[0m\u001b[0m\n\u001b[0;32m----> 2\u001b[0;31m \u001b[0mdictionart\u001b[0m\u001b[0;34m[\u001b[0m\u001b[0;34m\"key\"\u001b[0m\u001b[0;34m]\u001b[0m\u001b[0;34m\u001b[0m\u001b[0;34m\u001b[0m\u001b[0m\n\u001b[0m",
            "\u001b[0;31mKeyError\u001b[0m: 'key'"
          ]
        }
      ]
    },
    {
      "cell_type": "markdown",
      "metadata": {
        "id": "uuVDTMZ2ogvu"
      },
      "source": [
        "**딕셔너리 내부에 키가 있는지 확인하기**  \n",
        "* in 키워드\n",
        "*get() 함수 - 존재하지 않는 키에 접근할 경우 KeyError를 발생시키지 않고 None을 출력"
      ]
    },
    {
      "cell_type": "code",
      "metadata": {
        "colab": {
          "base_uri": "https://localhost:8080/"
        },
        "id": "6Nu81-s0oaL0",
        "outputId": "fec2850d-5b11-45be-854f-68a7d05d8d13"
      },
      "source": [
        "# in 키워드\n",
        "dict_a = {\n",
        "    \"name\": \"건조망고\",\n",
        "    \"type\": \"당절임\",\n",
        "    \"ingredient\": [\"망고\", \"설탕\", \"색소\"],\n",
        "    \"origin\": \"필리핀\"\n",
        "}\n",
        "key = input(\"접근하고자 하는 키: \")\n",
        "\n",
        "if key in dict_a:\n",
        "  print(dict_a[key])\n",
        "else:\n",
        "  print(\"존재하지 않는 키\")"
      ],
      "execution_count": null,
      "outputs": [
        {
          "output_type": "stream",
          "text": [
            "접근하고자 하는 키: ingredient\n",
            "['망고', '설탕', '색소']\n"
          ],
          "name": "stdout"
        }
      ]
    },
    {
      "cell_type": "code",
      "metadata": {
        "colab": {
          "base_uri": "https://localhost:8080/"
        },
        "id": "PzyQEJMUo8z1",
        "outputId": "3c066490-7c99-4d19-8deb-1d39b3e06faf"
      },
      "source": [
        "# get() 함수\n",
        "dict_a = {\n",
        "    \"name\": \"건조망고\",\n",
        "    \"type\": \"당절임\",\n",
        "    \"ingredient\": [\"망고\", \"설탕\", \"색소\"],\n",
        "    \"origin\": \"필리핀\"\n",
        "}\n",
        "value = dict_a.get(\"price\")\n",
        "print(\"값: \", value)\n",
        "\n",
        "if value == None:\n",
        "  print(\"존재하지 않는 키\")"
      ],
      "execution_count": null,
      "outputs": [
        {
          "output_type": "stream",
          "text": [
            "값:  None\n",
            "존재하지 않는 키\n"
          ],
          "name": "stdout"
        }
      ]
    },
    {
      "cell_type": "markdown",
      "metadata": {
        "id": "LGbU0FZupkRM"
      },
      "source": [
        "**for 반복문: 딕서녀리와 함께 사용하기**  \n",
        "for 키 변수 in 딕셔너리:"
      ]
    },
    {
      "cell_type": "code",
      "metadata": {
        "colab": {
          "base_uri": "https://localhost:8080/"
        },
        "id": "U7C1IKdspWll",
        "outputId": "14a343ac-5ec0-44f1-8d36-50c40b856357"
      },
      "source": [
        "dict_a = {\n",
        "    \"name\": \"건조망고\",\n",
        "    \"type\": \"당절임\",\n",
        "    \"ingredient\": [\"망고\", \"설탕\", \"색소\"],\n",
        "    \"origin\": \"필리핀\"\n",
        "}\n",
        "\n",
        "for key in dict_a:\n",
        "  print(key, \":\", dict_a[key])"
      ],
      "execution_count": null,
      "outputs": [
        {
          "output_type": "stream",
          "text": [
            "name : 건조망고\n",
            "type : 당절임\n",
            "ingredient : ['망고', '설탕', '색소']\n",
            "origin : 필리핀\n"
          ],
          "name": "stdout"
        }
      ]
    },
    {
      "cell_type": "markdown",
      "metadata": {
        "id": "3jAKYjZQp79c"
      },
      "source": [
        "# 4-3. 반복문과 while 반복문"
      ]
    },
    {
      "cell_type": "markdown",
      "metadata": {
        "id": "hNfD7MXPsQ-2"
      },
      "source": [
        "**범위(for반복문과 함께 많이 사용)** : 매개변수는 항상 정수   \n",
        "range(A): 0 ~ A-1의 정수 범위  \n",
        "range(A, B): A ~ B-1의 정수 범위  \n",
        "range(A, B, C): A ~ B-1의 정수 범위를 C만큼 차이 나도록  \n",
        "** A > B 일 경우 A ~ B+1의 정수범위\n",
        "\n"
      ]
    },
    {
      "cell_type": "code",
      "metadata": {
        "colab": {
          "base_uri": "https://localhost:8080/"
        },
        "id": "dNKPAyHgpyY5",
        "outputId": "223a8354-affe-47ec-b568-9facce9fccbe"
      },
      "source": [
        "list(range(5))"
      ],
      "execution_count": null,
      "outputs": [
        {
          "output_type": "execute_result",
          "data": {
            "text/plain": [
              "[0, 1, 2, 3, 4]"
            ]
          },
          "metadata": {
            "tags": []
          },
          "execution_count": 75
        }
      ]
    },
    {
      "cell_type": "code",
      "metadata": {
        "id": "i22ZsXmfT_Xg"
      },
      "source": [],
      "execution_count": null,
      "outputs": []
    },
    {
      "cell_type": "code",
      "metadata": {
        "colab": {
          "base_uri": "https://localhost:8080/"
        },
        "id": "t1rgoYdhvqbr",
        "outputId": "2993d639-c760-44b0-d77c-802ced3c3157"
      },
      "source": [
        "list(range(1, 6))"
      ],
      "execution_count": null,
      "outputs": [
        {
          "output_type": "execute_result",
          "data": {
            "text/plain": [
              "[1, 2, 3, 4, 5]"
            ]
          },
          "metadata": {
            "tags": []
          },
          "execution_count": 76
        }
      ]
    },
    {
      "cell_type": "code",
      "metadata": {
        "colab": {
          "base_uri": "https://localhost:8080/"
        },
        "id": "PNKx4-iavtqY",
        "outputId": "4a8c166a-81b2-45ca-e6f9-5527397fcd12"
      },
      "source": [
        "list(range(0, 10, 3))"
      ],
      "execution_count": null,
      "outputs": [
        {
          "output_type": "execute_result",
          "data": {
            "text/plain": [
              "[0, 3, 6, 9]"
            ]
          },
          "metadata": {
            "tags": []
          },
          "execution_count": 4
        }
      ]
    },
    {
      "cell_type": "code",
      "metadata": {
        "colab": {
          "base_uri": "https://localhost:8080/"
        },
        "id": "aQgCTxv9TuCW",
        "outputId": "09dba60e-e764-4213-c834-28b4f0439442"
      },
      "source": [
        "list(range(9, 2, -1))"
      ],
      "execution_count": null,
      "outputs": [
        {
          "output_type": "execute_result",
          "data": {
            "text/plain": [
              "[9, 8, 7, 6, 5, 4, 3]"
            ]
          },
          "metadata": {
            "tags": []
          },
          "execution_count": 13
        }
      ]
    },
    {
      "cell_type": "markdown",
      "metadata": {
        "id": "8bWk_70Tvxrc"
      },
      "source": [
        "매개변수로 나눗셈 사용시 결과가 실수이므로 오류 발생!\n",
        "\n",
        "\n",
        "```\n",
        "n = 10\n",
        "a = range(0, n / 2) -> TypeError\n",
        "a = range(0, n // 2) -> 정상 작동\n",
        "```\n",
        "\n",
        "\n",
        "n/2(나눗셈)대신 n//2(정수 나누기 연산자) 사용!"
      ]
    },
    {
      "cell_type": "markdown",
      "metadata": {
        "id": "tl9iwyt0wT3w"
      },
      "source": [
        "**for 반복문: 범위와 함께 사용하기**  \n",
        "for 숫자 변수 in 범위:"
      ]
    },
    {
      "cell_type": "code",
      "metadata": {
        "colab": {
          "base_uri": "https://localhost:8080/"
        },
        "id": "T7vJT4fPvwDO",
        "outputId": "d14b216d-3ae0-4421-a782-bbe35791fe6e"
      },
      "source": [
        "for i in range(0, 10, 3):\n",
        "  print(str(i) + \" = 반복 변수\")"
      ],
      "execution_count": null,
      "outputs": [
        {
          "output_type": "stream",
          "text": [
            "0 = 반복 변수\n",
            "3 = 반복 변수\n",
            "6 = 반복 변수\n",
            "9 = 반복 변수\n"
          ],
          "name": "stdout"
        }
      ]
    },
    {
      "cell_type": "markdown",
      "metadata": {
        "id": "gJ_vlk_7wq2j"
      },
      "source": [
        "**for 반복문: 리스트와 범위 조합하기**"
      ]
    },
    {
      "cell_type": "code",
      "metadata": {
        "colab": {
          "base_uri": "https://localhost:8080/"
        },
        "id": "EWZsiIZPwnUC",
        "outputId": "3f773133-a835-458d-f12b-a658b297d604"
      },
      "source": [
        "array = [273, 32, 103, 57, 52]\n",
        "for i in range(len(array)):\n",
        "  print(\"{}번째 반복: {}\".format(i, array[i]))"
      ],
      "execution_count": null,
      "outputs": [
        {
          "output_type": "stream",
          "text": [
            "0번째 반복: 273\n",
            "1번째 반복: 32\n",
            "2번째 반복: 103\n",
            "3번째 반복: 57\n",
            "4번째 반복: 52\n"
          ],
          "name": "stdout"
        }
      ]
    },
    {
      "cell_type": "markdown",
      "metadata": {
        "id": "wcAOqsjmyooB"
      },
      "source": [
        "**for 반복문: 반대(큰 수 -> 작은 수)로 반복하기**\n",
        "1. range() 함수의 매개변수를 세 개 사용\n",
        "2. reversed() 함수 사용"
      ]
    },
    {
      "cell_type": "code",
      "metadata": {
        "colab": {
          "base_uri": "https://localhost:8080/"
        },
        "id": "pxYK1_ccyYI5",
        "outputId": "05adde43-dbbb-42ae-d242-7c09588eff94"
      },
      "source": [
        "# range() 이용\n",
        "for i in range(4, -1, -1):\n",
        "  print(\"현재 반복 변수: {}\".format(i))"
      ],
      "execution_count": null,
      "outputs": [
        {
          "output_type": "stream",
          "text": [
            "현재 반복 변수: 4\n",
            "현재 반복 변수: 3\n",
            "현재 반복 변수: 2\n",
            "현재 반복 변수: 1\n",
            "현재 반복 변수: 0\n"
          ],
          "name": "stdout"
        }
      ]
    },
    {
      "cell_type": "code",
      "metadata": {
        "colab": {
          "base_uri": "https://localhost:8080/"
        },
        "id": "vEOdlEP8zWGQ",
        "outputId": "0146bbbe-7cf5-4337-9779-dc63c02ff3ea"
      },
      "source": [
        "for i in reversed(range(5)):\n",
        "  print(\"현재 반복 변수: {}\".format(i))"
      ],
      "execution_count": null,
      "outputs": [
        {
          "output_type": "stream",
          "text": [
            "현재 반복 변수: 4\n",
            "현재 반복 변수: 3\n",
            "현재 반복 변수: 2\n",
            "현재 반복 변수: 1\n",
            "현재 반복 변수: 0\n"
          ],
          "name": "stdout"
        }
      ]
    },
    {
      "cell_type": "markdown",
      "metadata": {
        "id": "Avu9KLcvzhKs"
      },
      "source": [
        "**while 반복문**: 조건(불 표현식)이 참인 동안 반복 실행  \n",
        "while 불 표현식:  \n",
        "      문장  "
      ]
    },
    {
      "cell_type": "markdown",
      "metadata": {
        "id": "mVJxu03Yz1iU"
      },
      "source": [
        "**while 반복문: for 반복문처럼 사용하기**"
      ]
    },
    {
      "cell_type": "code",
      "metadata": {
        "colab": {
          "base_uri": "https://localhost:8080/"
        },
        "id": "jQBFcoT7zfGK",
        "outputId": "17eaac11-ded8-4f59-8c62-975ee05e36a8"
      },
      "source": [
        "i = 0\n",
        "while i < 5:\n",
        "  print(\"{}번째 반복\".format(i))\n",
        "  i += 1"
      ],
      "execution_count": null,
      "outputs": [
        {
          "output_type": "stream",
          "text": [
            "0번째 반복\n",
            "1번째 반복\n",
            "2번째 반복\n",
            "3번째 반복\n",
            "4번째 반복\n"
          ],
          "name": "stdout"
        }
      ]
    },
    {
      "cell_type": "markdown",
      "metadata": {
        "id": "JhO9uCeZ0UZ9"
      },
      "source": [
        "**while 반복문: 상태를 기반으로 반복하기**"
      ]
    },
    {
      "cell_type": "code",
      "metadata": {
        "colab": {
          "base_uri": "https://localhost:8080/"
        },
        "id": "jzRcl4-n0DhS",
        "outputId": "65ab515d-c793-4058-f54e-d7e13e9862be"
      },
      "source": [
        "list_a = [1, 2, 1, 2]\n",
        "value = 2\n",
        "\n",
        "while value in list_a:\n",
        "  list_a.remove(value)\n",
        "\n",
        "print(list_a)"
      ],
      "execution_count": null,
      "outputs": [
        {
          "output_type": "stream",
          "text": [
            "[1, 1]\n"
          ],
          "name": "stdout"
        }
      ]
    },
    {
      "cell_type": "markdown",
      "metadata": {
        "id": "_vRDNTf30rOm"
      },
      "source": [
        "**while 반복문: 시간을 기반으로 반복하기**"
      ]
    },
    {
      "cell_type": "code",
      "metadata": {
        "colab": {
          "base_uri": "https://localhost:8080/"
        },
        "id": "GaafZcIx0qF9",
        "outputId": "52197b3e-359b-4415-c14f-fa5ebfdeb461"
      },
      "source": [
        "import time # 시간 관련 기능 가져오기\n",
        "            #time.time() 유닉스 타임: 1970.01.01.0시0분0초 기준 몇 초가 지났는가.\n",
        "number = 0\n",
        "target_tick = time.time() + 5\n",
        "while time.time() < target_tick:\n",
        "  number += 1\n",
        "\n",
        "print(\"5초 동안 {}번 반복\".format(number))"
      ],
      "execution_count": null,
      "outputs": [
        {
          "output_type": "stream",
          "text": [
            "5초 동안 22500145번 반복\n"
          ],
          "name": "stdout"
        }
      ]
    },
    {
      "cell_type": "markdown",
      "metadata": {
        "id": "45Np0XcY1YU3"
      },
      "source": [
        "**while 반복문: break 키워드/ continue 키워드**  \n",
        "break 키워드: 반복문을 벗어날 때 사용  \n",
        "continue 키워드: 현재 반복을 생략하고, 다음 반복으로 넘어갈 때 사용"
      ]
    },
    {
      "cell_type": "code",
      "metadata": {
        "colab": {
          "base_uri": "https://localhost:8080/"
        },
        "id": "RH5fag0O1V1F",
        "outputId": "8ae823c4-30d5-46f1-9843-febda7d2b79e"
      },
      "source": [
        "# break 키워드\n",
        "i = 0\n",
        "\n",
        "while True:\n",
        "  print(\"{}번째 반복문\".format(i))\n",
        "  i = i + 1\n",
        "\n",
        "  input_text = input(\">종료하시겠습니까?(y): \")\n",
        "  if input_text in [\"y\", \"Y\"]:\n",
        "    print(\"반복 종료\")\n",
        "    break                                  # y or Y 일시 while반복문 벗어남"
      ],
      "execution_count": null,
      "outputs": [
        {
          "output_type": "stream",
          "text": [
            "0번째 반복문\n",
            ">종료하시겠습니까?(y): n\n",
            "1번째 반복문\n",
            ">종료하시겠습니까?(y): n\n",
            "2번째 반복문\n",
            ">종료하시겠습니까?(y): y\n",
            "반복 종료\n"
          ],
          "name": "stdout"
        }
      ]
    },
    {
      "cell_type": "code",
      "metadata": {
        "colab": {
          "base_uri": "https://localhost:8080/"
        },
        "id": "pVL2msl82bvO",
        "outputId": "7c462fb5-9e2b-4f78-9e6c-dd489fa1a6ff"
      },
      "source": [
        "numbers = [5, 15, 6, 20, 7, 25]\n",
        "\n",
        "for number in numbers:\n",
        "  if number < 10:\n",
        "    continue              # number < 10 이면 아래의 반복문은 행하지 않고 다음 반복 실행\n",
        "  print(number)"
      ],
      "execution_count": null,
      "outputs": [
        {
          "output_type": "stream",
          "text": [
            "15\n",
            "20\n",
            "25\n"
          ],
          "name": "stdout"
        }
      ]
    },
    {
      "cell_type": "code",
      "metadata": {
        "id": "djEXu25eG87m"
      },
      "source": [],
      "execution_count": null,
      "outputs": []
    }
  ]
}