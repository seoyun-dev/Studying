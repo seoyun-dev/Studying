{
  "nbformat": 4,
  "nbformat_minor": 0,
  "metadata": {
    "colab": {
      "provenance": [],
      "toc_visible": true
    },
    "kernelspec": {
      "name": "python3",
      "display_name": "Python 3"
    },
    "language_info": {
      "name": "python"
    }
  },
  "cells": [
    {
      "cell_type": "markdown",
      "metadata": {
        "id": "xaaff2gYUlT4"
      },
      "source": [
        "#Chapter 5. 함수"
      ]
    },
    {
      "cell_type": "markdown",
      "metadata": {
        "id": "-39bnedQUqfA"
      },
      "source": [
        "#5-2. 함수의 활용"
      ]
    },
    {
      "cell_type": "markdown",
      "metadata": {
        "id": "B12zy5AKaRR8"
      },
      "source": [
        "**재귀함수**: 자기 자신을 호출하는 함수  \n"
      ]
    },
    {
      "cell_type": "markdown",
      "metadata": {
        "id": "gUlXIuFkZq16"
      },
      "source": [
        "**global 키위드**: 함수 내부에서 함수 외부에 있는 변수를 참조하기 위한 것  \n",
        "global 키워드가 있어야 하는 곳에 존재하지 않으면 -> **UnboundLocalError**발생!"
      ]
    },
    {
      "cell_type": "code",
      "metadata": {
        "colab": {
          "base_uri": "https://localhost:8080/"
        },
        "id": "5qjdBXLWUdIt",
        "outputId": "69b593fc-4d71-4446-e390-3d3283b93d9f"
      },
      "source": [
        "# 재귀 함수로 구현한 피보나치 수열\n",
        "counter = 0\n",
        "\n",
        "def fibonacci(n):\n",
        "  print(\"fibonacci({})를 구합니다.\".format(n))\n",
        "  #global counter 에서 global을 없앤다면?! -> UnboundLocalError\n",
        "  global counter\n",
        "  counter += 1\n",
        "\n",
        "  if n == 1:\n",
        "    return 1\n",
        "  elif n == 2:\n",
        "    return 1\n",
        "  else:\n",
        "    return fibonacci(n-1) + fibonacci(n-2)\n",
        "\n",
        "fibonacci(10)\n",
        "print(\"---\")\n",
        "print(\"fibonacci(10) 계산에 활용된 덧셈 횟수는 {}번 입니다.\".format(counter))"
      ],
      "execution_count": null,
      "outputs": [
        {
          "output_type": "stream",
          "text": [
            "fibonacci(10)를 구합니다.\n",
            "fibonacci(9)를 구합니다.\n",
            "fibonacci(8)를 구합니다.\n",
            "fibonacci(7)를 구합니다.\n",
            "fibonacci(6)를 구합니다.\n",
            "fibonacci(5)를 구합니다.\n",
            "fibonacci(4)를 구합니다.\n",
            "fibonacci(3)를 구합니다.\n",
            "fibonacci(2)를 구합니다.\n",
            "fibonacci(1)를 구합니다.\n",
            "fibonacci(2)를 구합니다.\n",
            "fibonacci(3)를 구합니다.\n",
            "fibonacci(2)를 구합니다.\n",
            "fibonacci(1)를 구합니다.\n",
            "fibonacci(4)를 구합니다.\n",
            "fibonacci(3)를 구합니다.\n",
            "fibonacci(2)를 구합니다.\n",
            "fibonacci(1)를 구합니다.\n",
            "fibonacci(2)를 구합니다.\n",
            "fibonacci(5)를 구합니다.\n",
            "fibonacci(4)를 구합니다.\n",
            "fibonacci(3)를 구합니다.\n",
            "fibonacci(2)를 구합니다.\n",
            "fibonacci(1)를 구합니다.\n",
            "fibonacci(2)를 구합니다.\n",
            "fibonacci(3)를 구합니다.\n",
            "fibonacci(2)를 구합니다.\n",
            "fibonacci(1)를 구합니다.\n",
            "fibonacci(6)를 구합니다.\n",
            "fibonacci(5)를 구합니다.\n",
            "fibonacci(4)를 구합니다.\n",
            "fibonacci(3)를 구합니다.\n",
            "fibonacci(2)를 구합니다.\n",
            "fibonacci(1)를 구합니다.\n",
            "fibonacci(2)를 구합니다.\n",
            "fibonacci(3)를 구합니다.\n",
            "fibonacci(2)를 구합니다.\n",
            "fibonacci(1)를 구합니다.\n",
            "fibonacci(4)를 구합니다.\n",
            "fibonacci(3)를 구합니다.\n",
            "fibonacci(2)를 구합니다.\n",
            "fibonacci(1)를 구합니다.\n",
            "fibonacci(2)를 구합니다.\n",
            "fibonacci(7)를 구합니다.\n",
            "fibonacci(6)를 구합니다.\n",
            "fibonacci(5)를 구합니다.\n",
            "fibonacci(4)를 구합니다.\n",
            "fibonacci(3)를 구합니다.\n",
            "fibonacci(2)를 구합니다.\n",
            "fibonacci(1)를 구합니다.\n",
            "fibonacci(2)를 구합니다.\n",
            "fibonacci(3)를 구합니다.\n",
            "fibonacci(2)를 구합니다.\n",
            "fibonacci(1)를 구합니다.\n",
            "fibonacci(4)를 구합니다.\n",
            "fibonacci(3)를 구합니다.\n",
            "fibonacci(2)를 구합니다.\n",
            "fibonacci(1)를 구합니다.\n",
            "fibonacci(2)를 구합니다.\n",
            "fibonacci(5)를 구합니다.\n",
            "fibonacci(4)를 구합니다.\n",
            "fibonacci(3)를 구합니다.\n",
            "fibonacci(2)를 구합니다.\n",
            "fibonacci(1)를 구합니다.\n",
            "fibonacci(2)를 구합니다.\n",
            "fibonacci(3)를 구합니다.\n",
            "fibonacci(2)를 구합니다.\n",
            "fibonacci(1)를 구합니다.\n",
            "fibonacci(8)를 구합니다.\n",
            "fibonacci(7)를 구합니다.\n",
            "fibonacci(6)를 구합니다.\n",
            "fibonacci(5)를 구합니다.\n",
            "fibonacci(4)를 구합니다.\n",
            "fibonacci(3)를 구합니다.\n",
            "fibonacci(2)를 구합니다.\n",
            "fibonacci(1)를 구합니다.\n",
            "fibonacci(2)를 구합니다.\n",
            "fibonacci(3)를 구합니다.\n",
            "fibonacci(2)를 구합니다.\n",
            "fibonacci(1)를 구합니다.\n",
            "fibonacci(4)를 구합니다.\n",
            "fibonacci(3)를 구합니다.\n",
            "fibonacci(2)를 구합니다.\n",
            "fibonacci(1)를 구합니다.\n",
            "fibonacci(2)를 구합니다.\n",
            "fibonacci(5)를 구합니다.\n",
            "fibonacci(4)를 구합니다.\n",
            "fibonacci(3)를 구합니다.\n",
            "fibonacci(2)를 구합니다.\n",
            "fibonacci(1)를 구합니다.\n",
            "fibonacci(2)를 구합니다.\n",
            "fibonacci(3)를 구합니다.\n",
            "fibonacci(2)를 구합니다.\n",
            "fibonacci(1)를 구합니다.\n",
            "fibonacci(6)를 구합니다.\n",
            "fibonacci(5)를 구합니다.\n",
            "fibonacci(4)를 구합니다.\n",
            "fibonacci(3)를 구합니다.\n",
            "fibonacci(2)를 구합니다.\n",
            "fibonacci(1)를 구합니다.\n",
            "fibonacci(2)를 구합니다.\n",
            "fibonacci(3)를 구합니다.\n",
            "fibonacci(2)를 구합니다.\n",
            "fibonacci(1)를 구합니다.\n",
            "fibonacci(4)를 구합니다.\n",
            "fibonacci(3)를 구합니다.\n",
            "fibonacci(2)를 구합니다.\n",
            "fibonacci(1)를 구합니다.\n",
            "fibonacci(2)를 구합니다.\n",
            "---\n",
            "fibonacci(10) 계산에 활용된 덧셈 횟수는 109번 입니다.\n"
          ],
          "name": "stdout"
        }
      ]
    },
    {
      "cell_type": "markdown",
      "metadata": {
        "id": "Qb7mtI5uUuDl"
      },
      "source": [
        "**재귀함수의 문제**  -> 같은 것을 기하급수적으로 많이 반복 -> 해결방법: 메모화  \n",
        "**메모화**: 딕셔너리를 사용해서 한 번 계산한 값을 저장하는 것 -> 코드의 속도 빠르게!  \n",
        "\n",
        "\n"
      ]
    },
    {
      "cell_type": "code",
      "metadata": {
        "colab": {
          "base_uri": "https://localhost:8080/"
        },
        "id": "_-tdAx8iY-Si",
        "outputId": "bfa6d387-e8ca-463c-9a2d-37a418fec886"
      },
      "source": [
        "dictionary = {\n",
        "    1: 1,\n",
        "    2: 1\n",
        "}\n",
        "\n",
        "def fibonacci(n):\n",
        "  if n in dictionary:\n",
        "    return dictionary[n]\n",
        "  else:\n",
        "    output = fibonacci(n-1) + fibonacci(n-2)\n",
        "    dictionary[n] = output\n",
        "    return output\n",
        "\n",
        "print(\"fibonacci(20): \", fibonacci(20))"
      ],
      "execution_count": null,
      "outputs": [
        {
          "output_type": "stream",
          "text": [
            "fibonacci(20):  6765\n"
          ],
          "name": "stdout"
        }
      ]
    },
    {
      "cell_type": "code",
      "metadata": {
        "colab": {
          "base_uri": "https://localhost:8080/"
        },
        "id": "Oc7nb-IAbPur",
        "outputId": "58904537-93f9-4c60-ace1-cbea007d2f9d"
      },
      "source": [
        "# 조기 리턴: 흐름 중간에 return 키워드를 사용하여 들여쓰기 단계를 줄임(이부분에선 else를 없애고 그 밑부분 들여쓰기 삭제)\n",
        "dictionary = {\n",
        "    1: 1,\n",
        "    2: 1\n",
        "}\n",
        "\n",
        "def fibonacci(n):\n",
        "  if n in dictionary:\n",
        "    return dictionary[n]\n",
        "  output = fibonacci(n-1) + fibonacci(n-2)\n",
        "  dictionary[n] = output\n",
        "  return output\n",
        "\n",
        "print(\"fibonacci(20): \", fibonacci(20))"
      ],
      "execution_count": null,
      "outputs": [
        {
          "output_type": "stream",
          "text": [
            "fibonacci(20):  6765\n"
          ],
          "name": "stdout"
        }
      ]
    },
    {
      "cell_type": "markdown",
      "metadata": {
        "id": "Vyn3mSaMcA8x"
      },
      "source": [
        "#5-3. 함수 고급"
      ]
    },
    {
      "cell_type": "markdown",
      "metadata": {
        "id": "faJabr9FcFZy"
      },
      "source": [
        "함수를 조금 더 편리하게 사용할 수 있게 다양한 기능을 제공  -> 튜플, 람다  \n",
        "**튜플**: 리스트와 비슷한 자료형, 다른 점은 한번 결정된 요소 변경 X  \n",
        "1. 괄호 없는 튜플: 괄호를 생략해도 튜플. ,(콤마)로 구분(데이터 1개일 때 주의!)\n",
        "2. 튜플과 함수; 함수의 리턴에 튜플 사용 시 여러 개의 값 리턴 가능"
      ]
    },
    {
      "cell_type": "code",
      "metadata": {
        "colab": {
          "base_uri": "https://localhost:8080/"
        },
        "id": "Cxvankdsbv2B",
        "outputId": "46191fa9-b754-42ae-c634-bbcf4d7f4eb3"
      },
      "source": [
        "tuple_test = (10, 20, 30)\n",
        "tuple_test[1]"
      ],
      "execution_count": null,
      "outputs": [
        {
          "output_type": "execute_result",
          "data": {
            "text/plain": [
              "20"
            ]
          },
          "metadata": {
            "tags": []
          },
          "execution_count": 11
        }
      ]
    },
    {
      "cell_type": "code",
      "metadata": {
        "colab": {
          "base_uri": "https://localhost:8080/",
          "height": 190
        },
        "id": "KJRbAoZLfhFt",
        "outputId": "8c3bb281-2fcc-4c1b-87ee-36b9d299336d"
      },
      "source": [
        "# 요소를 변경하려고 하면 TypeError발생\n",
        "tuple_test[0] = 1"
      ],
      "execution_count": null,
      "outputs": [
        {
          "output_type": "error",
          "ename": "TypeError",
          "evalue": "ignored",
          "traceback": [
            "\u001b[0;31m---------------------------------------------------------------------------\u001b[0m",
            "\u001b[0;31mTypeError\u001b[0m                                 Traceback (most recent call last)",
            "\u001b[0;32m<ipython-input-19-2f0d948b5159>\u001b[0m in \u001b[0;36m<module>\u001b[0;34m()\u001b[0m\n\u001b[1;32m      1\u001b[0m \u001b[0;31m# 요소를 변경하려고 하면 TypeError발생\u001b[0m\u001b[0;34m\u001b[0m\u001b[0;34m\u001b[0m\u001b[0;34m\u001b[0m\u001b[0m\n\u001b[0;32m----> 2\u001b[0;31m \u001b[0mtuple_test\u001b[0m\u001b[0;34m[\u001b[0m\u001b[0;36m0\u001b[0m\u001b[0;34m]\u001b[0m \u001b[0;34m=\u001b[0m \u001b[0;36m1\u001b[0m\u001b[0;34m\u001b[0m\u001b[0;34m\u001b[0m\u001b[0m\n\u001b[0m",
            "\u001b[0;31mTypeError\u001b[0m: 'tuple' object does not support item assignment"
          ]
        }
      ]
    },
    {
      "cell_type": "code",
      "metadata": {
        "colab": {
          "base_uri": "https://localhost:8080/"
        },
        "id": "H9gEW_Fpeh2D",
        "outputId": "7c4f1af3-5270-4fde-e062-fc59d854bcde"
      },
      "source": [
        "# 괄호 없는 튜플\n",
        "tuple = 273,\n",
        "type(tuple)"
      ],
      "execution_count": null,
      "outputs": [
        {
          "output_type": "execute_result",
          "data": {
            "text/plain": [
              "tuple"
            ]
          },
          "metadata": {
            "tags": []
          },
          "execution_count": 14
        }
      ]
    },
    {
      "cell_type": "code",
      "metadata": {
        "colab": {
          "base_uri": "https://localhost:8080/"
        },
        "id": "sSfMfw69eldS",
        "outputId": "9f92ff9a-4a01-477c-dad6-3054a13ccdb5"
      },
      "source": [
        "tuple_test = 10, 20, 30\n",
        "type(tuple_test)"
      ],
      "execution_count": null,
      "outputs": [
        {
          "output_type": "execute_result",
          "data": {
            "text/plain": [
              "tuple"
            ]
          },
          "metadata": {
            "tags": []
          },
          "execution_count": 15
        }
      ]
    },
    {
      "cell_type": "code",
      "metadata": {
        "colab": {
          "base_uri": "https://localhost:8080/"
        },
        "id": "lVtUdmleewR8",
        "outputId": "7c4786af-1093-4141-dc02-7a1f676f4ebf"
      },
      "source": [
        "# 변수의 값 교환하는 튜플\n",
        "\n",
        "a, b =10, 20\n",
        "print(\"교환 전 값\")\n",
        "print(\"a:\",a)\n",
        "print(\"b:\",b)\n",
        "\n",
        "a, b = b, a\n",
        "print(\"교환 후 값\")\n",
        "print(\"a:\",a)\n",
        "print(\"b:\",b)"
      ],
      "execution_count": null,
      "outputs": [
        {
          "output_type": "stream",
          "text": [
            "교환 전 값\n",
            "a: 10\n",
            "b: 20\n",
            "교환 후 값\n",
            "a: 20\n",
            "b: 10\n"
          ],
          "name": "stdout"
        }
      ]
    },
    {
      "cell_type": "code",
      "metadata": {
        "colab": {
          "base_uri": "https://localhost:8080/"
        },
        "id": "crsQhgsTfBNT",
        "outputId": "bf99932b-af5d-4282-ffcb-c735fa9bc44e"
      },
      "source": [
        "# 여러 개의 값 리턴\n",
        "# divmod()함수는 몫과 나머지를 리턴\n",
        "a, b = 97, 40\n",
        "x, y = divmod(a, b)\n",
        "print(x, y)"
      ],
      "execution_count": null,
      "outputs": [
        {
          "output_type": "stream",
          "text": [
            "2 17\n"
          ],
          "name": "stdout"
        }
      ]
    },
    {
      "cell_type": "code",
      "metadata": {
        "colab": {
          "base_uri": "https://localhost:8080/"
        },
        "id": "n6FhvKItfUzj",
        "outputId": "1a202f32-e2d2-41b2-bdaf-9fc4234f7505"
      },
      "source": [
        "divmod(97, 40)"
      ],
      "execution_count": null,
      "outputs": [
        {
          "output_type": "execute_result",
          "data": {
            "text/plain": [
              "(2, 17)"
            ]
          },
          "metadata": {
            "tags": []
          },
          "execution_count": 18
        }
      ]
    },
    {
      "cell_type": "markdown",
      "metadata": {
        "id": "j5CTsuHGfrc1"
      },
      "source": [
        "함수를 매개변수로 전달하는 대표적인 표준함수 -> map(), filter()  \n",
        "**map(함수, 리스트)**: 리스트의 요소를 함수에 넣고 리턴된 값을 새로운 리스트로 구성해주는 함수  \n",
        "**filter(함수, 리스트)**: 리스트의 요소를 함수에 넣고 리턴된 값이 True인 것으로, 새로운 리스트를 구성해주는 함수  "
      ]
    },
    {
      "cell_type": "code",
      "metadata": {
        "colab": {
          "base_uri": "https://localhost:8080/"
        },
        "id": "wXblNO_-0D-L",
        "outputId": "769c27a9-0917-4ef4-efde-2ecd7f61039b"
      },
      "source": [
        "# 백준 알고리즘 기본!!!!\n",
        "# 두 정수를 한줄에 입력받기\n",
        "A, B = map(int, input().split()) # 입력을 공백기준으로 나누고, input출력은 문자열이므로 정수형으로 바꿈\n",
        "print(f\"{A} + {B} = {A + B}\")"
      ],
      "execution_count": null,
      "outputs": [
        {
          "output_type": "stream",
          "text": [
            "1 3\n",
            "1 + 3 = 4\n"
          ],
          "name": "stdout"
        }
      ]
    },
    {
      "cell_type": "code",
      "metadata": {
        "colab": {
          "base_uri": "https://localhost:8080/"
        },
        "id": "VmzNuTmUfV3d",
        "outputId": "8dfcf0a1-e9d3-4768-b147-30f0a1b2d9b7"
      },
      "source": [
        "def power(item):\n",
        "  return item * item\n",
        "def under_3(item):\n",
        "  return item < 3\n",
        "\n",
        "list_input_a = [1, 2, 3, 4, 5]\n",
        "\n",
        "output_a = map(power, list_input_a)\n",
        "print(\"map()함수의 실행결과\")\n",
        "print(\"map(power, list_input_a):\", output_a)\n",
        "print(\"map(power, list_input_a):\", list(output_a))\n",
        "print()\n",
        "\n",
        "output_b = filter(under_3, list_input_a)\n",
        "print(\"filter()함수의 실행결과\")\n",
        "print(\"filter(under_3, list_input_a):\", output_b)\n",
        "print(\"filter(under_3, list_input_a):\", list(output_b))\n",
        "print()"
      ],
      "execution_count": null,
      "outputs": [
        {
          "output_type": "stream",
          "text": [
            "map()함수의 실행결과\n",
            "map(power, list_input_a): <map object at 0x7f838578c150>\n",
            "map(power, list_input_a): [1, 4, 9, 16, 25]\n",
            "\n",
            "filter()함수의 실행결과\n",
            "filter(under_3, list_input_a): <filter object at 0x7f838578cf10>\n",
            "filter(under_3, list_input_a): [1, 2]\n",
            "\n"
          ],
          "name": "stdout"
        }
      ]
    },
    {
      "cell_type": "markdown",
      "metadata": {
        "id": "h_qWSqR9itiF"
      },
      "source": [
        "**제너레이터** ; 함수 내부에 yield키워드를 사용하면 해당 함수는 제너레이터 함수 -> 함수 호출해도 내부 코드 실행 X  \n",
        "제너레이터 함수는 제너레이터를 리턴하고, 제너레이터 객체는 next()함수를 사용해 yield 키워드 부분까지 내부 코드 실행   \n",
        "*mab object, filter object 등을 제너레이터라고 부른다."
      ]
    },
    {
      "cell_type": "code",
      "metadata": {
        "colab": {
          "base_uri": "https://localhost:8080/"
        },
        "id": "gNDtWfnimP9A",
        "outputId": "ff61bdd6-a5b1-4ed0-ea0b-cf30f136bd1f"
      },
      "source": [
        "def test():\n",
        "  print(\"함수가 호출되었습니다.\")\n",
        "  yield \"test\"\n",
        "\n",
        "print(\"A 지점 통과\")\n",
        "test()\n",
        "\n",
        "print(\"B 지점 통과\")\n",
        "test()\n",
        "print(test()) #제너레이터 리턴"
      ],
      "execution_count": null,
      "outputs": [
        {
          "output_type": "stream",
          "text": [
            "A 지점 통과\n",
            "B 지점 통과\n",
            "<generator object test at 0x7f8385771f50>\n"
          ],
          "name": "stdout"
        }
      ]
    },
    {
      "cell_type": "markdown",
      "metadata": {
        "id": "65FdYaHKm8-9"
      },
      "source": [
        "next()함수를 호출한 이후 yield키워드를 만나지 못하고 함수가 끝나면 **StopIteration** 예외 발생"
      ]
    },
    {
      "cell_type": "code",
      "metadata": {
        "colab": {
          "base_uri": "https://localhost:8080/",
          "height": 388
        },
        "id": "E1y4ECjImiWQ",
        "outputId": "c131a3b5-8e16-4e5f-b950-52db6b8a16f2"
      },
      "source": [
        "def test():\n",
        "  print(\"A지점 통과\")\n",
        "  yield 1\n",
        "  print(\"B지점 통과\")\n",
        "  yield 2\n",
        "  print(\"C지점 통과\")\n",
        "\n",
        "output = test()\n",
        "\n",
        "print(\"D지점 통과\")\n",
        "a = next(output)\n",
        "print(a)\n",
        "print(\"E지점 통과\")\n",
        "b = next(output)\n",
        "print(b)\n",
        "print(\"F지점 통과\")\n",
        "c = next(output)\n",
        "print(c)\n",
        "\n",
        "next(output)"
      ],
      "execution_count": null,
      "outputs": [
        {
          "output_type": "stream",
          "text": [
            "D지점 통과\n",
            "A지점 통과\n",
            "1\n",
            "E지점 통과\n",
            "B지점 통과\n",
            "2\n",
            "F지점 통과\n",
            "C지점 통과\n"
          ],
          "name": "stdout"
        },
        {
          "output_type": "error",
          "ename": "StopIteration",
          "evalue": "ignored",
          "traceback": [
            "\u001b[0;31m---------------------------------------------------------------------------\u001b[0m",
            "\u001b[0;31mStopIteration\u001b[0m                             Traceback (most recent call last)",
            "\u001b[0;32m<ipython-input-25-60b990d1db5d>\u001b[0m in \u001b[0;36m<module>\u001b[0;34m()\u001b[0m\n\u001b[1;32m     15\u001b[0m \u001b[0mprint\u001b[0m\u001b[0;34m(\u001b[0m\u001b[0mb\u001b[0m\u001b[0;34m)\u001b[0m\u001b[0;34m\u001b[0m\u001b[0;34m\u001b[0m\u001b[0m\n\u001b[1;32m     16\u001b[0m \u001b[0mprint\u001b[0m\u001b[0;34m(\u001b[0m\u001b[0;34m\"F지점 통과\"\u001b[0m\u001b[0;34m)\u001b[0m\u001b[0;34m\u001b[0m\u001b[0;34m\u001b[0m\u001b[0m\n\u001b[0;32m---> 17\u001b[0;31m \u001b[0mc\u001b[0m \u001b[0;34m=\u001b[0m \u001b[0mnext\u001b[0m\u001b[0;34m(\u001b[0m\u001b[0moutput\u001b[0m\u001b[0;34m)\u001b[0m\u001b[0;34m\u001b[0m\u001b[0;34m\u001b[0m\u001b[0m\n\u001b[0m\u001b[1;32m     18\u001b[0m \u001b[0mprint\u001b[0m\u001b[0;34m(\u001b[0m\u001b[0mc\u001b[0m\u001b[0;34m)\u001b[0m\u001b[0;34m\u001b[0m\u001b[0;34m\u001b[0m\u001b[0m\n\u001b[1;32m     19\u001b[0m \u001b[0;34m\u001b[0m\u001b[0m\n",
            "\u001b[0;31mStopIteration\u001b[0m: "
          ]
        }
      ]
    },
    {
      "cell_type": "markdown",
      "metadata": {
        "id": "UcpwOJ3Hiwcq"
      },
      "source": [
        "**람다**: 간단한 함수를 쉽게 선언하는 방법  \n",
        "lambda 매개변수: 리턴값\n",
        "cf) 매개변수가 여러 개인 람다도 만들 수 있음 ex.lambda x, y: x * y"
      ]
    },
    {
      "cell_type": "code",
      "metadata": {
        "colab": {
          "base_uri": "https://localhost:8080/"
        },
        "id": "S-TlcdDrim9_",
        "outputId": "17efbfef-0004-4ada-9738-1eadaa656ac8"
      },
      "source": [
        "power= lambda x: x*x\n",
        "under_3 = lambda x: x<3\n",
        "\n",
        "list_input_a = [1, 2, 3, 4, 5]\n",
        "\n",
        "output_a = map(power, list_input_a)\n",
        "print(\"map()함수의 실행결과\")\n",
        "print(\"map(power, list_input_a):\", output_a)\n",
        "print(\"map(power, list_input_a):\", list(output_a))\n",
        "print()\n",
        "\n",
        "output_b = filter(under_3, list_input_a)\n",
        "print(\"filter()함수의 실행결과\")\n",
        "print(\"filter(under_3, list_input_a):\", output_b)\n",
        "print(\"filter(under_3, list_input_a):\", list(output_b))\n",
        "print()"
      ],
      "execution_count": null,
      "outputs": [
        {
          "output_type": "stream",
          "text": [
            "map()함수의 실행결과\n",
            "map(power, list_input_a): <map object at 0x7f838577b510>\n",
            "map(power, list_input_a): [1, 4, 9, 16, 25]\n",
            "\n",
            "filter()함수의 실행결과\n",
            "filter(under_3, list_input_a): <filter object at 0x7f838577b110>\n",
            "filter(under_3, list_input_a): [1, 2]\n",
            "\n"
          ],
          "name": "stdout"
        }
      ]
    },
    {
      "cell_type": "code",
      "metadata": {
        "colab": {
          "base_uri": "https://localhost:8080/"
        },
        "id": "AofCSgfbjEdR",
        "outputId": "b58d3b2d-2961-4008-d2bc-05b4dd084d4b"
      },
      "source": [
        "# 함수 선언할 필요 없이 lambda 매개변수에 바로 넣기\n",
        "list_input_a = [1, 2, 3, 4, 5]\n",
        "\n",
        "output_a = map(lambda x: x*x, list_input_a)\n",
        "print(\"map()함수의 실행결과\")\n",
        "print(\"map(power, list_input_a):\", output_a)\n",
        "print(\"map(power, list_input_a):\", list(output_a))\n",
        "print()\n",
        "\n",
        "output_b = filter(lambda x: x<3, list_input_a)\n",
        "print(\"filter()함수의 실행결과\")\n",
        "print(\"filter(under_3, list_input_a):\", output_b)\n",
        "print(\"filter(under_3, list_input_a):\", list(output_b))\n",
        "print()"
      ],
      "execution_count": null,
      "outputs": [
        {
          "output_type": "stream",
          "text": [
            "map()함수의 실행결과\n",
            "map(power, list_input_a): <map object at 0x7f83897d72d0>\n",
            "map(power, list_input_a): [1, 4, 9, 16, 25]\n",
            "\n",
            "filter()함수의 실행결과\n",
            "filter(under_3, list_input_a): <filter object at 0x7f83857cb250>\n",
            "filter(under_3, list_input_a): [1, 2]\n",
            "\n"
          ],
          "name": "stdout"
        }
      ]
    },
    {
      "cell_type": "markdown",
      "metadata": {
        "id": "bGBdIGw8ln_S"
      },
      "source": [
        "**파일처리**  \n",
        "**파일 열고 닫기**  \n",
        "열기 -> 파일 객체 = open(문자열: 파일 경로, 문자열: 모드)  \n",
        "모드 = w(새로쓰기), a(뒤에 이어서 쓰기), r(읽기) 세 종류  \n",
        "닫기 -> 파일 객체. close()"
      ]
    },
    {
      "cell_type": "code",
      "metadata": {
        "id": "88O8kJoypBm-"
      },
      "source": [
        "file = open(\"basic.txt\", \"w\")\n",
        "file.write(\"study\")\n",
        "file.close()"
      ],
      "execution_count": null,
      "outputs": []
    },
    {
      "cell_type": "markdown",
      "metadata": {
        "id": "mVqTUgzvpnY_"
      },
      "source": [
        "**with 키워드**: 파일을 열고 닫지 않는 실수를 하는 경우 방지 위해!  \n",
        "                  with 구문이 종료될 때 자동으로 파일이 닫힘.  \n",
        "with open(문자열: 파일 경로, 문자열: 모드) as 파일 객체:  \n",
        "    문장"
      ]
    },
    {
      "cell_type": "code",
      "metadata": {
        "id": "igUePRmzjKz-"
      },
      "source": [
        "with open(\"basic.txt\", \"w\") as file:\n",
        "  file.write(\"Hi hello\")"
      ],
      "execution_count": null,
      "outputs": []
    },
    {
      "cell_type": "markdown",
      "metadata": {
        "id": "EZLRYd27qL-o"
      },
      "source": [
        "**텍스트 읽기**: 파일 객체.read()  "
      ]
    },
    {
      "cell_type": "code",
      "metadata": {
        "colab": {
          "base_uri": "https://localhost:8080/"
        },
        "id": "brbbIGx8qCO_",
        "outputId": "f86fe0b6-9eac-437b-a9aa-b2af6fd07a3e"
      },
      "source": [
        "# read()함수로 텍스트 읽기\n",
        "with open(\"basic.txt\", \"r\") as file:\n",
        "  contents = file.read()\n",
        "\n",
        "print(contents)"
      ],
      "execution_count": null,
      "outputs": [
        {
          "output_type": "stream",
          "text": [
            "Hi hello\n"
          ],
          "name": "stdout"
        }
      ]
    },
    {
      "cell_type": "code",
      "metadata": {
        "id": "NJ8TzX8vqhDT"
      },
      "source": [
        "# 텍스트 한 줄씩 읽기\n",
        "# for 한 줄을 나타내는 문자열 in 파일 객체\n",
        "import random\n",
        "hanguls = list(\"가나다라마바사아자차카타파하\")\n",
        "with open(\"info.txt\",\"w\") as file:\n",
        "  for i in range(5):\n",
        "    name= random.choice(hanguls) + random.choice(hanguls)\n",
        "    weight = random.randrange(40, 100)\n",
        "    file.write(\"{}, {} \\n\".format(name, weight))"
      ],
      "execution_count": null,
      "outputs": []
    },
    {
      "cell_type": "markdown",
      "metadata": {
        "id": "kSKC73JuDY40"
      },
      "source": [
        "#Chapter 6. 예외 처리"
      ]
    },
    {
      "cell_type": "markdown",
      "metadata": {
        "id": "ZJ7h3lvKDdlm"
      },
      "source": [
        "#6-1. 구문 오류와 예외"
      ]
    },
    {
      "cell_type": "markdown",
      "metadata": {
        "id": "B-pbbt78DgQ7"
      },
      "source": [
        "**오류의 종류**  \n",
        "프로그램 실행 전에 발생하는 오류: 구문 오류(ex.Syntax Error)  \n",
        "프로그램 실행 중에 발생하는 오류: 예외(런타임 오류)  "
      ]
    },
    {
      "cell_type": "markdown",
      "metadata": {
        "id": "DsekNswYEhyu"
      },
      "source": [
        "**예외 처리**  \n",
        "조건문을 사용하는 방법: 기본 예외 처리  \n",
        "try 구문을 사용하는 방법  "
      ]
    },
    {
      "cell_type": "markdown",
      "metadata": {
        "id": "ZjbnmiXYG0n_"
      },
      "source": [
        "**try except 구문**  \n",
        "try:  \n",
        "  예외가 발생할 가능성이 있는 코드  \n",
        "except:  \n",
        "  예외가 발생했을 때 실행할 코드  \n",
        "+)except구문에 pass 키워드를 넣으면 프로그램 종료를 막는다."
      ]
    },
    {
      "cell_type": "code",
      "metadata": {
        "id": "J20XAwddrDDv",
        "colab": {
          "base_uri": "https://localhost:8080/"
        },
        "outputId": "2b7fbb24-2e7e-4298-fcef-905cf858eef9"
      },
      "source": [
        "try:\n",
        "  number_input_a = int(input(\"정수 입력> \"))\n",
        "  print(\"원의 반지름:\", number_input_a)\n",
        "  print(\"원의 둘레:\", 2 * 3.14 * number_input_a)\n",
        "except:\n",
        "  print(\"무언가 잘못되었습니다.\")"
      ],
      "execution_count": null,
      "outputs": [
        {
          "output_type": "stream",
          "text": [
            "정수 입력> 3센치\n",
            "무언가 잘못되었습니다.\n"
          ],
          "name": "stdout"
        }
      ]
    },
    {
      "cell_type": "markdown",
      "metadata": {
        "id": "JqfTasDFH1Ff"
      },
      "source": [
        "**try except else 구문**  \n",
        "try:  \n",
        "예외가 발생할 가능성이 있는 코드  \n",
        "except:  \n",
        "예외가 발생했을 때 실행할 코드  \n",
        "else:  \n",
        "  예외가 발생하지 않았을 때 실행할 코드"
      ]
    },
    {
      "cell_type": "code",
      "metadata": {
        "colab": {
          "base_uri": "https://localhost:8080/"
        },
        "id": "-3Ysvh0lHnPY",
        "outputId": "1398e33e-efe7-4fc2-8ea4-781103c5ee89"
      },
      "source": [
        "try:\n",
        "  number_input_a = int(input(\"정수 입력> \"))\n",
        "except:\n",
        "  print(\"무언가 잘못되었습니다.\")\n",
        "else:\n",
        "  print(\"원의 반지름:\", number_input_a)\n",
        "  print(\"원의 둘레:\", 2 * 3.14 * number_input_a)"
      ],
      "execution_count": null,
      "outputs": [
        {
          "output_type": "stream",
          "text": [
            "정수 입력> 3\n",
            "원의 반지름: 3\n",
            "원의 둘레: 18.84\n"
          ],
          "name": "stdout"
        }
      ]
    },
    {
      "cell_type": "markdown",
      "metadata": {
        "id": "UZtqALbkIJAa"
      },
      "source": [
        "**finally 구문**: 예외 발생 여부에 상관없이 무조건 실행할 때 사용하는 코드 -> 파일 닫기 사용하기 좋다!!  \n",
        "try:  \n",
        "예외가 발생할 가능성이 있는 코드  \n",
        "except:  \n",
        "예외가 발생했을 때 실행할 코드  \n",
        "else:  \n",
        "예외가 발생하지 않았을 때 실행할 코드  \n",
        "finally:  \n",
        "무조건 실행할 코드  \n",
        "  \n",
        "*구문 조합*: try는 except 구문 또는 finally 구문을 함께 사용해야 함 + else 구문은 반드시 except 구문 뒤에 사용  \n",
        "try + except (+ else)  \n",
        "try + except (+ else) + finally  \n",
        "try + finally"
      ]
    },
    {
      "cell_type": "code",
      "metadata": {
        "colab": {
          "base_uri": "https://localhost:8080/"
        },
        "id": "fCzlaxLyIGeG",
        "outputId": "668c07fd-b46e-4170-d01c-73529e3aee3c"
      },
      "source": [
        "try:\n",
        "  number_input_a = int(input(\"정수 입력> \"))\n",
        "  print(\"원의 반지름:\", number_input_a)\n",
        "  print(\"원의 둘레:\", 2 * 3.14 * number_input_a)\n",
        "except:\n",
        "  print(\"정수를 입력해주세요!\")\n",
        "else:\n",
        "  print(\"예외가 발생하지 않았습니다.\")\n",
        "finally:\n",
        "  print(\"일단 어떻게든 프로그램이 끝났습니다.\")"
      ],
      "execution_count": null,
      "outputs": [
        {
          "output_type": "stream",
          "text": [
            "정수 입력> 3\n",
            "원의 반지름: 3\n",
            "원의 둘레: 18.84\n",
            "예외가 발생하지 않았습니다.\n",
            "일단 어떻게든 프로그램이 끝났습니다.\n"
          ],
          "name": "stdout"
        }
      ]
    },
    {
      "cell_type": "markdown",
      "metadata": {
        "id": "XzCb8_vgJMP2"
      },
      "source": [
        "**finally 구문이 위력을 발휘하는 경우**  \n",
        "1. try 구문 내부에서 return 키워드를 사용하는 경우\n",
        "2. 반복문과 함께 사용하는 경우(break 키워드)"
      ]
    },
    {
      "cell_type": "code",
      "metadata": {
        "colab": {
          "base_uri": "https://localhost:8080/"
        },
        "id": "RiL7UlAqImc6",
        "outputId": "acc7cf18-b9e9-460c-9ba1-0efa76376ab0"
      },
      "source": [
        "def test():\n",
        "  print(\"test() 함수의 첫 줄\")\n",
        "  try:\n",
        "    print(\"try 구문 실행\")\n",
        "    return # return으로 탈출해도 finally는 실행\n",
        "    print(\"try 구문의 return 키워드 뒤\")\n",
        "  except:\n",
        "    print(\"except 구문 실행\")\n",
        "  else:\n",
        "    print(\"else 구문 실행\")\n",
        "  finally: # return으로 탈출해도 finally는 실행\n",
        "    print(\"finally 구문 실행\")\n",
        "  print(\"test() 함수의 마지막 줄\") # return으로 탈출하여 함수 마지막줄 실행 X\n",
        "\n",
        "test()"
      ],
      "execution_count": null,
      "outputs": [
        {
          "output_type": "stream",
          "text": [
            "test() 함수의 첫 줄\n",
            "try 구문 실행\n",
            "finally 구문 실행\n"
          ],
          "name": "stdout"
        }
      ]
    },
    {
      "cell_type": "code",
      "metadata": {
        "colab": {
          "base_uri": "https://localhost:8080/"
        },
        "id": "PSZglgSAKBAC",
        "outputId": "252cdbb3-255c-44a9-f17f-8067d79d381c"
      },
      "source": [
        "print(\"시작\")\n",
        "while True:\n",
        "  try:\n",
        "    print(\"try 구문 실행\")\n",
        "    break\n",
        "    print(\"try 구문의 break 키워드 뒤\")\n",
        "  except:\n",
        "    print(\"except 구문 실행\")\n",
        "  finally:\n",
        "    print(\"finally 구문 실행\")\n",
        "  print(\"while 반복문의 마지막 줄\")\n",
        "print(\"프로그램 종료\")"
      ],
      "execution_count": null,
      "outputs": [
        {
          "output_type": "stream",
          "text": [
            "시작\n",
            "try 구문 실행\n",
            "finally 구문 실행\n",
            "프로그램 종료\n"
          ],
          "name": "stdout"
        }
      ]
    },
    {
      "cell_type": "markdown",
      "metadata": {
        "id": "RJEG2hWDKtSE"
      },
      "source": [
        "# 6-2. 예외 고급"
      ]
    },
    {
      "cell_type": "markdown",
      "metadata": {
        "id": "_4CtOD27MBZm"
      },
      "source": [
        "예외 발생 시 예외와 관련된 정보 생성 -> 이러한 예외 정보는 '예외 객체'에 저장  \n",
        "  \n",
        "try:  \n",
        "예외가 발생할 가능성이 있는 코드  \n",
        "except 예외의 종류 as 예외 객체를 활용할 변수의 이름:  \n",
        "예외가 발생했을 때 실행할 코드"
      ]
    },
    {
      "cell_type": "markdown",
      "metadata": {
        "id": "wJRSX3HbM-l2"
      },
      "source": [
        "**예외 객체**  \n",
        "모든 예외의 어머니 = Exception  "
      ]
    },
    {
      "cell_type": "code",
      "metadata": {
        "colab": {
          "base_uri": "https://localhost:8080/"
        },
        "id": "_GbXFQApKmZm",
        "outputId": "ac98d296-b037-42d6-b29f-1c1f8dcb8a79"
      },
      "source": [
        "try:\n",
        "  number_input_a = int(input(\"정수 입력> \"))\n",
        "  print(\"원의 반지름:\", number_input_a)\n",
        "  print(\"원의 둘레:\", 2 * 3.14 * number_input_a)\n",
        "except Exception as exception:\n",
        "  print(\"type(exception):\", type(exception))\n",
        "  print(\"exception:\", exception)"
      ],
      "execution_count": null,
      "outputs": [
        {
          "output_type": "stream",
          "text": [
            "정수 입력> yes\n",
            "type(exception): <class 'ValueError'>\n",
            "exception: invalid literal for int() with base 10: 'yes'\n"
          ],
          "name": "stdout"
        }
      ]
    },
    {
      "cell_type": "markdown",
      "metadata": {
        "id": "tou0kCgdOtqH"
      },
      "source": [
        "**예외 구분하기**  \n",
        "try:  \n",
        "예외가 발생할 가능성이 있는 코드  \n",
        "except 예외의 종류A (as 예외 객체):  \n",
        "예외A가 발생했을 때 실행할 코드  \n",
        "except 예외의 종류B (as 예외 객체):  \n",
        "예외B가 발생했을 때 실행할 코드  \n",
        "except 예외의 종류C (as 예외 객체):  \n",
        "예외C가 발생했을 때 실행할 코드    \n",
        "  \n",
        "**모든 예외 잡기**: Exception을 넣어서 프로그램이 죽지 않게 함"
      ]
    },
    {
      "cell_type": "code",
      "metadata": {
        "colab": {
          "base_uri": "https://localhost:8080/"
        },
        "id": "vzqPVPpTOp9X",
        "outputId": "c86918ee-4598-4924-e644-e800fa2dc566"
      },
      "source": [
        "list = [52, 273, 32, 72, 100]\n",
        "try:\n",
        "  num_input = int(input(\"정수 입력> \"))\n",
        "  print(\"{}번째 요소: {}\".format(num_input, list[num_input]))\n",
        "# 정수가 아닌 값 입력시 ValueError\n",
        "except ValueError as exception:\n",
        "  print(\"정수를 입력해주세요!\")\n",
        "  print(\"exception:\", exception)\n",
        "# 인덱스를 넘는 숫자 입력시 IndexError\n",
        "except IndexError as exception:\n",
        "  print(\"리스트의 인덱스를 벗어났어요!\")\n",
        "  print(\"exception:\", exception)\n",
        "#모든 예외 잡기(Value Error와 Index Error가 아닌 예외 발생시)\n",
        "except Exception as exception:\n",
        "  print(\"미리 파악하지 못한 예외가 발생!\")\n",
        "  print(\"exception:\", exception)"
      ],
      "execution_count": null,
      "outputs": [
        {
          "output_type": "stream",
          "text": [
            "정수 입력> 100\n",
            "리스트의 인덱스를 벗어났어요!\n",
            "exception: list index out of range\n"
          ],
          "name": "stdout"
        }
      ]
    },
    {
      "cell_type": "markdown",
      "metadata": {
        "id": "_FVXZDLFQeNd"
      },
      "source": [
        "**raise 구문**: 구현되지 않은 부분이므로 일부러 예외 발생시켜 프로그램을 죽게 만들어 잊어버리지 않도록 하는 것.  \n",
        "raise 예외객체(이름).. ex.*raise NotImplementedError*"
      ]
    },
    {
      "cell_type": "code",
      "metadata": {
        "colab": {
          "base_uri": "https://localhost:8080/",
          "height": 262
        },
        "id": "SdYDfDXlPyip",
        "outputId": "2776035f-3d82-43f9-a6a4-edff407d392f"
      },
      "source": [
        "number = int(input(\"정수 입력> \"))\n",
        "if number > 0:\n",
        "  raise NotImplementedError\n",
        "else:\n",
        "  raise NotImplementedError"
      ],
      "execution_count": null,
      "outputs": [
        {
          "output_type": "stream",
          "text": [
            "정수 입력> 3\n"
          ],
          "name": "stdout"
        },
        {
          "output_type": "error",
          "ename": "NotImplementedError",
          "evalue": "ignored",
          "traceback": [
            "\u001b[0;31m---------------------------------------------------------------------------\u001b[0m",
            "\u001b[0;31mNotImplementedError\u001b[0m                       Traceback (most recent call last)",
            "\u001b[0;32m<ipython-input-51-0081d20b1282>\u001b[0m in \u001b[0;36m<module>\u001b[0;34m()\u001b[0m\n\u001b[1;32m      1\u001b[0m \u001b[0mnumber\u001b[0m \u001b[0;34m=\u001b[0m \u001b[0mint\u001b[0m\u001b[0;34m(\u001b[0m\u001b[0minput\u001b[0m\u001b[0;34m(\u001b[0m\u001b[0;34m\"정수 입력> \"\u001b[0m\u001b[0;34m)\u001b[0m\u001b[0;34m)\u001b[0m\u001b[0;34m\u001b[0m\u001b[0;34m\u001b[0m\u001b[0m\n\u001b[1;32m      2\u001b[0m \u001b[0;32mif\u001b[0m \u001b[0mnumber\u001b[0m \u001b[0;34m>\u001b[0m \u001b[0;36m0\u001b[0m\u001b[0;34m:\u001b[0m\u001b[0;34m\u001b[0m\u001b[0;34m\u001b[0m\u001b[0m\n\u001b[0;32m----> 3\u001b[0;31m   \u001b[0;32mraise\u001b[0m \u001b[0mNotImplementedError\u001b[0m\u001b[0;34m\u001b[0m\u001b[0;34m\u001b[0m\u001b[0m\n\u001b[0m\u001b[1;32m      4\u001b[0m \u001b[0;32melse\u001b[0m\u001b[0;34m:\u001b[0m\u001b[0;34m\u001b[0m\u001b[0;34m\u001b[0m\u001b[0m\n\u001b[1;32m      5\u001b[0m   \u001b[0;32mraise\u001b[0m \u001b[0mNotImplementedError\u001b[0m\u001b[0;34m\u001b[0m\u001b[0;34m\u001b[0m\u001b[0m\n",
            "\u001b[0;31mNotImplementedError\u001b[0m: "
          ]
        }
      ]
    },
    {
      "cell_type": "markdown",
      "metadata": {
        "id": "7vlKSf6DQ591"
      },
      "source": [
        "# Chapter 7. 모듈"
      ]
    },
    {
      "cell_type": "markdown",
      "metadata": {
        "id": "O9HtXFWuRC-M"
      },
      "source": [
        "# 7-1. 표준 모듈"
      ]
    },
    {
      "cell_type": "markdown",
      "metadata": {
        "id": "ruBx4ze_RNaj"
      },
      "source": [
        "**모듈**: 여러 변수와 함수를 가지고 있는 집합체 - 표준모듈(기본내장), 외부 모듈(만들어공개)  \n",
        "**math 모듈**"
      ]
    },
    {
      "cell_type": "code",
      "metadata": {
        "colab": {
          "base_uri": "https://localhost:8080/"
        },
        "id": "PTlfk3HlQzJ_",
        "outputId": "bd64ab9f-8c52-4e65-e007-b7e56fe5f427"
      },
      "source": [
        "#모듈 불러들이기 -> import구문\n",
        "import math\n",
        "math.ceil(2.4)\n",
        "math.floor(2.6)\n",
        "# round()함수=반올림함수 cf)예외-정수부분이 짝수일 때 항상 내립!\n",
        "round(2.5)"
      ],
      "execution_count": null,
      "outputs": [
        {
          "output_type": "execute_result",
          "data": {
            "text/plain": [
              "2"
            ]
          },
          "metadata": {
            "tags": []
          },
          "execution_count": 3
        }
      ]
    },
    {
      "cell_type": "code",
      "metadata": {
        "colab": {
          "base_uri": "https://localhost:8080/"
        },
        "id": "vYKaL0EY6WW9",
        "outputId": "eacdcbe2-f4ec-4dd9-9fc0-9d7a5f927fd2"
      },
      "source": [
        "# from 구문 - from 모듈 이름 import 가져오고 싶은 변수 또는 함수\n",
        "# from 모듈 import * ; math 모듈 내부의 모든 것 가져옴\n",
        "from math import sin, ceil\n",
        "sin(1)"
      ],
      "execution_count": null,
      "outputs": [
        {
          "output_type": "execute_result",
          "data": {
            "text/plain": [
              "0.8414709848078965"
            ]
          },
          "metadata": {
            "tags": []
          },
          "execution_count": 10
        }
      ]
    },
    {
      "cell_type": "code",
      "metadata": {
        "colab": {
          "base_uri": "https://localhost:8080/"
        },
        "id": "pwO7NzkD6dCG",
        "outputId": "29a5187a-8ad5-4b08-f017-ed25d6ee045a"
      },
      "source": [
        "ceil(2.5)"
      ],
      "execution_count": null,
      "outputs": [
        {
          "output_type": "execute_result",
          "data": {
            "text/plain": [
              "3"
            ]
          },
          "metadata": {
            "tags": []
          },
          "execution_count": 8
        }
      ]
    },
    {
      "cell_type": "code",
      "metadata": {
        "colab": {
          "base_uri": "https://localhost:8080/"
        },
        "id": "JFE5GMfz8iOj",
        "outputId": "ef80017d-4021-44cf-c10f-19997fd59d61"
      },
      "source": [
        "# as 구문 - 모듈이름 줄여 사용하고 싶은 경우\n",
        "# import 모듈 as 사용하고 싶은 식별자\n",
        "import math as m\n",
        "m.floor(2.6)"
      ],
      "execution_count": null,
      "outputs": [
        {
          "output_type": "execute_result",
          "data": {
            "text/plain": [
              "2"
            ]
          },
          "metadata": {
            "tags": []
          },
          "execution_count": 11
        }
      ]
    },
    {
      "cell_type": "markdown",
      "metadata": {
        "id": "10YFxuW180tJ"
      },
      "source": [
        "**random 모듈**\n"
      ]
    },
    {
      "cell_type": "code",
      "metadata": {
        "colab": {
          "base_uri": "https://localhost:8080/"
        },
        "id": "Rbex0Yin8tv5",
        "outputId": "010c48c7-a6a2-4352-b153-2ff9385696ec"
      },
      "source": [
        "import random\n",
        "# from random import random, uniform, randrange, choice, shuffle, sample시 더 편리\n",
        "print(\"# random 모듈\")\n",
        "\n",
        "# random(): 0 <= x < 1 사이의 float 리턴\n",
        "print(\"-random():\", random.random())\n",
        "\n",
        "# uniform(min, max): 지정 범위 사이의 float 리턴\n",
        "print(\"-uniform(10, 20):\", random.uniform(10, 20))\n",
        "\n",
        "# randrange(): 지정 범위의 int 리턴\n",
        "# -randrange(max): 0~max 사이의 int 리턴\n",
        "# -randrange(min, max): min~max 사이의 int 리턴\n",
        "print(\"-randrange(10):\", random.randrange(10))\n",
        "\n",
        "# choice(list): 리스트 내부에 있는 요소 랜덤 선택\n",
        "print(\"-choice([1, 2, 3, 4, 5]):\", random.choice([1, 2, 3, 4, 5]))\n",
        "print(random.choice('ABC12'))\n",
        "\n",
        "# shuffle(list): 리스트 요소들을 랜덤하게 섞음\n",
        "print(\"-choice([1, 2, 3, 4, 5]):\", random.shuffle([1, 2, 3, 4, 5]))\n",
        "\n",
        "# sample(list, k=<숫자>): 리스트 요소 중 k개를 뽑음\n",
        "print(\"-sample([1, 2, 3, 4, 5], k = 2):\", random.sample([1, 2, 3, 4, 5], k=2))"
      ],
      "execution_count": null,
      "outputs": [
        {
          "output_type": "stream",
          "name": "stdout",
          "text": [
            "# random 모듈\n",
            "-random(): 0.6591286787241697\n",
            "-uniform(10, 20): 18.495163493445144\n",
            "-randrange(10): 3\n",
            "-choice([1, 2, 3, 4, 5]): 5\n",
            "2\n",
            "-choice([1, 2, 3, 4, 5]): None\n",
            "-sample([1, 2, 3, 4, 5], k = 2): [4, 1]\n"
          ]
        }
      ]
    },
    {
      "cell_type": "markdown",
      "metadata": {
        "id": "UJWEq8Pp-l9b"
      },
      "source": [
        "**sys 모듈**: 시스템과 관련된 정보를 가지고 있는 모듈"
      ]
    },
    {
      "cell_type": "code",
      "metadata": {
        "colab": {
          "base_uri": "https://localhost:8080/",
          "height": 442
        },
        "id": "CwqvId_Z83T1",
        "outputId": "7f693851-c01f-44ff-f1a7-72cb1b90e5f2"
      },
      "source": [
        "import sys\n",
        "\n",
        "# 명령 매개변수를 출력\n",
        "print(sys.argv)\n",
        "print(\"---\")\n",
        "\n",
        "# 컴퓨터 환경과 관련된 정보 출력\n",
        "#print(\"getwindowsversion:()\", sys.getwindowsversion())\n",
        "print(\"---\")\n",
        "print(\"copyright:\", sys.copyright)\n",
        "print(\"version:\", sys.version)\n",
        "\n",
        "sys.exit()"
      ],
      "execution_count": null,
      "outputs": [
        {
          "output_type": "stream",
          "text": [
            "['/usr/local/lib/python3.7/dist-packages/ipykernel_launcher.py', '-f', '/root/.local/share/jupyter/runtime/kernel-f7fd8798-4563-4c44-a52e-1e754f7c4f6c.json']\n",
            "---\n",
            "---\n",
            "copyright: Copyright (c) 2001-2021 Python Software Foundation.\n",
            "All Rights Reserved.\n",
            "\n",
            "Copyright (c) 2000 BeOpen.com.\n",
            "All Rights Reserved.\n",
            "\n",
            "Copyright (c) 1995-2001 Corporation for National Research Initiatives.\n",
            "All Rights Reserved.\n",
            "\n",
            "Copyright (c) 1991-1995 Stichting Mathematisch Centrum, Amsterdam.\n",
            "All Rights Reserved.\n",
            "version: 3.7.10 (default, May  3 2021, 02:48:31) \n",
            "[GCC 7.5.0]\n"
          ],
          "name": "stdout"
        },
        {
          "output_type": "error",
          "ename": "SystemExit",
          "evalue": "ignored",
          "traceback": [
            "An exception has occurred, use %tb to see the full traceback.\n",
            "\u001b[0;31mSystemExit\u001b[0m\n"
          ]
        },
        {
          "output_type": "stream",
          "text": [
            "/usr/local/lib/python3.7/dist-packages/IPython/core/interactiveshell.py:2890: UserWarning: To exit: use 'exit', 'quit', or Ctrl-D.\n",
            "  warn(\"To exit: use 'exit', 'quit', or Ctrl-D.\", stacklevel=1)\n"
          ],
          "name": "stderr"
        }
      ]
    },
    {
      "cell_type": "code",
      "metadata": {
        "colab": {
          "base_uri": "https://localhost:8080/"
        },
        "id": "37bpo_Q6_Y-F",
        "outputId": "84f1e621-68dd-4456-d401-37014903e8de"
      },
      "source": [
        "! python module_sys.py 10 20 30"
      ],
      "execution_count": null,
      "outputs": [
        {
          "output_type": "stream",
          "text": [
            "['module_sys.py', '10', '20', '30']\n",
            "---\n",
            "---\n",
            "copyright: Copyright (c) 2001-2021 Python Software Foundation.\n",
            "All Rights Reserved.\n",
            "\n",
            "Copyright (c) 2000 BeOpen.com.\n",
            "All Rights Reserved.\n",
            "\n",
            "Copyright (c) 1995-2001 Corporation for National Research Initiatives.\n",
            "All Rights Reserved.\n",
            "\n",
            "Copyright (c) 1991-1995 Stichting Mathematisch Centrum, Amsterdam.\n",
            "All Rights Reserved.\n",
            "---\n",
            "version: 3.7.10 (default, May  3 2021, 02:48:31) \n",
            "[GCC 7.5.0]\n"
          ],
          "name": "stdout"
        }
      ]
    },
    {
      "cell_type": "markdown",
      "metadata": {
        "id": "zQkFy0sNBJrH"
      },
      "source": [
        "**os 모듈**: 운영체제와 관련된 기능을 가진 모듈  ex.새로운 폴더 만들거나 내부 목록 보는 일"
      ]
    },
    {
      "cell_type": "code",
      "metadata": {
        "colab": {
          "base_uri": "https://localhost:8080/"
        },
        "id": "F-zUL5-VA-EB",
        "outputId": "16463b8a-fa21-4933-a65c-9a33796dd02d"
      },
      "source": [
        "import os\n",
        "\n",
        "print(\"현재 운영체제:\", os.name)\n",
        "print(\"현재 폴더:\", os.getcwd())\n",
        "print(\"현재 폴더 내부의 요소:\", os.listdir())\n",
        "\n",
        "# 폴더 생성과 제거\n",
        "os.mkdir(\"hello\") #생성\n",
        "os.rmdir(\"hello\") #제거\n",
        "\n",
        "# 파일 생성하고 이름 변경\n",
        "with open(\"original.txt\", \"w\") as file:\n",
        "  file.write(\"hello\")\n",
        "os.rename(\"original.txt\",\"new.txt\")\n",
        "\n",
        "# 파일 제거\n",
        "os. remove(\"new.txt\")\n",
        "\n",
        "# 시스템 명령어 실행\n",
        "os.system(\"dir\")"
      ],
      "execution_count": null,
      "outputs": [
        {
          "output_type": "stream",
          "text": [
            "현재 운영체제: posix\n",
            "현재 폴더: /content\n",
            "현재 폴더 내부의 요소: ['.config', 'renew.txt', 'module_sys.py', 'sample_data']\n"
          ],
          "name": "stdout"
        },
        {
          "output_type": "execute_result",
          "data": {
            "text/plain": [
              "0"
            ]
          },
          "metadata": {
            "tags": []
          },
          "execution_count": 25
        }
      ]
    },
    {
      "cell_type": "markdown",
      "metadata": {
        "id": "KpLaEACRDEN4"
      },
      "source": [
        "**datetime 모듈**: 날짜, 시간과 관련된 모듈"
      ]
    },
    {
      "cell_type": "code",
      "metadata": {
        "colab": {
          "base_uri": "https://localhost:8080/"
        },
        "id": "dow0qXVqCFc2",
        "outputId": "0ad62cd2-86b0-491f-ea6a-ae0553e74d76"
      },
      "source": [
        "import datetime\n",
        "\n",
        "print(\"# 현재 시각 출력하기\")\n",
        "now = datetime.datetime.now()\n",
        "print(now.year, \"년\")\n",
        "print(now.month, \"월\")\n",
        "print(now.day, \"일\")\n",
        "print(now.hour, \"시\")\n",
        "print(now.minute, \"분\")\n",
        "print(now.second, \"초\")\n",
        "print()\n",
        "\n",
        "print(\"# 시간을 포맷에 맞춰 출력하기\")\n",
        "output_a = now.strftime(\"%Y.%m.%d %H:%M:%S\") # strftime(): 시간을 형식에 맞춰 출력할 수 있음. but 문자는 매개변수에 넣을 수 X.\n",
        "output_b = \"{}년 {}월 {}일 {}시 {}분 {}초\".format(now.year,\\\n",
        "                                            now.month,\\\n",
        "                                            now.day,\\\n",
        "                                            now.hour,\\\n",
        "                                            now.minute,\\\n",
        "                                            now.second)\n",
        "output_c = now.strftime(\"%Y{} %m{} %d{} %H{} %M{} %S{}\").format(\"년\",\"월\",\"일\",\"시\",\"분\",\"초\")\n",
        "print(output_a)\n",
        "print(output_b)\n",
        "print(output_c)\n",
        "print()"
      ],
      "execution_count": null,
      "outputs": [
        {
          "output_type": "stream",
          "text": [
            "# 현재 시각 출력하기\n",
            "2021 년\n",
            "6 월\n",
            "13 일\n",
            "15 시\n",
            "50 분\n",
            "8 초\n",
            "\n",
            "# 시간을 포맷에 맞춰 출력하기\n",
            "2021.06.13 15:50:08\n",
            "2021년 6월 13일 15시 50분 8초\n",
            "2021년 06월 13일 15시 50분 08초\n",
            "\n"
          ],
          "name": "stdout"
        }
      ]
    },
    {
      "cell_type": "code",
      "metadata": {
        "colab": {
          "base_uri": "https://localhost:8080/"
        },
        "id": "VzS6-OG7EIYF",
        "outputId": "36809e11-a867-4da6-b44f-9253d57e0829"
      },
      "source": [
        "import datetime\n",
        "now = datetime.datetime.now()\n",
        "\n",
        "# 특정 시간 이후의 시간 구하기 -> timedelta() 함수 사용(but, 몇 년후 기능X)\n",
        "print(\"# datetime.timedelta로 시간 더하기\")\n",
        "after = now + datetime.timedelta(\\\n",
        "                                  weeks = 1,\\\n",
        "                                  days = 1,\\\n",
        "                                  hours = 1,\\\n",
        "                                  minutes = 1,\\\n",
        "                                  seconds = 1)\n",
        "print(after.strftime(\"%Y{} %m{} %d{} %H{} %M{} %S{}\").format(\"년\",\"월\",\"일\",\"시\",\"분\",\"초\"))\n",
        "\n",
        "# 특정 시간 요소 교체하기 -> replace() 함수 사용(몇 년 후 가능)\n",
        "print(\"# now. replace()로 1년 더하기\")\n",
        "output = now.replace(year=(now.year + 1))\n",
        "print(output.strftime(\"%Y{} %m{} %d{} %H{} %M{} %S{}\").format(\"년\",\"월\",\"일\",\"시\",\"분\",\"초\"))"
      ],
      "execution_count": null,
      "outputs": [
        {
          "output_type": "stream",
          "text": [
            "# datetime.timedelta로 시간 더하기\n",
            "2021년 06월 21일 16시 56분 16초\n",
            "# now. replace()로 1년 더하기\n",
            "2022년 06월 13일 15시 55분 15초\n"
          ],
          "name": "stdout"
        }
      ]
    },
    {
      "cell_type": "markdown",
      "metadata": {
        "id": "q4GQ_pJ6FrRt"
      },
      "source": [
        "**time 모듈**: 시간과 관련된 기능(날짜 처리 가능하지만 그런 처리는 대부분 datetime 모듈 사용)  \n",
        "time.sleep() 함수; 특정 시간동안 코드 진행을 정지(초 단위)"
      ]
    },
    {
      "cell_type": "code",
      "metadata": {
        "colab": {
          "base_uri": "https://localhost:8080/"
        },
        "id": "Nmk59y18FVtb",
        "outputId": "d220d3cd-1111-4065-ada3-78188445d7bb"
      },
      "source": [
        "import time\n",
        "print(\"5초 정지 시작\")\n",
        "time.sleep(5)\n",
        "print(\"프로그램 종료\")"
      ],
      "execution_count": null,
      "outputs": [
        {
          "output_type": "stream",
          "text": [
            "5초 정지 시작\n",
            "프로그램 종료\n"
          ],
          "name": "stdout"
        }
      ]
    },
    {
      "cell_type": "markdown",
      "metadata": {
        "id": "9qVFj4QdGFba"
      },
      "source": [
        "**urllib 모듈**: 인터넷 주소를 활용할 때 사용하는 라이브러리"
      ]
    },
    {
      "cell_type": "code",
      "metadata": {
        "colab": {
          "base_uri": "https://localhost:8080/"
        },
        "id": "5NKTC3VsGDSy",
        "outputId": "4ff538f0-7742-49aa-8f08-8d1006c4a8e4"
      },
      "source": [
        "from urllib import request\n",
        "# request 모듈 내부의 urlopen()함수: URL 주소의 페이지를 열어주는 함수\n",
        "target = request.urlopen(\"https://google.com\")\n",
        "output = target.read()\n",
        "\n",
        "print(output)\n",
        "# 출력 시작의 b는 바이너리 데이터 라는 뜻."
      ],
      "execution_count": null,
      "outputs": [
        {
          "output_type": "stream",
          "text": [
            "b'<!doctype html><html itemscope=\"\" itemtype=\"http://schema.org/WebPage\" lang=\"en\"><head><meta content=\"Search the world\\'s information, including webpages, images, videos and more. Google has many special features to help you find exactly what you\\'re looking for.\" name=\"description\"><meta content=\"noodp\" name=\"robots\"><meta content=\"text/html; charset=UTF-8\" http-equiv=\"Content-Type\"><meta content=\"/images/branding/googleg/1x/googleg_standard_color_128dp.png\" itemprop=\"image\"><title>Google</title><script nonce=\"eWq6o6xrA+/apbkIlyIcOw==\">(function(){window.google={kEI:\\'lyvGYM_4FtWKwbkP3ee18AE\\',kEXPI:\\'0,772215,1,530320,54245,2628,954,5104,207,4804,2316,383,246,5,1354,4936,315,16231,10,1106274,1232,1196532,488,31,328984,51223,16112,19401,9286,17572,4858,1362,283,9007,3030,17579,4020,978,13228,2677,1170,4192,6434,1138,6290,7095,4517,2778,919,5081,1593,1279,2212,530,149,1103,840,1983,3,210,4101,3514,606,2023,1777,520,14670,3227,2845,7,4811,7543,5096,7876,4929,108,1483,1371,553,908,2,941,5011,1386,8927,432,3,346,1244,1,5444,149,5990,5333,2652,4,1253,275,2304,1236,5803,74,1717,266,2627,2014,4067,7434,3824,1012,2038,2658,4243,518,2595,31,15933,638,37,1457,5586,9765,770,665,5818,2539,992,1056,2046,18,3120,6,614,294,3,3541,1,5349,4596,4765,1,1813,283,38,351,1,2,2,518,5992,1504,5250,432,552,4788,2,1394,756,634,24,1,110,8,1,1272,1715,2,3057,2015,3246,454,440,11,616,4,32,4,675,667,1461,2584,4,91,592,442,342,254,56,4,434,356,1098,923,93,30,2245,56,116,1158,1263,2909,406,1576,3,1053,1065,1277,2,2123,357,287,1677,3,1040,75,433,2,650,2023,269,775,2233,97,1303,603,1,836,2280,1,440,3726,920,2,631,204,3,75,52,765,127,1369,138,1520,697,404,323,16,695,753,319,1566,173,328,788,586,235,268,256,284,618,523,5,558,2,251,1,8,114,409,627,468,739,817,281,337,1,2,5631558,194,32,63,155,2,58,5996811,46,2800650,882,444,1,2,80,1,1796,1,9,2,2551,1,748,141,795,563,1,4265,1,1,2,1331,3299,843,2609,155,17,13,72,139,4,2,20,2,169,13,19,46,5,39,96,284,4,4,4,4,4,4,8,4,4,4,24,196,29,2,2,1,2,1,2,2,7,4,1,2,2,2,2,2,2,353,468,45,3,58,35,4,10,1,4,28,27,1,23955192,4010273,268,1835,24965,1499,2,868,1509,3,120,3,6,338,3,2340,74\\',kBL:\\'BUvK\\'};google.sn=\\'webhp\\';google.kHL=\\'en\\';})();(function(){\\nvar f=this||self;var h,k=[];function l(a){for(var b;a&&(!a.getAttribute||!(b=a.getAttribute(\"eid\")));)a=a.parentNode;return b||h}function m(a){for(var b=null;a&&(!a.getAttribute||!(b=a.getAttribute(\"leid\")));)a=a.parentNode;return b}\\nfunction n(a,b,c,d,g){var e=\"\";c||-1!==b.search(\"&ei=\")||(e=\"&ei=\"+l(d),-1===b.search(\"&lei=\")&&(d=m(d))&&(e+=\"&lei=\"+d));d=\"\";!c&&f._cshid&&-1===b.search(\"&cshid=\")&&\"slh\"!==a&&(d=\"&cshid=\"+f._cshid);c=c||\"/\"+(g||\"gen_204\")+\"?atyp=i&ct=\"+a+\"&cad=\"+b+e+\"&zx=\"+Date.now()+d;/^http:/i.test(c)&&\"https:\"===window.location.protocol&&(google.ml&&google.ml(Error(\"a\"),!1,{src:c,glmm:1}),c=\"\");return c};h=google.kEI;google.getEI=l;google.getLEI=m;google.ml=function(){return null};google.log=function(a,b,c,d,g){if(c=n(a,b,c,d,g)){a=new Image;var e=k.length;k[e]=a;a.onerror=a.onload=a.onabort=function(){delete k[e]};a.src=c}};google.logUrl=n;}).call(this);(function(){\\ngoogle.y={};google.sy=[];google.x=function(a,b){if(a)var c=a.id;else{do c=Math.random();while(google.y[c])}google.y[c]=[a,b];return!1};google.sx=function(a){google.sy.push(a)};google.lm=[];google.plm=function(a){google.lm.push.apply(google.lm,a)};google.lq=[];google.load=function(a,b,c){google.lq.push([[a],b,c])};google.loadAll=function(a,b){google.lq.push([a,b])};google.bx=!1;google.lx=function(){};}).call(this);google.f={};(function(){\\ndocument.documentElement.addEventListener(\"submit\",function(b){var a;if(a=b.target){var c=a.getAttribute(\"data-submitfalse\");a=\"1\"==c||\"q\"==c&&!a.elements.q.value?!0:!1}else a=!1;a&&(b.preventDefault(),b.stopPropagation())},!0);document.documentElement.addEventListener(\"click\",function(b){var a;a:{for(a=b.target;a&&a!=document.documentElement;a=a.parentElement)if(\"A\"==a.tagName){a=\"1\"==a.getAttribute(\"data-nohref\");break a}a=!1}a&&b.preventDefault()},!0);}).call(this);</script><style>#gbar,#guser{font-size:13px;padding-top:1px !important;}#gbar{height:22px}#guser{padding-bottom:7px !important;text-align:right}.gbh,.gbd{border-top:1px solid #c9d7f1;font-size:1px}.gbh{height:0;position:absolute;top:24px;width:100%}@media all{.gb1{height:22px;margin-right:.5em;vertical-align:top}#gbar{float:left}}a.gb1,a.gb4{text-decoration:underline !important}a.gb1,a.gb4{color:#00c !important}.gbi .gb4{color:#dd8e27 !important}.gbf .gb4{color:#900 !important}\\n</style><style>body,td,a,p,.h{font-family:arial,sans-serif}body{margin:0;overflow-y:scroll}#gog{padding:3px 8px 0}td{line-height:.8em}.gac_m td{line-height:17px}form{margin-bottom:20px}.h{color:#1558d6}em{font-weight:bold;font-style:normal}.lst{height:25px;width:496px}.gsfi,.lst{font:18px arial,sans-serif}.gsfs{font:17px arial,sans-serif}.ds{display:inline-box;display:inline-block;margin:3px 0 4px;margin-left:4px}input{font-family:inherit}body{background:#fff;color:#000}a{color:#4b11a8;text-decoration:none}a:hover,a:active{text-decoration:underline}.fl a{color:#1558d6}a:visited{color:#4b11a8}.sblc{padding-top:5px}.sblc a{display:block;margin:2px 0;margin-left:13px;font-size:11px}.lsbb{background:#f8f9fa;border:solid 1px;border-color:#dadce0 #70757a #70757a #dadce0;height:30px}.lsbb{display:block}#WqQANb a{display:inline-block;margin:0 12px}.lsb{background:url(/images/nav_logo229.png) 0 -261px repeat-x;border:none;color:#000;cursor:pointer;height:30px;margin:0;outline:0;font:15px arial,sans-serif;vertical-align:top}.lsb:active{background:#dadce0}.lst:focus{outline:none}</style><script nonce=\"eWq6o6xrA+/apbkIlyIcOw==\"></script></head><body bgcolor=\"#fff\"><script nonce=\"eWq6o6xrA+/apbkIlyIcOw==\">(function(){var src=\\'/images/nav_logo229.png\\';var iesg=false;document.body.onload = function(){window.n && window.n();if (document.images){new Image().src=src;}\\nif (!iesg){document.f&&document.f.q.focus();document.gbqf&&document.gbqf.q.focus();}\\n}\\n})();</script><div id=\"mngb\"><div id=gbar><nobr><b class=gb1>Search</b> <a class=gb1 href=\"https://www.google.com/imghp?hl=en&tab=wi\">Images</a> <a class=gb1 href=\"https://maps.google.com/maps?hl=en&tab=wl\">Maps</a> <a class=gb1 href=\"https://play.google.com/?hl=en&tab=w8\">Play</a> <a class=gb1 href=\"https://www.youtube.com/?gl=US&tab=w1\">YouTube</a> <a class=gb1 href=\"https://news.google.com/?tab=wn\">News</a> <a class=gb1 href=\"https://mail.google.com/mail/?tab=wm\">Gmail</a> <a class=gb1 href=\"https://drive.google.com/?tab=wo\">Drive</a> <a class=gb1 style=\"text-decoration:none\" href=\"https://www.google.com/intl/en/about/products?tab=wh\"><u>More</u> &raquo;</a></nobr></div><div id=guser width=100%><nobr><span id=gbn class=gbi></span><span id=gbf class=gbf></span><span id=gbe></span><a href=\"http://www.google.com/history/optout?hl=en\" class=gb4>Web History</a> | <a  href=\"/preferences?hl=en\" class=gb4>Settings</a> | <a target=_top id=gb_70 href=\"https://accounts.google.com/ServiceLogin?hl=en&passive=true&continue=https://www.google.com/&ec=GAZAAQ\" class=gb4>Sign in</a></nobr></div><div class=gbh style=left:0></div><div class=gbh style=right:0></div></div><center><br clear=\"all\" id=\"lgpd\"><div id=\"lga\"><img alt=\"Google\" height=\"92\" src=\"/images/branding/googlelogo/1x/googlelogo_white_background_color_272x92dp.png\" style=\"padding:28px 0 14px\" width=\"272\" id=\"hplogo\"><br><br></div><form action=\"/search\" name=\"f\"><table cellpadding=\"0\" cellspacing=\"0\"><tr valign=\"top\"><td width=\"25%\">&nbsp;</td><td align=\"center\" nowrap=\"\"><input name=\"ie\" value=\"ISO-8859-1\" type=\"hidden\"><input value=\"en\" name=\"hl\" type=\"hidden\"><input name=\"source\" type=\"hidden\" value=\"hp\"><input name=\"biw\" type=\"hidden\"><input name=\"bih\" type=\"hidden\"><div class=\"ds\" style=\"height:32px;margin:4px 0\"><input class=\"lst\" style=\"margin:0;padding:5px 8px 0 6px;vertical-align:top;color:#000\" autocomplete=\"off\" value=\"\" title=\"Google Search\" maxlength=\"2048\" name=\"q\" size=\"57\"></div><br style=\"line-height:0\"><span class=\"ds\"><span class=\"lsbb\"><input class=\"lsb\" value=\"Google Search\" name=\"btnG\" type=\"submit\"></span></span><span class=\"ds\"><span class=\"lsbb\"><input class=\"lsb\" id=\"tsuid1\" value=\"I\\'m Feeling Lucky\" name=\"btnI\" type=\"submit\"><script nonce=\"eWq6o6xrA+/apbkIlyIcOw==\">(function(){var id=\\'tsuid1\\';document.getElementById(id).onclick = function(){if (this.form.q.value){this.checked = 1;if (this.form.iflsig)this.form.iflsig.disabled = false;}\\nelse top.location=\\'/doodles/\\';};})();</script><input value=\"AINFCbYAAAAAYMY5pyooFTbq_z-22IEACc2rWdAV0IM5\" name=\"iflsig\" type=\"hidden\"></span></span></td><td class=\"fl sblc\" align=\"left\" nowrap=\"\" width=\"25%\"><a href=\"/advanced_search?hl=en&amp;authuser=0\">Advanced search</a></td></tr></table><input id=\"gbv\" name=\"gbv\" type=\"hidden\" value=\"1\"><script nonce=\"eWq6o6xrA+/apbkIlyIcOw==\">(function(){\\nvar a,b=\"1\";if(document&&document.getElementById)if(\"undefined\"!=typeof XMLHttpRequest)b=\"2\";else if(\"undefined\"!=typeof ActiveXObject){var c,d,e=[\"MSXML2.XMLHTTP.6.0\",\"MSXML2.XMLHTTP.3.0\",\"MSXML2.XMLHTTP\",\"Microsoft.XMLHTTP\"];for(c=0;d=e[c++];)try{new ActiveXObject(d),b=\"2\"}catch(h){}}a=b;if(\"2\"==a&&-1==location.search.indexOf(\"&gbv=2\")){var f=google.gbvu,g=document.getElementById(\"gbv\");g&&(g.value=a);f&&window.setTimeout(function(){location.href=f},0)};}).call(this);</script></form><div id=\"gac_scont\"></div><div style=\"font-size:83%;min-height:3.5em\"><br></div><span id=\"footer\"><div style=\"font-size:10pt\"><div style=\"margin:19px auto;text-align:center\" id=\"WqQANb\"><a href=\"/intl/en/ads/\">Advertising\\xa0Programs</a><a href=\"/services/\">Business Solutions</a><a href=\"/intl/en/about.html\">About Google</a></div></div><p style=\"font-size:8pt;color:#70757a\">&copy; 2021 - <a href=\"/intl/en/policies/privacy/\">Privacy</a> - <a href=\"/intl/en/policies/terms/\">Terms</a></p></span></center><script nonce=\"eWq6o6xrA+/apbkIlyIcOw==\">(function(){window.google.cdo={height:0,width:0};(function(){\\nvar a=window.innerWidth,b=window.innerHeight;if(!a||!b){var c=window.document,d=\"CSS1Compat\"==c.compatMode?c.documentElement:c.body;a=d.clientWidth;b=d.clientHeight}a&&b&&(a!=google.cdo.width||b!=google.cdo.height)&&google.log(\"\",\"\",\"/client_204?&atyp=i&biw=\"+a+\"&bih=\"+b+\"&ei=\"+google.kEI);}).call(this);})();</script> <script nonce=\"eWq6o6xrA+/apbkIlyIcOw==\">(function(){google.xjs={ck:\\'\\',cs:\\'\\',excm:[],pml:false};})();</script>  <script nonce=\"eWq6o6xrA+/apbkIlyIcOw==\">(function(){var u=\\'/xjs/_/js/k\\\\x3dxjs.hp.en_US.vVX_yy3nFpc.O/m\\\\x3dsb_he,d/am\\\\x3dAHgCLA/d\\\\x3d1/ed\\\\x3d1/rs\\\\x3dACT90oHmb46LeyS9PJehslyMs99QMUJqRQ\\';\\nvar e=this||self,f=function(a){return a};var g;var l=function(a,b){this.g=b===h?a:\"\"};l.prototype.toString=function(){return this.g+\"\"};var h={};function m(){var a=u;google.lx=function(){n(a);google.lx=function(){}};google.bx||google.lx()}\\nfunction n(a){google.timers&&google.timers.load&&google.tick&&google.tick(\"load\",\"xjsls\");var b=document;var c=\"SCRIPT\";\"application/xhtml+xml\"===b.contentType&&(c=c.toLowerCase());c=b.createElement(c);if(void 0===g){b=null;var k=e.trustedTypes;if(k&&k.createPolicy){try{b=k.createPolicy(\"goog#html\",{createHTML:f,createScript:f,createScriptURL:f})}catch(p){e.console&&e.console.error(p.message)}g=b}else g=b}a=(b=g)?b.createScriptURL(a):a;a=new l(a,h);c.src=a instanceof l&&a.constructor===l?a.g:\"type_error:TrustedResourceUrl\";var d;a=(c.ownerDocument&&c.ownerDocument.defaultView||window).document;(d=(a=null===(d=a.querySelector)||void 0===d?void 0:d.call(a,\"script[nonce]\"))?a.nonce||a.getAttribute(\"nonce\")||\"\":\"\")&&c.setAttribute(\"nonce\",d);document.body.appendChild(c);google.psa=!0};setTimeout(function(){m()},0);})();(function(){window.google.xjsu=\\'/xjs/_/js/k\\\\x3dxjs.hp.en_US.vVX_yy3nFpc.O/m\\\\x3dsb_he,d/am\\\\x3dAHgCLA/d\\\\x3d1/ed\\\\x3d1/rs\\\\x3dACT90oHmb46LeyS9PJehslyMs99QMUJqRQ\\';})();function _DumpException(e){throw e;}\\nfunction _F_installCss(c){}\\n(function(){google.jl={attn:false,blt:\\'none\\',dw:false,emtn:0,ine:false,lls:\\'default\\',pdt:0,snet:true,ubm:false,uwp:true};})();(function(){var pmc=\\'{\\\\x22d\\\\x22:{},\\\\x22sb_he\\\\x22:{\\\\x22agen\\\\x22:true,\\\\x22cgen\\\\x22:true,\\\\x22client\\\\x22:\\\\x22heirloom-hp\\\\x22,\\\\x22dh\\\\x22:true,\\\\x22dhqt\\\\x22:true,\\\\x22ds\\\\x22:\\\\x22\\\\x22,\\\\x22ffql\\\\x22:\\\\x22en\\\\x22,\\\\x22fl\\\\x22:true,\\\\x22host\\\\x22:\\\\x22google.com\\\\x22,\\\\x22isbh\\\\x22:28,\\\\x22jsonp\\\\x22:true,\\\\x22msgs\\\\x22:{\\\\x22cibl\\\\x22:\\\\x22Clear Search\\\\x22,\\\\x22dym\\\\x22:\\\\x22Did you mean:\\\\x22,\\\\x22lcky\\\\x22:\\\\x22I\\\\\\\\u0026#39;m Feeling Lucky\\\\x22,\\\\x22lml\\\\x22:\\\\x22Learn more\\\\x22,\\\\x22oskt\\\\x22:\\\\x22Input tools\\\\x22,\\\\x22psrc\\\\x22:\\\\x22This search was removed from your \\\\\\\\u003Ca href\\\\x3d\\\\\\\\\\\\x22/history\\\\\\\\\\\\x22\\\\\\\\u003EWeb History\\\\\\\\u003C/a\\\\\\\\u003E\\\\x22,\\\\x22psrl\\\\x22:\\\\x22Remove\\\\x22,\\\\x22sbit\\\\x22:\\\\x22Search by image\\\\x22,\\\\x22srch\\\\x22:\\\\x22Google Search\\\\x22},\\\\x22nrft\\\\x22:false,\\\\x22ovr\\\\x22:{},\\\\x22pq\\\\x22:\\\\x22\\\\x22,\\\\x22refpd\\\\x22:true,\\\\x22rfs\\\\x22:[],\\\\x22sbas\\\\x22:\\\\x220 3px 8px 0 rgba(0,0,0,0.2),0 0 0 1px rgba(0,0,0,0.08)\\\\x22,\\\\x22sbpl\\\\x22:16,\\\\x22sbpr\\\\x22:16,\\\\x22scd\\\\x22:10,\\\\x22stok\\\\x22:\\\\x22_Phj2Pk4VmDUudE9BPEf5PYGcBk\\\\x22,\\\\x22uhde\\\\x22:false}}\\';google.pmc=JSON.parse(pmc);})();</script>        </body></html>'\n"
          ],
          "name": "stdout"
        }
      ]
    },
    {
      "cell_type": "markdown",
      "metadata": {
        "id": "ehJhQ1ODHfYY"
      },
      "source": [
        "**텍스트 데이터와 바이너리 데이터**  \n",
        "100이라는 글자  \n",
        "-> 텍스트 데이터: 00110001 00110000 00110000(49, 48, 48)  \n",
        "ASCII코드에서 1, 0, 0 은 49, 48, 48  \n",
        "-> 바이너리 데이터: 01100100(100)\n",
        "ASCII 코드에서 100은 d.   \n",
        "즉, 바이너리 데이터를 텍스트 데이터로 표현할 경우 의미 이해X   \n",
        "ex) 이미지, 동영상\n",
        "  \n",
        "텍스트 데이터: 텍스트 에디터로 읽을 수 O, 용량이 큼  \n",
        "바이너리 데이터: 텍스트 에디터로 읽을 수 X, 용량이 작음  "
      ]
    },
    {
      "cell_type": "markdown",
      "metadata": {
        "id": "18T02GcCJkzf"
      },
      "source": [
        "*인코딩과 디코딩*  \n",
        "인코딩: A라는 형식을 B라는 형식으로 변환하는 것.(텍스트 데이터를 맞춰 글자로, 바이너리 데이터를 읽어 이미지로 보여 주려면 변환필요!)  \n",
        "텍스트 데이터의 인코딩 방법: ASCII, UTF-8, UTF-16 등  \n",
        "바이너리 데이터의 인코딩 방법: JPEG, PNG, GIF 등  \n",
        "디코딩: 인코딩된 데이터를 반대로 돌리는 것\n"
      ]
    },
    {
      "cell_type": "markdown",
      "metadata": {
        "id": "m2apXEp9KBFg"
      },
      "source": [
        "*인터넷의 이미지 저장하기*  \n",
        "이미지를 저장하기 위해선 데이터를 바이너리 데이터로 저장해야한다. => rb, wb 사용하여 파일을 읽고 써주기!"
      ]
    },
    {
      "cell_type": "code",
      "metadata": {
        "colab": {
          "base_uri": "https://localhost:8080/"
        },
        "id": "_A2_5EwZGkN_",
        "outputId": "124aece9-1e36-40f9-b753-1f1d96e73f1a"
      },
      "source": [
        "from urllib import request\n",
        "target = request.urlopen(\"https://www.hanbit.co.kr/images/common/logo_hanbit.png\")\n",
        "output = target.read()\n",
        "print(output)\n",
        "\n",
        "file = open(\"output.png\",\"wb\")\n",
        "file.write(output)\n",
        "file.close()"
      ],
      "execution_count": null,
      "outputs": [
        {
          "output_type": "stream",
          "text": [
            "b'\\x89PNG\\r\\n\\x1a\\n\\x00\\x00\\x00\\rIHDR\\x00\\x00\\x01\\x04\\x00\\x00\\x00,\\x08\\x06\\x00\\x00\\x00\\x83\\x80\\xc6\\xe5\\x00\\x00\\x00\\x19tEXtSoftware\\x00Adobe ImageReadyq\\xc9e<\\x00\\x00\\x0f/IDATx\\xda\\xec]\\ttU\\xc5\\x19\\xfe\\xb3\\x11 D\\x11\\x13\\x0cF\\x08\\x11\\x14KEA\\xf6M\\xd0\\xd6\\xa3\\xb8\\xe1\\x12W\\x8a\\xa8\\xc7R\\xac\\xb5`\\x05\\xad\\xed\\xa9\\xbbb\\x17\\n\\xd4\\xa5Pj\\x05\\x11+4*\\n\\x15\\xc4\\xca\\xa2\\xf6\\x00Q\\x9b`+\\xa2\\xa0$\\x10%l\\x91%\\t!\\x81\\xd0\\xff\\xcb\\xfb\\x9f\\x99\\xdc\\xdc\\xfb\\xee\\xf2\\xeeM^\\xc2\\xfc\\xe7\\xcc\\xbb\\xef\\xbe\\x99;3w\\x96o\\xfem\\xe6\\xc5\\x1d;v\\x8c4i\\xd2\\xa4\\t\\x94\\x88\\x8f\\xb8\\xb88O\\x0fg,\\x9a\\x93\\xc4\\x97\\x81\\x1cFr\\xe8\\xcb\\xe1L\\x0e\\x99\\x1cN\\x94$U\\x1c\\xf6s\\xd8\\xcc\\xe13\\x0e\\x1fpXUr\\xfd\\x8f\\x8bt\\xd3k\\xd2\\x14[\\x04\\xe6 \\xae\\xf6\\xc3% 0\\x10\\xf4\\xe4\\xcb\\x04\\x0e7rH\\xf7P\\xf6z\\x0e\\xf38\\xccep8\\xa4\\xbbB\\x93\\xa6f\\x08\\x08\\x0c\\x04g\\xf1e*\\x87\\xd1`,|\\xa8\\xc3^\\x0e\\xbf\\xe30\\x93\\x81\\xe1\\xb0\\xee\\x12M\\x9a\\x9a\\x01 0\\x10\\xb4\\xe2\\xcb\\xc3\\x1c&sH\\n\\xa0.[8\\xdc\\xc1\\xa0\\xb0Fw\\x8b&M1\\x0c\\x08\\x0c\\x06\\xd9|Y\\xc8\\xa1\\x7f\\xc0\\xf5\\xa9\\xe1\\xf0\\x18\\x87G\\x18\\x18\\xb4\\xa6S\\x93\\xa6X\\x03\\x04\\x06\\x83\\xf3\\xf8\\xb2\\x8cC\\xc7F\\xac\\xd7\"\\x0ec\\x19\\x14\\xaat\\x17i\\xd2\\x14#\\x80\\xc0`\\x00\\xab\\xc1J\\x0e\\'4A\\xdd\\xfe\\xc9\\xe1\\x1a\\r\\n\\x9a45. $Zp\\x06\\xdd\\xf9\\xb2\\xbc\\x89\\xc0\\x00t\\x19\\x87\\xbfr\\xb8\\xc5\\x8f\\xcc\\xbaeu\\xfd\\x03_r\\xe4\\xf6\\xd2/\\x8b\\n7\\xb6\\xb4\\xce\\xe4w\\xfc$\\xdc_\\xfc~]\\xf5\\xf0\\xd6\\xe4\\x85\\x12M\\xc0\\xa05_r9\\xa45q\\xdd\\xc6r]\\xf2\\x98Kx\\xc6\\x87\\xbc\\xf0.Y\\xf2\\xbd\\x95\\xc3\\t\\xb6\\x9a/#\\xe4\\xf6$\\x9ed\\xfb\\x0c\\xf1\\x88\\xeb#\\xb7\\xb9\\x1c_l\\x91O\\x1f%\\x9f\\x15f`\\xc4i\\x907|7\\x8a\\xa2\\x98\\xcc]\\xa8\\xce\\xff\\xc3\\x0b\\xa0$\\xf3\\xe5N\\x0f\\x8f\\xe6s\\x9d\\xd7\\x18\\xf2\\n\\xeb\\x806p\\\\o\\x93\\xb2\\xc6\\x90\\x98\\xab9~\\x86\\x83\\xba\\x01\\xe8>\\x91\\xdbu\\xfc\\xcc\\x8d\\xf2;\\xf2\\xce\\x97\\xdf\\xe7\\xf1\\xef\\xb7\\x1a\\x9e\\xeb\\xc6\\x97+\\x02\\x18\\x9b\\x7f\\xe3\\xb2\\x0eX\\xd4\\xb5-_\\xc6Q\\xc8\\x12w\\x8e\\xf4I\\x19\\x85\\xfcp ~\\xcf\\xe1gK#\\xbc\\xebby\\x16\\x94\\xcdi\\x0b\\xad\\xda\\xceG\\xfa\\x92\\xcbYb\\n\\x08\\x142+\\x9e\\x1b#\\x805\\x8dAa%\\x83\\xc2F\\x87\\x83:\\x85\\xcc\\xad *\\x08\\xa4r\\xba\\xf6&i*\\xb9Q*]\\xd4\\xedj\\x0e\\x13\\xe5{\\x01\\x87b\\x8bt\\x00\\x83\\xe9\\xf2\\xfd6\\x0e\\x1b]N\\xd4T\\xbe\\xbc\\xef i\\xaa\\xf2L\\x81\\x83\\xf4\\x0f\\xf2\\xfb\\xbe\\xa9\\xdc\\xb7Q\\xea\\xe9\\x86frpk\\x1d\\x9a\\xa2\\x8c\\xb1\\x19\\x0e\\xd2\\xc7+\\x80^\\xe8\\xa2\\x9c^\\x1e\\xdf\\xc9\\x8e0i\\x0f\\x98\\xf4\\xd5p\\xbe\\xfc\\x9dB\\xcey*\\x01$:\\xcaXx\\x80\\xd3\\x8d\\xe7\\xb6_\\xe4\\xb1\\xec)\\x01\\xcc\\xcf784\\x04\\x04\\x9e|X\\xcd\\xee\\x8e\\xf4\\xe4\\x80\\xb4\\x0c\\x1a\\x95\\x99E\\xfb\\xab\\xaa\\xe8\\xa5\\xaf6\\xd1\\x9e\\xc3!\\xbf\"h!\\xae\\xea\\xd2\\x8d\\xfatH\\xa7\\xa2\\xb2\\x834\\x9f\\xe3\\xaaj\\x8eRZr\\x1bj\\x93h*\\x99\\xd0\\x91\\x9a\\x1a\\xdaYYA5\\xd6\\xee\\xd3\\x98\\xc8\\xb3\\xb8^#\\x1cZ\\x1e\\x16(\\xe8jE\\xefY\\xfc\\xfe\\x08\\x85L\\xab\\xb1F\\t\\x1e\\x06\\x80\\x93\\xf4\\x1d4\\x83\\xec\\xab\\xc8\\x06+\\xdc\\xdb\\x02\\xac \\xf8\\xd5\\xac\\xe5\\xb0]V\\xf4a\\x1c\\xda\\t\\xc7\\xb0\\x90\\xd3\\xc71(,\\x8cu\\x91a\\xaa\\x0c@S\\xba\\x84\\x81\\xe0\\x85!\\x17}w\\x7fs\\xf6\\x99t\\xc1\\x8a\\xd7\\xa8\\xfcH5\\xdd\\x7fv?\\x9a\\xf8\\xbd:\\xeepDF&\\xdd\\xf2\\xc1\\n:z\\xac\\x86\\xa6\\xf7;\\x9f\\x86v\\xecd\\x9agQ\\xf9A\\xfa\\xc9\\xdawi\\xc3\\xb7{\\xac\\x8a\\x1d.\\x93|\\xf1q:\\xd6\\x8e\\x82\\xf5v2&e\\xc0\\x81\\xaa\\x1dp\"F\\xb6\\xb5\\\\\\xb8\\x1e\\xd7\\xecf3iGL\\xbeW|\\xcak\\x97\\x01\\x0c\\xc0\\xc1<\\xaf\\x80\\x01\\x80\\xe16\\x9e\\xf0;\\x944\\xed\\x85\\x1b\\x1a\\'?=\\xcd\\xbf-\\xb3\\x12=\"\\xd0=\\xd1\\x88\\x86\\n\\x81c\\x99m\\t\\x08\\xbc\\ncO\\xc2\\xc5\\x91r\\xb8\\xa9k\\x8fz\\xf7\\x9dSRiHz\\x06\\xbd\\xb3c;\\xdd\\x94]?\\xee\\xa2N]j\\xb9\\x03p\\x10\\xe3\\xd7\\xbdKkG]O\\'$5\\x14\\xdf\\xb38\\x8f\\xf9\\xc3.\\xa6a\\xcb\\xffA\\x07\\xaa-\\x8d\\n\\x0f8\\x04\\x84%.YJ\\x95\\xd6E\\xd1\\xb8\\xafp\\xe7Z\\x89\\x1bQ)fy\\xc0\\x1c\\xe4K\\xef\\x08+\\x13D\\xa4_A\\x04P\\x81\\x9d\\x9f{\\xc8e9\\xd5-\\x1ct7\\xf1;\\x06\\xf5~\\xc3D<\\x01}\\x0e`\\xe5\\xb2\\x0e\\x19\\xdaw\\x1f\\xf7\\xd5\\xed\\xa2\\xeb\\xb9@\\xb8\\x86\\xeb\\x04H\\xdc\\xf4\\xd3*\\x9f8\\x9a\\xaev\\x1c\\xc2\\x04[!5\\xa9\\xa1x\\x9e\\x10\\x1f_{m\\x9d\\xd0\\x90\\xb1\\xa8\\x15\\x15\\x98q*=\\\\I\\xb9E[\\xe8\\xf6\\xee=M\\xf3Mo\\xdd\\x86\\xb9\\x8d\\x1e4\\xeb\\x8b\\xffZJ*0\\x83\\xb2\\xd8\\xf0\\xb1Mc=o\\xf1\\xf2\\xf1\\xc2\"Wp\\x9a\\x8a\\x00\\x06\\xc4)M\\xc0\\xa2\\xe2\\x9d\\xae\\xe4\\xf08\\x87\\xef\\x1b\\xa2\\x7f\\xcd\\xf1p(\\x9b\\xc9\\xef\\xfb\\xb1\\xcb|\\xbf\\xe1\\x0b\\xd8\\xb9\\xdd\\xfclG\\x93\\xf8G\\xf9\\xf2\\x1b\\xb9\\xbd2\\xac\\x8c:\\xcei\\x84\\xf2}\\xba\\x11\\x0c\\x94\\xf1Y\\xc3\\xed\\xf7\\xa4\\x00B\\x98\\xfb}>\\x96^$Q\\xb8\\x03\\xb0:9A\\x16\\x94\\xb7\\xa7\\xc4\\x12\\x10@C;\\x9e\\x1a\\t\\x10@c9\\xb8\\x1d\\xdcW\\x89N\\x04\\r\\x9f$\\xbfm\\xa3\\x90\\x15\\xe5\\xf7\\xdcA%>\\xbd\\x1eX\\xfa}\\x16q\\xa7\\t;\\xef\\x07\\x08\\x00u\\x07@z\\x93\\xf6\\xc8V\\xa2\\xb7r\\xf8HV\\x9d\\x04\\x89\\x1f\\xcb\\xcf|\\xc1\\xd7\\xb7\\x84\\x03\\x82F~\\x0b\\x06f\\x84b\\xb6\\x0b \\xa4\\xc3\\xf2\\xc0i\\x8d{LT\\xeb\\xd3\\x1e\\x8d\\x05\\xa15M\\xf9n\\'\\xaa}j\\xf1\\\\L\\xe9\\x10\\xceW\\xe4\\xcf@hwe\\xe4M\\x8d\\xa7\\xb4nc\\x97\\xc5\\xe5\\x1c&9\\x9c8\\x90M^\\xe4p\\x83I4X\\xb6_@\\xc6\\xe3t\\xd7\\xfa\\xc4\\x82M\\xe2|V[\\xd4\\x05u\\x9e\\x1e\\x05\\x08\\xdc, \\x80\\xad\\xe5\\x03\\xa9\\xa12\\xb0Rd\\xd3\\'\\xb8\\x0ee\\x9c~\\x10\\x7f\\xbf_\\xb8\\x87xy\\xeeL5=\\xa7\\x01\\x10\\x82\\x13\\xb8\\xc2\\xc4\\x04\\xb6C\\xf9\\xde\\xc9D\\x04k\\xae\\x80\\xd0\\xda\\xc2\\xba\\xe4\\x85\\x0e\\x18@\\xb5\\xcc\\xa2}\\xec\\xb8\\xc9\\x83\\xb1\\n\\x08\\x17\\x06]PjRd\\xf3\\x7fi\\x95\\xedf\\xc7n\\xcc\\xc9d\\xb2\\xd8\\xf0\\xb5\\x83\\xe2\\xa6)`\\x00e\\xd9K\\x82\\xdc\\x00\\xbd\\xd12\\xc1N\\x82\\xcc\\x0c[6w\\xeeV\\x9b\\xfc\\xa6r\\xbap\\x05\\xf38\\xfd\\xcb\\x8d\\xd8G\\x00\\xb0\\x89&\\xbf\\xe3L\\tl!\\x7f\\x96\\xeb\\xb3KaK\\xc1\\t\\\\\\xcd\\xf5=M\\xda\\x00\\xc0\\xd0_Qx\\xc1\\xcf\\x04\\xf2\\xe3J\\x0b{\\xf87\\xca\\xf7SM\\x00A]\\xd5v\\xdb\\xd4\\xbd\\'\\xd7C}~2\\x97\\x99\\xdbDc\\xfd~\\t~P\\xb6\\xa1]T\\xd6\\x16~\\x02\\xafGx\\xf6&\\x17\\xdcD\\x93\\x01\\xc29A\\x17\\x04sd$*(\\xdd\\xed(\\x1b\\x0e_\\xdb\\xac\\xa8\\xa7S\\x9d\\x83\\r4\\xb8\\x83Ug \\x8e\\x87%\\xe5i\\x0ewQH\\xe1\\x07s\\xa3\\x9dG\\xa4\\xaa_\\xc1$lL@xF\\x00\\x01\\xab\\xc9&\\n\\x99M\\xe1\\xe0\\xf4\\x89\\x8d>\\xa5X\\x80q\\x1a\\xbf3\\xfa\\x19\\x8a\\xc9sE\\x84\\xc9\\x14\\xdd\\x83\\x19\\x15\\x1b\\xc4\\x1d#\\x85\\xf5\\n\\xd5Fg-\\x13\\x82\\x98\\x96\\xa5\\xdc\\xb7\\xa3\\x96Io\\xc9X\\xc3x\\xba\\x96\\xdb{\"\\xb7\\xcdL\\x0b\\x11\\xf6^\\xb9\\x85\\x19}Q\\xac\\x02\\xc2YA\\x16\\xd2*>\\x81\\xae\\xcb:\\xc32\\x1e\\xfe\\n/o\\xfd\\xdcIV0e,\\xb5Is\\x19\\xd5\\x99N\\xa7\\x19=\\x03\\xf9\\xfe\\x18w\\xcc\\x14Aj\\xb0\\xdf\\xa3\\xc5&\\x1c\\xcd\\x0e\\xcb[9\\x8f\\x91\\x16q\\x83\\xa2\\x10\\x17\\xd2e\\xf2\\x8e2D\\xc5\\x8b\\x97\\x9e\\x1b:\":\\x98\\xb0\\x1e\\xa6\\x03D+~\\xef-6\"\\x03Y\\x88\\x0c{\\x1d\\x94\\tqF\\xed\\xd8R\\x07\\xef\\x0c_\\x92\\x14\\x13`\\xf1C\\xcfS\\xe0\\xd3\\x90.3\\x8c\\xa9\\xfd\\\\\\xef\\x87\\x14\\xd1p\\x06\\xc4Q\\xbe\\xbe*\\xed\\x99&}x\\xb9\\xf2\\xd8l~nS\\xac\\x02\\x82\\'\\xe5\\xc6\\x92\\xe2\\xad\\xb4\\xa6$\\xb4`\\xdf\\xfb\\xd1\\xfb4k\\xd0\\x85\\x94`\\xd8(\\x15\\xcf\\xf7\\x8f\\xf6\\x1eD\\xa7\\xb6M1\\xcd\\xa3\\xba\\xa6\\x86\\xee\\xf9\\xf0=\\xdaV\\xeeH\\x9cr\\xb2\\xebR]\\x91\\xfem\\xb1z\\x1e\\xe2\\x0e\\xcb\\xa3\\x90r\\xee\\x04\\xc9wg\\x84<\\xcf\\xa5:\\xcf\\xb42\\x93\\xf8q\\x01\\xf5\\xcf\\x18\\n\\xc6\\xd3.L\\xf00\\x1ci#2\\x18\\xe9d\\x87\\xe2\\x02\\xe8s3\\xd7e\\x07\\x80~b\\x00\\xef\\xba\\x98\\xeb\\xf2p\\x80m9S\\xc4\\xbb{\\xe4~\\xb8\\x043zS\\xf4X^\\x16\\x89\\x85\\xb20F\\xbdNG\\x02\\x84\\x14/9>X\\xb0\\x96\\x0e\\x1d=R\\xfb})\\xc0ag1]\\x98\\xd1\\xb9\\xfe\\xecLI\\xa5\\xd5\\xfc;\\x82\\x91\\xe0\\xa0\\x08\\x87\\xa4\\x92C\\xe5N\\x8bt\\xc2rV9L\\xaf\\x0e:;S\\xe46\\x07\\xecqK!\\xb5\\xa32\\r\\x831M\\xe1\\xbev\\x91\\xa6z\\x9c\\'&9\\xb7\\xd1\\n\\n\\xf9\\x85\\xc07\\xc1\\xb8\\x8d\\xb8@\\xc4\\xb8\\x05Qp\\xa4=(\\xc0\\xad\\x05\\x89\\xd1<\\x1cgx\\xdfx\\x93S\\xd5\\x90\\xe6@\\x95\\xb9\\xc3Q\\xf5\\xb1\\x1a*\\xab\\xf6}\\x87s\\xbe\\xf2\\xfdG\\x14\\xf2\\xd36\\xa2,\\x1au\\x80\\xdc~%\\xce?n\\t\\xf6\\xf8\\x19.\\x9fq\\xab\\x95_\\':\\x0e\\'4I@\\x0e\\xca\\xcf\\xa7\\x1c>S\\xa8\\xb4I\\x17\\x11\\xa1NR\\xe2\\xbb\\x1bD\\x93.\\xca\\xf7\\x1a%n#\\xb7a\\x95O\\x13\\xab\\xbdI\\x7f\\xe1\\xb7o\\x9b\\t0`\\x97\\xf0r\\xae3\\xda\\xb1\\xa7\\xb4)\\x16\\x93\\xcd>\\x99\\xb9\\xc1\\xc1\\xb5\\xf7i\\xeegZ\\x01B\\xb9\\x17.\\xe1\\x89>\\x83\\xe9\\xee\\xbc5\\xb5\\xae\\xcbWu\\xeeF#2\\x1a\\xea\\xa0\\x8a+\\xca\\xe8\\xbe\\xb3\\xfb\\xd2\\xe8\\xce\\xa7\\x9b\\xe6\\x01\\xef\\xc4\\t\\xebV\\xd2\\xaa\\x92b\\xd7\\xb2\\x9b\\x05-\\x93\\xd5\\x0bb@\\x0ew\\x0c\\xcel|<\\xec\"\\xca\\xf7\\x00\\x82\\x97\\x94\\x95n\\xb6\\xc7\\x8e/u\"\\x13+\\x83\\xbav\\xe3\\x95\\x0c\\xee\\n\\xc3\\x04\\xda&\\xa2K\\xb1\\xa1\\x8cu\\xe4\\xd0\\x83\\x92\\xf3\\xbdU\\x00\\xa1\\xd2#k\\xfc\\xa8\\x89\\xe83\\xd0\\x00\\xb0*]\\xa4\\xc4\\x19\\xb5\\xee\\x9ac(*\\xfc\\xd6Jd\\x8d2\\xdfK\\xfd\\xc8G<\\x15\\xb7Z\\x01\\xc2n/\\x800*\\xb3+\\r?e3-\\xff\\xba\\x88~\\xdbw\\xa8\\xe9\\xa9\\xabP\\x18B\\xbf0$\\xbdS\\xadG\\xa2\\x91\\xe0\\xce<g\\xf0\\x0fh\\xc8\\xb2E\\xb4\\xab\\xd2\\xf6\\x00\\xe6]\\x0e\\x1a\\x0c\\xb6xX\\x19r\\x85e\\x83\\x02q\\x92x\\xe0\\xb55\\xe8K\\xa0G\\xf8S#\\x8d\\x11u\\xe3\\x15v=\\xceU\\xea|N\\x84\\x8e\\x83\\x99\\xf0\\x97\\x0e\\xf2\\x0f\\xaf\\x1a\\xb0\\xb7;\\x01\\x04\\xc8\\xd4\\x05\\xc7\\xd1\\x1c\\xbd\\xc4G?\\x84\\xd7\\xc3[\\xbe\\xa3\\xf53Q\\xa8\\xc1V\\xe7\\xa6\\xa00 @\\xdb\\xd95\\xa8B\\xc0A\\xc0u\\xf9\\xce\\x1e\\xbdL\\xe3S\\x12\\x93h\\xcc\\xe9g\\xd1\\xf4\\x8d\\xf9\\xb6J*\\x87(\\xfa\\x9ahy\\xe7\\x88\\x12\\xcch\\xfe\"\\x01\\x8c\\xf1.\\xb7<\\xdb\\xa1.\\xb8\\x8ev\\xd0:{|\\xfe\\x0c~v\\xb3\\xe1g\\x00\\x82\\x9b}\\t\\xc9\\x0e\\xd3\\x17R}\\xad\\xfb\\xe2(V\\xf9\\xe6\\xa0_\\x19(\\xc1\\x0fB;\\xb5\\xc8\\x03\\x81\\xc3\\x80\\x00\\x9b\\xf6%A\\x16\\xf4\\xe1\\xde\\x9dt\\'\\xf5\\xb2\\x8c\\xef\\x7f\\xb2\\xa3\\xed\\x00\\xf9N\\xcb\\xe3\\x89\\xf5:O\\xb0w(\\xe4\\x92=TD\\x88J\\x01\\xbfW\\xed\\xec\\xf8\\x1e\\t>\\xed\\xcb\\xb8\\xdcU\\xa2\\xbbx\\x83\\xcb\\xf9&\\x02\\x00\\xc4\\x8b.\\x03u\\xc4N\\xc3l8\\x14Ez&@\\x16w1\\x1d\\xbf;J\\xa3\\xa1b\\x0bp\\x80B\\xbb\\xaf|\\xdf)\\xe3.\\x12U\\xc6\\x12 \\xe0\\xec\\xc4\\xfb\\x82,h\\xbf\\x8d\\'bZrk\\xdb1\\xeb\\xd0K\\xb1\\x9e\\xf8 \\xac\\xf9\\xdcFjOLj\\x98s.\\x96\\xf0\\x9c\\x9871\\xd1R\\x95t\\xf0\\xe0{V\\xd2\\x1bm\\xfdp^yN\\xb9\\x87\\xc2\\xb3\\x8fO\\xf5\\x83\\x19sr\\x04\\x80\\x82\\xcfD\\xd8ob\\t\\xb7\\xdf\\x97\\xcd|\\xb2\\xae\\xa0\\xfa\\xfb=\\xfc\\xa2Re\\x8c\\xe5\\n\\xb7ilK\\xf54\\xa7\\xe5\\xc6\\xd3\\x9cb\\x9dC\\x80\\xf7[\\x19\\x05\\xe8I\\xd6\\xbeUr\\xc4\\xf8=\\x87m\\x01r\\xa9\\xd3\\xb2d/C\\xd8\\x86^\\xc6\\x9d\\xd1X>\\xf7\\xfdL~\\x1b@u\\x16\\x8d0M\\xb1x\\x1e6\\xdc.M)g+\\xe2\\x06\\xd8\\xe2f\\r\\x08\\xb2\\xb3\\xb5\\x904\\xb9\\x03\\x04\\xfc\\x9dZ\\xc6\\xa29@\\xb9\\xc0Pl`ZF\\xc4\\xf8\\xf5{l-2\\xf3]\\x14\\xd7SA\\xe7y\\x1e\\xdf\\x0b\\x1e|a%\\xd4Q\\x87\\x03p0\\x83\\xd1y\\xb2\\xca#\\xf4r\\xf0\\x18\\x90\\x10\\xa2\\xcd\\xab\\xb2*\\x1b-\\x17\\xa9nD\\xa5\\x18\\xa1\\xb0\\xa9\\xb4DO1\\xd3\\x05\\x0b{\\x87~\\x1eA\\xd7\\xd1\\x18TAu&\\xf9\\xf5F\\x0e\\x014+(@\\xc09\\n9Y\\xdd-\\xe3\\xcb\\x8eT\\xdb\\xb9.\\xe7\\xd9\\x9d\\x85\\x10\\xc0\\xear\\x87\\xc7\\xe7\\xfe\\xc3\\x17\\x84\\x07\\xe5L\\x02\\xe4\\x03\\xffu#\\x8b\\x84\\xcdI\\xb0\\x1e,\\x15\\xd1\\xa6\\xc5P\\xc0\\x1e\\x81-\\x81\\xc0\\x05\\x8en\\xe2>\\xda%\\x8b\\x96\\xa9\\xc8\\x00.a=s\\to\\x93\\xcd\\xa9In)9!\\x81\\xfe\\xd8\\xef|\\xea`\\xa1#\\xd8Wu\\xb8\\xd6\\x0f\\xc1f{\\xf4\\xd4f\\xda\\xf1\\xb0:\\x8c3\\x01\\x03\\x10\\xac\\x1eP&\\xbe\\xe6\"\\xbf\"\\x1f\\xf5!\\x05z^j\\xb2\\x04\\x04!\\x1cU\\xf6C\\xb28W\\xf1\\xa9\\xff}\\xcc\\x13\\xbb\\xfe\\xd8\\xce\\xdf\\x1bri\\xbfk\\xfd*J\\x94\\xd3\\x93\\xbe\\xd3\\x0b\\xf0$?\\xadm;za\\xcb\\xc6\\xda`$\\xf8(|\\xba\\xaf\\xf4;\\xf7g\\x0bz\\x9fL\\xbc\\r\\x9b\\x01[\\x08\\x96h5\\xd5\\xf7\\x06\\x03\\x9b\\x08\\x87\\x9e\\xf0\\xd1\\xe00\\x8d\\xe6r\\xda\\x1c\\x87\\x9e~\\x85-m\\xf5\\xb59!\\x1a{!n\\xf0\\x98/|\\x03.\\x08\\xb0\\xea\\xb3\\xb8n\\xb3<\\xae\\xces\\xad\\x80\\xddp\\x0c\\xbb\\xfa;\\xbck\\x83>\\x94\\xb5w=@`.!\\x9f\\xb9\\x04l\\r6=\\x88$/\\x82\\x9c\\xff\\xaf\\x1d\\xdb\\xcd_\\xfe\\xe0\\xfe\\xda\\xe0\\x910I&D\\xf9_\\x8f9\\x11v\":%\\xfc\\xef\\xc2\\xe4(\\xc0\\x00\\x87i\\xfc\\x94\\xf3\\x98\\xcdq\\xf0\\x8c\\xccU@\\xe1\\n\\x17\\xa00\\xc8p\\xbe@4\\x84-\\xd4\\xe3#\\xc4\\xff\\x85\\xcb\\x9a\\xe1C9vg \\x04\\xe5\\x97\\x9fM\\xc1\\xfe\\x9d@F#cg\\x1bj\\x84\\xbfG0\\xdb\\xcb\\xf0\\x80 k,\\xfc7\\xc3\\xbdN\\xff\\x93!\\x02\\xa5\\x90\\xc7\\xcd[\\n\\xa5\\xb9\\x00\\x03(4W\\x18\\xc0\\xe0\\x16\\x9e\\x14\\x0bdu\\xa8\\xc2\\xe4\\xf7\\x08\\n\\xc9\\xd4\\xd0\\xc1\\xca+\\xd9\\xed\\x1c\\xf5\\xebx/3\\xcb\\x15L\\xa9NV\\x89hN\\x14*wX\\x86Wjl\\xbf\\x81\\xa3\\x01\\xbf\\x8f9 \\xf0\\x04\\xacd.\\x01\\x03v-5\\xed\\xbf7\\xcd\\x8f\\xe2_\\x9b\\xa0\\x90\\xd8\\xe0c]\\xb69\\x04\\x03\\xb8J/\\xb0\\x02\\x03\\x85e\\x04(\\\\C!\\x0b\\xc8\\xcd\\n(`K\\xecS&\\x03aC\\x00\\xedkvJTI\\x00e\\x95\\x9a\\xb0\\xcc\\xc3=L\\x86p\\xbd\\xb68d\\xcb\\xc7\\xb4$\\xd1\\x8a\\xdf\\x07\\xa72\\xb5\\x0f\\xba\\x1c\\xfdg\\xaf\\xc1\\xe9\\x0e:\\x99\\x81\\x81!-t5/\\n(\\xe0\\xf4\\xe2\\x1c\\xbfv\\r\\x1e\\x0f\\xd4\\x84\\xfe&\\x81\\xd5\\x8d\\x9f\\x03\\xe7\\xd6Vn\\x8b\\xf9\\xb9#\\x8dUg\\xfdw\\xf0\\xc1\\x82Bo\\'\\xe7\\x07\\n(\\xfc\\x8c\\xc3\\x9f5\\x18hjJ\\xb2\\x05\\x04\\x01\\x05(g\\xa0\\xdd\\xec\\x1fp}\\xc0^?\\xc6\\xe1\\x91(\\x95\\x88\\x9a4i\\n\\n\\x10\\x04\\x14\\xc0\\xfe<L!?\\xf8\\xa4\\x00\\xea\\x02\\xb9\\xf0\\x0e\\x06\\x825\\xba[4i\\x8aq@P\\x80\\x01\\x87\\xb1\\xc2I\\x08v\\xd28\\x1f\\xea\\x80\\x83:q\\x80\\xc9L\\x06\\x83\\xc3\\xbaK4ijF\\x80\\xa0\\x00\\x03Lk8\\x84\\x04N#^\\xccS\\xf0\\x9d\\x86\\x86}\\x1e\\x03A\\x85\\xee\\nM\\x9a\\x9a1 (\\xc0\\x00\\xf1\\x01\\x9b1FRh\\xef7\\xbc\\xa9\\xa0Y\\r\\x1f`\\n%\\x19l\\xa78\\xf4\\xe33\\x0e\\x1fpX\\xc5 P\\xa4\\x9b_\\x93\\xa6\\x18\\x05\\x04M\\x9a4i\\x02\\xfd_\\x80\\x01\\x00\\xed$ky]PVU\\x00\\x00\\x00\\x00IEND\\xaeB`\\x82'\n"
          ],
          "name": "stdout"
        }
      ]
    },
    {
      "cell_type": "markdown",
      "metadata": {
        "id": "joMatRmKLTVh"
      },
      "source": [
        "# 7-2. 외부 모듈"
      ]
    },
    {
      "cell_type": "code",
      "metadata": {
        "colab": {
          "base_uri": "https://localhost:8080/"
        },
        "id": "dQpC9aFfKzvO",
        "outputId": "2bffd082-759f-41d4-c1a6-954e2382871c"
      },
      "source": [
        "# 모듈 설치하기\n",
        "! pip install BeautifulSoup4"
      ],
      "execution_count": null,
      "outputs": [
        {
          "output_type": "stream",
          "text": [
            "Requirement already satisfied: BeautifulSoup4 in /usr/local/lib/python3.7/dist-packages (4.6.3)\n"
          ],
          "name": "stdout"
        }
      ]
    },
    {
      "cell_type": "markdown",
      "metadata": {
        "id": "u_lsZEveTXSl"
      },
      "source": [
        "**BeautifulSoup 모듈**  \n",
        "BeautifulSoup()는 단순 함수가 아니라 클래스의 생성자"
      ]
    },
    {
      "cell_type": "code",
      "metadata": {
        "colab": {
          "base_uri": "https://localhost:8080/"
        },
        "id": "5DcQlK8uM-6H",
        "outputId": "1d6e156d-ef8a-4d46-a691-2e5f0627ab90"
      },
      "source": [
        "from urllib import request\n",
        "from bs4 import BeautifulSoup\n",
        "\n",
        "target = request.urlopen(\"https://www.weather.go.kr/weather/forecast/mid-term-rss3.jsp?stnId=108\")\n",
        "\n",
        "# html.parser; html에 따른 구문분석법으로 웹 페이지를 분석\n",
        "# soup라는 객체 생성\n",
        "soup = BeautifulSoup(target, \"html.parser\")\n",
        "\n",
        "# select()함수는 태그를 여러개 선택\n",
        "# select_one() 함수는 태그를 하나만 선택\n",
        "for location in soup.select(\"location\"):\n",
        "  print(\"도시:\", location.select_one(\"city\").string)\n",
        "  print(\"날씨:\", location.select_one(\"wf\").string)\n",
        "  print(\"최저기온:\", location.select_one(\"tmn\").string)\n",
        "  print(\"최고기온:\", location.select_one(\"tmx\").string)"
      ],
      "execution_count": null,
      "outputs": [
        {
          "output_type": "stream",
          "text": [
            "도시: 서울\n",
            "날씨: 맑음\n",
            "최저기온: 20\n",
            "최고기온: 31\n",
            "도시: 인천\n",
            "날씨: 맑음\n",
            "최저기온: 20\n",
            "최고기온: 28\n",
            "도시: 수원\n",
            "날씨: 맑음\n",
            "최저기온: 19\n",
            "최고기온: 30\n",
            "도시: 파주\n",
            "날씨: 맑음\n",
            "최저기온: 18\n",
            "최고기온: 30\n",
            "도시: 이천\n",
            "날씨: 맑음\n",
            "최저기온: 18\n",
            "최고기온: 30\n",
            "도시: 평택\n",
            "날씨: 맑음\n",
            "최저기온: 19\n",
            "최고기온: 30\n",
            "도시: 춘천\n",
            "날씨: 구름많음\n",
            "최저기온: 19\n",
            "최고기온: 30\n",
            "도시: 원주\n",
            "날씨: 구름많음\n",
            "최저기온: 19\n",
            "최고기온: 30\n",
            "도시: 강릉\n",
            "날씨: 흐리고 비\n",
            "최저기온: 18\n",
            "최고기온: 24\n",
            "도시: 대전\n",
            "날씨: 맑음\n",
            "최저기온: 20\n",
            "최고기온: 31\n",
            "도시: 세종\n",
            "날씨: 맑음\n",
            "최저기온: 19\n",
            "최고기온: 30\n",
            "도시: 홍성\n",
            "날씨: 맑음\n",
            "최저기온: 19\n",
            "최고기온: 30\n",
            "도시: 청주\n",
            "날씨: 맑음\n",
            "최저기온: 20\n",
            "최고기온: 30\n",
            "도시: 충주\n",
            "날씨: 맑음\n",
            "최저기온: 18\n",
            "최고기온: 30\n",
            "도시: 영동\n",
            "날씨: 맑음\n",
            "최저기온: 18\n",
            "최고기온: 31\n",
            "도시: 광주\n",
            "날씨: 맑음\n",
            "최저기온: 20\n",
            "최고기온: 30\n",
            "도시: 목포\n",
            "날씨: 맑음\n",
            "최저기온: 21\n",
            "최고기온: 28\n",
            "도시: 여수\n",
            "날씨: 맑음\n",
            "최저기온: 20\n",
            "최고기온: 26\n",
            "도시: 순천\n",
            "날씨: 맑음\n",
            "최저기온: 20\n",
            "최고기온: 29\n",
            "도시: 광양\n",
            "날씨: 맑음\n",
            "최저기온: 20\n",
            "최고기온: 29\n",
            "도시: 나주\n",
            "날씨: 맑음\n",
            "최저기온: 20\n",
            "최고기온: 30\n",
            "도시: 전주\n",
            "날씨: 맑음\n",
            "최저기온: 20\n",
            "최고기온: 31\n",
            "도시: 군산\n",
            "날씨: 맑음\n",
            "최저기온: 19\n",
            "최고기온: 30\n",
            "도시: 정읍\n",
            "날씨: 맑음\n",
            "최저기온: 19\n",
            "최고기온: 30\n",
            "도시: 남원\n",
            "날씨: 맑음\n",
            "최저기온: 19\n",
            "최고기온: 31\n",
            "도시: 고창\n",
            "날씨: 맑음\n",
            "최저기온: 20\n",
            "최고기온: 30\n",
            "도시: 무주\n",
            "날씨: 맑음\n",
            "최저기온: 17\n",
            "최고기온: 30\n",
            "도시: 부산\n",
            "날씨: 구름많음\n",
            "최저기온: 20\n",
            "최고기온: 26\n",
            "도시: 울산\n",
            "날씨: 구름많음\n",
            "최저기온: 19\n",
            "최고기온: 25\n",
            "도시: 창원\n",
            "날씨: 구름많음\n",
            "최저기온: 19\n",
            "최고기온: 27\n",
            "도시: 진주\n",
            "날씨: 구름많음\n",
            "최저기온: 19\n",
            "최고기온: 29\n",
            "도시: 거창\n",
            "날씨: 구름많음\n",
            "최저기온: 18\n",
            "최고기온: 28\n",
            "도시: 통영\n",
            "날씨: 구름많음\n",
            "최저기온: 20\n",
            "최고기온: 28\n",
            "도시: 대구\n",
            "날씨: 흐리고 비\n",
            "최저기온: 19\n",
            "최고기온: 28\n",
            "도시: 안동\n",
            "날씨: 흐리고 비\n",
            "최저기온: 18\n",
            "최고기온: 28\n",
            "도시: 포항\n",
            "날씨: 흐리고 비\n",
            "최저기온: 20\n",
            "최고기온: 24\n",
            "도시: 경주\n",
            "날씨: 흐리고 비\n",
            "최저기온: 20\n",
            "최고기온: 25\n",
            "도시: 울진\n",
            "날씨: 흐리고 비\n",
            "최저기온: 17\n",
            "최고기온: 21\n",
            "도시: 울릉도\n",
            "날씨: 흐리고 비\n",
            "최저기온: 17\n",
            "최고기온: 22\n",
            "도시: 제주\n",
            "날씨: 흐리고 비\n",
            "최저기온: 21\n",
            "최고기온: 27\n",
            "도시: 서귀포\n",
            "날씨: 흐리고 비\n",
            "최저기온: 21\n",
            "최고기온: 26\n"
          ],
          "name": "stdout"
        }
      ]
    },
    {
      "cell_type": "markdown",
      "metadata": {
        "id": "ubTlOECGU-sb"
      },
      "source": [
        "**Flask 모듈**  \n",
        "웹 개발 프레임워크 중 매우 다양한 기능을 제공하는 것은 Django,  \n",
        "작은 기능만을 제공한느 것은 Flask이다.  \n"
      ]
    },
    {
      "cell_type": "code",
      "metadata": {
        "colab": {
          "base_uri": "https://localhost:8080/"
        },
        "id": "9GVl9AR6UqVY",
        "outputId": "69c015e5-6b64-4196-9038-14534f40bc81"
      },
      "source": [
        "! pip install flask"
      ],
      "execution_count": null,
      "outputs": [
        {
          "output_type": "stream",
          "text": [
            "Requirement already satisfied: flask in /usr/local/lib/python3.7/dist-packages (1.1.4)\n",
            "Requirement already satisfied: click<8.0,>=5.1 in /usr/local/lib/python3.7/dist-packages (from flask) (7.1.2)\n",
            "Requirement already satisfied: itsdangerous<2.0,>=0.24 in /usr/local/lib/python3.7/dist-packages (from flask) (1.1.0)\n",
            "Requirement already satisfied: Jinja2<3.0,>=2.10.1 in /usr/local/lib/python3.7/dist-packages (from flask) (2.11.3)\n",
            "Requirement already satisfied: Werkzeug<2.0,>=0.15 in /usr/local/lib/python3.7/dist-packages (from flask) (1.0.1)\n",
            "Requirement already satisfied: MarkupSafe>=0.23 in /usr/local/lib/python3.7/dist-packages (from Jinja2<3.0,>=2.10.1->flask) (2.0.1)\n"
          ],
          "name": "stdout"
        }
      ]
    },
    {
      "cell_type": "code",
      "metadata": {
        "colab": {
          "base_uri": "https://localhost:8080/"
        },
        "id": "FM1H13bTXeOk",
        "outputId": "3a02eb54-ed5b-4064-bcc0-45361b1d403b"
      },
      "source": [
        "# 코랩사용 위해선 필수\n",
        "! pip install flask-ngrok"
      ],
      "execution_count": null,
      "outputs": [
        {
          "output_type": "stream",
          "text": [
            "Requirement already satisfied: flask-ngrok in /usr/local/lib/python3.7/dist-packages (0.0.25)\n",
            "Requirement already satisfied: Flask>=0.8 in /usr/local/lib/python3.7/dist-packages (from flask-ngrok) (1.1.4)\n",
            "Requirement already satisfied: requests in /usr/local/lib/python3.7/dist-packages (from flask-ngrok) (2.23.0)\n",
            "Requirement already satisfied: click<8.0,>=5.1 in /usr/local/lib/python3.7/dist-packages (from Flask>=0.8->flask-ngrok) (7.1.2)\n",
            "Requirement already satisfied: itsdangerous<2.0,>=0.24 in /usr/local/lib/python3.7/dist-packages (from Flask>=0.8->flask-ngrok) (1.1.0)\n",
            "Requirement already satisfied: Jinja2<3.0,>=2.10.1 in /usr/local/lib/python3.7/dist-packages (from Flask>=0.8->flask-ngrok) (2.11.3)\n",
            "Requirement already satisfied: Werkzeug<2.0,>=0.15 in /usr/local/lib/python3.7/dist-packages (from Flask>=0.8->flask-ngrok) (1.0.1)\n",
            "Requirement already satisfied: certifi>=2017.4.17 in /usr/local/lib/python3.7/dist-packages (from requests->flask-ngrok) (2020.12.5)\n",
            "Requirement already satisfied: urllib3!=1.25.0,!=1.25.1,<1.26,>=1.21.1 in /usr/local/lib/python3.7/dist-packages (from requests->flask-ngrok) (1.24.3)\n",
            "Requirement already satisfied: chardet<4,>=3.0.2 in /usr/local/lib/python3.7/dist-packages (from requests->flask-ngrok) (3.0.4)\n",
            "Requirement already satisfied: idna<3,>=2.5 in /usr/local/lib/python3.7/dist-packages (from requests->flask-ngrok) (2.10)\n",
            "Requirement already satisfied: MarkupSafe>=0.23 in /usr/local/lib/python3.7/dist-packages (from Jinja2<3.0,>=2.10.1->Flask>=0.8->flask-ngrok) (2.0.1)\n"
          ],
          "name": "stdout"
        }
      ]
    },
    {
      "cell_type": "code",
      "metadata": {
        "colab": {
          "base_uri": "https://localhost:8080/"
        },
        "id": "cD9U6_NVXkTw",
        "outputId": "4e349b1b-8229-4d66-b948-4b81dad0ac2c"
      },
      "source": [
        "! export FLASK_APP = flask_basic.py # 윈도우 경우 export 대신 set\n",
        "! flask run"
      ],
      "execution_count": null,
      "outputs": [
        {
          "output_type": "stream",
          "text": [
            "/bin/bash: line 0: export: `=': not a valid identifier\n",
            "/bin/bash: line 0: export: `flask_basic.py': not a valid identifier\n",
            " * Environment: production\n",
            "\u001b[31m   WARNING: This is a development server. Do not use it in a production deployment.\u001b[0m\n",
            "\u001b[2m   Use a production WSGI server instead.\u001b[0m\n",
            " * Debug mode: off\n",
            "Usage: flask run [OPTIONS]\n",
            "\n",
            "Error: Could not locate a Flask application. You did not provide the \"FLASK_APP\" environment variable, and a \"wsgi.py\" or \"app.py\" module was not found in the current directory.\n"
          ],
          "name": "stdout"
        }
      ]
    },
    {
      "cell_type": "code",
      "metadata": {
        "colab": {
          "base_uri": "https://localhost:8080/"
        },
        "id": "bESYmaASX5Yg",
        "outputId": "196a8081-bfb5-4f23-fb8b-6a87bdde152a"
      },
      "source": [
        "#Flask 모듈 사용하기\n",
        "from flask import Flask\n",
        "from flask_ngrok import run_with_ngrok # 코랩 사용 위해 추가\n",
        "app = Flask(__name__)\n",
        "run_with_ngrok(app) # 추가\n",
        "\n",
        "@app.route(\"/\") #데코레이터\n",
        "def hello():\n",
        "  return \"<h1>Hello World!</h1>\"\n",
        "\n",
        "if __name__ == '__main__':\n",
        "  app.run()"
      ],
      "execution_count": null,
      "outputs": [
        {
          "output_type": "stream",
          "text": [
            " * Serving Flask app \"__main__\" (lazy loading)\n",
            " * Environment: production\n",
            "\u001b[31m   WARNING: This is a development server. Do not use it in a production deployment.\u001b[0m\n",
            "\u001b[2m   Use a production WSGI server instead.\u001b[0m\n",
            " * Debug mode: off\n"
          ],
          "name": "stdout"
        },
        {
          "output_type": "stream",
          "text": [
            " * Running on http://127.0.0.1:5000/ (Press CTRL+C to quit)\n"
          ],
          "name": "stderr"
        },
        {
          "output_type": "stream",
          "text": [
            " * Running on http://35da9d6d5831.ngrok.io\n",
            " * Traffic stats available on http://127.0.0.1:4040\n"
          ],
          "name": "stdout"
        },
        {
          "output_type": "stream",
          "text": [
            "127.0.0.1 - - [13/Jun/2021 17:18:53] \"\u001b[37mGET / HTTP/1.1\u001b[0m\" 200 -\n",
            "127.0.0.1 - - [13/Jun/2021 17:18:54] \"\u001b[33mGET /favicon.ico HTTP/1.1\u001b[0m\" 404 -\n"
          ],
          "name": "stderr"
        }
      ]
    },
    {
      "cell_type": "code",
      "metadata": {
        "colab": {
          "base_uri": "https://localhost:8080/"
        },
        "id": "O8muag2uYXUP",
        "outputId": "1a8dc785-6d30-4042-dfdf-891ace6707c5"
      },
      "source": [
        "from urllib import request\n",
        "from bs4 import BeautifulSoup\n",
        "from flask import Flask\n",
        "from flask_ngrok import run_with_ngrok\n",
        "\n",
        "app = Flask(__name__)\n",
        "run_with_ngrok(app)\n",
        "@app.route(\"/\")\n",
        "\n",
        "def hello():\n",
        "  target = request.urlopen(\"https://www.weather.go.kr/weather/forecast/mid-term-rss3.jsp?stnId=108\")\n",
        "\n",
        "  soup = BeautifulSoup(target, \"html.parser\")\n",
        "\n",
        "  output = \"\"\n",
        "  for location in soup.select(\"location\"):\n",
        "    output += \"<h3>{}</h3>\".format(location.select_one(\"city\").string)\n",
        "    output += \"날씨: {}<br/>\".format(location.select_one(\"wf\").string)\n",
        "    output += \"최저/최고 기온: {}/{}\"\\\n",
        "    .format(\\\n",
        "            location.select_one(\"tmn\").string,\\\n",
        "            location.select_one(\"tmx\").string)\n",
        "    output += \"<hr/>\"\n",
        "  return output\n",
        "\n",
        "if __name__ == '__main__':\n",
        "  app.run()"
      ],
      "execution_count": null,
      "outputs": [
        {
          "output_type": "stream",
          "text": [
            " * Serving Flask app \"__main__\" (lazy loading)\n",
            " * Environment: production\n",
            "\u001b[31m   WARNING: This is a development server. Do not use it in a production deployment.\u001b[0m\n",
            "\u001b[2m   Use a production WSGI server instead.\u001b[0m\n",
            " * Debug mode: off\n"
          ],
          "name": "stdout"
        },
        {
          "output_type": "stream",
          "text": [
            " * Running on http://127.0.0.1:5000/ (Press CTRL+C to quit)\n"
          ],
          "name": "stderr"
        },
        {
          "output_type": "stream",
          "text": [
            " * Running on http://a0ada1d72857.ngrok.io\n",
            " * Traffic stats available on http://127.0.0.1:4040\n"
          ],
          "name": "stdout"
        },
        {
          "output_type": "stream",
          "text": [
            "127.0.0.1 - - [13/Jun/2021 17:28:57] \"\u001b[37mGET / HTTP/1.1\u001b[0m\" 200 -\n",
            "127.0.0.1 - - [13/Jun/2021 17:28:58] \"\u001b[33mGET /favicon.ico HTTP/1.1\u001b[0m\" 404 -\n"
          ],
          "name": "stderr"
        }
      ]
    },
    {
      "cell_type": "markdown",
      "metadata": {
        "id": "MeLoRGVCbPIY"
      },
      "source": [
        "**라이브러리와 프레임워크**  \n",
        "라이브러리: 개발자가 모듈의 기능을 호출하는 형태의 모듈(정상적인 제어)  \n",
        "프레임워크: 개발자가 작성한 코드를 실행하는 형태의 모듈(제어 역전) ex.Flask 모듈"
      ]
    },
    {
      "cell_type": "markdown",
      "metadata": {
        "id": "9UORsyavb25V"
      },
      "source": [
        "**함수 데코레이터**: 데코레이터는 @로 시작하는 구문으로 꾸며주는 기능.  \n",
        "함수 데코레이터와 클래스 데코레이터로 나뉨.  \n"
      ]
    },
    {
      "cell_type": "code",
      "metadata": {
        "colab": {
          "base_uri": "https://localhost:8080/"
        },
        "id": "xvI3RnVsaChU",
        "outputId": "3199c392-cf71-4724-e260-e16496139753"
      },
      "source": [
        "#from functools import wraps\n",
        "\n",
        "def test(function):\n",
        "#  @wraps(function)\n",
        "  def wrapper():\n",
        "    print(\"인사 시작\")\n",
        "    function()\n",
        "    print(\"인사 종료\")\n",
        "  return wrapper\n",
        "\n",
        "@test\n",
        "def hello():\n",
        "  print(\"hello\")\n",
        "\n",
        "hello()"
      ],
      "execution_count": null,
      "outputs": [
        {
          "output_type": "stream",
          "text": [
            "인사 시작\n",
            "hello\n",
            "인사 종료\n"
          ],
          "name": "stdout"
        }
      ]
    },
    {
      "cell_type": "markdown",
      "metadata": {
        "id": "FQIJZDVleDNr"
      },
      "source": [
        "# 7-3. 모듈 만들기"
      ]
    },
    {
      "cell_type": "markdown",
      "metadata": {
        "id": "vCGKDYaveFn_"
      },
      "source": [
        "**모듈 만들기**  \n",
        "\n",
        "\n",
        "```\n",
        "# test_module.py 파일\n",
        "PI = 3.141592\n",
        "def number_input():\n",
        "  output = input(\"숫자 입력> \")\n",
        "  return output\n",
        "def get_circumference(radius):\n",
        "  return 2 * PI * radius\n",
        "def get_circle_area(radius):\n",
        "  return PI * radius * radius\n",
        "```\n",
        "\n",
        "\n",
        "```\n",
        "# main.py 파일\n",
        "import test_module as test\n",
        "\n",
        "radius = test.number_input()\n",
        "print(test.get_circumference(radius))\n",
        "print(test.get_circle_area(radius))\n",
        "```\n",
        "\n",
        "\n"
      ]
    },
    {
      "cell_type": "markdown",
      "metadata": {
        "id": "hXNhFWDYgU7t"
      },
      "source": [
        "\n",
        "\n",
        "```\n",
        "__name__ == '__main__'\n",
        "```\n"
      ]
    },
    {
      "cell_type": "code",
      "metadata": {
        "id": "ktnsrNtHdhLk"
      },
      "source": [
        "#__name__활용하기\n",
        "# 현재 파일이 모듈로 실행되는지(모듈 이름), 엔트리 포인트(메인)으로 실행되는지('__main__') 확인\n"
      ],
      "execution_count": null,
      "outputs": []
    },
    {
      "cell_type": "markdown",
      "metadata": {
        "id": "ZeyNi0BwhRYh"
      },
      "source": [
        "\n",
        "\n",
        "```\n",
        "# test_module.py 파일\n",
        "PI = 3.141592\n",
        "def number_input():\n",
        "  output = input(\"숫자 입력> \")\n",
        "  return output\n",
        "def get_circumference(radius):\n",
        "  return 2 * PI * radius\n",
        "def get_circle_area(radius):\n",
        "  return PI * radius * radius\n",
        "\n",
        "# 현재 파일이 메인일 때만 실행!!!\n",
        "if __name__==\"__main__\":\n",
        "  print(\"get_circunference(10):\", get_circumference(10))\n",
        "  print(\"get_circle_area(10):\", get_circle_area(10))\n",
        "```\n",
        "\n"
      ]
    },
    {
      "cell_type": "code",
      "metadata": {
        "colab": {
          "base_uri": "https://localhost:8080/"
        },
        "id": "IkouoetXiBm-",
        "outputId": "eebd56a1-2571-4629-d64b-776ad2086bf5"
      },
      "source": [
        "import test_module as test\n",
        "radius = test.number_input()\n",
        "print(test.get_circumference(radius))\n",
        "print(test.get_circle_area(radius))\n",
        "print(\"메인의 __name__:\",__name__)"
      ],
      "execution_count": null,
      "outputs": [
        {
          "output_type": "stream",
          "text": [
            "모듈의 __name__: test_module\n",
            "숫자 입력> 3\n",
            "18.849552000000003\n",
            "28.274328000000004\n",
            "메인의 __name__: __main__\n"
          ],
          "name": "stdout"
        }
      ]
    },
    {
      "cell_type": "markdown",
      "metadata": {
        "id": "da6Ct0dAiUU9"
      },
      "source": [
        "**패키지**: 모듈이 모여서 구조를 이룬 것  "
      ]
    },
    {
      "cell_type": "code",
      "metadata": {
        "id": "t_9fv2Q0i6X2"
      },
      "source": [
        "!mkdir test_package"
      ],
      "execution_count": null,
      "outputs": []
    },
    {
      "cell_type": "code",
      "metadata": {
        "colab": {
          "base_uri": "https://localhost:8080/"
        },
        "id": "eYtlRp8aiRB4",
        "outputId": "3537b33f-e5a3-4173-8d55-c3a448a47a09"
      },
      "source": [
        "import test_package.module_a as a\n",
        "import test_package.module_b as b\n",
        "print(a.variable_a)\n",
        "print(b.variable_b)"
      ],
      "execution_count": null,
      "outputs": [
        {
          "output_type": "stream",
          "text": [
            "a 모듈의 변수\n",
            "b 모듈의 변수\n"
          ],
          "name": "stdout"
        }
      ]
    },
    {
      "cell_type": "code",
      "metadata": {
        "colab": {
          "base_uri": "https://localhost:8080/"
        },
        "id": "c7x3b5E-jFsL",
        "outputId": "27114725-2df1-459b-e7e1-aaa3c7337f44"
      },
      "source": [
        "# __init__.py 파일: 패키지 내부의 모듈들을 한꺼번에 가져오고 싶을 때 사용\n",
        "# __init__.py 에서는 __all__이라는 이름의 리스트 만듦.\n",
        "# 이 리스트에 저장한 모듈들이 'from <패키지 이름> import *' 할 때 전부 읽어 들여짐\n",
        "from test_package import *\n",
        "\n",
        "print(module_a.variable_a)\n",
        "print(module_b.variable_b)"
      ],
      "execution_count": null,
      "outputs": [
        {
          "output_type": "stream",
          "text": [
            "test_package를 읽어 들였습니다.\n",
            "a 모듈의 변수\n",
            "b 모듈의 변수\n"
          ],
          "name": "stdout"
        }
      ]
    },
    {
      "cell_type": "markdown",
      "metadata": {
        "id": "VRrWXcv2lHxn"
      },
      "source": [
        "#Chapter 8. 클래스"
      ]
    },
    {
      "cell_type": "markdown",
      "metadata": {
        "id": "SVeiRFzilL-9"
      },
      "source": [
        "# 8-1. 클래스의 기본"
      ]
    },
    {
      "cell_type": "markdown",
      "metadata": {
        "id": "AsaONd4OlkVY"
      },
      "source": [
        "객체 지향 프로그래밍: 객체를 우선으로 생각해서 프로그래밍한다.  \n",
        "클래스라는 것을 기반으로 객체를 만들고, 그러한 객체를 우선으로 생각해서 프로그래밍  \n",
        "**객체**: 여러 가지 속성을 가질 수 있는 대상   \n",
        "추상화: 필요한 요소만을 사용해서 객체 표현   \n",
        "객체 지향 프로그래밍의 핵심: 객체와 관련된 코드를 분리할 수 있게 하는 것  \n",
        "-> 이런 형태의 코드를 효율적으로 만들기 위한 기능:클래스"
      ]
    },
    {
      "cell_type": "markdown",
      "metadata": {
        "id": "CvPIu7KzrFnh"
      },
      "source": [
        "**클래스 선언하기**(클래스는 캐멀케이스(단어 앞글자 대문자))"
      ]
    },
    {
      "cell_type": "code",
      "metadata": {
        "id": "zKlINpKYt_Ne"
      },
      "source": [
        "class 클래스이름:\n",
        "  클래스내용"
      ],
      "execution_count": null,
      "outputs": []
    },
    {
      "cell_type": "markdown",
      "metadata": {
        "id": "e2W4oWSTuGvr"
      },
      "source": [
        "클래스 이름과 같은 함수(생성자)를 사용해서 클래스에 소속된 객체 생성  \n",
        "**인스턴스**: 클래스를 기반으로 만들어진 객체  \n",
        "인스턴스 이름(변수 이름) = 클래스 이름()  \n",
        "ex. student = Student()"
      ]
    },
    {
      "cell_type": "markdown",
      "metadata": {
        "id": "teWDrVHiub3Z"
      },
      "source": [
        "**생성자**: 클래스 이름과 같은 인스턴스를 생성할 때 만드는 함수  "
      ]
    },
    {
      "cell_type": "code",
      "metadata": {
        "id": "HodKneYikgt5"
      },
      "source": [
        "# 클래스 내부에 __init__함수 -> 객체 생성시 처리할 내용 작성\n",
        "# self가 객체를 받음\n",
        "class 클래스 이름:\n",
        "  def __init__(self, 추가적인 매개변수):\n",
        "    pass"
      ],
      "execution_count": null,
      "outputs": []
    },
    {
      "cell_type": "code",
      "metadata": {
        "colab": {
          "base_uri": "https://localhost:8080/"
        },
        "id": "6VG1vMlVu03d",
        "outputId": "91bbb607-66b3-4865-971f-58087ec632c7"
      },
      "source": [
        "# 클래스 선언\n",
        "class Student:\n",
        "  def __init__(self, name, korean, math, english, science):\n",
        "    self.name = name\n",
        "    self.korean = korean\n",
        "    self.math = math\n",
        "    self.english = english\n",
        "    self.science = science\n",
        "\n",
        "# 학생 리스트 선언\n",
        "students = [\n",
        "              Student(\"윤인성\", 87, 98, 88, 95),\n",
        "              Student(\"연하진\", 92, 98, 96, 98),\n",
        "              Student(\"구지연\", 76, 96, 94, 90),\n",
        "              Student(\"나선주\", 98, 92, 96, 92),\n",
        "              Student(\"윤아린\", 95, 98, 98, 98),\n",
        "              Student(\"윤명월\", 64, 88, 92, 92)\n",
        "]\n",
        "\n",
        "print(students[0].name)\n",
        "print(students[0].korean)\n",
        "print(students[0].math)\n",
        "print(students[0].english)\n",
        "print(students[0].science)"
      ],
      "execution_count": null,
      "outputs": [
        {
          "output_type": "stream",
          "text": [
            "윤인성\n",
            "87\n",
            "98\n",
            "88\n",
            "95\n"
          ],
          "name": "stdout"
        }
      ]
    },
    {
      "cell_type": "markdown",
      "metadata": {
        "id": "2YntdDCzvcpR"
      },
      "source": [
        "*소멸자*: 인스턴스가 소멸될 때 호출되는 함수  \n",
        "스왑: 메모리가 부족해지면 하드디스크를 메모리처럼 사용하는 것  \n",
        "가비지 컬렉터: 더 사용할 가능성이 없는 데이터를 메모리에서 제거하는 역할  "
      ]
    },
    {
      "cell_type": "code",
      "metadata": {
        "colab": {
          "base_uri": "https://localhost:8080/"
        },
        "id": "lqU-oWZcvbrJ",
        "outputId": "1ade9185-c765-4822-96c9-97f0cbc230d0"
      },
      "source": [
        "# 변수에 저장하지 않는 경우 - 과감히 삭제\n",
        "class Test:\n",
        "  def __init__(self, name):\n",
        "    self.name = name\n",
        "    print(\"{}-생성\".format(self.name))\n",
        "  def __del__(self):\n",
        "    print(\"{}-파괴\".format(self.name))\n",
        "\n",
        "Test(\"A\")\n",
        "Test(\"B\")\n",
        "Test(\"C\")"
      ],
      "execution_count": null,
      "outputs": [
        {
          "output_type": "stream",
          "text": [
            "A-생성\n",
            "A-파괴\n",
            "B-생성\n",
            "B-파괴\n",
            "C-생성\n"
          ],
          "name": "stdout"
        },
        {
          "output_type": "execute_result",
          "data": {
            "text/plain": [
              "<__main__.Test at 0x7fa407f44610>"
            ]
          },
          "metadata": {
            "tags": []
          },
          "execution_count": 4
        }
      ]
    },
    {
      "cell_type": "code",
      "metadata": {
        "colab": {
          "base_uri": "https://localhost:8080/"
        },
        "id": "LE-9FiHMwDby",
        "outputId": "7d708fc6-6893-4ce1-e912-ce36ce539d03"
      },
      "source": [
        "# 변수에 저장하는 경우 - 프로그램이 종료되는 순간까지 제거 X\n",
        "class Test:\n",
        "  def __init__(self, name):\n",
        "    self.name = name\n",
        "    print(\"{}-생성\".format(self.name))\n",
        "  def __del__(self):\n",
        "    print(\"{}-파괴\".format(self.name))\n",
        "\n",
        "a = Test(\"A\")\n",
        "b = Test(\"B\")\n",
        "c = Test(\"C\")"
      ],
      "execution_count": null,
      "outputs": [
        {
          "output_type": "stream",
          "text": [
            "A-생성\n",
            "B-생성\n",
            "C-생성\n"
          ],
          "name": "stdout"
        }
      ]
    },
    {
      "cell_type": "markdown",
      "metadata": {
        "id": "YdoBbYNWwl8u"
      },
      "source": [
        "**메소드**: 클래스가 가지고 있는 함수"
      ]
    },
    {
      "cell_type": "code",
      "metadata": {
        "id": "LL5EcVtLwUt7"
      },
      "source": [
        "class 클래스 이름:\n",
        "  def 메소드 이름(self, 추가적인 매개변수):\n",
        "    pass"
      ],
      "execution_count": null,
      "outputs": []
    },
    {
      "cell_type": "code",
      "metadata": {
        "colab": {
          "base_uri": "https://localhost:8080/"
        },
        "id": "fkx5JJ5XxO09",
        "outputId": "7cfb1705-cc06-4ba5-f91f-ed19aff18cbf"
      },
      "source": [
        "# 클래스 선언\n",
        "class Student:\n",
        "  def __init__(self, name, korean, math, english, science):\n",
        "    self.name = name\n",
        "    self.korean = korean\n",
        "    self.math = math\n",
        "    self.english = english\n",
        "    self.science = science\n",
        "\n",
        "  def get_sum(self):\n",
        "    return self.korean + self.math + self.english + self.science\n",
        "\n",
        "  def get_average(self):\n",
        "    return self.get_sum() / 4\n",
        "\n",
        "  def to_string(self):\n",
        "    return \"{}\\t{}\\t{}\".format(\\\n",
        "                               self.name, self.get_sum(), self.get_average())\n",
        "\n",
        "# 학생 리스트 선언\n",
        "students = [\n",
        "              Student(\"윤인성\", 87, 98, 88, 95),\n",
        "              Student(\"연하진\", 92, 98, 96, 98),\n",
        "              Student(\"구지연\", 76, 96, 94, 90),\n",
        "              Student(\"나선주\", 98, 92, 96, 92),\n",
        "              Student(\"윤아린\", 95, 98, 98, 98),\n",
        "              Student(\"윤명월\", 64, 88, 92, 92)\n",
        "]\n",
        "\n",
        "# 학생 한 명씩 반복\n",
        "print(\"이름\", \"총점\", \"평균\", sep=\"\\t\")\n",
        "for student in students:\n",
        "  print(student.to_string())"
      ],
      "execution_count": null,
      "outputs": [
        {
          "output_type": "stream",
          "text": [
            "이름\t총점\t평균\n",
            "윤인성\t368\t92.0\n",
            "연하진\t384\t96.0\n",
            "구지연\t356\t89.0\n",
            "나선주\t378\t94.5\n",
            "윤아린\t389\t97.25\n",
            "윤명월\t336\t84.0\n"
          ],
          "name": "stdout"
        }
      ]
    },
    {
      "cell_type": "markdown",
      "metadata": {
        "id": "WRcxYXUOyRU2"
      },
      "source": [
        "# 8-2. 클래스의 추가적인 구문"
      ]
    },
    {
      "cell_type": "markdown",
      "metadata": {
        "id": "CSV7Wv1Lyf4c"
      },
      "source": [
        "**어떤 클래스의 인스턴스인지 확인하기**  \n",
        "상속: 어떤 클래스를 기반으로 그 속성과 기능을 물려받아 새로운 클래스를 만드는 것  \n",
        "isinstance(인스턴스, 클래스): 객체가 어떤 클래스로부터 만들어졌는지 확인(T/F)  \n"
      ]
    },
    {
      "cell_type": "code",
      "metadata": {
        "colab": {
          "base_uri": "https://localhost:8080/"
        },
        "id": "ecKewh3vx9cV",
        "outputId": "4fa69145-2c7f-44c9-870a-17e58bcc5cdd"
      },
      "source": [
        "# type()과 isinstance()의 차이: 상속 관계 확인 범위의 차이\n",
        "class Human:\n",
        "  def __init__(self):\n",
        "    pass\n",
        "class Student(Human): # Student 클래스는 Human 클래스를 상속받음\n",
        "  def __init__(self):\n",
        "    pass\n",
        "\n",
        "student = Student()\n",
        "\n",
        "print(\"isinstance(student, Human):\", isinstance(student, Human))\n",
        "print(\"type(student) == Human:\", type(student) == Human)"
      ],
      "execution_count": null,
      "outputs": [
        {
          "output_type": "stream",
          "text": [
            "isinstance(student, Human): True\n",
            "type(student) == Human: False\n"
          ],
          "name": "stdout"
        }
      ]
    },
    {
      "cell_type": "code",
      "metadata": {
        "colab": {
          "base_uri": "https://localhost:8080/"
        },
        "id": "pzxSSmPf0a3Y",
        "outputId": "2671deb9-770c-4396-cd8c-bc8e5a46fcb0"
      },
      "source": [
        "class Student:\n",
        "  def study(self):\n",
        "    print(\"공부를 합니다.\")\n",
        "\n",
        "class Teacher:\n",
        "  def teach(self):\n",
        "    print(\"학생을 가르칩니다.\")\n",
        "\n",
        "classroom = [Student(), Student(), Teacher(), Student(), Student()]\n",
        "\n",
        "for person in classroom:\n",
        "  if isinstance(person, Student):\n",
        "    person.study()\n",
        "  elif isinstance(person, Teacher):\n",
        "    person.teach()"
      ],
      "execution_count": null,
      "outputs": [
        {
          "output_type": "stream",
          "text": [
            "공부를 합니다.\n",
            "공부를 합니다.\n",
            "학생을 가르칩니다.\n",
            "공부를 합니다.\n",
            "공부를 합니다.\n"
          ],
          "name": "stdout"
        }
      ]
    },
    {
      "cell_type": "markdown",
      "metadata": {
        "id": "rYBVSX1P0npu"
      },
      "source": [
        "**특수한 이름의 메소드**  \n"
      ]
    },
    {
      "cell_type": "code",
      "metadata": {
        "colab": {
          "base_uri": "https://localhost:8080/"
        },
        "id": "rEA8Pnik0mE_",
        "outputId": "e87fe9e2-1635-42e2-95b6-d604c5bd772a"
      },
      "source": [
        "# __<이름>__() 형태: 클래스 내부에 정의하면 특수한 상황에 자동 호출\n",
        "class Student:\n",
        "  def __init__(self, name, korean, math, english, science):\n",
        "    self.name = name\n",
        "    self.korean = korean\n",
        "    self.math = math\n",
        "    self.english = english\n",
        "    self.science = science\n",
        "\n",
        "  def get_sum(self):\n",
        "    return self.korean + self.math + self.english + self.science\n",
        "\n",
        "  def get_average(self):\n",
        "    return self.get_sum() / 4\n",
        "\n",
        "  def __str__(self):\n",
        "    return \"{}\\t{}\\t{}\".format(\\\n",
        "                               self.name, self.get_sum(), self.get_average())\n",
        "\n",
        "# 학생 리스트 선언\n",
        "students = [\n",
        "              Student(\"윤인성\", 87, 98, 88, 95),\n",
        "              Student(\"연하진\", 92, 98, 96, 98),\n",
        "              Student(\"구지연\", 76, 96, 94, 90),\n",
        "              Student(\"나선주\", 98, 92, 96, 92),\n",
        "              Student(\"윤아린\", 95, 98, 98, 98),\n",
        "              Student(\"윤명월\", 64, 88, 92, 92)\n",
        "]\n",
        "\n",
        "# 학생 한 명씩 반복\n",
        "print(\"이름\", \"총점\", \"평균\", sep=\"\\t\")\n",
        "for student in students:\n",
        "  print(str(student))"
      ],
      "execution_count": null,
      "outputs": [
        {
          "output_type": "stream",
          "text": [
            "이름\t총점\t평균\n",
            "윤인성\t368\t92.0\n",
            "연하진\t384\t96.0\n",
            "구지연\t356\t89.0\n",
            "나선주\t378\t94.5\n",
            "윤아린\t389\t97.25\n",
            "윤명월\t336\t84.0\n"
          ],
          "name": "stdout"
        }
      ]
    },
    {
      "cell_type": "code",
      "metadata": {
        "colab": {
          "base_uri": "https://localhost:8080/"
        },
        "id": "n4P0-S40081X",
        "outputId": "97928e3d-aced-4a9c-b180-c038d89c6bd6"
      },
      "source": [
        "# 크기 비교 함수\n",
        "class Student:\n",
        "  def __init__(self, name, korean, math, english, science):\n",
        "    self.name = name\n",
        "    self.korean = korean\n",
        "    self.math = math\n",
        "    self.english = english\n",
        "    self.science = science\n",
        "\n",
        "  def get_sum(self):\n",
        "    return self.korean + self.math + self.english + self.science\n",
        "\n",
        "  def get_average(self):\n",
        "    return self.get_sum() / 4\n",
        "\n",
        "  def __str__(self):\n",
        "    return \"{}\\t{}\\t{}\".format(\\\n",
        "                               self.name, self.get_sum(), self.get_average())\n",
        "\n",
        "  def __eq__(self, value):\n",
        "    return self.get_sum() == value.get_sum()\n",
        "  def __ne__(self, value):\n",
        "    return self.get_sum() != value.get_sum()\n",
        "  def __gt__(self, value):\n",
        "    return self.get_sum() > value.get_sum()\n",
        "  def __ge__(self, value):\n",
        "    return self.get_sum() >= value.get_sum()\n",
        "  def __lt__(self, value):\n",
        "    return self.get_sum() < value.get_sum()\n",
        "  def __le__(self, value):\n",
        "    return self.get_sum() <= value.get_sum()\n",
        "\n",
        "# 학생 리스트 선언\n",
        "students = [\n",
        "              Student(\"윤인성\", 87, 98, 88, 95),\n",
        "              Student(\"연하진\", 92, 98, 96, 98),\n",
        "              Student(\"구지연\", 76, 96, 94, 90),\n",
        "              Student(\"나선주\", 98, 92, 96, 92),\n",
        "              Student(\"윤아린\", 95, 98, 98, 98),\n",
        "              Student(\"윤명월\", 64, 88, 92, 92)\n",
        "]\n",
        "\n",
        "student_a = Student(\"윤인성\", 87, 98, 88, 95)\n",
        "student_b = Student(\"연하진\", 92, 98, 96, 98)\n",
        "\n",
        "print(\"student_a == student_b = \", student_a == student_b)\n",
        "print(\"student_a != student_b = \", student_a != student_b)\n",
        "print(\"student_a > student_b = \", student_a > student_b)\n",
        "print(\"student_a >= student_b = \", student_a >= student_b)\n",
        "print(\"student_a < student_b = \", student_a < student_b)\n",
        "print(\"student_a <= student_b = \", student_a <= student_b)"
      ],
      "execution_count": null,
      "outputs": [
        {
          "output_type": "stream",
          "text": [
            "student_a == student_b =  False\n",
            "student_a != student_b =  True\n",
            "student_a > student_b =  False\n",
            "student_a >= student_b =  False\n",
            "student_a < student_b =  True\n",
            "student_a <= student_b =  True\n"
          ],
          "name": "stdout"
        }
      ]
    },
    {
      "cell_type": "code",
      "metadata": {
        "colab": {
          "base_uri": "https://localhost:8080/",
          "height": 244
        },
        "id": "n449Xsko4u5W",
        "outputId": "d7085cc7-7bdd-45a4-db20-2716581c75ed"
      },
      "source": [
        "# 예외 처리\n",
        "class Student:\n",
        "  def __eq__(self, value):\n",
        "    if not isinstance(value, Student):\n",
        "      raise TypeError(\"Student 클래스의 인스턴스만 비교 가능\")\n",
        "    return self.get_sum() == value.get_sum()\n",
        "\n",
        "student_a = Student(\"윤인성\", 87, 98, 88, 95)\n",
        "\n",
        "student_a == 10"
      ],
      "execution_count": null,
      "outputs": [
        {
          "output_type": "error",
          "ename": "TypeError",
          "evalue": "ignored",
          "traceback": [
            "\u001b[0;31m---------------------------------------------------------------------------\u001b[0m",
            "\u001b[0;31mTypeError\u001b[0m                                 Traceback (most recent call last)",
            "\u001b[0;32m<ipython-input-17-05d4fdb3dc4f>\u001b[0m in \u001b[0;36m<module>\u001b[0;34m()\u001b[0m\n\u001b[1;32m      6\u001b[0m     \u001b[0;32mreturn\u001b[0m \u001b[0mself\u001b[0m\u001b[0;34m.\u001b[0m\u001b[0mget_sum\u001b[0m\u001b[0;34m(\u001b[0m\u001b[0;34m)\u001b[0m \u001b[0;34m==\u001b[0m \u001b[0mvalue\u001b[0m\u001b[0;34m.\u001b[0m\u001b[0mget_sum\u001b[0m\u001b[0;34m(\u001b[0m\u001b[0;34m)\u001b[0m\u001b[0;34m\u001b[0m\u001b[0;34m\u001b[0m\u001b[0m\n\u001b[1;32m      7\u001b[0m \u001b[0;34m\u001b[0m\u001b[0m\n\u001b[0;32m----> 8\u001b[0;31m \u001b[0mstudent_a\u001b[0m \u001b[0;34m=\u001b[0m \u001b[0mStudent\u001b[0m\u001b[0;34m(\u001b[0m\u001b[0;34m\"윤인성\"\u001b[0m\u001b[0;34m,\u001b[0m \u001b[0;36m87\u001b[0m\u001b[0;34m,\u001b[0m \u001b[0;36m98\u001b[0m\u001b[0;34m,\u001b[0m \u001b[0;36m88\u001b[0m\u001b[0;34m,\u001b[0m \u001b[0;36m95\u001b[0m\u001b[0;34m)\u001b[0m\u001b[0;34m\u001b[0m\u001b[0;34m\u001b[0m\u001b[0m\n\u001b[0m\u001b[1;32m      9\u001b[0m \u001b[0;34m\u001b[0m\u001b[0m\n\u001b[1;32m     10\u001b[0m \u001b[0mstudent_a\u001b[0m \u001b[0;34m==\u001b[0m \u001b[0;36m10\u001b[0m\u001b[0;34m\u001b[0m\u001b[0;34m\u001b[0m\u001b[0m\n",
            "\u001b[0;31mTypeError\u001b[0m: Student() takes no arguments"
          ]
        }
      ]
    },
    {
      "cell_type": "markdown",
      "metadata": {
        "id": "o7YucHVp4qu3"
      },
      "source": [
        "**클래스 변수와 메소드**  "
      ]
    },
    {
      "cell_type": "code",
      "metadata": {
        "id": "HxuvLBWT2Nb4"
      },
      "source": [
        "# 클래스 변수 만들기\n",
        "class 클래스 이름:\n",
        "  클래스 변수 = 값\n",
        "\n",
        "# 클래스 변수에 접근하기\n",
        "클래스 이름. 변수 이름"
      ],
      "execution_count": null,
      "outputs": []
    },
    {
      "cell_type": "code",
      "metadata": {
        "colab": {
          "base_uri": "https://localhost:8080/"
        },
        "id": "qmhN9RxO6-4r",
        "outputId": "50f5d4c7-b61a-45de-d009-b3cc539d3ee9"
      },
      "source": [
        "class Student:\n",
        "  count = 0\n",
        "\n",
        "  def __init__(self, name, korean, math, english, science):\n",
        "    self.name = name\n",
        "    self.korean = korean\n",
        "    self.math = math\n",
        "    self.english = english\n",
        "    self.science = science\n",
        "\n",
        "    Student.count += 1 # 클래스 변수 접근\n",
        "    print(\"{}번째 학생 생성\".format(Student.count))\n",
        "\n",
        "students = [\n",
        "              Student(\"윤인성\", 87, 98, 88, 95),\n",
        "              Student(\"연하진\", 92, 98, 96, 98),\n",
        "              Student(\"구지연\", 76, 96, 94, 90),\n",
        "              Student(\"나선주\", 98, 92, 96, 92),\n",
        "              Student(\"윤아린\", 95, 98, 98, 98),\n",
        "              Student(\"윤명월\", 64, 88, 92, 92)\n",
        "]\n",
        "\n",
        "print()\n",
        "print(\"현재 생성된 총 학생 수는 {}명\".format(Student.count))"
      ],
      "execution_count": null,
      "outputs": [
        {
          "output_type": "stream",
          "text": [
            "1번째 학생 생성\n",
            "2번째 학생 생성\n",
            "3번째 학생 생성\n",
            "4번째 학생 생성\n",
            "5번째 학생 생성\n",
            "6번째 학생 생성\n",
            "\n",
            "현재 생성된 총 학생 수는 6명\n"
          ],
          "name": "stdout"
        }
      ]
    },
    {
      "cell_type": "code",
      "metadata": {
        "id": "fEsrhayY7Y1z"
      },
      "source": [
        "# 클래스 함수 만들기\n",
        "class 클래스 이름:\n",
        "  @classmethod\n",
        "  def 클래스 함수(cls, 매개변수):\n",
        "    pass\n",
        "\n",
        "# 클래스 함수 호출\n",
        "클래스 이름.함수 이름(매개변수)"
      ],
      "execution_count": null,
      "outputs": []
    },
    {
      "cell_type": "code",
      "metadata": {
        "colab": {
          "base_uri": "https://localhost:8080/"
        },
        "id": "UxEhv0yw8MFa",
        "outputId": "8330cbac-3014-417e-f449-3be8bc6ff60d"
      },
      "source": [
        "class Student:\n",
        "\n",
        "  count = 0\n",
        "  students = [] # 클래스 변수\n",
        "\n",
        "  # 클래스 함수\n",
        "  @classmethod\n",
        "  def print(cls):\n",
        "    print(\"----- 학생목록 -----\")\n",
        "    print(\"이름\\t총점\\t평균\")\n",
        "    for student in cls.students:\n",
        "      print(str(student))\n",
        "    print(\"------ ------ ------\")\n",
        "\n",
        "\n",
        "  def __init__(self, name, korean, math, english, science):\n",
        "    self.name = name\n",
        "    self.korean = korean\n",
        "    self.math = math\n",
        "    self.english = english\n",
        "    self.science = science\n",
        "    Student.count += 1\n",
        "    # 추가\n",
        "    Student.students.append(self)\n",
        "\n",
        "  def get_sum(self):\n",
        "    return self.korean + self.math + self.english + self.science\n",
        "\n",
        "  def get_average(self):\n",
        "    return self.get_sum() / 4\n",
        "\n",
        "  def __str__(self):\n",
        "    return \"{}\\t{}\\t{}\".format(\\\n",
        "                               self.name, self.get_sum(), self.get_average())\n",
        "\n",
        "Student(\"윤인성\", 87, 98, 88, 95)\n",
        "Student(\"연하진\", 92, 98, 96, 98)\n",
        "Student(\"구지연\", 76, 96, 94, 90)\n",
        "Student(\"나선주\", 98, 92, 96, 92)\n",
        "Student(\"윤아린\", 95, 98, 98, 98)\n",
        "Student(\"윤명월\", 64, 88, 92, 92)\n",
        "\n",
        "Student.print()"
      ],
      "execution_count": null,
      "outputs": [
        {
          "output_type": "stream",
          "text": [
            "----- 학생목록 -----\n",
            "이름\t총점\t평균\n",
            "윤인성\t368\t92.0\n",
            "연하진\t384\t96.0\n",
            "구지연\t356\t89.0\n",
            "나선주\t378\t94.5\n",
            "윤아린\t389\t97.25\n",
            "윤명월\t336\t84.0\n",
            "------ ------ ------\n"
          ],
          "name": "stdout"
        }
      ]
    },
    {
      "cell_type": "markdown",
      "metadata": {
        "id": "jhhp7XxN_RZM"
      },
      "source": [
        "# 프라이빗 변수와 게터/세터"
      ]
    },
    {
      "cell_type": "markdown",
      "metadata": {
        "id": "FRP5vXbI_VJG"
      },
      "source": [
        "**프라이빗 변수**: 클래스 내부의 변수를 외부에서 사용하는 것을 막고 싶을 때"
      ]
    },
    {
      "cell_type": "code",
      "metadata": {
        "colab": {
          "base_uri": "https://localhost:8080/",
          "height": 298
        },
        "id": "9MTilzkf9IyV",
        "outputId": "cd8b7d4d-e58b-4b08-fa87-1ec695adcf18"
      },
      "source": [
        "# 프라이빗 변수: __<변수이름> 형태로 선언\n",
        "import math\n",
        "\n",
        "class Circle:\n",
        "  def __init__(self, radius):\n",
        "    self.__radius = radius\n",
        "  def get_circumference(self):\n",
        "    return 2 * math.pi * self.__radius\n",
        "  def get_area(self):\n",
        "    return math.pi * (self.__radius ** 2)\n",
        "\n",
        "circle = Circle(10)\n",
        "print(\"원의 둘레와 넓이\")\n",
        "print(\"원의 둘레:\", circle.get_circumference())\n",
        "print(\"원의 널비:\", circle.get_area())\n",
        "print()\n",
        "\n",
        "print(\"radius에 접근\") # 외부에서 접근시 오류 출력\n",
        "print(circle.__radius)"
      ],
      "execution_count": null,
      "outputs": [
        {
          "output_type": "stream",
          "text": [
            "원의 둘레와 넓이\n",
            "원의 둘레: 62.83185307179586\n",
            "원의 널비: 314.1592653589793\n",
            "\n",
            "radius에 접근\n"
          ],
          "name": "stdout"
        },
        {
          "output_type": "error",
          "ename": "AttributeError",
          "evalue": "ignored",
          "traceback": [
            "\u001b[0;31m---------------------------------------------------------------------------\u001b[0m",
            "\u001b[0;31mAttributeError\u001b[0m                            Traceback (most recent call last)",
            "\u001b[0;32m<ipython-input-24-9bf8fe4df38c>\u001b[0m in \u001b[0;36m<module>\u001b[0;34m()\u001b[0m\n\u001b[1;32m     17\u001b[0m \u001b[0;34m\u001b[0m\u001b[0m\n\u001b[1;32m     18\u001b[0m \u001b[0mprint\u001b[0m\u001b[0;34m(\u001b[0m\u001b[0;34m\"radius에 접근\"\u001b[0m\u001b[0;34m)\u001b[0m \u001b[0;31m# 외부에서 접근시 오류 출력\u001b[0m\u001b[0;34m\u001b[0m\u001b[0;34m\u001b[0m\u001b[0m\n\u001b[0;32m---> 19\u001b[0;31m \u001b[0mprint\u001b[0m\u001b[0;34m(\u001b[0m\u001b[0mcircle\u001b[0m\u001b[0;34m.\u001b[0m\u001b[0m__radius\u001b[0m\u001b[0;34m)\u001b[0m\u001b[0;34m\u001b[0m\u001b[0;34m\u001b[0m\u001b[0m\n\u001b[0m",
            "\u001b[0;31mAttributeError\u001b[0m: 'Circle' object has no attribute '__radius'"
          ]
        }
      ]
    },
    {
      "cell_type": "markdown",
      "metadata": {
        "id": "a8_lBOI4Ck54"
      },
      "source": [
        "**게터와 섹터**  \n",
        "게터: 프라이빗 변수의 값 추출 목적으로 간접적으로 접근하게 해주는 함수  \n",
        "섹터: 프라이빗 변수의 값 변경 목적으로 간접적으로 접근하게 해주는 함수"
      ]
    },
    {
      "cell_type": "code",
      "metadata": {
        "colab": {
          "base_uri": "https://localhost:8080/"
        },
        "id": "47Syc82fCh7P",
        "outputId": "3c778b78-f66a-4af2-aa0a-66492e5990bc"
      },
      "source": [
        "import math\n",
        "\n",
        "class Circle:\n",
        "  def __init__(self, radius):\n",
        "    self.__radius = radius\n",
        "  def get_circumference(self):\n",
        "    return 2 * math.pi * self.__radius\n",
        "  def get_area(self):\n",
        "    return math.pi * (self.__radius ** 2)\n",
        "\n",
        "# 게터와 세터 선언\n",
        "  def get_radius(self):\n",
        "    return self.__radius\n",
        "  def set_radius(self, value):\n",
        "    self.__radius = value\n",
        "\n",
        "circle = Circle(10)\n",
        "print(\"원의 둘레와 넓이\")\n",
        "print(\"원의 둘레:\", circle.get_circumference())\n",
        "print(\"원의 널비:\", circle.get_area())\n",
        "print()\n",
        "\n",
        "# 간접적으로 접근\n",
        "print(\"__radius에 접근\")\n",
        "print(circle.get_radius())\n",
        "print()\n",
        "\n",
        "circle.set_radius(2)\n",
        "print(\"반지름을 변경한 후 원의 둘레와 넓이\")\n",
        "print(\"원의 둘레:\", circle.get_circumference())\n",
        "print(\"원의 널비:\", circle.get_area())\n",
        "print()\n"
      ],
      "execution_count": null,
      "outputs": [
        {
          "output_type": "stream",
          "text": [
            "원의 둘레와 넓이\n",
            "원의 둘레: 62.83185307179586\n",
            "원의 널비: 314.1592653589793\n",
            "\n",
            "__radius에 접근\n",
            "10\n",
            "\n",
            "반지름을 변경한 후 원의 둘레와 넓이\n",
            "원의 둘레: 12.566370614359172\n",
            "원의 널비: 12.566370614359172\n",
            "\n"
          ],
          "name": "stdout"
        }
      ]
    },
    {
      "cell_type": "markdown",
      "metadata": {
        "id": "39OAod8vDqLN"
      },
      "source": [
        "**데코레이터를 사용한 게터와 세터**  \n",
        "@property와 @<변수이름>.setter 이용"
      ]
    },
    {
      "cell_type": "code",
      "metadata": {
        "colab": {
          "base_uri": "https://localhost:8080/",
          "height": 406
        },
        "id": "veewsQNvDhQg",
        "outputId": "73e576e6-2f9f-4e39-e64c-8b5ba5706be0"
      },
      "source": [
        "import math\n",
        "\n",
        "class Circle:\n",
        "  def __init__(self, radius):\n",
        "    self.__radius = radius\n",
        "\n",
        "# 데코레이터 사용한 게터와 세터 선언\n",
        "  @property\n",
        "  def radius(self):\n",
        "    return self.__radius\n",
        "  @radius.setter\n",
        "  def radius(self, value):\n",
        "    if value <= 0:\n",
        "      raise TypeError(\"길이는 양의 숫자여야 한다.\")\n",
        "    self.__radius = value\n",
        "\n",
        "# circle.radius로 게터와 세터 호출\n",
        "print(\"데코레이터를 사용한 Getter와 Setter\")\n",
        "circle = Circle(10)\n",
        "print(\"원래 원의 반지름:\",circle.radius)\n",
        "circle.radius = 2\n",
        "print(\"변경된 원의 반지름:\",circle.radius)\n",
        "\n",
        "# 강제로 예외 발생\n",
        "print(\"강제 예외 발생\")\n",
        "circle.radius = -10"
      ],
      "execution_count": null,
      "outputs": [
        {
          "output_type": "stream",
          "text": [
            "데코레이터를 사용한 Getter와 Setter\n",
            "원래 원의 반지름: 10\n",
            "변경된 원의 반지름: 2\n",
            "강제 예외 발생\n"
          ],
          "name": "stdout"
        },
        {
          "output_type": "error",
          "ename": "TypeError",
          "evalue": "ignored",
          "traceback": [
            "\u001b[0;31m---------------------------------------------------------------------------\u001b[0m",
            "\u001b[0;31mTypeError\u001b[0m                                 Traceback (most recent call last)",
            "\u001b[0;32m<ipython-input-28-53351951d5f1>\u001b[0m in \u001b[0;36m<module>\u001b[0;34m()\u001b[0m\n\u001b[1;32m     24\u001b[0m \u001b[0;31m# 강제로 예외 발생\u001b[0m\u001b[0;34m\u001b[0m\u001b[0;34m\u001b[0m\u001b[0;34m\u001b[0m\u001b[0m\n\u001b[1;32m     25\u001b[0m \u001b[0mprint\u001b[0m\u001b[0;34m(\u001b[0m\u001b[0;34m\"강제 예외 발생\"\u001b[0m\u001b[0;34m)\u001b[0m\u001b[0;34m\u001b[0m\u001b[0;34m\u001b[0m\u001b[0m\n\u001b[0;32m---> 26\u001b[0;31m \u001b[0mcircle\u001b[0m\u001b[0;34m.\u001b[0m\u001b[0mradius\u001b[0m \u001b[0;34m=\u001b[0m \u001b[0;34m-\u001b[0m\u001b[0;36m10\u001b[0m\u001b[0;34m\u001b[0m\u001b[0;34m\u001b[0m\u001b[0m\n\u001b[0m",
            "\u001b[0;32m<ipython-input-28-53351951d5f1>\u001b[0m in \u001b[0;36mradius\u001b[0;34m(self, value)\u001b[0m\n\u001b[1;32m     12\u001b[0m   \u001b[0;32mdef\u001b[0m \u001b[0mradius\u001b[0m\u001b[0;34m(\u001b[0m\u001b[0mself\u001b[0m\u001b[0;34m,\u001b[0m \u001b[0mvalue\u001b[0m\u001b[0;34m)\u001b[0m\u001b[0;34m:\u001b[0m\u001b[0;34m\u001b[0m\u001b[0;34m\u001b[0m\u001b[0m\n\u001b[1;32m     13\u001b[0m     \u001b[0;32mif\u001b[0m \u001b[0mvalue\u001b[0m \u001b[0;34m<=\u001b[0m \u001b[0;36m0\u001b[0m\u001b[0;34m:\u001b[0m\u001b[0;34m\u001b[0m\u001b[0;34m\u001b[0m\u001b[0m\n\u001b[0;32m---> 14\u001b[0;31m       \u001b[0;32mraise\u001b[0m \u001b[0mTypeError\u001b[0m\u001b[0;34m(\u001b[0m\u001b[0;34m\"길이는 양의 숫자여야 한다.\"\u001b[0m\u001b[0;34m)\u001b[0m\u001b[0;34m\u001b[0m\u001b[0;34m\u001b[0m\u001b[0m\n\u001b[0m\u001b[1;32m     15\u001b[0m     \u001b[0mself\u001b[0m\u001b[0;34m.\u001b[0m\u001b[0m__radius\u001b[0m \u001b[0;34m=\u001b[0m \u001b[0mvalue\u001b[0m\u001b[0;34m\u001b[0m\u001b[0;34m\u001b[0m\u001b[0m\n\u001b[1;32m     16\u001b[0m \u001b[0;34m\u001b[0m\u001b[0m\n",
            "\u001b[0;31mTypeError\u001b[0m: 길이는 양의 숫자여야 한다."
          ]
        }
      ]
    },
    {
      "cell_type": "markdown",
      "metadata": {
        "id": "Q7j__AEzE5Yy"
      },
      "source": [
        "# 상속"
      ]
    },
    {
      "cell_type": "markdown",
      "metadata": {
        "id": "adH9lzw7E8uY"
      },
      "source": [
        "**상속**: 다른 누군가가 만들어 놓은 기본 형태에 내가 원하는 것만 교체  \n",
        "**다중 상속**: 다른 누군가가 만들어 놓은 형태들을 조립해서 내가 원하는 것을 만듦  "
      ]
    },
    {
      "cell_type": "code",
      "metadata": {
        "colab": {
          "base_uri": "https://localhost:8080/"
        },
        "id": "A53YfM-tErPV",
        "outputId": "a11136b0-a4a6-4e98-dc8e-c83ba51f3cf6"
      },
      "source": [
        "# 부모 클래스 선언\n",
        "class Parent:\n",
        "  def __init__(self):\n",
        "    self.value = \"테스트\"\n",
        "    print(\"Parent 클래스의 __init()__ 메소드 호출\")\n",
        "  def test(self):\n",
        "    print(\"Parent 클래스의 test() 메소드\")\n",
        "\n",
        "# 자식 클래스 선언\n",
        "class Child(Parent):\n",
        "  def __init__(self):\n",
        "    Parent.__init__(self)\n",
        "    print(\"Child 클래스의 __init()__ 메소드 호출\")\n",
        "\n",
        "child = Child()\n",
        "child.test()\n",
        "print(child.value)"
      ],
      "execution_count": null,
      "outputs": [
        {
          "output_type": "stream",
          "text": [
            "Parent 클래스의 __init()__ 메소드 호출\n",
            "Child 클래스의 __init()__ 메소드 호출\n",
            "Parent 클래스의 test() 메소드\n",
            "테스트\n"
          ],
          "name": "stdout"
        }
      ]
    },
    {
      "cell_type": "markdown",
      "metadata": {
        "id": "kERI_YElJNHp"
      },
      "source": [
        "**재정의(오버라이드)**: 부모에 정의되어 있는 함수를 자식에서 다시 정의하는 것"
      ]
    },
    {
      "cell_type": "code",
      "metadata": {
        "colab": {
          "base_uri": "https://localhost:8080/",
          "height": 226
        },
        "id": "hL7JH9AIIoTw",
        "outputId": "91a61a74-6af8-4a56-9efe-dc4914e19ea0"
      },
      "source": [
        "# 재정의(오버라이드)\n",
        "class CustomException(Exception):\n",
        "  def __init__(self):\n",
        "    Exception.__init__(self)\n",
        "    print(\"# 내가 만든 오류 생성! #\")\n",
        "  def __str__(self):\n",
        "    return \"오류 발생!\"\n",
        "\n",
        "raise CustomException"
      ],
      "execution_count": null,
      "outputs": [
        {
          "output_type": "stream",
          "text": [
            "# 내가 만든 오류 생성! #\n"
          ],
          "name": "stdout"
        },
        {
          "output_type": "error",
          "ename": "CustomException",
          "evalue": "ignored",
          "traceback": [
            "\u001b[0;31m---------------------------------------------------------------------------\u001b[0m",
            "\u001b[0;31mCustomException\u001b[0m                           Traceback (most recent call last)",
            "\u001b[0;32m<ipython-input-30-a88102bb0a15>\u001b[0m in \u001b[0;36m<module>\u001b[0;34m()\u001b[0m\n\u001b[1;32m      7\u001b[0m     \u001b[0;32mreturn\u001b[0m \u001b[0;34m\"오류 발생!\"\u001b[0m\u001b[0;34m\u001b[0m\u001b[0;34m\u001b[0m\u001b[0m\n\u001b[1;32m      8\u001b[0m \u001b[0;34m\u001b[0m\u001b[0m\n\u001b[0;32m----> 9\u001b[0;31m \u001b[0;32mraise\u001b[0m \u001b[0mCustomException\u001b[0m\u001b[0;34m\u001b[0m\u001b[0;34m\u001b[0m\u001b[0m\n\u001b[0m",
            "\u001b[0;31mCustomException\u001b[0m: 오류 발생!"
          ]
        }
      ]
    },
    {
      "cell_type": "markdown",
      "metadata": {
        "id": "wbPCNVPRKCcC"
      },
      "source": [
        "자식 클래스로써 부모에 없는 새로움 함수 정의하는 것도 가능!"
      ]
    },
    {
      "cell_type": "code",
      "metadata": {
        "id": "QfvjFF6RJsDM"
      },
      "source": [],
      "execution_count": null,
      "outputs": []
    }
  ]
}