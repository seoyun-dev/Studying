{
 "cells": [
  {
   "cell_type": "markdown",
   "id": "16971e55",
   "metadata": {},
   "source": [
    "![](../screenshot/swin0.png)\n",
    "\n",
    "- 같은 X축에 있으면 상대적 거리가 0, 아래로 떨어지면 1, 위로 떨어지면 -1\n",
    "- 같은 y축에 있으면 상대적 거리가 0, 오른쪽으로 떨어지면 -1, 왼쪽으로 떨어지면 1"
   ]
  },
  {
   "cell_type": "code",
   "execution_count": 5,
   "id": "e102c369-4de8-4cdf-84b4-a8d64cc54364",
   "metadata": {},
   "outputs": [
    {
     "name": "stdout",
     "output_type": "stream",
     "text": [
      "tensor([[[ 0,  0, -1, -1],\n",
      "         [ 0,  0, -1, -1],\n",
      "         [ 1,  1,  0,  0],\n",
      "         [ 1,  1,  0,  0]],\n",
      "\n",
      "        [[ 0, -1,  0, -1],\n",
      "         [ 1,  0,  1,  0],\n",
      "         [ 0, -1,  0, -1],\n",
      "         [ 1,  0,  1,  0]]])\n",
      "torch.Size([2, 4, 4])\n"
     ]
    }
   ],
   "source": [
    "####### 10.10 X, Y의 상대적 위치 편향 계산 (①,② 계산과정)\n",
    "import torch\n",
    "\n",
    "\n",
    "window_size     = 2\n",
    "coords_h        = torch.arange(window_size) # [0,1]\n",
    "coords_w        = torch.arange(window_size) # [0,1]\n",
    "# torch.meshgrid로 cords_h(i)배열값과 cords_w(j)배열값으로 사각형 격자(ij)를 만들어 사각형의 좌표에 해당하는 배열 반환\n",
    "# torch.stack을 사용하여 (X, Y)쌍 배열을 만듦\n",
    "coords          = torch.stack(torch.meshgrid([coords_h, coords_w], indexing=\"ij\"))\n",
    "''' tensor([[[0, 0],\n",
    "            [1, 1]],\n",
    "\n",
    "            [[0, 1],\n",
    "            [0, 1]]]) '''\n",
    "\n",
    "# X, Y축에 대한 위치 인덱스 생성 (첫번째차원(y)를 제외하고 평탄화)\n",
    "coords_flatten  = torch.flatten(coords, 1)\n",
    "'''tensor([[0, 0, 1, 1],\n",
    "        [0, 1, 0, 1]])'''\n",
    "\n",
    "\n",
    "# 각 위치 색인의 차이 계산\n",
    "relative_coords = coords_flatten[:, :, None] - coords_flatten[:, None, :]\n",
    "'''[:, :, None] : tensor([[[0],\n",
    "                            [0],\n",
    "                            [1],\n",
    "                            [1]],  <- x축 상대 좌표 [2,4,1]\n",
    "\n",
    "                            [[0],\n",
    "                            [1],\n",
    "                            [0],\n",
    "                            [1]]])'''\n",
    "'''[:, None, :] : tensor([[[0, 0, 1, 1]],   <- y축 상대좌표 * -1 [2,1,4]\n",
    "\n",
    "                        [[0, 1, 0, 1]]])'''\n",
    "### X, Y에 대한 위치 행렬\n",
    "print(relative_coords)\n",
    "print(relative_coords.shape)"
   ]
  },
  {
   "cell_type": "code",
   "execution_count": 7,
   "id": "9d942af7-05c0-42e7-bfc8-a44957aced3d",
   "metadata": {},
   "outputs": [
    {
     "name": "stdout",
     "output_type": "stream",
     "text": [
      "X축에 대한 행렬:\n",
      "tensor([[3, 3, 0, 0],\n",
      "        [3, 3, 0, 0],\n",
      "        [6, 6, 3, 3],\n",
      "        [6, 6, 3, 3]])\n",
      "\n",
      "Y축에 대한 행렬:\n",
      "tensor([[1, 0, 1, 0],\n",
      "        [2, 1, 2, 1],\n",
      "        [1, 0, 1, 0],\n",
      "        [2, 1, 2, 1]])\n",
      "\n",
      "X, Y축에 대한 위치 행렬:\n",
      "tensor([[4, 3, 1, 0],\n",
      "        [5, 4, 2, 1],\n",
      "        [7, 6, 4, 3],\n",
      "        [8, 7, 5, 4]])\n"
     ]
    }
   ],
   "source": [
    "####### 10.11 보정된 X, Y축에 대한 위치 행렬 (③,④)\n",
    "x_coords = relative_coords[0, :, :]\n",
    "y_coords = relative_coords[1, :, :]\n",
    "\n",
    "# 인덱스화 위해 0이상으로 만드는 작업\n",
    "x_coords += window_size - 1  # X축에 대한 ③번 연산 과정\n",
    "y_coords += window_size - 1  # Y축에 대한 ③번 연산 과정\n",
    "x_coords *= 2 * window_size - 1  # ④번 연산 과정\n",
    "print(f\"X축에 대한 행렬:\\n{x_coords}\\n\")\n",
    "print(f\"Y축에 대한 행렬:\\n{y_coords}\\n\")\n",
    "\n",
    "relative_position_index = x_coords + y_coords  # ⑤번 연산 과정\n",
    "print(f\"X, Y축에 대한 위치 행렬:\\n{relative_position_index}\")"
   ]
  },
  {
   "cell_type": "code",
   "execution_count": 10,
   "id": "46df5241-4ba4-4e74-b512-be1c903881ac",
   "metadata": {},
   "outputs": [
    {
     "name": "stdout",
     "output_type": "stream",
     "text": [
      "torch.Size([4, 4, 1])\n"
     ]
    }
   ],
   "source": [
    "####### 10.12 X, Y축에 대한 상대적 위치 좌표 반환\n",
    "num_heads = 1   # MSA 계산할 때 사용된 헤드 수\n",
    "# B hat 행렬\n",
    "relative_position_bias_table = torch.Tensor(\n",
    "    torch.zeros((2 * window_size - 1) * (2 * window_size - 1), num_heads)\n",
    ")\n",
    "\n",
    "# 인덱스에 해당하는 부분 가져오기\n",
    "relative_position_bias = relative_position_bias_table[relative_position_index.view(-1)]\n",
    "# 가져온 값 M^2 * M^2 꼴로 변환 (B행렬) (M^2: 윈도우 내부의 패치 개수)\n",
    "relative_position_bias = relative_position_bias.view(\n",
    "    window_size * window_size, window_size * window_size, -1\n",
    ")\n",
    "\n",
    "print(relative_position_bias.shape)"
   ]
  }
 ],
 "metadata": {
  "kernelspec": {
   "display_name": "Python 3 (ipykernel)",
   "language": "python",
   "name": "python3"
  },
  "language_info": {
   "codemirror_mode": {
    "name": "ipython",
    "version": 3
   },
   "file_extension": ".py",
   "mimetype": "text/x-python",
   "name": "python",
   "nbconvert_exporter": "python",
   "pygments_lexer": "ipython3",
   "version": "3.11.6"
  }
 },
 "nbformat": 4,
 "nbformat_minor": 5
}
