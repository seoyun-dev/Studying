{
 "cells": [
  {
   "cell_type": "code",
   "execution_count": 1,
   "id": "c0b6b124-1b85-4d01-a0a0-be02caf42f77",
   "metadata": {},
   "outputs": [
    {
     "name": "stderr",
     "output_type": "stream",
     "text": [
      "Truncation was not explicitly activated but `max_length` is provided a specific value, please use `truncation=True` to explicitly truncate examples to max length. Defaulting to 'longest_first' truncation strategy. If you encode pairs of sequences (GLUE-style) with the tokenizer you can select this strategy more precisely by providing a specific strategy to `truncation`.\n"
     ]
    },
    {
     "name": "stdout",
     "output_type": "stream",
     "text": [
      "[{'generated_text': 'Machine learning is in some ways a better and faster than a traditional model-learning approach which has to'}, {'generated_text': 'Machine learning is a topic of intense interest to many researchers and professionals. However, some new research reports'}, {'generated_text': 'Machine learning is extremely difficult to manage. In a way, it may seem like it to be a'}]\n"
     ]
    }
   ],
   "source": [
    "##### GPT-2를 이용한 문장 생성\n",
    "from transformers import pipeline\n",
    "\n",
    "# 입력된 작업에 모델로 적합한 파이프라인을 구축\n",
    "generator = pipeline(task=\"text-generation\", model=\"gpt2\")\n",
    "outputs   = generator(\n",
    "    text_inputs          = \"Machine learning is\",\n",
    "    max_length           = 20,  # 생성될 문장의 최대 토큰 수\n",
    "    num_return_sequences = 3,   # 생성할 텍스트 시퀀스의 수\n",
    "    pad_token_id         = generator.tokenizer.eos_token_id\n",
    ")\n",
    "print(outputs)"
   ]
  }
 ],
 "metadata": {
  "kernelspec": {
   "display_name": "Python 3 (ipykernel)",
   "language": "python",
   "name": "python3"
  },
  "language_info": {
   "codemirror_mode": {
    "name": "ipython",
    "version": 3
   },
   "file_extension": ".py",
   "mimetype": "text/x-python",
   "name": "python",
   "nbconvert_exporter": "python",
   "pygments_lexer": "ipython3",
   "version": "3.11.6"
  }
 },
 "nbformat": 4,
 "nbformat_minor": 5
}
