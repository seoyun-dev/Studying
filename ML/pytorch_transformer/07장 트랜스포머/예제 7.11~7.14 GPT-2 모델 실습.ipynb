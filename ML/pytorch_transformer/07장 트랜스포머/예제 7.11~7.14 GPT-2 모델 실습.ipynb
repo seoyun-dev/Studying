{
 "cells": [
  {
   "cell_type": "code",
   "execution_count": 1,
   "id": "5f8b7400-99b0-477e-96e5-81cff5bdec03",
   "metadata": {},
   "outputs": [
    {
     "name": "stdout",
     "output_type": "stream",
     "text": [
      "Train Dataset Length : 8550\n",
      "Valid Dataset Length : 526\n",
      "Test Dataset Length : 515\n"
     ]
    }
   ],
   "source": [
    "##### CoLA 데이터세트 불러오기\n",
    "import torch\n",
    "from torchtext.datasets import CoLA\n",
    "from transformers import AutoTokenizer\n",
    "from torch.utils.data import DataLoader\n",
    "\n",
    "## 배치를 토큰화하고, 패딩, 절사(truncation), 반환 형식을 설정하는 함수\n",
    "def collator(batch, tokenizer, device):\n",
    "    source, labels, texts = zip(*batch)\n",
    "    tokenized = tokenizer(\n",
    "        texts,\n",
    "        padding        = \"longest\",  # 가장 긴 시퀀스에 대해 패딩을 적용\n",
    "        truncation     = True,       # 입력 시퀀스 길이가 최대 길이 초과한 경우 자름\n",
    "        return_tensors = \"pt\"        # 파이토치 텐서 형태로 반환\n",
    "    )\n",
    "    input_ids      = tokenized[\"input_ids\"].to(device)\n",
    "    attention_mask = tokenized[\"attention_mask\"].to(device)\n",
    "    labels         = torch.tensor(labels, dtype=torch.long).to(device)\n",
    "    return input_ids, attention_mask, labels\n",
    "\n",
    "\n",
    "train_data = list(CoLA(split=\"train\"))\n",
    "valid_data = list(CoLA(split=\"dev\"))\n",
    "test_data  = list(CoLA(split=\"test\"))\n",
    "\n",
    "tokenizer           = AutoTokenizer.from_pretrained(\"gpt2\")\n",
    "# GPT-2는 사전 학습시 패딩기법 사용 x > 패딩 토큰 포함 x > eos 토큰 사용해 패딩\n",
    "tokenizer.pad_token = tokenizer.eos_token\n",
    "\n",
    "epochs     = 3\n",
    "batch_size = 16\n",
    "device     = \"cuda\" if torch.cuda.is_available() else \"cpu\"\n",
    "\n",
    "train_dataloader = DataLoader(\n",
    "    train_data,\n",
    "    batch_size = batch_size,\n",
    "    collate_fn = lambda x: collator(x, tokenizer, device),\n",
    "    shuffle    = True,\n",
    ")\n",
    "valid_dataloader = DataLoader(\n",
    "    valid_data, batch_size = batch_size, collate_fn = lambda x: collator(x, tokenizer, device)\n",
    ")\n",
    "test_dataloader = DataLoader(\n",
    "    test_data, batch_size = batch_size, collate_fn = lambda x: collator(x, tokenizer, device)\n",
    ")\n",
    "\n",
    "print(\"Train Dataset Length :\", len(train_data))\n",
    "print(\"Valid Dataset Length :\", len(valid_data))\n",
    "print(\"Test Dataset Length :\", len(test_data))"
   ]
  },
  {
   "cell_type": "code",
   "execution_count": 2,
   "id": "ec391d83-9d1d-4591-88c0-68ebcaf0f6de",
   "metadata": {},
   "outputs": [
    {
     "name": "stderr",
     "output_type": "stream",
     "text": [
      "Some weights of GPT2ForSequenceClassification were not initialized from the model checkpoint at gpt2 and are newly initialized: ['score.weight']\n",
      "You should probably TRAIN this model on a down-stream task to be able to use it for predictions and inference.\n"
     ]
    }
   ],
   "source": [
    "##### GPT-2 모델 설정\n",
    "from torch import optim\n",
    "from transformers import GPT2ForSequenceClassification\n",
    "\n",
    "# GPT-2 모델을 기반으로 하는 문장 분류 모델 \n",
    "# (GPT-2와 유사, 분류위해 최종 출력 계층이 미세 조정됨)\n",
    "model = GPT2ForSequenceClassification.from_pretrained(\n",
    "    pretrained_model_name_or_path = \"gpt2\",\n",
    "    num_labels                    = 2   # 분류 레이블 수\n",
    ").to(device)\n",
    "\n",
    "# GPT-2는 사전 학습시 패딩기법 사용 x > 패딩 토큰 포함 x > eos 토큰 사용해 패딩\n",
    "model.config.pad_token_id = model.config.eos_token_id\n",
    "optimizer                 = optim.Adam(model.parameters(), lr=5e-5)"
   ]
  },
  {
   "cell_type": "code",
   "execution_count": 3,
   "id": "9999e21b-348b-4b81-87bd-af0659e7b9bb",
   "metadata": {},
   "outputs": [
    {
     "name": "stdout",
     "output_type": "stream",
     "text": [
      "Epoch 1: Train Loss: 0.5891 Val Loss: 0.5670 Val Accuracy 0.6972\n",
      "Saved the model weights\n",
      "Epoch 2: Train Loss: 0.4725 Val Loss: 0.4558 Val Accuracy 0.7925\n",
      "Saved the model weights\n",
      "Epoch 3: Train Loss: 0.3310 Val Loss: 0.6027 Val Accuracy 0.7527\n"
     ]
    }
   ],
   "source": [
    "##### GPT-2 모델 학습 및 검증\n",
    "import numpy as np\n",
    "from torch import nn\n",
    "\n",
    "# 정확도 계산 함수\n",
    "def calc_accuracy(preds, labels):\n",
    "    pred_flat   = np.argmax(preds, axis=1).flatten() # 큰 원소의 인덱스 반환\n",
    "    labels_flat = labels.flatten()\n",
    "    return np.sum(pred_flat == labels_flat) / len(labels_flat)\n",
    "\n",
    "# 학습 함수\n",
    "def train(model, optimizer, dataloader):\n",
    "    model.train()\n",
    "    train_loss = 0.0\n",
    "\n",
    "    for input_ids, attention_mask, labels in dataloader:\n",
    "        outputs = model(\n",
    "            input_ids      = input_ids,\n",
    "            attention_mask = attention_mask,\n",
    "            labels         = labels\n",
    "        )\n",
    "\n",
    "        loss        = outputs.loss\n",
    "        train_loss += loss.item()\n",
    "        \n",
    "        optimizer.zero_grad()\n",
    "        loss.backward()\n",
    "        optimizer.step()\n",
    "\n",
    "    train_loss = train_loss / len(dataloader)\n",
    "    return train_loss\n",
    "\n",
    "# 평가 함수\n",
    "def evaluation(model, dataloader):\n",
    "    with torch.no_grad():\n",
    "        model.eval()\n",
    "        criterion = nn.CrossEntropyLoss()\n",
    "        val_loss, val_accuracy = 0.0, 0.0\n",
    "        \n",
    "        for input_ids, attention_mask, labels in dataloader:\n",
    "            outputs = model(\n",
    "                input_ids      = input_ids,\n",
    "                attention_mask = attention_mask,\n",
    "                labels         = labels\n",
    "            )\n",
    "            \n",
    "            logits = outputs.logits\n",
    "\n",
    "            loss      = criterion(logits, labels)\n",
    "            logits    = logits.detach().cpu().numpy()\n",
    "            label_ids = labels.to(\"cpu\").numpy()\n",
    "            accuracy  = calc_accuracy(logits, label_ids)\n",
    "            \n",
    "            val_loss     += loss\n",
    "            val_accuracy += accuracy\n",
    "    \n",
    "    val_loss     = val_loss/len(dataloader)\n",
    "    val_accuracy = val_accuracy/len(dataloader)\n",
    "    return val_loss, val_accuracy\n",
    "\n",
    "\n",
    "best_loss = 10000\n",
    "for epoch in range(epochs):\n",
    "    train_loss = train(model, optimizer, train_dataloader)\n",
    "    val_loss, val_accuracy = evaluation(model, valid_dataloader)\n",
    "    print(f\"Epoch {epoch + 1}: Train Loss: {train_loss:.4f} Val Loss: {val_loss:.4f} Val Accuracy {val_accuracy:.4f}\")\n",
    "\n",
    "    # 손실값이 전보다 작으면 모델 가중치를 저장\n",
    "    if val_loss < best_loss:\n",
    "        best_loss = val_loss\n",
    "        torch.save(model.state_dict(), \"../models/GPT2ForSequenceClassification.pt\")\n",
    "        print(\"Saved the model weights\")"
   ]
  },
  {
   "cell_type": "code",
   "execution_count": 4,
   "id": "6686f61c-be9f-45b6-a89c-9c319afb6994",
   "metadata": {},
   "outputs": [
    {
     "name": "stderr",
     "output_type": "stream",
     "text": [
      "Some weights of GPT2ForSequenceClassification were not initialized from the model checkpoint at gpt2 and are newly initialized: ['score.weight']\n",
      "You should probably TRAIN this model on a down-stream task to be able to use it for predictions and inference.\n"
     ]
    },
    {
     "name": "stdout",
     "output_type": "stream",
     "text": [
      "Test Loss : 0.5616\n",
      "Test Accuracy : 0.7229\n"
     ]
    }
   ],
   "source": [
    "##### 모델 평가\n",
    "model = GPT2ForSequenceClassification.from_pretrained(\n",
    "    pretrained_model_name_or_path = \"gpt2\",\n",
    "    num_labels                    = 2\n",
    ").to(device)\n",
    "model.config.pad_token_id = model.config.eos_token_id\n",
    "model.load_state_dict(torch.load(\"../models/GPT2ForSequenceClassification.pt\"))\n",
    "\n",
    "test_loss, test_accuracy = evaluation(model, test_dataloader)\n",
    "print(f\"Test Loss : {test_loss:.4f}\")\n",
    "print(f\"Test Accuracy : {test_accuracy:.4f}\")"
   ]
  }
 ],
 "metadata": {
  "kernelspec": {
   "display_name": "Python 3 (ipykernel)",
   "language": "python",
   "name": "python3"
  },
  "language_info": {
   "codemirror_mode": {
    "name": "ipython",
    "version": 3
   },
   "file_extension": ".py",
   "mimetype": "text/x-python",
   "name": "python",
   "nbconvert_exporter": "python",
   "pygments_lexer": "ipython3",
   "version": "3.11.6"
  }
 },
 "nbformat": 4,
 "nbformat_minor": 5
}
