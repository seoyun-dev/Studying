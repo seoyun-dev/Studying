{
 "cells": [
  {
   "cell_type": "code",
   "execution_count": 1,
   "id": "2481314a-b8de-4fed-aa97-b95b396c5f7a",
   "metadata": {},
   "outputs": [
    {
     "data": {
      "application/vnd.jupyter.widget-view+json": {
       "model_id": "79286b84551e40ae83dc1372cca6f64a",
       "version_major": 2,
       "version_minor": 0
      },
      "text/plain": [
       "config.json:   0%|          | 0.00/665 [00:00<?, ?B/s]"
      ]
     },
     "metadata": {},
     "output_type": "display_data"
    },
    {
     "data": {
      "application/vnd.jupyter.widget-view+json": {
       "model_id": "4e7be1ca6489498c8163f805cc02d758",
       "version_major": 2,
       "version_minor": 0
      },
      "text/plain": [
       "model.safetensors:   0%|          | 0.00/548M [00:00<?, ?B/s]"
      ]
     },
     "metadata": {},
     "output_type": "display_data"
    },
    {
     "data": {
      "application/vnd.jupyter.widget-view+json": {
       "model_id": "604adcdef9ea42dab8fde430d3b4267d",
       "version_major": 2,
       "version_minor": 0
      },
      "text/plain": [
       "generation_config.json:   0%|          | 0.00/124 [00:00<?, ?B/s]"
      ]
     },
     "metadata": {},
     "output_type": "display_data"
    },
    {
     "name": "stdout",
     "output_type": "stream",
     "text": [
      "transformer\n",
      "└ wte\n",
      "└ wpe\n",
      "└ drop\n",
      "└ h\n",
      "│  └ 0\n",
      "│  │  └ ln_1\n",
      "│  │  └ attn\n",
      "│  │  └ ln_2\n",
      "│  │  └ mlp\n",
      "│  └ 1\n",
      "│  │  └ ln_1\n",
      "│  │  └ attn\n",
      "│  │  └ ln_2\n",
      "│  │  └ mlp\n",
      "│  └ 2\n",
      "│  │  └ ln_1\n",
      "│  │  └ attn\n",
      "│  │  └ ln_2\n",
      "│  │  └ mlp\n",
      "│  └ 3\n",
      "│  │  └ ln_1\n",
      "│  │  └ attn\n",
      "│  │  └ ln_2\n",
      "│  │  └ mlp\n",
      "│  └ 4\n",
      "│  │  └ ln_1\n",
      "│  │  └ attn\n",
      "│  │  └ ln_2\n",
      "│  │  └ mlp\n",
      "│  └ 5\n",
      "│  │  └ ln_1\n",
      "│  │  └ attn\n",
      "│  │  └ ln_2\n",
      "│  │  └ mlp\n",
      "│  └ 6\n",
      "│  │  └ ln_1\n",
      "│  │  └ attn\n",
      "│  │  └ ln_2\n",
      "│  │  └ mlp\n",
      "│  └ 7\n",
      "│  │  └ ln_1\n",
      "│  │  └ attn\n",
      "│  │  └ ln_2\n",
      "│  │  └ mlp\n",
      "│  └ 8\n",
      "│  │  └ ln_1\n",
      "│  │  └ attn\n",
      "│  │  └ ln_2\n",
      "│  │  └ mlp\n",
      "│  └ 9\n",
      "│  │  └ ln_1\n",
      "│  │  └ attn\n",
      "│  │  └ ln_2\n",
      "│  │  └ mlp\n",
      "│  └ 10\n",
      "│  │  └ ln_1\n",
      "│  │  └ attn\n",
      "│  │  └ ln_2\n",
      "│  │  └ mlp\n",
      "│  └ 11\n",
      "│  │  └ ln_1\n",
      "│  │  └ attn\n",
      "│  │  └ ln_2\n",
      "│  │  └ mlp\n",
      "└ ln_f\n",
      "lm_head\n"
     ]
    }
   ],
   "source": [
    "##### 문장 생성을 위한 GPT-2 모델의 구조\n",
    "from transformers import GPT2LMHeadModel\n",
    "\n",
    "# 사전학습된 gpt-2 모델 불러오기 (12개 디코더 계층 사용하는 간소화 모델인 gpt2)\n",
    "model = GPT2LMHeadModel.from_pretrained(pretrained_model_name_or_path=\"gpt2\")\n",
    "\n",
    "for main_name, main_module in model.named_children():\n",
    "    print(main_name)\n",
    "    for sub_name, sub_module in main_module.named_children():\n",
    "        print(\"└\", sub_name)\n",
    "        for ssub_name, ssub_module in sub_module.named_children():\n",
    "            print(\"│  └\", ssub_name)\n",
    "            for sssub_name, sssub_module in ssub_module.named_children():\n",
    "                print(\"│  │  └\", sssub_name)"
   ]
  },
  {
   "cell_type": "markdown",
   "id": "8bbd0bf7",
   "metadata": {},
   "source": [
    "- 단어 토큰 임베딩(wte)\n",
    "- 단어 위치 임베딩(wpe)\n",
    "- 드롭아웃(drop)\n",
    "- 트랜스포머 디코더 계층(h)\n",
    "    - ln: layer norm (정규화)\n",
    "    - attn : attention\n",
    "    - mlp : multi-layer perceptron (순방향신경망)\n",
    "- 선형 임베딩 및 언어 모델(lm_head)"
   ]
  }
 ],
 "metadata": {
  "kernelspec": {
   "display_name": "Python 3 (ipykernel)",
   "language": "python",
   "name": "python3"
  },
  "language_info": {
   "codemirror_mode": {
    "name": "ipython",
    "version": 3
   },
   "file_extension": ".py",
   "mimetype": "text/x-python",
   "name": "python",
   "nbconvert_exporter": "python",
   "pygments_lexer": "ipython3",
   "version": "3.11.6"
  }
 },
 "nbformat": 4,
 "nbformat_minor": 5
}
