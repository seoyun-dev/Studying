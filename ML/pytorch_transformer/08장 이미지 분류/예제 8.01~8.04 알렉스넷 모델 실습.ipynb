{
 "cells": [
  {
   "cell_type": "code",
   "execution_count": 3,
   "id": "f72bfb8a-fe55-4bb4-bab1-fd27cea72c56",
   "metadata": {},
   "outputs": [
    {
     "name": "stderr",
     "output_type": "stream",
     "text": [
      "Downloading: \"https://download.pytorch.org/models/alexnet-owt-7be5be79.pth\" to /Users/seoyun/.cache/torch/hub/checkpoints/alexnet-owt-7be5be79.pth\n",
      "100%|██████████| 233M/233M [00:03<00:00, 71.2MB/s] \n"
     ]
    },
    {
     "data": {
      "text/plain": [
       "==========================================================================================\n",
       "Layer (type:depth-idx)                   Output Shape              Param #\n",
       "==========================================================================================\n",
       "AlexNet                                  [1, 1000]                 --\n",
       "├─Sequential: 1-1                        [1, 256, 6, 6]            --\n",
       "│    └─Conv2d: 2-1                       [1, 64, 55, 55]           23,296\n",
       "│    └─ReLU: 2-2                         [1, 64, 55, 55]           --\n",
       "│    └─MaxPool2d: 2-3                    [1, 64, 27, 27]           --\n",
       "│    └─Conv2d: 2-4                       [1, 192, 27, 27]          307,392\n",
       "│    └─ReLU: 2-5                         [1, 192, 27, 27]          --\n",
       "│    └─MaxPool2d: 2-6                    [1, 192, 13, 13]          --\n",
       "│    └─Conv2d: 2-7                       [1, 384, 13, 13]          663,936\n",
       "│    └─ReLU: 2-8                         [1, 384, 13, 13]          --\n",
       "│    └─Conv2d: 2-9                       [1, 256, 13, 13]          884,992\n",
       "│    └─ReLU: 2-10                        [1, 256, 13, 13]          --\n",
       "│    └─Conv2d: 2-11                      [1, 256, 13, 13]          590,080\n",
       "│    └─ReLU: 2-12                        [1, 256, 13, 13]          --\n",
       "│    └─MaxPool2d: 2-13                   [1, 256, 6, 6]            --\n",
       "├─AdaptiveAvgPool2d: 1-2                 [1, 256, 6, 6]            --\n",
       "├─Sequential: 1-3                        [1, 1000]                 --\n",
       "│    └─Dropout: 2-14                     [1, 9216]                 --\n",
       "│    └─Linear: 2-15                      [1, 4096]                 37,752,832\n",
       "│    └─ReLU: 2-16                        [1, 4096]                 --\n",
       "│    └─Dropout: 2-17                     [1, 4096]                 --\n",
       "│    └─Linear: 2-18                      [1, 4096]                 16,781,312\n",
       "│    └─ReLU: 2-19                        [1, 4096]                 --\n",
       "│    └─Linear: 2-20                      [1, 1000]                 4,097,000\n",
       "==========================================================================================\n",
       "Total params: 61,100,840\n",
       "Trainable params: 61,100,840\n",
       "Non-trainable params: 0\n",
       "Total mult-adds (Units.MEGABYTES): 714.68\n",
       "==========================================================================================\n",
       "Input size (MB): 0.60\n",
       "Forward/backward pass size (MB): 3.95\n",
       "Params size (MB): 244.40\n",
       "Estimated Total Size (MB): 248.96\n",
       "=========================================================================================="
      ]
     },
     "execution_count": 3,
     "metadata": {},
     "output_type": "execute_result"
    }
   ],
   "source": [
    "from torchvision import models\n",
    "from torchinfo import summary   # 모델 구조 확인하기 위해 torchinfo 라이브러리\n",
    "\n",
    "# 알렉스넷 모델 불러오기 함수 (weights=사전 학습된 가중치 매개변수)\n",
    "model = models.alexnet(weights=\"AlexNet_Weights.IMAGENET1K_V1\")\n",
    "# 모델 요약 함수 - torchinfo.summary(model, input_data)\n",
    "summary(model, (1, 3, 224, 224), device=\"cpu\")"
   ]
  },
  {
   "cell_type": "code",
   "execution_count": 4,
   "id": "6c6d74f1-5526-4aa1-9f12-aff2d2731367",
   "metadata": {},
   "outputs": [
    {
     "name": "stdout",
     "output_type": "stream",
     "text": [
      "클래스 개수 : 1000\n",
      "첫 번째 클래스 레이블 : tench\n"
     ]
    }
   ],
   "source": [
    "####### 클래스 정보 불러오기\n",
    "with open(\"../datasets/imagenet_classes.txt\", \"r\") as file:\n",
    "    classes = file.read().splitlines()\n",
    "    \n",
    "print(f\"클래스 개수 : {len(classes)}\")\n",
    "print(f\"첫 번째 클래스 레이블 : {classes[0]}\")"
   ]
  },
  {
   "cell_type": "code",
   "execution_count": 8,
   "id": "a919bc32-b25a-40ec-9b09-ded68821ef27",
   "metadata": {},
   "outputs": [
    {
     "name": "stdout",
     "output_type": "stream",
     "text": [
      "입력 텐서의 크기 : torch.Size([2, 3, 224, 224])\n"
     ]
    }
   ],
   "source": [
    "####### 이미지 데이터 전처리 (알렉스넷에서 학습한 이미지 데이터와 동일한 형태로 전처리 수행)\n",
    "import torch\n",
    "from PIL import Image\n",
    "from torchvision import models, transforms\n",
    "\n",
    "# 전처리 (입력이미지 = 256x256)\n",
    "# RGB 픽셀값의 평균과 분산을 활용해 정규화를 적용한다,,?\n",
    "transform = transforms.Compose(\n",
    "    [\n",
    "        transforms.Resize((224, 224)),\n",
    "        transforms.ToTensor(),  # 0~1로 픽셀값 스케일링\n",
    "        transforms.Normalize(   # ImageNet 데이터셋에 대해 계산된 값\n",
    "            mean = [0.485, 0.456, 0.406],\n",
    "            std  = [0.229, 0.224, 0.225]\n",
    "        ),\n",
    "    ]\n",
    ")\n",
    "\n",
    "device = \"mps\" if torch.backends.mps.is_available() and torch.backends.mps.is_built() else \"cpu\"\n",
    "model  = models.alexnet(weights=\"AlexNet_Weights.IMAGENET1K_V1\").eval().to(device)\n",
    "\n",
    "tensors = []\n",
    "files   = [\"../datasets/images/airplane.jpg\", \"../datasets/images/bus.jpg\"]\n",
    "for file in files: \n",
    "    image = Image.open(file)\n",
    "    tensors.append(transform(image))\n",
    "\n",
    "tensors = torch.stack(tensors)  # 모든 이미지 텐서를 하나의 배치로 결합\n",
    "print(f\"입력 텐서의 크기 : {tensors.shape}\")"
   ]
  },
  {
   "cell_type": "code",
   "execution_count": 11,
   "id": "0cc3cddd-2615-4867-9697-e82d922aedf7",
   "metadata": {},
   "outputs": [
    {
     "name": "stdout",
     "output_type": "stream",
     "text": [
      "torch.Size([2, 1000])\n",
      "../datasets/images/airplane.jpg 추론 결과\n",
      " - airliner                       : 66.83%\n",
      " - warplane                       : 20.12%\n",
      " - wing                           :  9.29%\n",
      " - space shuttle                  :  2.89%\n",
      " - missile                        :  0.38%\n",
      "../datasets/images/bus.jpg 추론 결과\n",
      " - streetcar                      : 60.59%\n",
      " - trolleybus                     : 37.66%\n",
      " - minibus                        :  1.54%\n",
      " - passenger car                  :  0.17%\n",
      " - recreational vehicle           :  0.03%\n"
     ]
    }
   ],
   "source": [
    "####### 알렉스넷 모델 추론\n",
    "# 모델과 데이터를 활용해 추론해 보고 상위 다섯 개의 클래스와 예측 확률을 출력\n",
    "import numpy as np\n",
    "from torch.nn import functional as F\n",
    "\n",
    "# 기울기 계산 없이 순전파 계산\n",
    "with torch.no_grad(): \n",
    "    outputs = model(tensors.to(device))\n",
    "    probs   = F.softmax(outputs, dim=-1)\n",
    "    print(probs.size())   # [배치크기(이미지개수), 클래스개수]\n",
    "    # 텐서값이 가장 큰 상위 다섯 개의 요소 반환\n",
    "    top_probs, top_idxs = probs.topk(5)\n",
    "\n",
    "top_probs   = top_probs.detach().cpu().numpy()  # 상위 다섯 개 확률\n",
    "top_idxs    = top_idxs.detach().cpu().numpy()   # 상위 다섯 개 인덱스 (숫자)\n",
    "top_classes = np.array(classes)[top_idxs]       # 상위 다섯 개 인덱스 이름 (class명)\n",
    "\n",
    "for idx, (cls, prob) in enumerate(zip(top_classes, top_probs)): \n",
    "    print(f\"{files[idx]} 추론 결과\")\n",
    "    for c, p in zip(cls, prob): \n",
    "        print(f\" - {c:<30} : {p * 100:>5.2f}%\")"
   ]
  },
  {
   "cell_type": "markdown",
   "id": "4f2693c3",
   "metadata": {},
   "source": [
    "dim=-1의 의미:  \n",
    "dim=-1은 텐서의 마지막 차원을 의미합니다. 이는 주로 신경망에서 출력 벡터가 마지막 차원에 위치하는 구조에서 사용됩니다.  \n",
    "예를 들어, outputs 텐서의 크기가 [배치 크기, 클래스 수]라면, dim=-1은 각 예측 벡터(클래스 수에 해당하는 차원)에 대해 softmax를 적용함을 의미합니다. 즉, 각 배치 내의 데이터 포인트에 대해 독립적으로 클래스 별 확률을 계산하게 됩니다."
   ]
  }
 ],
 "metadata": {
  "kernelspec": {
   "display_name": "Python 3 (ipykernel)",
   "language": "python",
   "name": "python3"
  },
  "language_info": {
   "codemirror_mode": {
    "name": "ipython",
    "version": 3
   },
   "file_extension": ".py",
   "mimetype": "text/x-python",
   "name": "python",
   "nbconvert_exporter": "python",
   "pygments_lexer": "ipython3",
   "version": "3.11.6"
  }
 },
 "nbformat": 4,
 "nbformat_minor": 5
}
