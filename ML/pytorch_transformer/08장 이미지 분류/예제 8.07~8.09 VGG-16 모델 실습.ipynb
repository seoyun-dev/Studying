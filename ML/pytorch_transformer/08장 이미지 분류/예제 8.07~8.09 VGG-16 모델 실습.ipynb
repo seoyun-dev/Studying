{
 "cells": [
  {
   "cell_type": "code",
   "execution_count": 14,
   "id": "adccb4cc-e0b1-47cd-a5e7-dedb6418fdc2",
   "metadata": {},
   "outputs": [],
   "source": [
    "####### 하이퍼파라미터 선언\n",
    "import torch\n",
    "from torch import nn\n",
    "from torch import optim\n",
    "from torch.nn import functional as F\n",
    "from torch.utils.data import DataLoader\n",
    "from torchvision import models\n",
    "from torchvision import transforms\n",
    "from torchvision.datasets import ImageFolder\n",
    "\n",
    "\n",
    "hyperparams = {\n",
    "    \"batch_size\"   : 4,\n",
    "    \"learning_rate\": 0.0001,\n",
    "    \"epochs\"       : 5,\n",
    "    \"transform\"    : transforms.Compose(\n",
    "        [\n",
    "            transforms.Resize(256),\n",
    "            transforms.CenterCrop(224),\n",
    "            transforms.ToTensor(),\n",
    "            transforms.Normalize(\n",
    "                mean = [0.48235, 0.45882, 0.40784],\n",
    "                std  = [1.0 / 255.0, 1.0 / 255.0, 1.0 / 255.0],\n",
    "            ),\n",
    "        ]\n",
    "    ),\n",
    "}"
   ]
  },
  {
   "cell_type": "code",
   "execution_count": 15,
   "id": "6dc9ca1e",
   "metadata": {},
   "outputs": [],
   "source": [
    "####### 데이터 불러오기\n",
    "train_dataset = ImageFolder(\"../datasets/pet/train\", transform=hyperparams[\"transform\"])\n",
    "test_dataset  = ImageFolder(\"../datasets/pet/test\", transform=hyperparams[\"transform\"])\n",
    "\n",
    "train_dataloader = DataLoader(train_dataset, batch_size=hyperparams[\"batch_size\"], shuffle=True, drop_last=True)\n",
    "test_dataloader  = DataLoader(test_dataset, batch_size=hyperparams[\"batch_size\"], shuffle=True, drop_last=True)"
   ]
  },
  {
   "cell_type": "code",
   "execution_count": 16,
   "id": "9265e4ef",
   "metadata": {},
   "outputs": [
    {
     "name": "stdout",
     "output_type": "stream",
     "text": [
      "VGG(\n",
      "  (features): Sequential(\n",
      "    (0): Conv2d(3, 64, kernel_size=(3, 3), stride=(1, 1), padding=(1, 1))\n",
      "    (1): ReLU(inplace=True)\n",
      "    (2): Conv2d(64, 64, kernel_size=(3, 3), stride=(1, 1), padding=(1, 1))\n",
      "    (3): ReLU(inplace=True)\n",
      "    (4): MaxPool2d(kernel_size=2, stride=2, padding=0, dilation=1, ceil_mode=False)\n",
      "    (5): Conv2d(64, 128, kernel_size=(3, 3), stride=(1, 1), padding=(1, 1))\n",
      "    (6): ReLU(inplace=True)\n",
      "    (7): Conv2d(128, 128, kernel_size=(3, 3), stride=(1, 1), padding=(1, 1))\n",
      "    (8): ReLU(inplace=True)\n",
      "    (9): MaxPool2d(kernel_size=2, stride=2, padding=0, dilation=1, ceil_mode=False)\n",
      "    (10): Conv2d(128, 256, kernel_size=(3, 3), stride=(1, 1), padding=(1, 1))\n",
      "    (11): ReLU(inplace=True)\n",
      "    (12): Conv2d(256, 256, kernel_size=(3, 3), stride=(1, 1), padding=(1, 1))\n",
      "    (13): ReLU(inplace=True)\n",
      "    (14): Conv2d(256, 256, kernel_size=(3, 3), stride=(1, 1), padding=(1, 1))\n",
      "    (15): ReLU(inplace=True)\n",
      "    (16): MaxPool2d(kernel_size=2, stride=2, padding=0, dilation=1, ceil_mode=False)\n",
      "    (17): Conv2d(256, 512, kernel_size=(3, 3), stride=(1, 1), padding=(1, 1))\n",
      "    (18): ReLU(inplace=True)\n",
      "    (19): Conv2d(512, 512, kernel_size=(3, 3), stride=(1, 1), padding=(1, 1))\n",
      "    (20): ReLU(inplace=True)\n",
      "    (21): Conv2d(512, 512, kernel_size=(3, 3), stride=(1, 1), padding=(1, 1))\n",
      "    (22): ReLU(inplace=True)\n",
      "    (23): MaxPool2d(kernel_size=2, stride=2, padding=0, dilation=1, ceil_mode=False)\n",
      "    (24): Conv2d(512, 512, kernel_size=(3, 3), stride=(1, 1), padding=(1, 1))\n",
      "    (25): ReLU(inplace=True)\n",
      "    (26): Conv2d(512, 512, kernel_size=(3, 3), stride=(1, 1), padding=(1, 1))\n",
      "    (27): ReLU(inplace=True)\n",
      "    (28): Conv2d(512, 512, kernel_size=(3, 3), stride=(1, 1), padding=(1, 1))\n",
      "    (29): ReLU(inplace=True)\n",
      "    (30): MaxPool2d(kernel_size=2, stride=2, padding=0, dilation=1, ceil_mode=False)\n",
      "  )\n",
      "  (avgpool): AdaptiveAvgPool2d(output_size=(7, 7))\n",
      "  (classifier): Sequential(\n",
      "    (0): Linear(in_features=25088, out_features=4096, bias=True)\n",
      "    (1): ReLU(inplace=True)\n",
      "    (2): Dropout(p=0.5, inplace=False)\n",
      "    (3): Linear(in_features=4096, out_features=4096, bias=True)\n",
      "    (4): ReLU(inplace=True)\n",
      "    (5): Dropout(p=0.5, inplace=False)\n",
      "    (6): Linear(in_features=4096, out_features=2, bias=True)\n",
      "  )\n",
      ")\n"
     ]
    }
   ],
   "source": [
    "####### VGG-16 모델 불러오기 함수\n",
    "# 대규모 데이터세트로 사전 학습된 알렉스넷 가중치 불러오기\n",
    "model               = models.vgg16(weights=\"VGG16_Weights.IMAGENET1K_V1\")\n",
    "# 마지막 계층의 출력을 2개로 변경 (클래스수)\n",
    "model.classifier[6] = nn.Linear(4096, len(train_dataset.classes))\n",
    "print(model)"
   ]
  },
  {
   "cell_type": "code",
   "execution_count": 17,
   "id": "003e97c5",
   "metadata": {},
   "outputs": [],
   "source": [
    "device    = \"mps\" if torch.backends.mps.is_available() and torch.backends.mps.is_built() else \"cpu\"\n",
    "model     = model.to(device)\n",
    "criterion = nn.CrossEntropyLoss().to(device)\n",
    "optimizer = optim.SGD(model.parameters(), lr=hyperparams[\"learning_rate\"])"
   ]
  },
  {
   "cell_type": "code",
   "execution_count": 18,
   "id": "384f5d0d",
   "metadata": {},
   "outputs": [
    {
     "name": "stdout",
     "output_type": "stream",
     "text": [
      "Epoch :    1, Cost : 0.295\n",
      "Epoch :    2, Cost : 0.089\n",
      "Epoch :    3, Cost : 0.056\n",
      "Epoch :    4, Cost : 0.037\n",
      "Epoch :    5, Cost : 0.030\n"
     ]
    }
   ],
   "source": [
    "####### VGG-16 모델 학습\n",
    "for epoch in range(hyperparams[\"epochs\"]): \n",
    "    cost = 0.0\n",
    "\n",
    "    for images, classes in train_dataloader: \n",
    "        images  = images.to(device)\n",
    "        classes = classes.to(device)\n",
    "\n",
    "        output = model(images)\n",
    "        loss   = criterion(output, classes)\n",
    "\n",
    "        optimizer.zero_grad()\n",
    "        loss.backward()\n",
    "        optimizer.step()\n",
    "\n",
    "        cost += loss\n",
    "\n",
    "    cost = cost / len(train_dataloader)\n",
    "    print(f\"Epoch : {epoch+1:4d}, Cost : {cost:.3f}\")"
   ]
  },
  {
   "cell_type": "code",
   "execution_count": 20,
   "id": "1fff4e34",
   "metadata": {},
   "outputs": [
    {
     "name": "stdout",
     "output_type": "stream",
     "text": [
      "acc@1 : 97.43%\n"
     ]
    }
   ],
   "source": [
    "####### VGG-16 모델 평가\n",
    "with torch.no_grad():\n",
    "    model.eval()\n",
    "\n",
    "    accuracy = 0.0\n",
    "    for images, classes in test_dataloader:\n",
    "        images = images.to(device)\n",
    "        classes = classes.to(device)\n",
    "\n",
    "        outputs = model(images)\n",
    "        probs = F.softmax(outputs, dim=-1)\n",
    "        outputs_classes = torch.argmax(probs, dim=-1)\n",
    "\n",
    "        accuracy += int(torch.eq(classes, outputs_classes).sum())\n",
    "\n",
    "    # acc@1: 상위 1개 레이블에 대한 정확도 측정 ('배치안의 데이터수 x 배치수'로 나눔)\n",
    "    print(f\"acc@1 : {accuracy / (len(test_dataloader) * hyperparams['batch_size']) * 100:.2f}%\")"
   ]
  },
  {
   "cell_type": "code",
   "execution_count": 8,
   "id": "d50655b8",
   "metadata": {},
   "outputs": [
    {
     "name": "stdout",
     "output_type": "stream",
     "text": [
      "Saved the model weights\n"
     ]
    }
   ],
   "source": [
    "####### VGG-16 모델 저장\n",
    "torch.save(model.state_dict(), \"../models/VGG16.pt\")\n",
    "print(\"Saved the model weights\")"
   ]
  }
 ],
 "metadata": {
  "kernelspec": {
   "display_name": "Python 3 (ipykernel)",
   "language": "python",
   "name": "python3"
  },
  "language_info": {
   "codemirror_mode": {
    "name": "ipython",
    "version": 3
   },
   "file_extension": ".py",
   "mimetype": "text/x-python",
   "name": "python",
   "nbconvert_exporter": "python",
   "pygments_lexer": "ipython3",
   "version": "3.11.6"
  }
 },
 "nbformat": 4,
 "nbformat_minor": 5
}
