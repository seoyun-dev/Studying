{
 "cells": [
  {
   "cell_type": "code",
   "execution_count": 1,
   "id": "5021fc30-c1cb-41a9-91e7-8a98fa5b2c12",
   "metadata": {},
   "outputs": [],
   "source": [
    "####### YOLOv8 포즈 추정 모델 불러오기\n",
    "from ultralytics import YOLO\n",
    "\n",
    "\n",
    "model = YOLO(\"../models/yolov8m-pose.pt\")"
   ]
  },
  {
   "cell_type": "code",
   "execution_count": 2,
   "id": "d591fd96-b596-4b2f-adf8-2fe6cd3af3cc",
   "metadata": {},
   "outputs": [],
   "source": [
    "####### 비디오 파일 불러오기\n",
    "import cv2\n",
    "\n",
    "# 비디오파일 or 카메라장치 불러오기\n",
    "capture = cv2.VideoCapture(\"../datasets/woman.mp4\")\n",
    "while cv2.waitKey(10) < 0:\n",
    "    # 비디오가 끝에 도달하면 처음으로 되돌리는 if문\n",
    "    if capture.get(cv2.CAP_PROP_POS_FRAMES) == capture.get(cv2.CAP_PROP_FRAME_COUNT):\n",
    "        capture.set(cv2.CAP_PROP_POS_FRAMES, 0)\n",
    "    # 다음 프레임 읽어 화면에 표시\n",
    "    ret, frame = capture.read()\n",
    "    cv2.imshow(\"VideoFrame\", frame)\n",
    "\n",
    "# 비디오 읽기 클래스 닫고 매모리 해제\n",
    "capture.release()\n",
    "# 창을 제거\n",
    "cv2.destroyAllWindows()"
   ]
  },
  {
   "cell_type": "code",
   "execution_count": 3,
   "id": "60e3e481-ca6c-4404-8b6e-0e4aa9b5a68d",
   "metadata": {},
   "outputs": [],
   "source": [
    "####### 모델 추론\n",
    "import torch\n",
    "\n",
    "\n",
    "def predict(frame, iou=0.7, conf=0.25):\n",
    "    results = model(\n",
    "        source  = frame,\n",
    "        # device  = \"mps\" if torch.backends.mps.is_available() and torch.backends.mps.is_built() else \"cpu\",\n",
    "        device  = \"cuda\" if torch.cuda.is_available() else \"cpu\",\n",
    "        iou     = 0.7,      # 중복 경계 상자 제거하는 임계값\n",
    "        conf    = 0.25,     # 클래스 점수 임계값\n",
    "        verbose = False,    # 모델 수행 시 출력되는 정보 표시 여부 설정\n",
    "    )\n",
    "    result = results[0]\n",
    "    return result"
   ]
  },
  {
   "cell_type": "code",
   "execution_count": 4,
   "id": "e1465d14-3353-4125-a72c-a09f006d449d",
   "metadata": {},
   "outputs": [],
   "source": [
    "####### 경계 상자 시각화\n",
    "def draw_boxes(result, frame):\n",
    "    for boxes in result.boxes:\n",
    "        x1, y1, x2, y2, score, classes = boxes.data.squeeze().cpu().numpy()\n",
    "        # 이미지, (x1,y1), (x2,y2), 색상, 선 두께\n",
    "        cv2.rectangle(frame, (int(x1), int(y1)), (int(x2), int(y2)), (0, 0, 255), 1)\n",
    "    return frame"
   ]
  },
  {
   "cell_type": "code",
   "execution_count": 5,
   "id": "dfe374db-163a-4e21-ae9f-c764777e4797",
   "metadata": {},
   "outputs": [],
   "source": [
    "####### 경계 상자 추론 및 시각화 적용\n",
    "import cv2\n",
    "\n",
    "\n",
    "capture = cv2.VideoCapture(\"../datasets/woman.mp4\")\n",
    "while cv2.waitKey(10) < 0:\n",
    "    if capture.get(cv2.CAP_PROP_POS_FRAMES) == capture.get(cv2.CAP_PROP_FRAME_COUNT):\n",
    "        capture.set(cv2.CAP_PROP_POS_FRAMES, 0)\n",
    "        \n",
    "    ret, frame = capture.read()\n",
    "    # 추론 결과 받아 시각화\n",
    "    result = predict(frame)\n",
    "    frame  = draw_boxes(result, frame)\n",
    "    cv2.imshow(\"VideoFrame\", frame)\n",
    "\n",
    "capture.release()\n",
    "cv2.destroyAllWindows()"
   ]
  },
  {
   "cell_type": "code",
   "execution_count": 6,
   "id": "1198c024-d8a4-488a-af99-0a45eb213c7f",
   "metadata": {},
   "outputs": [],
   "source": [
    "####### 키 포인트 시각화\n",
    "from ultralytics.utils.plotting import Annotator\n",
    "\n",
    "\n",
    "def draw_keypoints(result, frame):\n",
    "    annotator = Annotator(frame, line_width=1)\n",
    "    for kps in result.keypoints:    # 키포인트는 사람의 수만큼 존재하므로 반복문\n",
    "        kps = kps.data.squeeze()\n",
    "        annotator.kpts(kps)\n",
    "        \n",
    "        # 키포인트 = [x, y, conf]\n",
    "        nkps = kps.cpu().numpy()\n",
    "        # nkps[:,2] = 1\n",
    "        # annotator.kpts(nkps)\n",
    "        for idx, (x, y, score) in enumerate(nkps):\n",
    "            if score > 0.5: # 정확도가 0.5 이상인 것만 시각화\n",
    "                cv2.circle(frame, (int(x), int(y)), 3, (0, 0, 255), cv2.FILLED)\n",
    "                cv2.putText(frame, str(idx), (int(x), int(y)), cv2.FONT_HERSHEY_COMPLEX, 1, (0, 0, 255), 1)\n",
    "        \n",
    "    return frame"
   ]
  },
  {
   "cell_type": "code",
   "execution_count": null,
   "id": "26fb7a37-db96-4423-9d4f-0e92e40effcd",
   "metadata": {},
   "outputs": [],
   "source": [
    "# 키 포인트 추론 및 시각화 적용\n",
    "import cv2\n",
    "\n",
    "\n",
    "capture = cv2.VideoCapture(\"../datasets/woman.mp4\")\n",
    "while cv2.waitKey(10) < 0:\n",
    "    if capture.get(cv2.CAP_PROP_POS_FRAMES) == capture.get(cv2.CAP_PROP_FRAME_COUNT):\n",
    "        capture.set(cv2.CAP_PROP_POS_FRAMES, 0)\n",
    "        \n",
    "    ret, frame = capture.read()\n",
    "    result = predict(frame)\n",
    "    frame  = draw_boxes(result, frame)\n",
    "    frame  = draw_keypoints(result, frame)\n",
    "    cv2.imshow(\"VideoFrame\", frame)\n",
    "\n",
    "capture.release()\n",
    "cv2.destroyAllWindows()"
   ]
  }
 ],
 "metadata": {
  "kernelspec": {
   "display_name": "Python 3 (ipykernel)",
   "language": "python",
   "name": "python3"
  },
  "language_info": {
   "codemirror_mode": {
    "name": "ipython",
    "version": 3
   },
   "file_extension": ".py",
   "mimetype": "text/x-python",
   "name": "python",
   "nbconvert_exporter": "python",
   "pygments_lexer": "ipython3",
   "version": "3.11.6"
  }
 },
 "nbformat": 4,
 "nbformat_minor": 5
}
