{
 "cells": [
  {
   "cell_type": "markdown",
   "metadata": {},
   "source": [
    "## 1. 모듈 및 분석 환경 설정"
   ]
  },
  {
   "cell_type": "markdown",
   "metadata": {},
   "source": [
    "### 1-1. 모듈 불러오기"
   ]
  },
  {
   "cell_type": "code",
   "execution_count": 7,
   "metadata": {},
   "outputs": [],
   "source": [
    "####### 모듈 불러오기\n",
    "import torch\n",
    "# 딥러닝 네트워크의 기본 구성 요소를 포함한 모듈\n",
    "import torch.nn as nn\n",
    "# 딥러닝에 자주 사용되는 함수가 포함된 모듈\n",
    "import torch.nn.functional as F\n",
    "# 가중치 추정에 필요한 최적화 알고리즘을 포함한 모듈\n",
    "import torch.optim as optim\n",
    "# torchvision 모듈은 딥러닝에서 자주 사용되는 데이터셋과 모델 구조 및 이미지 변환 기술을 포함\n",
    "from torchvision import datasets, transforms\n",
    "\n",
    "# 데이터와 차트의 시각화를 돕는 matplotlib\n",
    "from matplotlib import pyplot as plt\n",
    "# 주피터 노트북 사용자는 코드 실행 시 브라우저에서 바로 그림을 보려면 꼭 필요한 코드\n",
    "# %matplotlib inline"
   ]
  },
  {
   "cell_type": "markdown",
   "metadata": {},
   "source": [
    "### 1-2. 분석 환경 설정"
   ]
  },
  {
   "cell_type": "code",
   "execution_count": 2,
   "metadata": {},
   "outputs": [
    {
     "name": "stdout",
     "output_type": "stream",
     "text": [
      "Current cuda device is mps\n"
     ]
    }
   ],
   "source": [
    "# is_cuda = torch.cuda.is_available()\n",
    "# device  = torch.device('cuda' if is_cuda else 'cpu')\n",
    "\n",
    "# Mac\n",
    "device = \"mps\" if torch.backends.mps.is_available() and torch.backends.mps.is_built() else \"cpu\"\n",
    "\n",
    "print('Current cuda device is', device)"
   ]
  },
  {
   "cell_type": "markdown",
   "metadata": {},
   "source": [
    "### 1-3. Hyper Parameter 지정"
   ]
  },
  {
   "cell_type": "code",
   "execution_count": 3,
   "metadata": {},
   "outputs": [],
   "source": [
    "# 모델 가중치를 한 번 업데이트시킬 때 사용되는 샘플 단위 개수\n",
    "batch_size = 50\n",
    "# 학습 데이터를 모두 사용하여 학습하는 기본 단위 횟수\n",
    "epoch_num = 15\n",
    "# 가중치 업데이트 정도 (학습률)\n",
    "learning_rate = 0.0001"
   ]
  },
  {
   "cell_type": "markdown",
   "metadata": {},
   "source": [
    "## 2. 데이터 불러오기"
   ]
  },
  {
   "cell_type": "markdown",
   "metadata": {},
   "source": [
    "### 2-1. MNIST 데이터 불러오기"
   ]
  },
  {
   "cell_type": "code",
   "execution_count": 4,
   "metadata": {},
   "outputs": [
    {
     "name": "stdout",
     "output_type": "stream",
     "text": [
      "number of training data:  60000\n",
      "number of test data:  10000\n"
     ]
    }
   ],
   "source": [
    "train_data = datasets.MNIST(root='./data', train=True, download=True, transform=transforms.ToTensor())\n",
    "test_data  = datasets.MNIST(root='./data', train=False, transform=transforms.ToTensor())\n",
    "# root='/data' : 현재 위치의 data 폴더에 저장 \n",
    "# transform : pytorch는 입력 데이터로 tensor를 사용하므로 이미지를 tensor로 변형하는 전처리 사용\n",
    "\n",
    "print('number of training data: ', len(train_data))\n",
    "print('number of test data: ', len(test_data))"
   ]
  },
  {
   "cell_type": "markdown",
   "metadata": {},
   "source": [
    "### 2-2. MNIST 데이터 확인하기"
   ]
  },
  {
   "cell_type": "code",
   "execution_count": 5,
   "metadata": {},
   "outputs": [
    {
     "data": {
      "image/png": "[encoded data removed]",
      "text/plain": [
       "<Figure size 640x480 with 1 Axes>"
      ]
     },
     "metadata": {},
     "output_type": "display_data"
    }
   ],
   "source": [
    "image, label = train_data[0]\n",
    "\n",
    "plt.imshow(image.squeeze().numpy(), cmap='gray')    # cmap defulat : viridis\n",
    "# image.squeeze() : 크기가 1인 차원 없애줌 ([1,28,28]>[28,28])\n",
    "plt.title('label : %s' % label)\n",
    "plt.show()"
   ]
  },
  {
   "cell_type": "markdown",
   "metadata": {},
   "source": [
    "### 2-3. 미니 배치 구성하기"
   ]
  },
  {
   "cell_type": "code",
   "execution_count": 6,
   "metadata": {},
   "outputs": [
    {
     "name": "stdout",
     "output_type": "stream",
     "text": [
      "name            | type                      | size\n",
      "Num of Batch    |                           | 1200\n",
      "first_batch     | <class 'list'>            | 2\n",
      "first_batch[0]  | <class 'torch.Tensor'>    | torch.Size([50, 1, 28, 28])\n",
      "first_batch[1]  | <class 'torch.Tensor'>    | torch.Size([50])\n"
     ]
    }
   ],
   "source": [
    "train_loader = torch.utils.data.DataLoader(dataset=train_data, batch_size=batch_size, shuffle=True)\n",
    "test_loader = torch.utils.data.DataLoader(dataset=test_data, batch_size=batch_size, shuffle=True)\n",
    "\n",
    "first_batch = train_loader.__iter__().__next__()\n",
    "print('{:15s} | {:<25s} | {}'.format('name', 'type', 'size'))\n",
    "print('{:15s} | {:<25s} | {}'.format('Num of Batch', '', len(train_loader)))\n",
    "print('{:15s} | {:<25s} | {}'.format('first_batch', str(type(first_batch)), len(first_batch)))\n",
    "print('{:15s} | {:<25s} | {}'.format('first_batch[0]', str(type(first_batch[0])), first_batch[0].shape))\n",
    "print('{:15s} | {:<25s} | {}'.format('first_batch[1]', str(type(first_batch[1])), first_batch[1].shape))\n",
    "\n",
    "# 6만개 학습 데이터, 배치 사이즈 50 -> 배치 개수 1200\n",
    "# fist_batch[0] : 미니 배치 텐서\n",
    "# first_batch[1] : 미니 배치 레이블"
   ]
  },
  {
   "cell_type": "markdown",
   "metadata": {},
   "source": [
    "## 3. 모델 학습"
   ]
  },
  {
   "cell_type": "markdown",
   "metadata": {},
   "source": [
    "### 3-1. CNN 구조 설계하기"
   ]
  },
  {
   "cell_type": "code",
   "execution_count": 13,
   "metadata": {},
   "outputs": [],
   "source": [
    "class CNN(nn.Module):\n",
    "    def __init__(self):\n",
    "        super(CNN, self).__init__()            # nn.Module 클래스의 속성을 상속받고 초기화\n",
    "        self.conv1    = nn.Conv2d(1, 32, 3, 1) # in_channels, out_channels, kernel_size, stride\n",
    "        self.conv2    = nn.Conv2d(32, 64, 3, 1)\n",
    "        self.dropout1 = nn.Dropout2d(0.25)\n",
    "        self.dropout2 = nn.Dropout2d(0.5)\n",
    "        self.fc1      = nn.Linear(9216, 128)\n",
    "        self.fc2      = nn.Linear(128, 10)\n",
    "    \n",
    "    def forward(self, x):\n",
    "        x = self.conv1(x)\n",
    "        x = F.relu(x)\n",
    "        x = self.conv2(x)\n",
    "        x = F.relu(x)\n",
    "        x = F.max_pool2d(x, 2)  # (2x2) 크기의 filter로 max pooling 적용\n",
    "        x = self.dropout1(x)\n",
    "        x = torch.flatten(x, 1)\n",
    "        x = self.fc1(x)\n",
    "        x = F.relu(x)\n",
    "        x = self.dropout2(x)\n",
    "        x = self.fc2(x)\n",
    "        output = F.log_softmax(x, dim=1)    # softmax대신 log_softmax 사용시 연산 속도 높임\n",
    "        return output"
   ]
  },
  {
   "cell_type": "markdown",
   "metadata": {},
   "source": [
    "### 3-2. Optimizer 및 손실 함수 정의"
   ]
  },
  {
   "cell_type": "code",
   "execution_count": 14,
   "metadata": {},
   "outputs": [],
   "source": [
    "model     = CNN().to(device)\n",
    "optimizer = optim.Adam(model.parameters(), lr=learning_rate)\n",
    "criterion = nn.CrossEntropyLoss()   # 손실 함수"
   ]
  },
  {
   "cell_type": "markdown",
   "metadata": {},
   "source": [
    "### 3-3. 설계한 CNN 모형 확인하기"
   ]
  },
  {
   "cell_type": "code",
   "execution_count": 15,
   "metadata": {},
   "outputs": [
    {
     "name": "stdout",
     "output_type": "stream",
     "text": [
      "CNN(\n",
      "  (conv1): Conv2d(1, 32, kernel_size=(3, 3), stride=(1, 1))\n",
      "  (conv2): Conv2d(32, 64, kernel_size=(3, 3), stride=(1, 1))\n",
      "  (dropout1): Dropout2d(p=0.25, inplace=False)\n",
      "  (dropout2): Dropout2d(p=0.5, inplace=False)\n",
      "  (fc1): Linear(in_features=9216, out_features=128, bias=True)\n",
      "  (fc2): Linear(in_features=128, out_features=10, bias=True)\n",
      ")\n"
     ]
    }
   ],
   "source": [
    "print(model)"
   ]
  },
  {
   "cell_type": "markdown",
   "metadata": {},
   "source": [
    "### 3-4. 모델 학습"
   ]
  },
  {
   "cell_type": "code",
   "execution_count": 18,
   "metadata": {},
   "outputs": [
    {
     "name": "stderr",
     "output_type": "stream",
     "text": [
      "/opt/homebrew/lib/python3.11/site-packages/torch/nn/functional.py:1331: UserWarning: dropout2d: Received a 2-D input to dropout2d, which is deprecated and will result in an error in a future release. To retain the behavior and silence this warning, please use dropout instead. Note that dropout2d exists to provide channel-wise dropout on inputs with 2 spatial dimensions, a channel dimension, and an optional batch dimension (i.e. 3D or 4D inputs).\n",
      "  warnings.warn(warn_msg)\n"
     ]
    },
    {
     "name": "stdout",
     "output_type": "stream",
     "text": [
      "Train Step: 0 \t Loss: 0.252\n",
      "Train Step: 1000 \t Loss: 0.229\n",
      "Train Step: 2000 \t Loss: 0.220\n",
      "Train Step: 3000 \t Loss: 0.049\n",
      "Train Step: 4000 \t Loss: 0.094\n",
      "Train Step: 5000 \t Loss: 0.104\n",
      "Train Step: 6000 \t Loss: 0.036\n",
      "Train Step: 7000 \t Loss: 0.026\n",
      "Train Step: 8000 \t Loss: 0.063\n",
      "Train Step: 9000 \t Loss: 0.059\n",
      "Train Step: 10000 \t Loss: 0.034\n",
      "Train Step: 11000 \t Loss: 0.024\n",
      "Train Step: 12000 \t Loss: 0.097\n",
      "Train Step: 13000 \t Loss: 0.026\n",
      "Train Step: 14000 \t Loss: 0.010\n",
      "Train Step: 15000 \t Loss: 0.026\n",
      "Train Step: 16000 \t Loss: 0.030\n",
      "Train Step: 17000 \t Loss: 0.116\n"
     ]
    }
   ],
   "source": [
    "# model을 학습 모드로 실행\n",
    "model.train()\n",
    "\n",
    "i = 0\n",
    "\n",
    "for epoch in range(epoch_num):\n",
    "    for data, target in train_loader:\n",
    "        data   = data.to(device)\n",
    "        target = target.to(device)\n",
    "        # 학습 시작 전, grad 초기화\n",
    "        optimizer.zero_grad()\n",
    "        output = model(data)\n",
    "        # 50개의 배치마다 1개의 loss 계산\n",
    "        loss   = criterion(output, target)\n",
    "        # 손실함수 통해 grad 계산\n",
    "        loss.backward()\n",
    "        # 가중치 업데이트\n",
    "        optimizer.step()\n",
    "        \n",
    "        if i % 1000 == 0:\n",
    "            print('Train Step: {} \\t Loss: {:.3f}'.format(i, loss.item()))\n",
    "            \n",
    "        i += 1"
   ]
  },
  {
   "cell_type": "markdown",
   "metadata": {},
   "source": [
    "#### 모델 평가"
   ]
  },
  {
   "cell_type": "code",
   "execution_count": 28,
   "metadata": {},
   "outputs": [
    {
     "name": "stderr",
     "output_type": "stream",
     "text": [
      "/opt/homebrew/lib/python3.11/site-packages/torch/nn/functional.py:1331: UserWarning: dropout2d: Received a 2-D input to dropout2d, which is deprecated and will result in an error in a future release. To retain the behavior and silence this warning, please use dropout instead. Note that dropout2d exists to provide channel-wise dropout on inputs with 2 spatial dimensions, a channel dimension, and an optional batch dimension (i.e. 3D or 4D inputs).\n",
      "  warnings.warn(warn_msg)\n"
     ]
    },
    {
     "name": "stdout",
     "output_type": "stream",
     "text": [
      "Test set: Accuracy: 99.02%\n"
     ]
    }
   ],
   "source": [
    "# 모델 학습을 마쳤다면, 테스트 데이터를 통해 모델 성능 평가\n",
    "\n",
    "# 평가 모드 실행 (dropout 적용 X. batch normalization도 평가 모드로 전환)\n",
    "''' cf) 배치정규화의 eval\n",
    "    model.eval()를 호출하면 배치 정규화 레이어가 더 이상 현재 배치의 통계를 사용하지 않고, 훈련 과정에서 계산된 통계를 사용하여 정규화하게 됩니다. 이를 통해 훈련 중에 학습된 통계를 기반으로 예측이 이루어집니다.\n",
    "'''\n",
    "model.eval()\n",
    "# 정답 개수 초기화\n",
    "correct = 0     \n",
    "for data, target in test_loader:\n",
    "    data        = data.to(device)\n",
    "    target      = target.to(device)\n",
    "    output      = model(data)\n",
    "    prediction  = output.max(1)[1] # 값이 가장 큰 인덱스를 prediction으로 저장\n",
    "    # output.max(1) : output(batch_size x num_classes)에서 두 번째 차원(클래스차원)에서 최댓값 찾기\n",
    "    # output.max(1) 반환 _ 1. 각 배치에 대해 가장 큰 값(확률), 2. 그 값이 위치한 인덱스 (클래스번호)\n",
    "    correct    += prediction.eq(target).sum()\n",
    "\n",
    "print('Test set: Accuracy: {:.2f}%'.format(100 * correct / len(test_loader.dataset)))\n",
    "# len(test_loader.dataset): 테스트 데이터셋 전체의 샘플 수를 반환\n",
    "# len(test_loader): 테스트 로더의 배치 수를 반환"
   ]
  }
 ],
 "metadata": {
  "kernelspec": {
   "display_name": "Python 3",
   "language": "python",
   "name": "python3"
  },
  "language_info": {
   "codemirror_mode": {
    "name": "ipython",
    "version": 3
   },
   "file_extension": ".py",
   "mimetype": "text/x-python",
   "name": "python",
   "nbconvert_exporter": "python",
   "pygments_lexer": "ipython3",
   "version": "3.11.6"
  }
 },
 "nbformat": 4,
 "nbformat_minor": 2
}
