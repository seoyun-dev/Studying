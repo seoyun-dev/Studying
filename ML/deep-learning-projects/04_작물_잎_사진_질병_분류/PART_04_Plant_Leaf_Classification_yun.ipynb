{
 "cells": [
  {
   "cell_type": "markdown",
   "metadata": {},
   "source": [
    "# PART 04. 작물 잎 사진으로 질병 분류하기"
   ]
  },
  {
   "cell_type": "markdown",
   "metadata": {},
   "source": [
    "## 1. 데이터 분할"
   ]
  },
  {
   "cell_type": "markdown",
   "metadata": {},
   "source": [
    "### 1-1. 데이터 분할을 위한 train, val, test 폴더 생성"
   ]
  },
  {
   "cell_type": "code",
   "execution_count": 9,
   "metadata": {},
   "outputs": [],
   "source": [
    "import os\n",
    "\n",
    "# 원본 데이터셋이 위치한 경로 지정\n",
    "origin_dataset_dif = './dataset'\n",
    "# os.listdir: 해당 경로 하위에 있는 모든 폴더의 목록을 가져옴\n",
    "# 이 dataset의 폴더 목록은 클래스 목록에 해당하므로 classes_list에 저장\n",
    "classes_list = os.listdir(origin_dataset_dif)\n",
    "\n",
    "# train, val, test로 나눈 데이터를 저장할 폴더 생성\n",
    "base_dir = './splitted'\n",
    "os.mkdir(base_dir)\n",
    "\n",
    "# 분리 후에 각 데이터를 저장할 하위 폴더 train, val, test 생성\n",
    "train_dir = os.path.join(base_dir, 'train')\n",
    "os.mkdir(train_dir)\n",
    "validation_dir = os.path.join(base_dir, 'val')\n",
    "os.mkdir(validation_dir)\n",
    "test_dir = os.path.join(base_dir, 'test')\n",
    "os.mkdir(test_dir)\n",
    "\n",
    "for clss in classes_list: \n",
    "    os.mkdir(os.path.join(train_dir, clss))\n",
    "    os.mkdir(os.path.join(validation_dir, clss))\n",
    "    os.mkdir(os.path.join(test_dir, clss))"
   ]
  },
  {
   "cell_type": "markdown",
   "metadata": {},
   "source": [
    "### 1-2. train, val, test 데이터 분할과 클래스별 데이터 수 확인"
   ]
  },
  {
   "cell_type": "code",
   "execution_count": 10,
   "metadata": {},
   "outputs": [
    {
     "name": "stdout",
     "output_type": "stream",
     "text": [
      "Train size( Strawberry___healthy ): 273\n",
      "Validation size( Strawberry___healthy ): 91\n",
      "Test size( Strawberry___healthy ): 91\n",
      "Train size( Grape___Black_rot ): 708\n",
      "Validation size( Grape___Black_rot ): 236\n",
      "Test size( Grape___Black_rot ): 236\n",
      "Train size( Potato___Early_blight ): 600\n",
      "Validation size( Potato___Early_blight ): 200\n",
      "Test size( Potato___Early_blight ): 200\n",
      "Train size( Cherry___Powdery_mildew ): 631\n",
      "Validation size( Cherry___Powdery_mildew ): 210\n",
      "Test size( Cherry___Powdery_mildew ): 210\n",
      "Train size( Tomato___Target_Spot ): 842\n",
      "Validation size( Tomato___Target_Spot ): 280\n",
      "Test size( Tomato___Target_Spot ): 280\n",
      "Train size( Peach___healthy ): 216\n",
      "Validation size( Peach___healthy ): 72\n",
      "Test size( Peach___healthy ): 72\n",
      "Train size( Potato___Late_blight ): 600\n",
      "Validation size( Potato___Late_blight ): 200\n",
      "Test size( Potato___Late_blight ): 200\n",
      "Train size( Tomato___Late_blight ): 1145\n",
      "Validation size( Tomato___Late_blight ): 381\n",
      "Test size( Tomato___Late_blight ): 381\n",
      "Train size( Tomato___Tomato_mosaic_virus ): 223\n",
      "Validation size( Tomato___Tomato_mosaic_virus ): 74\n",
      "Test size( Tomato___Tomato_mosaic_virus ): 74\n",
      "Train size( Pepper,_bell___healthy ): 886\n",
      "Validation size( Pepper,_bell___healthy ): 295\n",
      "Test size( Pepper,_bell___healthy ): 295\n",
      "Train size( Tomato___Leaf_Mold ): 571\n",
      "Validation size( Tomato___Leaf_Mold ): 190\n",
      "Test size( Tomato___Leaf_Mold ): 190\n",
      "Train size( Grape___Leaf_blight_(Isariopsis_Leaf_Spot) ): 645\n",
      "Validation size( Grape___Leaf_blight_(Isariopsis_Leaf_Spot) ): 215\n",
      "Test size( Grape___Leaf_blight_(Isariopsis_Leaf_Spot) ): 215\n",
      "Train size( Apple___Cedar_apple_rust ): 165\n",
      "Validation size( Apple___Cedar_apple_rust ): 55\n",
      "Test size( Apple___Cedar_apple_rust ): 55\n",
      "Train size( Tomato___Bacterial_spot ): 1276\n",
      "Validation size( Tomato___Bacterial_spot ): 425\n",
      "Test size( Tomato___Bacterial_spot ): 425\n",
      "Train size( Grape___healthy ): 253\n",
      "Validation size( Grape___healthy ): 84\n",
      "Test size( Grape___healthy ): 84\n",
      "Train size( Corn___Cercospora_leaf_spot Gray_leaf_spot ): 307\n",
      "Validation size( Corn___Cercospora_leaf_spot Gray_leaf_spot ): 102\n",
      "Test size( Corn___Cercospora_leaf_spot Gray_leaf_spot ): 102\n",
      "Train size( Tomato___Early_blight ): 600\n",
      "Validation size( Tomato___Early_blight ): 200\n",
      "Test size( Tomato___Early_blight ): 200\n",
      "Train size( Grape___Esca_(Black_Measles) ): 829\n",
      "Validation size( Grape___Esca_(Black_Measles) ): 276\n",
      "Test size( Grape___Esca_(Black_Measles) ): 276\n",
      "Train size( Tomato___healthy ): 954\n",
      "Validation size( Tomato___healthy ): 318\n",
      "Test size( Tomato___healthy ): 318\n",
      "Train size( Corn___Northern_Leaf_Blight ): 591\n",
      "Validation size( Corn___Northern_Leaf_Blight ): 197\n",
      "Test size( Corn___Northern_Leaf_Blight ): 197\n",
      "Train size( Tomato___Tomato_Yellow_Leaf_Curl_Virus ): 3214\n",
      "Validation size( Tomato___Tomato_Yellow_Leaf_Curl_Virus ): 1071\n",
      "Test size( Tomato___Tomato_Yellow_Leaf_Curl_Virus ): 1071\n",
      "Train size( Cherry___healthy ): 512\n",
      "Validation size( Cherry___healthy ): 170\n",
      "Test size( Cherry___healthy ): 170\n",
      "Train size( Apple___Apple_scab ): 378\n",
      "Validation size( Apple___Apple_scab ): 126\n",
      "Test size( Apple___Apple_scab ): 126\n",
      "Train size( Tomato___Spider_mites Two-spotted_spider_mite ): 1005\n",
      "Validation size( Tomato___Spider_mites Two-spotted_spider_mite ): 335\n",
      "Test size( Tomato___Spider_mites Two-spotted_spider_mite ): 335\n",
      "Train size( Corn___Common_rust ): 715\n",
      "Validation size( Corn___Common_rust ): 238\n",
      "Test size( Corn___Common_rust ): 238\n",
      "Train size( Peach___Bacterial_spot ): 1378\n",
      "Validation size( Peach___Bacterial_spot ): 459\n",
      "Test size( Peach___Bacterial_spot ): 459\n",
      "Train size( Pepper,_bell___Bacterial_spot ): 598\n",
      "Validation size( Pepper,_bell___Bacterial_spot ): 199\n",
      "Test size( Pepper,_bell___Bacterial_spot ): 199\n",
      "Train size( Tomato___Septoria_leaf_spot ): 1062\n",
      "Validation size( Tomato___Septoria_leaf_spot ): 354\n",
      "Test size( Tomato___Septoria_leaf_spot ): 354\n",
      "Train size( Corn___healthy ): 697\n",
      "Validation size( Corn___healthy ): 232\n",
      "Test size( Corn___healthy ): 232\n",
      "Train size( Apple___Black_rot ): 372\n",
      "Validation size( Apple___Black_rot ): 124\n",
      "Test size( Apple___Black_rot ): 124\n",
      "Train size( Apple___healthy ): 987\n",
      "Validation size( Apple___healthy ): 329\n",
      "Test size( Apple___healthy ): 329\n",
      "Train size( Strawberry___Leaf_scorch ): 665\n",
      "Validation size( Strawberry___Leaf_scorch ): 221\n",
      "Test size( Strawberry___Leaf_scorch ): 221\n",
      "Train size( Potato___healthy ): 91\n",
      "Validation size( Potato___healthy ): 30\n",
      "Test size( Potato___healthy ): 30\n"
     ]
    }
   ],
   "source": [
    "import math\n",
    "import shutil\n",
    "\n",
    "# 모든 클래스(폴더)에 대한 작업 반복\n",
    "for clss in classes_list: \n",
    "    # 해당 폴더 안의 이미지 파일 목록을 변수 fnames에 저장\n",
    "    path   = os.path.join(origin_dataset_dif, clss)\n",
    "    fnames = os.listdir(path)\n",
    "    \n",
    "    # train, val, test를 6: 2: 2 비율로 지정\n",
    "    train_size      = math.floor(len(fnames) * 0.6)\n",
    "    validation_size = math.floor(len(fnames) * 0.2)\n",
    "    test_size       = math.floor(len(fnames) * 0.2)\n",
    "    \n",
    "    # train 데이터에 해당하는 이미지의 이름을 train_fnames에 저장\n",
    "    train_fnames = fnames[:train_size]\n",
    "    print('Train size(',clss,'):', len(train_fnames))\n",
    "    # train에 해당하는 이미지를 splitted에 이동\n",
    "    for fname in train_fnames: \n",
    "        src = os.path.join(path, fname)\n",
    "        dst = os.path.join(os.path.join(train_dir, clss), fname)\n",
    "        shutil.copyfile(src, dst)\n",
    "    \n",
    "    # val 데이터에 해당하는 이미지의 이름을 validation_fnames에 저장\n",
    "    validation_fnames = fnames[train_size:(validation_size+train_size)]\n",
    "    print('Validation size(',clss,'):', len(validation_fnames))\n",
    "    # val에 해당하는 이미지를 splitted에 이동\n",
    "    for fname in validation_fnames: \n",
    "        src = os.path.join(path, fname)\n",
    "        dst = os.path.join(os.path.join(validation_dir, clss), fname)\n",
    "        shutil.copyfile(src, dst)\n",
    "        \n",
    "    # test 데이터에 해당하는 이미지의 이름을 test_fnames에 저장\n",
    "    test_fnames = fnames[:test_size]\n",
    "    print('Test size(',clss,'):', len(test_fnames))\n",
    "    # test에 해당하는 이미지를 splitted에 이동\n",
    "    for fname in test_fnames: \n",
    "        src = os.path.join(path, fname)\n",
    "        dst = os.path.join(os.path.join(test_dir, clss), fname)\n",
    "        shutil.copyfile(src, dst)"
   ]
  },
  {
   "cell_type": "markdown",
   "metadata": {},
   "source": [
    "데이터셋이 준비되었으니 학습에 필요한 데이터를 불러오고 Dataloader를 생성하자."
   ]
  },
  {
   "cell_type": "markdown",
   "metadata": {},
   "source": [
    "### 1-3. 베이스라인 모델 학습을 위한 준비"
   ]
  },
  {
   "cell_type": "code",
   "execution_count": 13,
   "metadata": {},
   "outputs": [
    {
     "name": "stdout",
     "output_type": "stream",
     "text": [
      "mps\n"
     ]
    }
   ],
   "source": [
    "import torch\n",
    "\n",
    "DEVICE = \"mps\" if torch.backends.mps.is_available() and torch.backends.mps.is_built() else \"cpu\"\n",
    "print(DEVICE)\n",
    "\n",
    "BATCH_SIZE = 256\n",
    "EPOCH      = 30"
   ]
  },
  {
   "cell_type": "code",
   "execution_count": 14,
   "metadata": {},
   "outputs": [],
   "source": [
    "import torchvision.transforms as transforms\n",
    "from torchvision.datasets import ImageFolder\n",
    "\n",
    "# traonsform.compose() : 이미지 데이터의 전처리, Augmentation 등의 과정에서 사용되는 메서드\n",
    "transform_base = transforms.Compose([transforms.Resize((64,64)), transforms.ToTensor()])\n",
    "# ToTensor() : 이미지를 Tensor 형태로 변환하고 모든 값을 0~1 사이로 정규화\n",
    "\n",
    "# ImageFolder : 데이터셋을 불러오는 메서드 (root에서 불러와 transform으로 전처리 또는 증강)\n",
    "train_dataset  = ImageFolder(root='./splitted/train', transform=transform_base)\n",
    "val_dataset    = ImageFolder(root='./splitted/val', transform=transform_base)"
   ]
  },
  {
   "cell_type": "code",
   "execution_count": 15,
   "metadata": {},
   "outputs": [],
   "source": [
    "from torch.utils.data import DataLoader\n",
    "\n",
    "# DataLoader : 불러온 이미지 데이터를 주어진 조건에 다라 미니 배치단위로 분리하는 역할\n",
    "train_loader = DataLoader(train_dataset, batch_size=BATCH_SIZE,\n",
    "                        shuffle=True, num_workers=4)\n",
    "val_loader   = DataLoader(val_dataset, batch_size=BATCH_SIZE,\n",
    "                        shuffle=True, num_workers=4)"
   ]
  },
  {
   "cell_type": "markdown",
   "metadata": {},
   "source": [
    "## 2. 베이스라인 모델 설계 및 학습"
   ]
  },
  {
   "cell_type": "markdown",
   "metadata": {},
   "source": [
    "### 2-1. 베이스라인 모델 설계하기"
   ]
  },
  {
   "cell_type": "code",
   "execution_count": null,
   "metadata": {},
   "outputs": [],
   "source": [
    "import torch.nn as nn\n",
    "import torch.nn.functional as F\n",
    "import torch.optim as optim\n",
    "\n",
    "class Net(nn.Module):\n",
    "    def __init__(self):\n",
    "        "
   ]
  },
  {
   "cell_type": "markdown",
   "metadata": {},
   "source": [
    "* 모델 학습을 위한 함수"
   ]
  },
  {
   "cell_type": "code",
   "execution_count": null,
   "metadata": {},
   "outputs": [],
   "source": [
    "def train(model, train_loader, optimizer):\n",
    "    model.train()  \n",
    "    for batch_idx, (data, target) in enumerate(train_loader):\n",
    "        data, target = data.to(DEVICE), target.to(DEVICE) \n",
    "        optimizer.zero_grad() \n",
    "        output = model(data)  \n",
    "        loss = F.cross_entropy(output, target) \n",
    "        loss.backward()  \n",
    "        optimizer.step()  "
   ]
  },
  {
   "cell_type": "markdown",
   "metadata": {},
   "source": [
    "* 모델 평가를 위한 함수"
   ]
  },
  {
   "cell_type": "code",
   "execution_count": null,
   "metadata": {},
   "outputs": [],
   "source": [
    "def evaluate(model, test_loader):\n",
    "    model.eval()  \n",
    "    test_loss = 0 \n",
    "    correct = 0   \n",
    "    \n",
    "    with torch.no_grad(): \n",
    "        for data, target in test_loader:  \n",
    "            data, target = data.to(DEVICE), target.to(DEVICE)  \n",
    "            output = model(data) \n",
    "            \n",
    "            test_loss += F.cross_entropy(output,target, reduction='sum').item() \n",
    " \n",
    "            \n",
    "            pred = output.max(1, keepdim=True)[1]\n",
    "            correct += pred.eq(target.view_as(pred)).sum().item() \n",
    "   \n",
    "    test_loss /= len(test_loader.dataset) \n",
    "    test_accuracy = 100. * correct / len(test_loader.dataset) \n",
    "    return test_loss, test_accuracy  "
   ]
  },
  {
   "cell_type": "markdown",
   "metadata": {},
   "source": [
    "* 모델 학습을 실행하기"
   ]
  },
  {
   "cell_type": "code",
   "execution_count": null,
   "metadata": {},
   "outputs": [],
   "source": [
    "import time\n",
    "import copy\n",
    " \n",
    "def train_baseline(model ,train_loader, val_loader, optimizer, num_epochs = 30):\n",
    "    best_acc = 0.0  \n",
    "    best_model_wts = copy.deepcopy(model.state_dict()) \n",
    " \n",
    "    for epoch in range(1, num_epochs + 1):\n",
    "        since = time.time()  \n",
    "        train(model, train_loader, optimizer)\n",
    "        train_loss, train_acc = evaluate(model, train_loader) \n",
    "        val_loss, val_acc = evaluate(model, val_loader)\n",
    "        \n",
    "        if val_acc > best_acc: \n",
    "            best_acc = val_acc \n",
    "            best_model_wts = copy.deepcopy(model.state_dict())\n",
    "        \n",
    "        time_elapsed = time.time() - since \n",
    "        print('-------------- epoch {} ----------------'.format(epoch))\n",
    "        print('train Loss: {:.4f}, Accuracy: {:.2f}%'.format(train_loss, train_acc))   \n",
    "        print('val Loss: {:.4f}, Accuracy: {:.2f}%'.format(val_loss, val_acc))\n",
    "        print('Completed in {:.0f}m {:.0f}s'.format(time_elapsed // 60, time_elapsed % 60)) \n",
    "    model.load_state_dict(best_model_wts)  \n",
    "    return model\n",
    " \n",
    "\n",
    "base = train_baseline(model_base, train_loader, val_loader, optimizer, EPOCH)  \t #(16)\n",
    "torch.save(base,'baseline.pt')"
   ]
  },
  {
   "cell_type": "markdown",
   "metadata": {},
   "source": [
    "## Transfer Learning 모델 학습"
   ]
  },
  {
   "cell_type": "markdown",
   "metadata": {},
   "source": [
    "* Transfer Learning을 위한 준비"
   ]
  },
  {
   "cell_type": "code",
   "execution_count": null,
   "metadata": {},
   "outputs": [],
   "source": [
    "data_transforms = {\n",
    "    'train': transforms.Compose([transforms.Resize([64,64]), \n",
    "        transforms.RandomHorizontalFlip(), transforms.RandomVerticalFlip(),  \n",
    "        transforms.RandomCrop(52), transforms.ToTensor(), \n",
    "        transforms.Normalize([0.485, 0.456, 0.406], [0.229, 0.224, 0.225]) ]),\n",
    "    \n",
    "    'val': transforms.Compose([transforms.Resize([64,64]),  \n",
    "        transforms.RandomCrop(52), transforms.ToTensor(),\n",
    "        transforms.Normalize([0.485, 0.456, 0.406], [0.229, 0.224, 0.225]) ])\n",
    "}"
   ]
  },
  {
   "cell_type": "code",
   "execution_count": null,
   "metadata": {},
   "outputs": [],
   "source": [
    "data_dir = './splitted' \n",
    "image_datasets = {x: ImageFolder(root=os.path.join(data_dir, x), transform=data_transforms[x]) for x in ['train', 'val']} \n",
    "dataloaders = {x: torch.utils.data.DataLoader(image_datasets[x], batch_size=BATCH_SIZE, shuffle=True, num_workers=4) for x in ['train', 'val']} \n",
    "dataset_sizes = {x: len(image_datasets[x]) for x in ['train', 'val']}\n",
    "\n",
    "class_names = image_datasets['train'].classes"
   ]
  },
  {
   "cell_type": "markdown",
   "metadata": {},
   "source": [
    "* Pre-Trained Model 불러오기"
   ]
  },
  {
   "cell_type": "code",
   "execution_count": null,
   "metadata": {},
   "outputs": [],
   "source": [
    "from torchvision import models\n",
    " \n",
    "resnet = models.resnet50(pretrained=True)  \n",
    "num_ftrs = resnet.fc.in_features   \n",
    "resnet.fc = nn.Linear(num_ftrs, 33) \n",
    "resnet = resnet.to(DEVICE)\n",
    " \n",
    "criterion = nn.CrossEntropyLoss() \n",
    "optimizer_ft = optim.Adam(filter(lambda p: p.requires_grad, resnet.parameters()), lr=0.001)\n",
    " \n",
    "from torch.optim import lr_scheduler\n",
    "exp_lr_scheduler = lr_scheduler.StepLR(optimizer_ft, step_size=7, gamma=0.1) "
   ]
  },
  {
   "cell_type": "markdown",
   "metadata": {},
   "source": [
    "* Pre-Trained Model의 일부 Layer Freeze하기"
   ]
  },
  {
   "cell_type": "code",
   "execution_count": null,
   "metadata": {},
   "outputs": [],
   "source": [
    "ct = 0 \n",
    "for child in resnet.children():  \n",
    "    ct += 1  \n",
    "    if ct < 6: \n",
    "        for param in child.parameters():\n",
    "            param.requires_grad = False"
   ]
  },
  {
   "cell_type": "markdown",
   "metadata": {},
   "source": [
    "* Transfer Learning 모델 학습과 검증을 위한 함수"
   ]
  },
  {
   "cell_type": "code",
   "execution_count": null,
   "metadata": {},
   "outputs": [],
   "source": [
    "def train_resnet(model, criterion, optimizer, scheduler, num_epochs=25):\n",
    "\n",
    "    best_model_wts = copy.deepcopy(model.state_dict())  \n",
    "    best_acc = 0.0  \n",
    "    \n",
    "    for epoch in range(num_epochs):\n",
    "        print('-------------- epoch {} ----------------'.format(epoch+1)) \n",
    "        since = time.time()                                     \n",
    "        for phase in ['train', 'val']: \n",
    "            if phase == 'train': \n",
    "                model.train() \n",
    "            else:\n",
    "                model.eval()     \n",
    " \n",
    "            running_loss = 0.0  \n",
    "            running_corrects = 0  \n",
    " \n",
    "            \n",
    "            for inputs, labels in dataloaders[phase]: \n",
    "                inputs = inputs.to(DEVICE)  \n",
    "                labels = labels.to(DEVICE)  \n",
    "                \n",
    "                optimizer.zero_grad() \n",
    "                \n",
    "                with torch.set_grad_enabled(phase == 'train'):  \n",
    "                    outputs = model(inputs)  \n",
    "                    _, preds = torch.max(outputs, 1) \n",
    "                    loss = criterion(outputs, labels)  \n",
    "    \n",
    "                    if phase == 'train':   \n",
    "                        loss.backward()\n",
    "                        optimizer.step()\n",
    " \n",
    "                running_loss += loss.item() * inputs.size(0)  \n",
    "                running_corrects += torch.sum(preds == labels.data)  \n",
    "            if phase == 'train':  \n",
    "                scheduler.step()\n",
    " \n",
    "            epoch_loss = running_loss/dataset_sizes[phase]  \n",
    "            epoch_acc = running_corrects.double()/dataset_sizes[phase]  \n",
    " \n",
    "            print('{} Loss: {:.4f} Acc: {:.4f}'.format(phase, epoch_loss, epoch_acc)) \n",
    " \n",
    "          \n",
    "            if phase == 'val' and epoch_acc > best_acc: \n",
    "                best_acc = epoch_acc\n",
    "                best_model_wts = copy.deepcopy(model.state_dict())\n",
    " \n",
    "        time_elapsed = time.time() - since  \n",
    "        print('Completed in {:.0f}m {:.0f}s'.format(time_elapsed // 60, time_elapsed % 60))\n",
    "    print('Best val Acc: {:4f}'.format(best_acc))\n",
    " \n",
    "    model.load_state_dict(best_model_wts) \n",
    "\n",
    "    return model"
   ]
  },
  {
   "cell_type": "markdown",
   "metadata": {},
   "source": [
    "* 모델 학습을 실행하기"
   ]
  },
  {
   "cell_type": "code",
   "execution_count": null,
   "metadata": {},
   "outputs": [],
   "source": [
    "model_resnet50 = train_resnet(resnet, criterion, optimizer_ft, exp_lr_scheduler, num_epochs=EPOCH) \n",
    "\n",
    "torch.save(model_resnet50, 'resnet50.pt')"
   ]
  },
  {
   "cell_type": "markdown",
   "metadata": {},
   "source": [
    "## 모델 평가"
   ]
  },
  {
   "cell_type": "markdown",
   "metadata": {},
   "source": [
    "* 베이스라인 모델 평가를 위한 전처리하기"
   ]
  },
  {
   "cell_type": "code",
   "execution_count": null,
   "metadata": {},
   "outputs": [],
   "source": [
    "transform_base = transforms.Compose([transforms.Resize([64,64]),transforms.ToTensor()])\n",
    "test_base = ImageFolder(root='./splitted/test',transform=transform_base)  \n",
    "test_loader_base = torch.utils.data.DataLoader(test_base, batch_size=BATCH_SIZE, shuffle=True, num_workers=4)"
   ]
  },
  {
   "cell_type": "markdown",
   "metadata": {},
   "source": [
    "* Transfer Learning모델 평가를 위한 전처리하기"
   ]
  },
  {
   "cell_type": "code",
   "execution_count": null,
   "metadata": {},
   "outputs": [],
   "source": [
    "transform_resNet = transforms.Compose([\n",
    "        transforms.Resize([64,64]),  \n",
    "        transforms.RandomCrop(52),  \n",
    "        transforms.ToTensor(),\n",
    "        transforms.Normalize([0.485, 0.456, 0.406], [0.229, 0.224, 0.225]) \n",
    "    ])\n",
    "    \n",
    "test_resNet = ImageFolder(root='./splitted/test', transform=transform_resNet) \n",
    "test_loader_resNet = torch.utils.data.DataLoader(test_resNet, batch_size=BATCH_SIZE, shuffle=True, num_workers=4)"
   ]
  },
  {
   "cell_type": "markdown",
   "metadata": {},
   "source": [
    "* 베이스라인 모델 성능 평가하기"
   ]
  },
  {
   "cell_type": "code",
   "execution_count": null,
   "metadata": {},
   "outputs": [],
   "source": [
    "baseline=torch.load('baseline.pt') \n",
    "baseline.eval()  \n",
    "test_loss, test_accuracy = evaluate(baseline, test_loader_base)\n",
    "\n",
    "print('baseline test acc:  ', test_accuracy)"
   ]
  },
  {
   "cell_type": "markdown",
   "metadata": {},
   "source": [
    "* Transfer Learning 모델 성능 평가하기"
   ]
  },
  {
   "cell_type": "code",
   "execution_count": null,
   "metadata": {},
   "outputs": [],
   "source": [
    "resnet50=torch.load('resnet50.pt') \n",
    "resnet50.eval()  \n",
    "test_loss, test_accuracy = evaluate(resnet50, test_loader_resNet)\n",
    "\n",
    "print('ResNet test acc:  ', test_accuracy)"
   ]
  }
 ],
 "metadata": {
  "kernelspec": {
   "display_name": "Python 3",
   "language": "python",
   "name": "python3"
  },
  "language_info": {
   "codemirror_mode": {
    "name": "ipython",
    "version": 3
   },
   "file_extension": ".py",
   "mimetype": "text/x-python",
   "name": "python",
   "nbconvert_exporter": "python",
   "pygments_lexer": "ipython3",
   "version": "3.11.6"
  }
 },
 "nbformat": 4,
 "nbformat_minor": 4
}
