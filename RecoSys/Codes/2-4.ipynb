{
 "cells": [
  {
   "cell_type": "markdown",
   "metadata": {},
   "source": [
    "## 2-4. 사용자 집단별 추천"
   ]
  },
  {
   "cell_type": "markdown",
   "metadata": {},
   "source": [
    "### 데이터 읽어오고 train, test set 분리"
   ]
  },
  {
   "cell_type": "code",
   "execution_count": 2,
   "metadata": {},
   "outputs": [],
   "source": [
    "import numpy as np\n",
    "import pandas as pd\n",
    "\n",
    "# 데이터 읽어 오기 \n",
    "u_cols = ['user_id', 'age', 'sex', 'occupation', 'zip_code']\n",
    "users  = pd.read_csv('../Data/u.user', sep='|', names=u_cols, encoding='latin-1')\n",
    "i_cols = ['movie_id', 'title', 'release date', 'video release date', 'IMDB URL', 'unknown', \n",
    "        'Action', 'Adventure', 'Animation', 'Children\\'s', 'Comedy', 'Crime', 'Documentary', \n",
    "        'Drama', 'Fantasy', 'Film-Noir', 'Horror', 'Musical', 'Mystery', 'Romance', 'Sci-Fi', \n",
    "        'Thriller', 'War', 'Western']\n",
    "movies  = pd.read_csv('../Data/u.item', sep='|', names=i_cols, encoding='latin-1')\n",
    "r_cols  = ['user_id', 'movie_id', 'rating', 'timestamp']\n",
    "ratings = pd.read_csv('../Data/u.data', sep='\\t', names=r_cols, encoding='latin-1')\n",
    "\n",
    "# timestamp 제거 \n",
    "ratings = ratings.drop('timestamp', axis=1)     # axis=1:column을 삭제\n",
    "# movie ID와 title 빼고 다른 데이터 제거\n",
    "movies  = movies[['movie_id', 'title']]"
   ]
  },
  {
   "cell_type": "code",
   "execution_count": 16,
   "metadata": {},
   "outputs": [
    {
     "name": "stdout",
     "output_type": "stream",
     "text": [
      "       user_id  movie_id  rating\n",
      "20669      461       302       3\n",
      "48566      711      1119       4\n",
      "79834      648        47       2\n",
      "65342      113       874       5\n",
      "27417      497       549       4\n",
      "...        ...       ...     ...\n",
      "23769      488       510       4\n",
      "96562      579       294       4\n",
      "7482       109         9       3\n",
      "75401      863       752       4\n",
      "84059      453       144       4\n",
      "\n",
      "[75000 rows x 3 columns]\n"
     ]
    },
    {
     "name": "stderr",
     "output_type": "stream",
     "text": [
      "/opt/homebrew/lib/python3.11/site-packages/sklearn/utils/validation.py:605: FutureWarning: is_sparse is deprecated and will be removed in a future version. Check `isinstance(dtype, pd.SparseDtype)` instead.\n",
      "  if is_sparse(pd_dtype):\n",
      "/opt/homebrew/lib/python3.11/site-packages/sklearn/utils/validation.py:614: FutureWarning: is_sparse is deprecated and will be removed in a future version. Check `isinstance(dtype, pd.SparseDtype)` instead.\n",
      "  if is_sparse(pd_dtype) or not is_extension_array_dtype(pd_dtype):\n"
     ]
    }
   ],
   "source": [
    "# train, test set 분리\n",
    "from sklearn.model_selection import train_test_split\n",
    "x = ratings.copy()\n",
    "y = ratings['user_id']  # train_set과 test_set 분리 기준을 user_id로 하기 위해.\n",
    "# 75% train_set, 25% test_set 분리 / user_id 비율 맞춰서 train과 test 분리\n",
    "x_train, x_test, y_train, y_test = train_test_split(x, y, test_size=0.25, stratify=y)\n",
    "print(x_train)"
   ]
  },
  {
   "cell_type": "markdown",
   "metadata": {},
   "source": [
    "### 예측모델별 정확도 RMSE 계산하는 함수"
   ]
  },
  {
   "cell_type": "code",
   "execution_count": 14,
   "metadata": {},
   "outputs": [],
   "source": [
    "# 정확도(RMSE)를 계산하는 함수\n",
    "def RMSE(y_true, y_pred):\n",
    "    return np.sqrt(np.mean((np.array(y_true) - np.array(y_pred))**2))\n",
    "\n",
    "# 모델별 RMSE를 계산하는 함수 \n",
    "def score(model):\n",
    "    # test할 사용자-영화 짝 pair 생성\n",
    "    id_pairs = zip(x_test['user_id'], x_test['movie_id'])\n",
    "    # 예측 모델에 의한 사용자-영화 짝에 대한 예측값을 계산(by x_train)하여 y_pred에 저장\n",
    "    y_pred = np.array([model(user, movie) for (user, movie) in id_pairs])\n",
    "    # 실제 평점값 리스트(by x_test)를 y_true에 저장\n",
    "    y_true = np.array(x_test['rating'])\n",
    "    return RMSE(y_true, y_pred)\n",
    "\n",
    "# train 데이터로 Full matrix 구하기 \n",
    "rating_matrix = x_train.pivot(index='user_id', columns='movie_id', values='rating')\n"
   ]
  },
  {
   "cell_type": "markdown",
   "metadata": {},
   "source": [
    "### 예측모델 1: 전체 평균으로 예측"
   ]
  },
  {
   "cell_type": "code",
   "execution_count": 13,
   "metadata": {},
   "outputs": [
    {
     "data": {
      "text/plain": [
       "1.0241473076555805"
      ]
     },
     "execution_count": 13,
     "metadata": {},
     "output_type": "execute_result"
    }
   ],
   "source": [
    "# 전체 평균으로 예측치를 계산하는 기본 모델\n",
    "def best_seller(user_id, movie_id):\n",
    "    try:\n",
    "        # x_train에서 해당 movie_id의 rating 전체 평균값을 rating에 저장\n",
    "        rating = train_mean[movie_id]\n",
    "    except: # test에 있는 movie_id가 train에 없을 때\n",
    "        rating = 3.0\n",
    "    return rating\n",
    "\n",
    "train_mean = x_train.groupby(['movie_id'])['rating'].mean()\n",
    "score(best_seller)"
   ]
  },
  {
   "cell_type": "markdown",
   "metadata": {},
   "source": [
    "2-3에서 전체 데이터를 사용하여 예측한 경우보다 나빠진(RMSE 값이 커진) 이유는 train/test set을 분리하여 자신의 데이터로 자신을 예측하지 않도록 했기 때문!"
   ]
  },
  {
   "cell_type": "markdown",
   "metadata": {},
   "source": [
    "### 예측모델 2: gender별 평균으로 예측"
   ]
  },
  {
   "cell_type": "code",
   "execution_count": 12,
   "metadata": {},
   "outputs": [],
   "source": [
    "# Full matrix를 사용자 데이터와 merge (공통key인 user_id 기준으로 merge)\n",
    "merged_ratings = pd.merge(x_train, users)   # user정보와 rating train set이 합쳐짐\n",
    "users = users.set_index('user_id')"
   ]
  },
  {
   "cell_type": "code",
   "execution_count": 21,
   "metadata": {},
   "outputs": [
    {
     "data": {
      "text/plain": [
       "0.9953651002110617"
      ]
     },
     "execution_count": 21,
     "metadata": {},
     "output_type": "execute_result"
    }
   ],
   "source": [
    "# gender별 평점평균 계산\n",
    "# sex와 movie_id를 기준으로 평점(rating)의 평균을 구해서 g_means에 저장\n",
    "g_mean = merged_ratings[['movie_id', 'sex', 'rating']].groupby(['movie_id', 'sex'])['rating'].mean()\n",
    "\n",
    "# gender별 평균을 예측치로 돌려주는 모델\n",
    "def cf_gender(user_id, movie_id):\n",
    "    if movie_id in rating_matrix:   # test셋에 있는 movie_id가 traing셋(rating_matrix)에 있다면\n",
    "        gender = users.loc[user_id]['sex']  # test 당하는 user의 성별 반환\n",
    "        if gender in g_mean[movie_id]:      # 해당 gender가 해당 movie_id를 평가한 데이터가 train셋에 있다면\n",
    "            gender_rating = g_mean[movie_id][gender]\n",
    "        else:                               # 해당 gender가 해당 movie_id를 평가한 데이터가 train셋에 없다면\n",
    "            gender_rating = 3.0\n",
    "    else:                           # test셋에 있는 movie_id가 traing셋(rating_matrix)에 없다면\n",
    "        gender_rating = 3.0\n",
    "    return gender_rating\n",
    "\n",
    "score(cf_gender)"
   ]
  },
  {
   "cell_type": "markdown",
   "metadata": {},
   "source": [
    "### 예측모델 3: gender와 occupation을 동시에 고려한 집단별 평균으로 예측 (연습문제 2-2)"
   ]
  },
  {
   "cell_type": "code",
   "execution_count": 20,
   "metadata": {},
   "outputs": [
    {
     "name": "stdout",
     "output_type": "stream",
     "text": [
      "movie_id  sex  occupation   \n",
      "1         F    administrator    3.866667\n",
      "               artist           4.250000\n",
      "               educator         3.000000\n",
      "               engineer         4.000000\n",
      "               entertainment    4.500000\n",
      "                                  ...   \n",
      "1677      F    student          3.000000\n",
      "1678      M    student          1.000000\n",
      "1679      M    student          3.000000\n",
      "1680      M    student          2.000000\n",
      "1681      M    writer           3.000000\n",
      "Name: rating, Length: 22559, dtype: float64\n"
     ]
    }
   ],
   "source": [
    "# (gender, occupation) 별 평점평균 계산\n",
    "# sex와 movie_id를 기준으로 평점(rating)의 평균을 구해서 g_means에 저장\n",
    "g_o_mean = merged_ratings[['movie_id', 'sex', 'occupation', 'rating']].groupby(['movie_id', 'sex', 'occupation'])['rating'].mean()\n",
    "print(g_o_mean)"
   ]
  },
  {
   "cell_type": "code",
   "execution_count": 25,
   "metadata": {},
   "outputs": [
    {
     "data": {
      "text/plain": [
       "0.9115866219476189"
      ]
     },
     "execution_count": 25,
     "metadata": {},
     "output_type": "execute_result"
    }
   ],
   "source": [
    "# gender별 평균을 예측치로 돌려주는 모델\n",
    "def cf_gender(user_id, movie_id):\n",
    "    if movie_id in rating_matrix:   # test셋에 있는 movie_id가 traing셋(rating_matrix)에 있다면\n",
    "        gender     = users.loc[user_id]['sex']          # test 당하는 user의 성별 반환\n",
    "        occupation = users.loc[user_id]['occupation']   # test 당하는 user의 직업 반환\n",
    "        if gender in g_o_mean[movie_id]:                # 해당 gender가 해당 movie_id를 평가한 데이터가 train셋에 있다면\n",
    "                if occupation in g_o_mean[movie_id][gender]:    # 해당 gender의 해당 occupation이 해당 movie_id를 평가한 데이터가 train셋에 있다면\n",
    "                    gender_rating = g_o_mean[movie_id][gender][occupation]\n",
    "                else:\n",
    "                    gender_rating = 3.0\n",
    "        else:                               \n",
    "            gender_rating = 3.0\n",
    "    else:                           \n",
    "        gender_rating = 3.0\n",
    "    return gender_rating\n",
    "\n",
    "# 예측 정확도 증가\n",
    "score(cf_gender)"
   ]
  }
 ],
 "metadata": {
  "kernelspec": {
   "display_name": "Python 3",
   "language": "python",
   "name": "python3"
  },
  "language_info": {
   "codemirror_mode": {
    "name": "ipython",
    "version": 3
   },
   "file_extension": ".py",
   "mimetype": "text/x-python",
   "name": "python",
   "nbconvert_exporter": "python",
   "pygments_lexer": "ipython3",
   "version": "3.11.3"
  },
  "orig_nbformat": 4
 },
 "nbformat": 4,
 "nbformat_minor": 2
}
