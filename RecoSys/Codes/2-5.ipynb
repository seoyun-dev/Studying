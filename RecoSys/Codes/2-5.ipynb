{
 "cells": [
  {
   "cell_type": "code",
   "execution_count": null,
   "metadata": {},
   "outputs": [],
   "source": [
    "# Created or modified on May 2022\n",
    "# Author: 임일\n",
    "# CB기반 추천\n",
    "\n",
    "import pandas as pd\n",
    "\n",
    "# Data 읽기\n",
    "movies = pd.read_csv('C:/RecoSys/Data/movies_metadata.csv', encoding='latin-1', low_memory=False)\n",
    "movies = movies[['id', 'title', 'overview']]\n",
    "movies.head(10)\n",
    "len(movies)\n",
    "\n",
    "# 데이터 전처리\n",
    "movies = movies.drop_duplicates()\n",
    "movies = movies.dropna()\n",
    "movies['overview'] = movies['overview'].fillna('')\n",
    "len(movies)\n",
    "\n",
    "# 불용어를 english로 지정하고 tf-idf 계산\n",
    "from sklearn.feature_extraction.text import TfidfVectorizer\n",
    "tfidf = TfidfVectorizer(stop_words='english')\n",
    "tfidf_matrix = tfidf.fit_transform(movies['overview'])\n",
    "\n",
    "# Cosine 유사도 계산\n",
    "from sklearn.metrics.pairwise import cosine_similarity\n",
    "cosine_sim = cosine_similarity(tfidf_matrix, tfidf_matrix)\n",
    "cosine_sim = pd.DataFrame(cosine_sim, index=movies.index, columns=movies.index)\n",
    "\n",
    "# index-title을 뒤집는다\n",
    "indices = pd.Series(movies.index, index=movies['title'])\n",
    "\n",
    "# 영화제목을 받아서 추천 영화를 돌려주는 함수\n",
    "def content_recommender(title, n_of_recomm):\n",
    "    # title에서 영화 index 받아오기\n",
    "    idx = indices[title]\n",
    "    # 주어진 영화와 다른 영화의 similarity를 가져온다\n",
    "    sim_scores = cosine_sim[idx]\n",
    "    # similarity 기준으로 정렬하고 n_of_recomm만큼 가져오기 (자기자신은 빼기)\n",
    "    sim_scores = sim_scores.sort_values(ascending=False)[1:n_of_recomm+1]\n",
    "    # 영화 title 반환\n",
    "    return movies.loc[sim_scores.index]['title']\n",
    "\n",
    "# 추천받기\n",
    "print(content_recommender('The Lion King', 5))\n",
    "print(content_recommender('The Dark Knight Rises', 10))\n"
   ]
  }
 ],
 "metadata": {
  "language_info": {
   "name": "python"
  },
  "orig_nbformat": 4
 },
 "nbformat": 4,
 "nbformat_minor": 2
}
